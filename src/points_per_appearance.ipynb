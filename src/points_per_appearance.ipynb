{
 "cells": [
  {
   "cell_type": "code",
   "execution_count": 2,
   "metadata": {},
   "outputs": [],
   "source": [
    "import numpy as np\n",
    "import glob\n",
    "import pandas\n",
    "from bokeh.io import *\n",
    "from bokeh.plotting import figure, show, output_file, ColumnDataSource\n",
    "\n",
    "df0 = pandas.DataFrame()\n",
    "for f in glob.glob(\"C:\\\\Users\\\\aelek\\\\source\\\\repos\\\\FantaSeaViz\\\\data\\\\2017-18\\\\gws\\\\*\"):\n",
    "    dftmp = pandas.read_csv(f, encoding='ansi')   \n",
    "    dftmp['name'] = dftmp['name'].str.replace('_', ' ')\n",
    "    df0 = df0.append(dftmp)\n",
    "\n",
    "# add cleaned data - df1\n",
    "df1 = pandas.read_csv(\"C:\\\\Users\\\\aelek\\\\source\\\\repos\\\\FantaSeaViz\\\\data\\\\2017-18\\\\cleaned_players.csv\", encoding='utf8')\n",
    "df1['name_lower'] = df1['first_name'].str.lower() + ' ' + df1['second_name'].str.lower()\n",
    "df1 = df1.set_index('name_lower')\n",
    "df1 = df1.sort_values(['name_lower'], ascending=True)\n",
    "\n",
    "# group by player and calculate ratio - df2\n",
    "df2 = df0.groupby(['name']).median()\n",
    "df2['value'] = df2['value']/10\n",
    "df2['vpc_ratio'] = df2['total_points'] / df2['value']\n",
    "df2 = df2[(df2['total_points'] > 0) & (df2['vpc_ratio'] > 0)]\n",
    "df2['name'] = df2.index.values\n",
    "df2['name_lower'] = df2['name'].str.lower()\n",
    "df2 = df2.set_index('name_lower')\n",
    "df2 = df2.sort_values(['name_lower'], ascending=True)\n",
    "\n",
    "\n",
    "# merge\n",
    "df = pandas.merge(df1, df2, on='name_lower', how='outer')\n",
    "df.to_csv('out.csv', encoding='utf8')"
   ]
  },
  {
   "cell_type": "code",
   "execution_count": 3,
   "metadata": {},
   "outputs": [],
   "source": [
    "# set data source for visual\n",
    "source = ColumnDataSource(data=dict(\n",
    "    x=df['bps_x']/10,\n",
    "    y=df['total_points_x'],\n",
    "    names=df['name'],\n",
    "    vpc_ratio=df['vpc_ratio'],\n",
    "    circle_size=df['now_cost']/50,\n",
    "    fill_alpha = np.full((len(df['name']), 1), 0.6)))\n",
    "\n",
    "TOOLS=\"hover,crosshair,pan,wheel_zoom,zoom_in,zoom_out,box_zoom,undo,redo,reset,tap,save,box_select,poly_select,lasso_select,\"\n",
    "\n",
    "p = figure(tools=TOOLS)\n",
    "p.hover.tooltips = [\n",
    "    (\"name\", \"@names\"),\n",
    "    (\"bps\", \"@x\"),\n",
    "    (\"total points\", \"@y\"),\n",
    "    (\"value per cost\", \"@vpc_ratio\")\n",
    "]\n",
    "\n",
    "p.scatter(x='x', y='y', radius='circle_size', fill_alpha='fill_alpha', source=source)\n",
    "\n",
    "output_file('C:/users/aelek/Desktop/hazard.html')\n",
    "show(p)"
   ]
  },
  {
   "cell_type": "code",
   "execution_count": null,
   "metadata": {},
   "outputs": [
    {
     "data": {
      "text/markdown": [
       "![player](https://platform-static-files.s3.amazonaws.com/premierleague/photos/players/110x140/p11334.png)"
      ],
      "text/plain": [
       "<IPython.core.display.Markdown object>"
      ]
     },
     "metadata": {},
     "output_type": "display_data"
    }
   ],
   "source": [
    "from IPython.display import display, Markdown\n",
    "display(Markdown(\"![player](https://platform-static-files.s3.amazonaws.com/premierleague/photos/players/110x140/p11334.png)\"))\n"
   ]
  },
  {
   "cell_type": "code",
   "execution_count": null,
   "metadata": {},
   "outputs": [],
   "source": []
  }
 ],
 "metadata": {
  "kernelspec": {
   "display_name": "Python 3",
   "language": "python",
   "name": "python3"
  },
  "language_info": {
   "codemirror_mode": {
    "name": "ipython",
    "version": 3
   },
   "file_extension": ".py",
   "mimetype": "text/x-python",
   "name": "python",
   "nbconvert_exporter": "python",
   "pygments_lexer": "ipython3",
   "version": "3.6.3"
  }
 },
 "nbformat": 4,
 "nbformat_minor": 1
}
