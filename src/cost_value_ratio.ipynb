{
 "cells": [
  {
   "cell_type": "code",
   "execution_count": null,
   "metadata": {},
   "outputs": [],
   "source": [
    "import numpy as np\n",
    "import glob\n",
    "import pandas\n",
    "from bokeh.io import *\n",
    "from bokeh.plotting import figure, show, output_file, ColumnDataSource\n",
    "\n",
    "df = pandas.DataFrame()\n",
    "for f in glob.glob(\"C:\\\\Users\\\\aelek\\\\source\\\\repos\\\\FantaSeaViz\\\\data\\\\2017-18\\\\gws\\\\*\"):\n",
    "    dftmp = pandas.read_csv(f, encoding='ansi')   \n",
    "    dftmp['name'] = dftmp['name'].str.replace('_', ' ')\n",
    "    dftmp = dftmp[['name', 'value', 'total_points']]\n",
    "    df = df.append(dftmp)\n",
    "\n",
    "# group by player\n",
    "res = df.groupby(['name']).median()\n",
    "\n",
    "# calculate ratio\n",
    "res['value'] = res['value']/10\n",
    "res['vpc_ratio'] = res['total_points'] / res['value']\n",
    "res = res[(res['total_points'] > 0) & (res['vpc_ratio'] > 0)]\n",
    "res = res.sort_values(['vpc_ratio'], ascending=False)\n",
    "res['name'] = res.index.values\n",
    "\n",
    "x = res['value']\n",
    "x = x.values\n",
    "y = res['total_points'].values\n",
    "names = res.index.values\n",
    "vpc_ratio = res['vpc_ratio'].values\n",
    "fill_alpha = np.full((len(res['vpc_ratio']), 1), 0.6)"
   ]
  },
  {
   "cell_type": "code",
   "execution_count": 242,
   "metadata": {},
   "outputs": [
    {
     "data": {
      "text/html": [
       "\n",
       "    <div class=\"bk-root\">\n",
       "        <a href=\"https://bokeh.pydata.org\" target=\"_blank\" class=\"bk-logo bk-logo-small bk-logo-notebook\"></a>\n",
       "        <span id=\"396e9da8-5074-4794-ba52-6284e5590b11\">Loading BokehJS ...</span>\n",
       "    </div>"
      ]
     },
     "metadata": {},
     "output_type": "execute_result"
    },
    {
     "data": {},
     "metadata": {},
     "output_type": "display_data"
    },
    {
     "data": {
      "text/html": [
       "\n",
       "\n",
       "\n",
       "\n",
       "\n",
       "\n",
       "  <div class=\"bk-root\" id=\"809b1816-6e0f-4cdc-bf2a-6bcdb0ab6500\"></div>\n"
      ]
     },
     "metadata": {},
     "output_type": "execute_result"
    },
    {
     "data": {},
     "metadata": {
      "application/vnd.bokehjs_exec.v0+json": {
       "id": "44714d32-028d-41f4-ae2b-ba1466bdd0f1"
      }
     },
     "output_type": "display_data"
    }
   ],
   "source": [
    "source = ColumnDataSource(data=dict(\n",
    "    x=x,\n",
    "    y=y,\n",
    "    names=names,\n",
    "    vpc_ratio=vpc_ratio,\n",
    "    circle_size=vpc_ratio/4,\n",
    "    fill_alpha=fill_alpha))\n",
    "\n",
    "TOOLS=\"hover,crosshair,pan,wheel_zoom,zoom_in,zoom_out,box_zoom,undo,redo,reset,tap,save,box_select,poly_select,lasso_select,\"\n",
    "\n",
    "p = figure(tools=TOOLS)\n",
    "p.hover.tooltips = [\n",
    "    (\"name\", \"@names\"),\n",
    "    (\"value per cost\", \"@vpc_ratio\"),\n",
    "    (\"price\", \"@x\"),\n",
    "    (\"points\", \"@y\")\n",
    "]\n",
    "\n",
    "p.scatter(x='x', y='y', radius='circle_size', fill_alpha='fill_alpha',\n",
    "          source=source)\n",
    "#           fill_color=colors, fill_alpha=0.6,\n",
    "#           line_color=None)\n",
    "\n",
    "\n",
    "# output_file(\"color_scatter.html\", title=\"color_scatter.py example\")\n",
    "output_notebook()\n",
    "show(p)"
   ]
  },
  {
   "cell_type": "code",
   "execution_count": null,
   "metadata": {},
   "outputs": [],
   "source": []
  }
 ],
 "metadata": {
  "kernelspec": {
   "display_name": "Python 3",
   "language": "python",
   "name": "python3"
  },
  "language_info": {
   "codemirror_mode": {
    "name": "ipython",
    "version": 3
   },
   "file_extension": ".py",
   "mimetype": "text/x-python",
   "name": "python",
   "nbconvert_exporter": "python",
   "pygments_lexer": "ipython3",
   "version": "3.6.3"
  }
 },
 "nbformat": 4,
 "nbformat_minor": 1
}
