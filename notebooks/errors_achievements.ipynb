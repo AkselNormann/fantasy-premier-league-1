{
 "cells": [
  {
   "cell_type": "code",
   "execution_count": null,
   "metadata": {},
   "outputs": [],
   "source": [
    "%config IPCompleter.greedy=True\n",
    "\n",
    "from plotly.offline import download_plotlyjs, init_notebook_mode, plot, iplot\n",
    "\n",
    "init_notebook_mode(connected=True)"
   ]
  },
  {
   "cell_type": "code",
   "execution_count": null,
   "metadata": {},
   "outputs": [],
   "source": [
    "import import_ipynb\n",
    "from functions import get_detailed_aggregate_data\n",
    "from functions import get_raw_data\n",
    "from functions import get_aggregate_functions\n",
    "from visuals import colors\n",
    "from visuals import map_position_to_color"
   ]
  },
  {
   "cell_type": "code",
   "execution_count": null,
   "metadata": {},
   "outputs": [],
   "source": [
    "import os\n",
    "import requests\n",
    "import pandas\n",
    "\n",
    "# Get parameters\n",
    "# SEASON = os.environ[\"FPL_SEASON\"]\n",
    "SEASON = '2018-19'\n",
    "\n",
    "# Get current gameweek\n",
    "# URL = \"https://fantasy.premierleague.com/api/bootstrap-static\"\n",
    "# DATA = requests.get(URL).json()\n",
    "# CURR_GW = DATA['next-event'] - 1\n",
    "CURR_GW = 38\n",
    "\n",
    "BASE_PATH = 'C:/Users/aelek/source/antoniaelek/fantasy-premier-league/'\n",
    "BASE_PATH = '../'"
   ]
  },
  {
   "cell_type": "code",
   "execution_count": null,
   "metadata": {},
   "outputs": [],
   "source": [
    "import plotly\n",
    "import plotly.plotly as py\n",
    "import plotly.graph_objs as go\n",
    "\n",
    "\n",
    "def get_agg_features(features, aggregates):\n",
    "    agg_features = []\n",
    "    for feature in features:\n",
    "        for agg in aggregates:\n",
    "            agg_features.append(agg + '_' + feature)\n",
    "    return agg_features\n",
    "\n",
    "\n",
    "def get_trace(df, x_metrics, y_metrics, color):\n",
    "    return go.Bar(\n",
    "        x = df[x_metrics],        \n",
    "        y = df[y_metrics],\n",
    "        text = df['name'],        \n",
    "        #mode = 'markers',        \n",
    "        marker=dict(color=color),\n",
    "        hovertemplate = \"<b>%{text}</b><br><br>\" +\n",
    "            y_metrics+\": %{y:.2f}</br>\"+\n",
    "#             x_metrics+\": %{x}</br>\"+\n",
    "            \"<extra></extra>\")\n",
    "\n",
    "\n",
    "def get_data(df, x_metrics, y_metrics, color):\n",
    "    data = []\n",
    "    for x in x_metrics:\n",
    "        for y in y_metrics:\n",
    "            data.append(get_trace(df, x, y, color))\n",
    "    \n",
    "    for el in data[1:]:\n",
    "        el['visible'] = 'legendonly'\n",
    "    \n",
    "    return data\n",
    "\n",
    "\n",
    "def get_layout(df, x_metrics, y_metrics, title):  \n",
    "    buttons=[]\n",
    "    i = 0\n",
    "    for x in x_metrics:\n",
    "        for y in y_metrics:\n",
    "            template = [False] * len(y_metrics)\n",
    "            template[i] = True\n",
    "            buttons.append(dict(label = y, method = 'update', args = [{'visible': template}]))        \n",
    "            i+=1\n",
    "        \n",
    "    updatemenus = list([\n",
    "        dict(active=0,\n",
    "             pad = {'r': 0, 't': 10},\n",
    "             x = 0,\n",
    "             y = 1.18,\n",
    "             xanchor = 'left',\n",
    "             buttons=buttons)])\n",
    "\n",
    "    layout = go.Layout(\n",
    "        hovermode = 'closest',\n",
    "        showlegend=False,\n",
    "        updatemenus=updatemenus, \n",
    "        title=go.layout.Title(\n",
    "            text=title,\n",
    "                font=dict(\n",
    "                    size=21\n",
    "                )\n",
    "        ),\n",
    "        xaxis=go.layout.XAxis(\n",
    "            title=go.layout.xaxis.Title(\n",
    "                text='',\n",
    "                font=dict(\n",
    "                    size=18\n",
    "                )\n",
    "            )\n",
    "        ),\n",
    "        yaxis=go.layout.YAxis(\n",
    "            title=go.layout.yaxis.Title(\n",
    "                text='',\n",
    "                font=dict(\n",
    "                    size=18\n",
    "                )\n",
    "            )\n",
    "        )\n",
    "    )\n",
    "    return layout\n",
    "\n",
    "\n",
    "def get_figure(df, x_metric, y_metrics, title = '', color='rgba(101,255,71, 0.4)'):    \n",
    "    data = get_data(df, [x_metric], y_metrics, color)\n",
    "    layout = get_layout(df, [x_metric], y_metrics, title)\n",
    "    \n",
    "    return go.Figure(data=data, layout=layout)"
   ]
  },
  {
   "cell_type": "code",
   "execution_count": null,
   "metadata": {},
   "outputs": [],
   "source": [
    "def filter_achievements(points_dict):\n",
    "    return {k:v for (k,v) in points_dict.items() if  v > 0}\n",
    "\n",
    "\n",
    "def filter_errors(points_dict):\n",
    "    return {k:v for (k,v) in points_dict.items() if  v < 0}\n",
    "\n",
    "\n",
    "def get_errors(df, points_dict):\n",
    "    errors = pandas.Series()\n",
    "    for e in filter_errors(points_dict):\n",
    "        tmp = (df[e]*(0-points_dict[e]))\n",
    "        errors = errors.add(tmp, fill_value=0)\n",
    "    return errors\n",
    "\n",
    "\n",
    "def get_achievements(df, points_dict):\n",
    "    achievements = pandas.Series()\n",
    "    for e in filter_achievements(points_dict):\n",
    "        tmp = (df[e]*(points_dict[e]))\n",
    "        achievements = achievements.add(tmp, fill_value=0)\n",
    "    return achievements"
   ]
  },
  {
   "cell_type": "code",
   "execution_count": null,
   "metadata": {},
   "outputs": [],
   "source": [
    "agg_data = get_detailed_aggregate_data(BASE_PATH, SEASON)\n",
    "raw_data = get_raw_data(BASE_PATH, SEASON)\n",
    "df = pandas.merge(agg_data, raw_data, on='name', how='outer')\n",
    "df['minutes_points'] = df['minutes']/45\n",
    "df.sort_values('web_name', inplace=True)"
   ]
  },
  {
   "cell_type": "code",
   "execution_count": null,
   "metadata": {},
   "outputs": [],
   "source": [
    "goalkeepers = df[df.position == 'Goalkeeper'].copy(deep=True)\n",
    "defenders = df[df.position == 'Defender'].copy(deep=True)\n",
    "midfielders = df[df.position == 'Midfielder'].copy(deep=True)\n",
    "forwards = df[df.position == 'Forward'].copy(deep=True)"
   ]
  },
  {
   "cell_type": "code",
   "execution_count": null,
   "metadata": {},
   "outputs": [],
   "source": [
    "points_metrics = ['goals_scored','assists','own_goals','clean_sheetes','goals_conceded',\n",
    "                  'penalties_missed','penalties_saved','minutes','yellow_cards']\n",
    "\n",
    "defensive_metrics = ['clean_sheets','saves','penalties_saved','recoveries','clearances_blocks_interceptions','tackles',\n",
    "                     'goals_conceded','own_goals','penalties_conceded','errors_leading_to_goal','errors_leading_to_goal_attempt']\n",
    "\n",
    "creativity_metrics=['assists','big_chances_created','big_chances_missed',\n",
    "                    'attempted_passes','completed_passes','key_passes','dribbles','open_play_crosses']\n",
    "\n",
    "attack_metrics=['goals_scored','winning_goals','penalties_missed','target_missed','tackled','offside']\n",
    "\n",
    "general_metrics=['minutes','red_cards','yellow_cards','fouls',\n",
    "               'bonus','bps','total_points','ea_index','ict_index','influence','creativity','threat']\n",
    "\n",
    "other_metrics=['cost','selected','loaned_in','loaned_out','transfers_in','transfers_out','transfers_balance']\n",
    "\n",
    "points = {'assists':3,\n",
    "          'own_goals':-2,\n",
    "          'penalties_missed':-2,\n",
    "          'penalties_saved':5,\n",
    "          'minutes':1/45,\n",
    "          'yellow_cards':-1,\n",
    "          'red_cards':-3}"
   ]
  },
  {
   "cell_type": "code",
   "execution_count": null,
   "metadata": {},
   "outputs": [],
   "source": [
    "game_metrics_gkp = points_metrics + general_metrics + defensive_metrics\n",
    "game_metrics_gkp = set(game_metrics_gkp)\n",
    "\n",
    "points_gkp = points.copy()\n",
    "points_gkp['goals_scored']=6\n",
    "points_gkp['saves']=0.5\n",
    "points_gkp['clean_sheets']=4\n",
    "points_gkp['goals_conceded']=-1\n",
    "\n",
    "goalkeepers['achievements']=get_achievements(goalkeepers,points_gkp)\n",
    "goalkeepers['errors']=get_errors(goalkeepers,points_gkp)\n",
    "\n",
    "goalkeepers=goalkeepers[goalkeepers['achievements']>0]"
   ]
  },
  {
   "cell_type": "code",
   "execution_count": null,
   "metadata": {},
   "outputs": [],
   "source": [
    "game_metrics_def = points_metrics + general_metrics + defensive_metrics\n",
    "game_metrics_def = set(game_metrics_def)\n",
    "\n",
    "points_def = points.copy()\n",
    "points_def['goals_scored']=6\n",
    "points_def['clean_sheets']=4\n",
    "points_def['goals_conceded']=-1\n",
    "\n",
    "defenders['achievements']=get_achievements(defenders,points_def)\n",
    "defenders['errors']=get_errors(defenders,points_def)\n",
    "\n",
    "defenders=defenders[defenders['achievements']>0]"
   ]
  },
  {
   "cell_type": "code",
   "execution_count": null,
   "metadata": {},
   "outputs": [],
   "source": [
    "game_metrics_mid = points_metrics + general_metrics + creativity_metrics + attack_metrics\n",
    "game_metrics_mid = set(game_metrics_mid)\n",
    "\n",
    "points_mid = points.copy()\n",
    "points_mid['goals_scored']=5\n",
    "points_mid['clean_sheets']=1\n",
    "points_mid['goals_conceded']=0\n",
    "\n",
    "midfielders['achievements']=get_achievements(midfielders,points_mid)\n",
    "midfielders['errors']=get_errors(midfielders,points_mid)\n",
    "\n",
    "midfielders=midfielders[midfielders['achievements']>0]"
   ]
  },
  {
   "cell_type": "markdown",
   "metadata": {},
   "source": [
    "# Goalkeepers"
   ]
  },
  {
   "cell_type": "code",
   "execution_count": null,
   "metadata": {},
   "outputs": [],
   "source": [
    "y1 = ['achievements']\n",
    "for a in filter_achievements(points_gkp).keys(): y1.append(a)\n",
    "\n",
    "gk1 = get_figure(goalkeepers, 'web_name', y1, 'achievements', map_position_to_color('Goalkeeper'))\n",
    "plotly.offline.iplot(gk1)"
   ]
  },
  {
   "cell_type": "code",
   "execution_count": null,
   "metadata": {},
   "outputs": [],
   "source": [
    "y2 = ['errors']\n",
    "for e in filter_errors(points_gkp).keys(): y2.append(e)\n",
    "gk2 = get_figure(goalkeepers[(goalkeepers['saves']>1)], 'web_name', y2, 'errors', map_position_to_color('Goalkeeper'))\n",
    "plotly.offline.iplot(gk2)"
   ]
  },
  {
   "cell_type": "code",
   "execution_count": null,
   "metadata": {},
   "outputs": [],
   "source": [
    "goalkeepers['value'] = goalkeepers['achievements']-goalkeepers['errors']\n",
    "gkp3 = get_figure(goalkeepers, 'web_name', ['value'], 'value', map_position_to_color('Goalkeeper'))\n",
    "plotly.offline.iplot(gkp3)"
   ]
  },
  {
   "cell_type": "markdown",
   "metadata": {},
   "source": [
    "# Defenders"
   ]
  },
  {
   "cell_type": "code",
   "execution_count": null,
   "metadata": {},
   "outputs": [],
   "source": [
    "y1 = ['achievements']\n",
    "for a in filter_achievements(points_def).keys(): y1.append(a)\n",
    "\n",
    "def1 = get_figure(defenders, 'web_name', y1, 'achievements', map_position_to_color('Defender'))\n",
    "plotly.offline.iplot(def1)"
   ]
  },
  {
   "cell_type": "code",
   "execution_count": null,
   "metadata": {},
   "outputs": [],
   "source": [
    "y2 = ['errors']\n",
    "for e in filter_errors(points_def).keys(): y2.append(e)\n",
    "def2 = get_figure(defenders, 'web_name', y2, 'errors', map_position_to_color('Defender'))\n",
    "plotly.offline.iplot(def2)"
   ]
  },
  {
   "cell_type": "code",
   "execution_count": null,
   "metadata": {},
   "outputs": [],
   "source": [
    "defenders['value'] = defenders['achievements']-defenders['errors']\n",
    "def3 = get_figure(defenders, 'web_name', ['value'], 'value', map_position_to_color('Defender'))\n",
    "plotly.offline.iplot(def3)"
   ]
  },
  {
   "cell_type": "markdown",
   "metadata": {},
   "source": [
    "# Midfielders"
   ]
  },
  {
   "cell_type": "code",
   "execution_count": null,
   "metadata": {},
   "outputs": [],
   "source": [
    "y1 = ['achievements']\n",
    "for a in filter_achievements(points_def).keys(): y1.append(a)\n",
    "mid1 = get_figure(midfielders, 'web_name', y1, 'achievements', map_position_to_color('Midfielder'))\n",
    "plotly.offline.iplot(mid1)"
   ]
  },
  {
   "cell_type": "code",
   "execution_count": null,
   "metadata": {},
   "outputs": [],
   "source": [
    "y2 = ['errors']\n",
    "for e in filter_errors(points_mid).keys(): y2.append(e)\n",
    "mid2 = get_figure(midfielders, 'web_name', y2, 'errors', map_position_to_color('Midfielder'))\n",
    "plotly.offline.iplot(mid2)"
   ]
  },
  {
   "cell_type": "code",
   "execution_count": null,
   "metadata": {},
   "outputs": [],
   "source": [
    "midfielders['value'] = midfielders['achievements']-midfielders['errors']\n",
    "mid3 = get_figure(midfielders, 'web_name', ['value'], 'value', map_position_to_color('Midfielder'))\n",
    "plotly.offline.iplot(mid3)"
   ]
  },
  {
   "cell_type": "code",
   "execution_count": null,
   "metadata": {},
   "outputs": [],
   "source": []
  },
  {
   "cell_type": "code",
   "execution_count": null,
   "metadata": {},
   "outputs": [],
   "source": []
  }
 ],
 "metadata": {
  "kernelspec": {
   "display_name": "Python 3",
   "language": "python",
   "name": "python3"
  },
  "language_info": {
   "codemirror_mode": {
    "name": "ipython",
    "version": 3
   },
   "file_extension": ".py",
   "mimetype": "text/x-python",
   "name": "python",
   "nbconvert_exporter": "python",
   "pygments_lexer": "ipython3",
   "version": "3.6.3"
  }
 },
 "nbformat": 4,
 "nbformat_minor": 2
}
