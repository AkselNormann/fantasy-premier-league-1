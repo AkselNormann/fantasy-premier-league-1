{
 "cells": [
  {
   "cell_type": "code",
   "execution_count": 1,
   "metadata": {},
   "outputs": [
    {
     "name": "stdout",
     "output_type": "stream",
     "text": [
      "importing Jupyter notebook from functions.ipynb\n"
     ]
    }
   ],
   "source": [
    "%config IPCompleter.greedy=True\n",
    "\n",
    "import import_ipynb\n",
    "from functions import get_upcoming_team_fixtures_data\n",
    "from functions import get_upcoming_fixtures_data\n",
    "from functions import get_past_fixtures_data\n",
    "from functions import get_past_team_fixtures_data\n",
    "\n",
    "import numpy as np\n",
    "\n",
    "import os\n",
    "import requests\n",
    "import pandas"
   ]
  },
  {
   "cell_type": "code",
   "execution_count": 2,
   "metadata": {},
   "outputs": [],
   "source": [
    "import plotly.offline\n",
    "import plotly.graph_objects as go\n",
    "\n",
    "import chart_studio\n",
    "import chart_studio.plotly as py\n",
    "#chart_studio .tools.set_credentials_file(username='user', api_key='***')"
   ]
  },
  {
   "cell_type": "code",
   "execution_count": 34,
   "metadata": {},
   "outputs": [],
   "source": [
    "def next_fixtures(season, base_path, no_fixtures=6, limit_diff=10.0, no_above_limit_occ=20):\n",
    "    clubs = get_upcoming_fixtures_data(base_path, season)['team_a'].unique()\n",
    "    fig = go.Figure()\n",
    "    alldf=pandas.DataFrame()\n",
    "\n",
    "    i=-1\n",
    "    for club in clubs:\n",
    "        df = get_upcoming_team_fixtures_data(club, base_path, season).head(no_fixtures)\n",
    "        df['team']=club\n",
    "        \n",
    "        if (max(df['difficulty'])>limit_diff+1):\n",
    "            continue\n",
    "            \n",
    "        if ((max(df['difficulty'])>limit_diff) &\n",
    "            (len(df[df['difficulty'] > limit_diff]) > no_above_limit_occ)):\n",
    "            continue\n",
    "\n",
    "        i+=1\n",
    "        alldf = alldf.append(df)\n",
    "        \n",
    "        fig.add_trace(go.Scatter(\n",
    "            x=df['event'], \n",
    "            y=df['difficulty'],\n",
    "            name=club,          \n",
    "            mode='lines',\n",
    "            line=dict(shape='spline', width=4, smoothing=1.3),\n",
    "            text = df['opponent'] + ' (' + df['where'] + ')',\n",
    "            hoverlabel= dict(\n",
    "                font=dict(color='#404040'),\n",
    "                bordercolor='#404040',\n",
    "                bgcolor='white'\n",
    "            ),            \n",
    "            hovertemplate = \"<b>\"+club+\"</b></br></br>vs %{text}</br></br><extra></extra>\"))\n",
    "        \n",
    "    fig.update_layout(\n",
    "        hovermode='x',\n",
    "        legend=go.layout.Legend(\n",
    "            traceorder=\"normal\",\n",
    "            font=dict(color=\"#eee\"),\n",
    "            bgcolor=\"rgba(0,0,0,0)\"\n",
    "        )\n",
    "    )\n",
    "    \n",
    "    fig.update_yaxes(title_text=\"Difficulty\",color='#eee',tick0=1, dtick=1)\n",
    "    fig.update_xaxes(title_text=\"Gameweek\",color='#eee',tick0=1, dtick=1)\n",
    "\n",
    "    fig.update_scenes(bgcolor='rgba(0,0,0,0)')\n",
    "\n",
    "    fig.layout.update(plot_bgcolor='rgba(0,0,0,0)', paper_bgcolor='rgba(0,0,0,0)')\n",
    "    chart_studio.plotly.plot(fig, filename=\"easiest_schedule\")\n",
    "    plotly.offline.iplot(fig)\n",
    "    return alldf"
   ]
  },
  {
   "cell_type": "code",
   "execution_count": 35,
   "metadata": {},
   "outputs": [],
   "source": [
    "def form(season, base_path, no_fixtures=6,limit_form=-10,no_below_limit_occ=20):\n",
    "    clubs = get_upcoming_fixtures_data(base_path, season)['team_a'].unique()\n",
    "    fig = go.Figure()\n",
    "    alldf=pandas.DataFrame()\n",
    "    \n",
    "    for club in clubs:\n",
    "        df = get_past_team_fixtures_data(club,base_path,'2019-20').tail(6)\n",
    "        df['team']=club\n",
    "        df['form']=(df['scored']-df['concieved']+1)*df['relative_difficulty']\n",
    "        df['fixture_form']=df['form']\n",
    "        df['i']=[1 + x * 0.1 for x in range(0,6)]\n",
    "        df['form']=df['i']*df['form']\n",
    "        df['form'] = df['form'].rolling(min_periods=1, window=6).sum()\n",
    "\n",
    "        if ((min(df['form'])<limit_form) & (len(df[df['form'] < limit_form]) > no_below_limit_occ)):\n",
    "            continue\n",
    "        \n",
    "        alldf = alldf.append(df)\n",
    "        \n",
    "        fig.add_trace(go.Scatter(\n",
    "            x=df['event'], \n",
    "            y=df['form'],\n",
    "            name=club,\n",
    "            text = df['opponent'] + ' ' + df['where'],\n",
    "            mode='lines',\n",
    "            line=dict(shape='spline', width=4, smoothing=1.3),\n",
    "            hoverlabel= dict(\n",
    "                font=dict(color='#404040'),\n",
    "                bordercolor='#404040',\n",
    "                bgcolor='white'\n",
    "            ),\n",
    "            hovertemplate = \"<b>\"+club+\"</b></br></br>vs %{text}</br></br><extra></extra>\"))\n",
    "        \n",
    "    fig.update_layout(\n",
    "        hovermode='x',\n",
    "        legend=go.layout.Legend(\n",
    "            traceorder=\"normal\",\n",
    "            font=dict(color=\"#eee\"),\n",
    "            bgcolor=\"rgba(0,0,0,0)\"\n",
    "        )\n",
    "    )\n",
    "    \n",
    "    fig.update_yaxes(title_text=\"Difficulty\",color='#eee')\n",
    "    fig.update_xaxes(title_text=\"Gameweek\",color='#eee')\n",
    "\n",
    "    fig.update_scenes(bgcolor='rgba(0,0,0,0)')\n",
    "\n",
    "    fig.layout.update(plot_bgcolor='rgba(0,0,0,0)', paper_bgcolor='rgba(0,0,0,0)')\n",
    "    chart_studio.plotly.plot(fig, filename=\"club_form\")\n",
    "    plotly.offline.iplot(fig)\n",
    "    return alldf"
   ]
  },
  {
   "cell_type": "code",
   "execution_count": 36,
   "metadata": {},
   "outputs": [],
   "source": [
    "season='2019-20'\n",
    "base_path = 'C:/Users/antonia/source/antoniaelek/fantasy-premier-league/scraper/'"
   ]
  },
  {
   "cell_type": "code",
   "execution_count": 37,
   "metadata": {},
   "outputs": [
    {
     "data": {
      "application/vnd.plotly.v1+json": {
       "config": {
        "linkText": "Export to plot.ly",
        "plotlyServerURL": "https://plot.ly",
        "showLink": false
       },
       "data": [
        {
         "hoverlabel": {
          "bgcolor": "white",
          "bordercolor": "#404040",
          "font": {
           "color": "#404040"
          }
         },
         "hovertemplate": "<b>Bournemouth</b></br></br>vs %{text}</br></br><extra></extra>",
         "line": {
          "shape": "spline",
          "smoothing": 1.3,
          "width": 4
         },
         "mode": "lines",
         "name": "Bournemouth",
         "text": [
          "Aston Villa (A)",
          "Man City (H)",
          "Leicester (A)",
          "Everton (H)",
          "Southampton (A)"
         ],
         "type": "scatter",
         "x": [
          2,
          3,
          4,
          5,
          6
         ],
         "y": [
          2,
          4,
          3,
          2,
          2
         ]
        },
        {
         "hoverlabel": {
          "bgcolor": "white",
          "bordercolor": "#404040",
          "font": {
           "color": "#404040"
          }
         },
         "hovertemplate": "<b>West Ham</b></br></br>vs %{text}</br></br><extra></extra>",
         "line": {
          "shape": "spline",
          "smoothing": 1.3,
          "width": 4
         },
         "mode": "lines",
         "name": "West Ham",
         "text": [
          "Brighton (A)",
          "Watford (A)",
          "Norwich (H)",
          "Aston Villa (A)",
          "Man Utd (H)"
         ],
         "type": "scatter",
         "x": [
          2,
          3,
          4,
          5,
          6
         ],
         "y": [
          2,
          3,
          2,
          2,
          4
         ]
        },
        {
         "hoverlabel": {
          "bgcolor": "white",
          "bordercolor": "#404040",
          "font": {
           "color": "#404040"
          }
         },
         "hovertemplate": "<b>Man Utd</b></br></br>vs %{text}</br></br><extra></extra>",
         "line": {
          "shape": "spline",
          "smoothing": 1.3,
          "width": 4
         },
         "mode": "lines",
         "name": "Man Utd",
         "text": [
          "Wolves (A)",
          "Crystal Palace (H)",
          "Southampton (A)",
          "Leicester (H)",
          "West Ham (A)"
         ],
         "type": "scatter",
         "x": [
          2,
          3,
          4,
          5,
          6
         ],
         "y": [
          3,
          3,
          2,
          3,
          3
         ]
        },
        {
         "hoverlabel": {
          "bgcolor": "white",
          "bordercolor": "#404040",
          "font": {
           "color": "#404040"
          }
         },
         "hovertemplate": "<b>Everton</b></br></br>vs %{text}</br></br><extra></extra>",
         "line": {
          "shape": "spline",
          "smoothing": 1.3,
          "width": 4
         },
         "mode": "lines",
         "name": "Everton",
         "text": [
          "Watford (H)",
          "Aston Villa (A)",
          "Wolves (H)",
          "Bournemouth (A)",
          "Sheffield Utd (H)"
         ],
         "type": "scatter",
         "x": [
          2,
          3,
          4,
          5,
          6
         ],
         "y": [
          3,
          2,
          3,
          3,
          2
         ]
        },
        {
         "hoverlabel": {
          "bgcolor": "white",
          "bordercolor": "#404040",
          "font": {
           "color": "#404040"
          }
         },
         "hovertemplate": "<b>Chelsea</b></br></br>vs %{text}</br></br><extra></extra>",
         "line": {
          "shape": "spline",
          "smoothing": 1.3,
          "width": 4
         },
         "mode": "lines",
         "name": "Chelsea",
         "text": [
          "Leicester (H)",
          "Norwich (A)",
          "Sheffield Utd (H)",
          "Wolves (A)",
          "Liverpool (H)"
         ],
         "type": "scatter",
         "x": [
          2,
          3,
          4,
          5,
          6
         ],
         "y": [
          3,
          2,
          2,
          3,
          4
         ]
        },
        {
         "hoverlabel": {
          "bgcolor": "white",
          "bordercolor": "#404040",
          "font": {
           "color": "#404040"
          }
         },
         "hovertemplate": "<b>Man City</b></br></br>vs %{text}</br></br><extra></extra>",
         "line": {
          "shape": "spline",
          "smoothing": 1.3,
          "width": 4
         },
         "mode": "lines",
         "name": "Man City",
         "text": [
          "Spurs (H)",
          "Bournemouth (A)",
          "Brighton (H)",
          "Norwich (A)",
          "Watford (H)"
         ],
         "type": "scatter",
         "x": [
          2,
          3,
          4,
          5,
          6
         ],
         "y": [
          4,
          3,
          2,
          2,
          3
         ]
        },
        {
         "hoverlabel": {
          "bgcolor": "white",
          "bordercolor": "#404040",
          "font": {
           "color": "#404040"
          }
         },
         "hovertemplate": "<b>Aston Villa</b></br></br>vs %{text}</br></br><extra></extra>",
         "line": {
          "shape": "spline",
          "smoothing": 1.3,
          "width": 4
         },
         "mode": "lines",
         "name": "Aston Villa",
         "text": [
          "Bournemouth (H)",
          "Everton (H)",
          "Crystal Palace (A)",
          "West Ham (H)",
          "Arsenal (A)"
         ],
         "type": "scatter",
         "x": [
          2,
          3,
          4,
          5,
          6
         ],
         "y": [
          2,
          2,
          2,
          2,
          4
         ]
        }
       ],
       "layout": {
        "hovermode": "x",
        "legend": {
         "bgcolor": "rgba(0,0,0,0)",
         "font": {
          "color": "#eee"
         },
         "traceorder": "normal"
        },
        "paper_bgcolor": "rgba(0,0,0,0)",
        "plot_bgcolor": "rgba(0,0,0,0)",
        "scene": {
         "bgcolor": "rgba(0,0,0,0)"
        },
        "template": {
         "data": {
          "bar": [
           {
            "error_x": {
             "color": "#2a3f5f"
            },
            "error_y": {
             "color": "#2a3f5f"
            },
            "marker": {
             "line": {
              "color": "#E5ECF6",
              "width": 0.5
             }
            },
            "type": "bar"
           }
          ],
          "barpolar": [
           {
            "marker": {
             "line": {
              "color": "#E5ECF6",
              "width": 0.5
             }
            },
            "type": "barpolar"
           }
          ],
          "carpet": [
           {
            "aaxis": {
             "endlinecolor": "#2a3f5f",
             "gridcolor": "white",
             "linecolor": "white",
             "minorgridcolor": "white",
             "startlinecolor": "#2a3f5f"
            },
            "baxis": {
             "endlinecolor": "#2a3f5f",
             "gridcolor": "white",
             "linecolor": "white",
             "minorgridcolor": "white",
             "startlinecolor": "#2a3f5f"
            },
            "type": "carpet"
           }
          ],
          "choropleth": [
           {
            "colorbar": {
             "outlinewidth": 0,
             "ticks": ""
            },
            "type": "choropleth"
           }
          ],
          "contour": [
           {
            "colorbar": {
             "outlinewidth": 0,
             "ticks": ""
            },
            "colorscale": [
             [
              0,
              "#0d0887"
             ],
             [
              0.1111111111111111,
              "#46039f"
             ],
             [
              0.2222222222222222,
              "#7201a8"
             ],
             [
              0.3333333333333333,
              "#9c179e"
             ],
             [
              0.4444444444444444,
              "#bd3786"
             ],
             [
              0.5555555555555556,
              "#d8576b"
             ],
             [
              0.6666666666666666,
              "#ed7953"
             ],
             [
              0.7777777777777778,
              "#fb9f3a"
             ],
             [
              0.8888888888888888,
              "#fdca26"
             ],
             [
              1,
              "#f0f921"
             ]
            ],
            "type": "contour"
           }
          ],
          "contourcarpet": [
           {
            "colorbar": {
             "outlinewidth": 0,
             "ticks": ""
            },
            "type": "contourcarpet"
           }
          ],
          "heatmap": [
           {
            "colorbar": {
             "outlinewidth": 0,
             "ticks": ""
            },
            "colorscale": [
             [
              0,
              "#0d0887"
             ],
             [
              0.1111111111111111,
              "#46039f"
             ],
             [
              0.2222222222222222,
              "#7201a8"
             ],
             [
              0.3333333333333333,
              "#9c179e"
             ],
             [
              0.4444444444444444,
              "#bd3786"
             ],
             [
              0.5555555555555556,
              "#d8576b"
             ],
             [
              0.6666666666666666,
              "#ed7953"
             ],
             [
              0.7777777777777778,
              "#fb9f3a"
             ],
             [
              0.8888888888888888,
              "#fdca26"
             ],
             [
              1,
              "#f0f921"
             ]
            ],
            "type": "heatmap"
           }
          ],
          "heatmapgl": [
           {
            "colorbar": {
             "outlinewidth": 0,
             "ticks": ""
            },
            "colorscale": [
             [
              0,
              "#0d0887"
             ],
             [
              0.1111111111111111,
              "#46039f"
             ],
             [
              0.2222222222222222,
              "#7201a8"
             ],
             [
              0.3333333333333333,
              "#9c179e"
             ],
             [
              0.4444444444444444,
              "#bd3786"
             ],
             [
              0.5555555555555556,
              "#d8576b"
             ],
             [
              0.6666666666666666,
              "#ed7953"
             ],
             [
              0.7777777777777778,
              "#fb9f3a"
             ],
             [
              0.8888888888888888,
              "#fdca26"
             ],
             [
              1,
              "#f0f921"
             ]
            ],
            "type": "heatmapgl"
           }
          ],
          "histogram": [
           {
            "marker": {
             "colorbar": {
              "outlinewidth": 0,
              "ticks": ""
             }
            },
            "type": "histogram"
           }
          ],
          "histogram2d": [
           {
            "colorbar": {
             "outlinewidth": 0,
             "ticks": ""
            },
            "colorscale": [
             [
              0,
              "#0d0887"
             ],
             [
              0.1111111111111111,
              "#46039f"
             ],
             [
              0.2222222222222222,
              "#7201a8"
             ],
             [
              0.3333333333333333,
              "#9c179e"
             ],
             [
              0.4444444444444444,
              "#bd3786"
             ],
             [
              0.5555555555555556,
              "#d8576b"
             ],
             [
              0.6666666666666666,
              "#ed7953"
             ],
             [
              0.7777777777777778,
              "#fb9f3a"
             ],
             [
              0.8888888888888888,
              "#fdca26"
             ],
             [
              1,
              "#f0f921"
             ]
            ],
            "type": "histogram2d"
           }
          ],
          "histogram2dcontour": [
           {
            "colorbar": {
             "outlinewidth": 0,
             "ticks": ""
            },
            "colorscale": [
             [
              0,
              "#0d0887"
             ],
             [
              0.1111111111111111,
              "#46039f"
             ],
             [
              0.2222222222222222,
              "#7201a8"
             ],
             [
              0.3333333333333333,
              "#9c179e"
             ],
             [
              0.4444444444444444,
              "#bd3786"
             ],
             [
              0.5555555555555556,
              "#d8576b"
             ],
             [
              0.6666666666666666,
              "#ed7953"
             ],
             [
              0.7777777777777778,
              "#fb9f3a"
             ],
             [
              0.8888888888888888,
              "#fdca26"
             ],
             [
              1,
              "#f0f921"
             ]
            ],
            "type": "histogram2dcontour"
           }
          ],
          "mesh3d": [
           {
            "colorbar": {
             "outlinewidth": 0,
             "ticks": ""
            },
            "type": "mesh3d"
           }
          ],
          "parcoords": [
           {
            "line": {
             "colorbar": {
              "outlinewidth": 0,
              "ticks": ""
             }
            },
            "type": "parcoords"
           }
          ],
          "scatter": [
           {
            "marker": {
             "colorbar": {
              "outlinewidth": 0,
              "ticks": ""
             }
            },
            "type": "scatter"
           }
          ],
          "scatter3d": [
           {
            "line": {
             "colorbar": {
              "outlinewidth": 0,
              "ticks": ""
             }
            },
            "marker": {
             "colorbar": {
              "outlinewidth": 0,
              "ticks": ""
             }
            },
            "type": "scatter3d"
           }
          ],
          "scattercarpet": [
           {
            "marker": {
             "colorbar": {
              "outlinewidth": 0,
              "ticks": ""
             }
            },
            "type": "scattercarpet"
           }
          ],
          "scattergeo": [
           {
            "marker": {
             "colorbar": {
              "outlinewidth": 0,
              "ticks": ""
             }
            },
            "type": "scattergeo"
           }
          ],
          "scattergl": [
           {
            "marker": {
             "colorbar": {
              "outlinewidth": 0,
              "ticks": ""
             }
            },
            "type": "scattergl"
           }
          ],
          "scattermapbox": [
           {
            "marker": {
             "colorbar": {
              "outlinewidth": 0,
              "ticks": ""
             }
            },
            "type": "scattermapbox"
           }
          ],
          "scatterpolar": [
           {
            "marker": {
             "colorbar": {
              "outlinewidth": 0,
              "ticks": ""
             }
            },
            "type": "scatterpolar"
           }
          ],
          "scatterpolargl": [
           {
            "marker": {
             "colorbar": {
              "outlinewidth": 0,
              "ticks": ""
             }
            },
            "type": "scatterpolargl"
           }
          ],
          "scatterternary": [
           {
            "marker": {
             "colorbar": {
              "outlinewidth": 0,
              "ticks": ""
             }
            },
            "type": "scatterternary"
           }
          ],
          "surface": [
           {
            "colorbar": {
             "outlinewidth": 0,
             "ticks": ""
            },
            "colorscale": [
             [
              0,
              "#0d0887"
             ],
             [
              0.1111111111111111,
              "#46039f"
             ],
             [
              0.2222222222222222,
              "#7201a8"
             ],
             [
              0.3333333333333333,
              "#9c179e"
             ],
             [
              0.4444444444444444,
              "#bd3786"
             ],
             [
              0.5555555555555556,
              "#d8576b"
             ],
             [
              0.6666666666666666,
              "#ed7953"
             ],
             [
              0.7777777777777778,
              "#fb9f3a"
             ],
             [
              0.8888888888888888,
              "#fdca26"
             ],
             [
              1,
              "#f0f921"
             ]
            ],
            "type": "surface"
           }
          ],
          "table": [
           {
            "cells": {
             "fill": {
              "color": "#EBF0F8"
             },
             "line": {
              "color": "white"
             }
            },
            "header": {
             "fill": {
              "color": "#C8D4E3"
             },
             "line": {
              "color": "white"
             }
            },
            "type": "table"
           }
          ]
         },
         "layout": {
          "annotationdefaults": {
           "arrowcolor": "#2a3f5f",
           "arrowhead": 0,
           "arrowwidth": 1
          },
          "colorscale": {
           "diverging": [
            [
             0,
             "#8e0152"
            ],
            [
             0.1,
             "#c51b7d"
            ],
            [
             0.2,
             "#de77ae"
            ],
            [
             0.3,
             "#f1b6da"
            ],
            [
             0.4,
             "#fde0ef"
            ],
            [
             0.5,
             "#f7f7f7"
            ],
            [
             0.6,
             "#e6f5d0"
            ],
            [
             0.7,
             "#b8e186"
            ],
            [
             0.8,
             "#7fbc41"
            ],
            [
             0.9,
             "#4d9221"
            ],
            [
             1,
             "#276419"
            ]
           ],
           "sequential": [
            [
             0,
             "#0d0887"
            ],
            [
             0.1111111111111111,
             "#46039f"
            ],
            [
             0.2222222222222222,
             "#7201a8"
            ],
            [
             0.3333333333333333,
             "#9c179e"
            ],
            [
             0.4444444444444444,
             "#bd3786"
            ],
            [
             0.5555555555555556,
             "#d8576b"
            ],
            [
             0.6666666666666666,
             "#ed7953"
            ],
            [
             0.7777777777777778,
             "#fb9f3a"
            ],
            [
             0.8888888888888888,
             "#fdca26"
            ],
            [
             1,
             "#f0f921"
            ]
           ],
           "sequentialminus": [
            [
             0,
             "#0d0887"
            ],
            [
             0.1111111111111111,
             "#46039f"
            ],
            [
             0.2222222222222222,
             "#7201a8"
            ],
            [
             0.3333333333333333,
             "#9c179e"
            ],
            [
             0.4444444444444444,
             "#bd3786"
            ],
            [
             0.5555555555555556,
             "#d8576b"
            ],
            [
             0.6666666666666666,
             "#ed7953"
            ],
            [
             0.7777777777777778,
             "#fb9f3a"
            ],
            [
             0.8888888888888888,
             "#fdca26"
            ],
            [
             1,
             "#f0f921"
            ]
           ]
          },
          "colorway": [
           "#636efa",
           "#EF553B",
           "#00cc96",
           "#ab63fa",
           "#FFA15A",
           "#19d3f3",
           "#FF6692",
           "#B6E880",
           "#FF97FF",
           "#FECB52"
          ],
          "font": {
           "color": "#2a3f5f"
          },
          "geo": {
           "bgcolor": "white",
           "lakecolor": "white",
           "landcolor": "#E5ECF6",
           "showlakes": true,
           "showland": true,
           "subunitcolor": "white"
          },
          "hoverlabel": {
           "align": "left"
          },
          "hovermode": "closest",
          "mapbox": {
           "style": "light"
          },
          "paper_bgcolor": "white",
          "plot_bgcolor": "#E5ECF6",
          "polar": {
           "angularaxis": {
            "gridcolor": "white",
            "linecolor": "white",
            "ticks": ""
           },
           "bgcolor": "#E5ECF6",
           "radialaxis": {
            "gridcolor": "white",
            "linecolor": "white",
            "ticks": ""
           }
          },
          "scene": {
           "xaxis": {
            "backgroundcolor": "#E5ECF6",
            "gridcolor": "white",
            "gridwidth": 2,
            "linecolor": "white",
            "showbackground": true,
            "ticks": "",
            "zerolinecolor": "white"
           },
           "yaxis": {
            "backgroundcolor": "#E5ECF6",
            "gridcolor": "white",
            "gridwidth": 2,
            "linecolor": "white",
            "showbackground": true,
            "ticks": "",
            "zerolinecolor": "white"
           },
           "zaxis": {
            "backgroundcolor": "#E5ECF6",
            "gridcolor": "white",
            "gridwidth": 2,
            "linecolor": "white",
            "showbackground": true,
            "ticks": "",
            "zerolinecolor": "white"
           }
          },
          "shapedefaults": {
           "line": {
            "color": "#2a3f5f"
           }
          },
          "ternary": {
           "aaxis": {
            "gridcolor": "white",
            "linecolor": "white",
            "ticks": ""
           },
           "baxis": {
            "gridcolor": "white",
            "linecolor": "white",
            "ticks": ""
           },
           "bgcolor": "#E5ECF6",
           "caxis": {
            "gridcolor": "white",
            "linecolor": "white",
            "ticks": ""
           }
          },
          "title": {
           "x": 0.05
          },
          "xaxis": {
           "automargin": true,
           "gridcolor": "white",
           "linecolor": "white",
           "ticks": "",
           "zerolinecolor": "white",
           "zerolinewidth": 2
          },
          "yaxis": {
           "automargin": true,
           "gridcolor": "white",
           "linecolor": "white",
           "ticks": "",
           "zerolinecolor": "white",
           "zerolinewidth": 2
          }
         }
        },
        "xaxis": {
         "color": "#eee",
         "dtick": 1,
         "tick0": 1,
         "title": {
          "text": "Gameweek"
         }
        },
        "yaxis": {
         "color": "#eee",
         "dtick": 1,
         "tick0": 1,
         "title": {
          "text": "Difficulty"
         }
        }
       }
      },
      "text/html": [
       "<div>\n",
       "        \n",
       "        \n",
       "            <div id=\"002d1ee3-261a-494b-8127-7841e591a5b8\" class=\"plotly-graph-div\" style=\"height:525px; width:100%;\"></div>\n",
       "            <script type=\"text/javascript\">\n",
       "                require([\"plotly\"], function(Plotly) {\n",
       "                    window.PLOTLYENV=window.PLOTLYENV || {};\n",
       "                    \n",
       "                if (document.getElementById(\"002d1ee3-261a-494b-8127-7841e591a5b8\")) {\n",
       "                    Plotly.newPlot(\n",
       "                        '002d1ee3-261a-494b-8127-7841e591a5b8',\n",
       "                        [{\"hoverlabel\": {\"bgcolor\": \"white\", \"bordercolor\": \"#404040\", \"font\": {\"color\": \"#404040\"}}, \"hovertemplate\": \"<b>Bournemouth</b></br></br>vs %{text}</br></br><extra></extra>\", \"line\": {\"shape\": \"spline\", \"smoothing\": 1.3, \"width\": 4}, \"mode\": \"lines\", \"name\": \"Bournemouth\", \"text\": [\"Aston Villa (A)\", \"Man City (H)\", \"Leicester (A)\", \"Everton (H)\", \"Southampton (A)\"], \"type\": \"scatter\", \"x\": [2, 3, 4, 5, 6], \"y\": [2, 4, 3, 2, 2]}, {\"hoverlabel\": {\"bgcolor\": \"white\", \"bordercolor\": \"#404040\", \"font\": {\"color\": \"#404040\"}}, \"hovertemplate\": \"<b>West Ham</b></br></br>vs %{text}</br></br><extra></extra>\", \"line\": {\"shape\": \"spline\", \"smoothing\": 1.3, \"width\": 4}, \"mode\": \"lines\", \"name\": \"West Ham\", \"text\": [\"Brighton (A)\", \"Watford (A)\", \"Norwich (H)\", \"Aston Villa (A)\", \"Man Utd (H)\"], \"type\": \"scatter\", \"x\": [2, 3, 4, 5, 6], \"y\": [2, 3, 2, 2, 4]}, {\"hoverlabel\": {\"bgcolor\": \"white\", \"bordercolor\": \"#404040\", \"font\": {\"color\": \"#404040\"}}, \"hovertemplate\": \"<b>Man Utd</b></br></br>vs %{text}</br></br><extra></extra>\", \"line\": {\"shape\": \"spline\", \"smoothing\": 1.3, \"width\": 4}, \"mode\": \"lines\", \"name\": \"Man Utd\", \"text\": [\"Wolves (A)\", \"Crystal Palace (H)\", \"Southampton (A)\", \"Leicester (H)\", \"West Ham (A)\"], \"type\": \"scatter\", \"x\": [2, 3, 4, 5, 6], \"y\": [3, 3, 2, 3, 3]}, {\"hoverlabel\": {\"bgcolor\": \"white\", \"bordercolor\": \"#404040\", \"font\": {\"color\": \"#404040\"}}, \"hovertemplate\": \"<b>Everton</b></br></br>vs %{text}</br></br><extra></extra>\", \"line\": {\"shape\": \"spline\", \"smoothing\": 1.3, \"width\": 4}, \"mode\": \"lines\", \"name\": \"Everton\", \"text\": [\"Watford (H)\", \"Aston Villa (A)\", \"Wolves (H)\", \"Bournemouth (A)\", \"Sheffield Utd (H)\"], \"type\": \"scatter\", \"x\": [2, 3, 4, 5, 6], \"y\": [3, 2, 3, 3, 2]}, {\"hoverlabel\": {\"bgcolor\": \"white\", \"bordercolor\": \"#404040\", \"font\": {\"color\": \"#404040\"}}, \"hovertemplate\": \"<b>Chelsea</b></br></br>vs %{text}</br></br><extra></extra>\", \"line\": {\"shape\": \"spline\", \"smoothing\": 1.3, \"width\": 4}, \"mode\": \"lines\", \"name\": \"Chelsea\", \"text\": [\"Leicester (H)\", \"Norwich (A)\", \"Sheffield Utd (H)\", \"Wolves (A)\", \"Liverpool (H)\"], \"type\": \"scatter\", \"x\": [2, 3, 4, 5, 6], \"y\": [3, 2, 2, 3, 4]}, {\"hoverlabel\": {\"bgcolor\": \"white\", \"bordercolor\": \"#404040\", \"font\": {\"color\": \"#404040\"}}, \"hovertemplate\": \"<b>Man City</b></br></br>vs %{text}</br></br><extra></extra>\", \"line\": {\"shape\": \"spline\", \"smoothing\": 1.3, \"width\": 4}, \"mode\": \"lines\", \"name\": \"Man City\", \"text\": [\"Spurs (H)\", \"Bournemouth (A)\", \"Brighton (H)\", \"Norwich (A)\", \"Watford (H)\"], \"type\": \"scatter\", \"x\": [2, 3, 4, 5, 6], \"y\": [4, 3, 2, 2, 3]}, {\"hoverlabel\": {\"bgcolor\": \"white\", \"bordercolor\": \"#404040\", \"font\": {\"color\": \"#404040\"}}, \"hovertemplate\": \"<b>Aston Villa</b></br></br>vs %{text}</br></br><extra></extra>\", \"line\": {\"shape\": \"spline\", \"smoothing\": 1.3, \"width\": 4}, \"mode\": \"lines\", \"name\": \"Aston Villa\", \"text\": [\"Bournemouth (H)\", \"Everton (H)\", \"Crystal Palace (A)\", \"West Ham (H)\", \"Arsenal (A)\"], \"type\": \"scatter\", \"x\": [2, 3, 4, 5, 6], \"y\": [2, 2, 2, 2, 4]}],\n",
       "                        {\"hovermode\": \"x\", \"legend\": {\"bgcolor\": \"rgba(0,0,0,0)\", \"font\": {\"color\": \"#eee\"}, \"traceorder\": \"normal\"}, \"paper_bgcolor\": \"rgba(0,0,0,0)\", \"plot_bgcolor\": \"rgba(0,0,0,0)\", \"scene\": {\"bgcolor\": \"rgba(0,0,0,0)\"}, \"template\": {\"data\": {\"bar\": [{\"error_x\": {\"color\": \"#2a3f5f\"}, \"error_y\": {\"color\": \"#2a3f5f\"}, \"marker\": {\"line\": {\"color\": \"#E5ECF6\", \"width\": 0.5}}, \"type\": \"bar\"}], \"barpolar\": [{\"marker\": {\"line\": {\"color\": \"#E5ECF6\", \"width\": 0.5}}, \"type\": \"barpolar\"}], \"carpet\": [{\"aaxis\": {\"endlinecolor\": \"#2a3f5f\", \"gridcolor\": \"white\", \"linecolor\": \"white\", \"minorgridcolor\": \"white\", \"startlinecolor\": \"#2a3f5f\"}, \"baxis\": {\"endlinecolor\": \"#2a3f5f\", \"gridcolor\": \"white\", \"linecolor\": \"white\", \"minorgridcolor\": \"white\", \"startlinecolor\": \"#2a3f5f\"}, \"type\": \"carpet\"}], \"choropleth\": [{\"colorbar\": {\"outlinewidth\": 0, \"ticks\": \"\"}, \"type\": \"choropleth\"}], \"contour\": [{\"colorbar\": {\"outlinewidth\": 0, \"ticks\": \"\"}, \"colorscale\": [[0.0, \"#0d0887\"], [0.1111111111111111, \"#46039f\"], [0.2222222222222222, \"#7201a8\"], [0.3333333333333333, \"#9c179e\"], [0.4444444444444444, \"#bd3786\"], [0.5555555555555556, \"#d8576b\"], [0.6666666666666666, \"#ed7953\"], [0.7777777777777778, \"#fb9f3a\"], [0.8888888888888888, \"#fdca26\"], [1.0, \"#f0f921\"]], \"type\": \"contour\"}], \"contourcarpet\": [{\"colorbar\": {\"outlinewidth\": 0, \"ticks\": \"\"}, \"type\": \"contourcarpet\"}], \"heatmap\": [{\"colorbar\": {\"outlinewidth\": 0, \"ticks\": \"\"}, \"colorscale\": [[0.0, \"#0d0887\"], [0.1111111111111111, \"#46039f\"], [0.2222222222222222, \"#7201a8\"], [0.3333333333333333, \"#9c179e\"], [0.4444444444444444, \"#bd3786\"], [0.5555555555555556, \"#d8576b\"], [0.6666666666666666, \"#ed7953\"], [0.7777777777777778, \"#fb9f3a\"], [0.8888888888888888, \"#fdca26\"], [1.0, \"#f0f921\"]], \"type\": \"heatmap\"}], \"heatmapgl\": [{\"colorbar\": {\"outlinewidth\": 0, \"ticks\": \"\"}, \"colorscale\": [[0.0, \"#0d0887\"], [0.1111111111111111, \"#46039f\"], [0.2222222222222222, \"#7201a8\"], [0.3333333333333333, \"#9c179e\"], [0.4444444444444444, \"#bd3786\"], [0.5555555555555556, \"#d8576b\"], [0.6666666666666666, \"#ed7953\"], [0.7777777777777778, \"#fb9f3a\"], [0.8888888888888888, \"#fdca26\"], [1.0, \"#f0f921\"]], \"type\": \"heatmapgl\"}], \"histogram\": [{\"marker\": {\"colorbar\": {\"outlinewidth\": 0, \"ticks\": \"\"}}, \"type\": \"histogram\"}], \"histogram2d\": [{\"colorbar\": {\"outlinewidth\": 0, \"ticks\": \"\"}, \"colorscale\": [[0.0, \"#0d0887\"], [0.1111111111111111, \"#46039f\"], [0.2222222222222222, \"#7201a8\"], [0.3333333333333333, \"#9c179e\"], [0.4444444444444444, \"#bd3786\"], [0.5555555555555556, \"#d8576b\"], [0.6666666666666666, \"#ed7953\"], [0.7777777777777778, \"#fb9f3a\"], [0.8888888888888888, \"#fdca26\"], [1.0, \"#f0f921\"]], \"type\": \"histogram2d\"}], \"histogram2dcontour\": [{\"colorbar\": {\"outlinewidth\": 0, \"ticks\": \"\"}, \"colorscale\": [[0.0, \"#0d0887\"], [0.1111111111111111, \"#46039f\"], [0.2222222222222222, \"#7201a8\"], [0.3333333333333333, \"#9c179e\"], [0.4444444444444444, \"#bd3786\"], [0.5555555555555556, \"#d8576b\"], [0.6666666666666666, \"#ed7953\"], [0.7777777777777778, \"#fb9f3a\"], [0.8888888888888888, \"#fdca26\"], [1.0, \"#f0f921\"]], \"type\": \"histogram2dcontour\"}], \"mesh3d\": [{\"colorbar\": {\"outlinewidth\": 0, \"ticks\": \"\"}, \"type\": \"mesh3d\"}], \"parcoords\": [{\"line\": {\"colorbar\": {\"outlinewidth\": 0, \"ticks\": \"\"}}, \"type\": \"parcoords\"}], \"scatter\": [{\"marker\": {\"colorbar\": {\"outlinewidth\": 0, \"ticks\": \"\"}}, \"type\": \"scatter\"}], \"scatter3d\": [{\"line\": {\"colorbar\": {\"outlinewidth\": 0, \"ticks\": \"\"}}, \"marker\": {\"colorbar\": {\"outlinewidth\": 0, \"ticks\": \"\"}}, \"type\": \"scatter3d\"}], \"scattercarpet\": [{\"marker\": {\"colorbar\": {\"outlinewidth\": 0, \"ticks\": \"\"}}, \"type\": \"scattercarpet\"}], \"scattergeo\": [{\"marker\": {\"colorbar\": {\"outlinewidth\": 0, \"ticks\": \"\"}}, \"type\": \"scattergeo\"}], \"scattergl\": [{\"marker\": {\"colorbar\": {\"outlinewidth\": 0, \"ticks\": \"\"}}, \"type\": \"scattergl\"}], \"scattermapbox\": [{\"marker\": {\"colorbar\": {\"outlinewidth\": 0, \"ticks\": \"\"}}, \"type\": \"scattermapbox\"}], \"scatterpolar\": [{\"marker\": {\"colorbar\": {\"outlinewidth\": 0, \"ticks\": \"\"}}, \"type\": \"scatterpolar\"}], \"scatterpolargl\": [{\"marker\": {\"colorbar\": {\"outlinewidth\": 0, \"ticks\": \"\"}}, \"type\": \"scatterpolargl\"}], \"scatterternary\": [{\"marker\": {\"colorbar\": {\"outlinewidth\": 0, \"ticks\": \"\"}}, \"type\": \"scatterternary\"}], \"surface\": [{\"colorbar\": {\"outlinewidth\": 0, \"ticks\": \"\"}, \"colorscale\": [[0.0, \"#0d0887\"], [0.1111111111111111, \"#46039f\"], [0.2222222222222222, \"#7201a8\"], [0.3333333333333333, \"#9c179e\"], [0.4444444444444444, \"#bd3786\"], [0.5555555555555556, \"#d8576b\"], [0.6666666666666666, \"#ed7953\"], [0.7777777777777778, \"#fb9f3a\"], [0.8888888888888888, \"#fdca26\"], [1.0, \"#f0f921\"]], \"type\": \"surface\"}], \"table\": [{\"cells\": {\"fill\": {\"color\": \"#EBF0F8\"}, \"line\": {\"color\": \"white\"}}, \"header\": {\"fill\": {\"color\": \"#C8D4E3\"}, \"line\": {\"color\": \"white\"}}, \"type\": \"table\"}]}, \"layout\": {\"annotationdefaults\": {\"arrowcolor\": \"#2a3f5f\", \"arrowhead\": 0, \"arrowwidth\": 1}, \"colorscale\": {\"diverging\": [[0, \"#8e0152\"], [0.1, \"#c51b7d\"], [0.2, \"#de77ae\"], [0.3, \"#f1b6da\"], [0.4, \"#fde0ef\"], [0.5, \"#f7f7f7\"], [0.6, \"#e6f5d0\"], [0.7, \"#b8e186\"], [0.8, \"#7fbc41\"], [0.9, \"#4d9221\"], [1, \"#276419\"]], \"sequential\": [[0.0, \"#0d0887\"], [0.1111111111111111, \"#46039f\"], [0.2222222222222222, \"#7201a8\"], [0.3333333333333333, \"#9c179e\"], [0.4444444444444444, \"#bd3786\"], [0.5555555555555556, \"#d8576b\"], [0.6666666666666666, \"#ed7953\"], [0.7777777777777778, \"#fb9f3a\"], [0.8888888888888888, \"#fdca26\"], [1.0, \"#f0f921\"]], \"sequentialminus\": [[0.0, \"#0d0887\"], [0.1111111111111111, \"#46039f\"], [0.2222222222222222, \"#7201a8\"], [0.3333333333333333, \"#9c179e\"], [0.4444444444444444, \"#bd3786\"], [0.5555555555555556, \"#d8576b\"], [0.6666666666666666, \"#ed7953\"], [0.7777777777777778, \"#fb9f3a\"], [0.8888888888888888, \"#fdca26\"], [1.0, \"#f0f921\"]]}, \"colorway\": [\"#636efa\", \"#EF553B\", \"#00cc96\", \"#ab63fa\", \"#FFA15A\", \"#19d3f3\", \"#FF6692\", \"#B6E880\", \"#FF97FF\", \"#FECB52\"], \"font\": {\"color\": \"#2a3f5f\"}, \"geo\": {\"bgcolor\": \"white\", \"lakecolor\": \"white\", \"landcolor\": \"#E5ECF6\", \"showlakes\": true, \"showland\": true, \"subunitcolor\": \"white\"}, \"hoverlabel\": {\"align\": \"left\"}, \"hovermode\": \"closest\", \"mapbox\": {\"style\": \"light\"}, \"paper_bgcolor\": \"white\", \"plot_bgcolor\": \"#E5ECF6\", \"polar\": {\"angularaxis\": {\"gridcolor\": \"white\", \"linecolor\": \"white\", \"ticks\": \"\"}, \"bgcolor\": \"#E5ECF6\", \"radialaxis\": {\"gridcolor\": \"white\", \"linecolor\": \"white\", \"ticks\": \"\"}}, \"scene\": {\"xaxis\": {\"backgroundcolor\": \"#E5ECF6\", \"gridcolor\": \"white\", \"gridwidth\": 2, \"linecolor\": \"white\", \"showbackground\": true, \"ticks\": \"\", \"zerolinecolor\": \"white\"}, \"yaxis\": {\"backgroundcolor\": \"#E5ECF6\", \"gridcolor\": \"white\", \"gridwidth\": 2, \"linecolor\": \"white\", \"showbackground\": true, \"ticks\": \"\", \"zerolinecolor\": \"white\"}, \"zaxis\": {\"backgroundcolor\": \"#E5ECF6\", \"gridcolor\": \"white\", \"gridwidth\": 2, \"linecolor\": \"white\", \"showbackground\": true, \"ticks\": \"\", \"zerolinecolor\": \"white\"}}, \"shapedefaults\": {\"line\": {\"color\": \"#2a3f5f\"}}, \"ternary\": {\"aaxis\": {\"gridcolor\": \"white\", \"linecolor\": \"white\", \"ticks\": \"\"}, \"baxis\": {\"gridcolor\": \"white\", \"linecolor\": \"white\", \"ticks\": \"\"}, \"bgcolor\": \"#E5ECF6\", \"caxis\": {\"gridcolor\": \"white\", \"linecolor\": \"white\", \"ticks\": \"\"}}, \"title\": {\"x\": 0.05}, \"xaxis\": {\"automargin\": true, \"gridcolor\": \"white\", \"linecolor\": \"white\", \"ticks\": \"\", \"zerolinecolor\": \"white\", \"zerolinewidth\": 2}, \"yaxis\": {\"automargin\": true, \"gridcolor\": \"white\", \"linecolor\": \"white\", \"ticks\": \"\", \"zerolinecolor\": \"white\", \"zerolinewidth\": 2}}}, \"xaxis\": {\"color\": \"#eee\", \"dtick\": 1, \"tick0\": 1, \"title\": {\"text\": \"Gameweek\"}}, \"yaxis\": {\"color\": \"#eee\", \"dtick\": 1, \"tick0\": 1, \"title\": {\"text\": \"Difficulty\"}}},\n",
       "                        {\"responsive\": true}\n",
       "                    ).then(function(){\n",
       "                            \n",
       "var gd = document.getElementById('002d1ee3-261a-494b-8127-7841e591a5b8');\n",
       "var x = new MutationObserver(function (mutations, observer) {{\n",
       "        var display = window.getComputedStyle(gd).display;\n",
       "        if (!display || display === 'none') {{\n",
       "            console.log([gd, 'removed!']);\n",
       "            Plotly.purge(gd);\n",
       "            observer.disconnect();\n",
       "        }}\n",
       "}});\n",
       "\n",
       "// Listen for the removal of the full notebook cells\n",
       "var notebookContainer = gd.closest('#notebook-container');\n",
       "if (notebookContainer) {{\n",
       "    x.observe(notebookContainer, {childList: true});\n",
       "}}\n",
       "\n",
       "// Listen for the clearing of the current output cell\n",
       "var outputEl = gd.closest('.output');\n",
       "if (outputEl) {{\n",
       "    x.observe(outputEl, {childList: true});\n",
       "}}\n",
       "\n",
       "                        })\n",
       "                };\n",
       "                });\n",
       "            </script>\n",
       "        </div>"
      ]
     },
     "metadata": {},
     "output_type": "display_data"
    }
   ],
   "source": [
    "fix = next_fixtures(season, base_path, limit_diff=3, no_above_limit_occ=1, no_fixtures=5)"
   ]
  },
  {
   "cell_type": "code",
   "execution_count": 22,
   "metadata": {
    "scrolled": false
   },
   "outputs": [
    {
     "data": {
      "application/vnd.plotly.v1+json": {
       "config": {
        "linkText": "Export to plot.ly",
        "plotlyServerURL": "https://plot.ly",
        "showLink": false
       },
       "data": [
        {
         "hoverlabel": {
          "bgcolor": "white",
          "bordercolor": "#404040",
          "font": {
           "color": "#404040"
          }
         },
         "hovertemplate": "<b>Burnley</b></br></br>vs %{text}</br></br><extra></extra>",
         "line": {
          "shape": "spline",
          "smoothing": 1.3,
          "width": 4
         },
         "mode": "lines",
         "name": "Burnley",
         "text": [
          "Sheffield Utd H",
          "West Ham A",
          "Liverpool A",
          "Wolves H",
          "Norwich A",
          "Brighton H"
         ],
         "type": "scatter",
         "x": [
          33,
          34,
          35,
          36,
          37,
          38
         ],
         "y": [
          null,
          null,
          null,
          null,
          null,
          null
         ]
        },
        {
         "hoverlabel": {
          "bgcolor": "white",
          "bordercolor": "#404040",
          "font": {
           "color": "#404040"
          }
         },
         "hovertemplate": "<b>Bournemouth</b></br></br>vs %{text}</br></br><extra></extra>",
         "line": {
          "shape": "spline",
          "smoothing": 1.3,
          "width": 4
         },
         "mode": "lines",
         "name": "Bournemouth",
         "text": [
          "Man Utd A",
          "Spurs H",
          "Leicester H",
          "Man City A",
          "Southampton H",
          "Everton A"
         ],
         "type": "scatter",
         "x": [
          33,
          34,
          35,
          36,
          37,
          38
         ],
         "y": [
          null,
          null,
          null,
          null,
          null,
          null
         ]
        },
        {
         "hoverlabel": {
          "bgcolor": "white",
          "bordercolor": "#404040",
          "font": {
           "color": "#404040"
          }
         },
         "hovertemplate": "<b>West Ham</b></br></br>vs %{text}</br></br><extra></extra>",
         "line": {
          "shape": "spline",
          "smoothing": 1.3,
          "width": 4
         },
         "mode": "lines",
         "name": "West Ham",
         "text": [
          "Newcastle A",
          "Burnley H",
          "Norwich A",
          "Watford H",
          "Man Utd A",
          "Aston Villa H"
         ],
         "type": "scatter",
         "x": [
          33,
          34,
          35,
          36,
          37,
          38
         ],
         "y": [
          null,
          null,
          null,
          null,
          null,
          null
         ]
        },
        {
         "hoverlabel": {
          "bgcolor": "white",
          "bordercolor": "#404040",
          "font": {
           "color": "#404040"
          }
         },
         "hovertemplate": "<b>Watford</b></br></br>vs %{text}</br></br><extra></extra>",
         "line": {
          "shape": "spline",
          "smoothing": 1.3,
          "width": 4
         },
         "mode": "lines",
         "name": "Watford",
         "text": [
          "Chelsea A",
          "Norwich H",
          "Newcastle H",
          "West Ham A",
          "Man City H",
          "Arsenal A"
         ],
         "type": "scatter",
         "x": [
          33,
          34,
          35,
          36,
          37,
          38
         ],
         "y": [
          null,
          null,
          null,
          null,
          null,
          null
         ]
        },
        {
         "hoverlabel": {
          "bgcolor": "white",
          "bordercolor": "#404040",
          "font": {
           "color": "#404040"
          }
         },
         "hovertemplate": "<b>Newcastle</b></br></br>vs %{text}</br></br><extra></extra>",
         "line": {
          "shape": "spline",
          "smoothing": 1.3,
          "width": 4
         },
         "mode": "lines",
         "name": "Newcastle",
         "text": [
          "West Ham H",
          "Man City A",
          "Watford A",
          "Spurs H",
          "Brighton A",
          "Liverpool H"
         ],
         "type": "scatter",
         "x": [
          33,
          34,
          35,
          36,
          37,
          38
         ],
         "y": [
          null,
          null,
          null,
          null,
          null,
          null
         ]
        },
        {
         "hoverlabel": {
          "bgcolor": "white",
          "bordercolor": "#404040",
          "font": {
           "color": "#404040"
          }
         },
         "hovertemplate": "<b>Liverpool</b></br></br>vs %{text}</br></br><extra></extra>",
         "line": {
          "shape": "spline",
          "smoothing": 1.3,
          "width": 4
         },
         "mode": "lines",
         "name": "Liverpool",
         "text": [
          "Aston Villa H",
          "Brighton A",
          "Burnley H",
          "Arsenal A",
          "Chelsea H",
          "Newcastle A"
         ],
         "type": "scatter",
         "x": [
          33,
          34,
          35,
          36,
          37,
          38
         ],
         "y": [
          null,
          null,
          null,
          null,
          null,
          null
         ]
        },
        {
         "hoverlabel": {
          "bgcolor": "white",
          "bordercolor": "#404040",
          "font": {
           "color": "#404040"
          }
         },
         "hovertemplate": "<b>Spurs</b></br></br>vs %{text}</br></br><extra></extra>",
         "line": {
          "shape": "spline",
          "smoothing": 1.3,
          "width": 4
         },
         "mode": "lines",
         "name": "Spurs",
         "text": [
          "Everton H",
          "Bournemouth A",
          "Arsenal H",
          "Newcastle A",
          "Leicester H",
          "Crystal Palace A"
         ],
         "type": "scatter",
         "x": [
          33,
          34,
          35,
          36,
          37,
          38
         ],
         "y": [
          null,
          null,
          null,
          null,
          null,
          null
         ]
        },
        {
         "hoverlabel": {
          "bgcolor": "white",
          "bordercolor": "#404040",
          "font": {
           "color": "#404040"
          }
         },
         "hovertemplate": "<b>Crystal Palace</b></br></br>vs %{text}</br></br><extra></extra>",
         "line": {
          "shape": "spline",
          "smoothing": 1.3,
          "width": 4
         },
         "mode": "lines",
         "name": "Crystal Palace",
         "text": [
          "Leicester A",
          "Chelsea H",
          "Aston Villa A",
          "Man Utd H",
          "Wolves A",
          "Spurs H"
         ],
         "type": "scatter",
         "x": [
          33,
          34,
          35,
          36,
          37,
          38
         ],
         "y": [
          null,
          null,
          null,
          null,
          null,
          null
         ]
        },
        {
         "hoverlabel": {
          "bgcolor": "white",
          "bordercolor": "#404040",
          "font": {
           "color": "#404040"
          }
         },
         "hovertemplate": "<b>Leicester</b></br></br>vs %{text}</br></br><extra></extra>",
         "line": {
          "shape": "spline",
          "smoothing": 1.3,
          "width": 4
         },
         "mode": "lines",
         "name": "Leicester",
         "text": [
          "Crystal Palace H",
          "Arsenal A",
          "Bournemouth A",
          "Sheffield Utd H",
          "Spurs A",
          "Man Utd H"
         ],
         "type": "scatter",
         "x": [
          33,
          34,
          35,
          36,
          37,
          38
         ],
         "y": [
          null,
          null,
          null,
          null,
          null,
          null
         ]
        },
        {
         "hoverlabel": {
          "bgcolor": "white",
          "bordercolor": "#404040",
          "font": {
           "color": "#404040"
          }
         },
         "hovertemplate": "<b>Man Utd</b></br></br>vs %{text}</br></br><extra></extra>",
         "line": {
          "shape": "spline",
          "smoothing": 1.3,
          "width": 4
         },
         "mode": "lines",
         "name": "Man Utd",
         "text": [
          "Bournemouth H",
          "Aston Villa A",
          "Southampton H",
          "Crystal Palace A",
          "West Ham H",
          "Leicester A"
         ],
         "type": "scatter",
         "x": [
          33,
          34,
          35,
          36,
          37,
          38
         ],
         "y": [
          null,
          null,
          null,
          null,
          null,
          null
         ]
        },
        {
         "hoverlabel": {
          "bgcolor": "white",
          "bordercolor": "#404040",
          "font": {
           "color": "#404040"
          }
         },
         "hovertemplate": "<b>Everton</b></br></br>vs %{text}</br></br><extra></extra>",
         "line": {
          "shape": "spline",
          "smoothing": 1.3,
          "width": 4
         },
         "mode": "lines",
         "name": "Everton",
         "text": [
          "Spurs A",
          "Southampton H",
          "Wolves A",
          "Aston Villa H",
          "Sheffield Utd A",
          "Bournemouth H"
         ],
         "type": "scatter",
         "x": [
          33,
          34,
          35,
          36,
          37,
          38
         ],
         "y": [
          null,
          null,
          null,
          null,
          null,
          null
         ]
        },
        {
         "hoverlabel": {
          "bgcolor": "white",
          "bordercolor": "#404040",
          "font": {
           "color": "#404040"
          }
         },
         "hovertemplate": "<b>Chelsea</b></br></br>vs %{text}</br></br><extra></extra>",
         "line": {
          "shape": "spline",
          "smoothing": 1.3,
          "width": 4
         },
         "mode": "lines",
         "name": "Chelsea",
         "text": [
          "Watford H",
          "Crystal Palace A",
          "Sheffield Utd A",
          "Norwich H",
          "Liverpool A",
          "Wolves H"
         ],
         "type": "scatter",
         "x": [
          33,
          34,
          35,
          36,
          37,
          38
         ],
         "y": [
          null,
          null,
          null,
          null,
          null,
          null
         ]
        },
        {
         "hoverlabel": {
          "bgcolor": "white",
          "bordercolor": "#404040",
          "font": {
           "color": "#404040"
          }
         },
         "hovertemplate": "<b>Southampton</b></br></br>vs %{text}</br></br><extra></extra>",
         "line": {
          "shape": "spline",
          "smoothing": 1.3,
          "width": 4
         },
         "mode": "lines",
         "name": "Southampton",
         "text": [
          "Man City H",
          "Everton A",
          "Man Utd A",
          "Brighton H",
          "Bournemouth A",
          "Sheffield Utd H"
         ],
         "type": "scatter",
         "x": [
          33,
          34,
          35,
          36,
          37,
          38
         ],
         "y": [
          null,
          null,
          null,
          null,
          null,
          null
         ]
        },
        {
         "hoverlabel": {
          "bgcolor": "white",
          "bordercolor": "#404040",
          "font": {
           "color": "#404040"
          }
         },
         "hovertemplate": "<b>Arsenal</b></br></br>vs %{text}</br></br><extra></extra>",
         "line": {
          "shape": "spline",
          "smoothing": 1.3,
          "width": 4
         },
         "mode": "lines",
         "name": "Arsenal",
         "text": [
          "Wolves A",
          "Leicester H",
          "Spurs A",
          "Liverpool H",
          "Aston Villa A",
          "Watford H"
         ],
         "type": "scatter",
         "x": [
          33,
          34,
          35,
          36,
          37,
          38
         ],
         "y": [
          null,
          null,
          null,
          null,
          null,
          null
         ]
        },
        {
         "hoverlabel": {
          "bgcolor": "white",
          "bordercolor": "#404040",
          "font": {
           "color": "#404040"
          }
         },
         "hovertemplate": "<b>Man City</b></br></br>vs %{text}</br></br><extra></extra>",
         "line": {
          "shape": "spline",
          "smoothing": 1.3,
          "width": 4
         },
         "mode": "lines",
         "name": "Man City",
         "text": [
          "Southampton A",
          "Newcastle H",
          "Brighton A",
          "Bournemouth H",
          "Watford A",
          "Norwich H"
         ],
         "type": "scatter",
         "x": [
          33,
          34,
          35,
          36,
          37,
          38
         ],
         "y": [
          null,
          null,
          null,
          null,
          null,
          null
         ]
        },
        {
         "hoverlabel": {
          "bgcolor": "white",
          "bordercolor": "#404040",
          "font": {
           "color": "#404040"
          }
         },
         "hovertemplate": "<b>Sheffield Utd</b></br></br>vs %{text}</br></br><extra></extra>",
         "line": {
          "shape": "spline",
          "smoothing": 1.3,
          "width": 4
         },
         "mode": "lines",
         "name": "Sheffield Utd",
         "text": [
          "Burnley A",
          "Wolves H",
          "Chelsea H",
          "Leicester A",
          "Everton H",
          "Southampton A"
         ],
         "type": "scatter",
         "x": [
          33,
          34,
          35,
          36,
          37,
          38
         ],
         "y": [
          null,
          null,
          null,
          null,
          null,
          null
         ]
        },
        {
         "hoverlabel": {
          "bgcolor": "white",
          "bordercolor": "#404040",
          "font": {
           "color": "#404040"
          }
         },
         "hovertemplate": "<b>Aston Villa</b></br></br>vs %{text}</br></br><extra></extra>",
         "line": {
          "shape": "spline",
          "smoothing": 1.3,
          "width": 4
         },
         "mode": "lines",
         "name": "Aston Villa",
         "text": [
          "Liverpool A",
          "Man Utd H",
          "Crystal Palace H",
          "Everton A",
          "Arsenal H",
          "West Ham A"
         ],
         "type": "scatter",
         "x": [
          33,
          34,
          35,
          36,
          37,
          38
         ],
         "y": [
          null,
          null,
          null,
          null,
          null,
          null
         ]
        },
        {
         "hoverlabel": {
          "bgcolor": "white",
          "bordercolor": "#404040",
          "font": {
           "color": "#404040"
          }
         },
         "hovertemplate": "<b>Brighton</b></br></br>vs %{text}</br></br><extra></extra>",
         "line": {
          "shape": "spline",
          "smoothing": 1.3,
          "width": 4
         },
         "mode": "lines",
         "name": "Brighton",
         "text": [
          "Norwich A",
          "Liverpool H",
          "Man City H",
          "Southampton A",
          "Newcastle H",
          "Burnley A"
         ],
         "type": "scatter",
         "x": [
          33,
          34,
          35,
          36,
          37,
          38
         ],
         "y": [
          null,
          null,
          null,
          null,
          null,
          null
         ]
        },
        {
         "hoverlabel": {
          "bgcolor": "white",
          "bordercolor": "#404040",
          "font": {
           "color": "#404040"
          }
         },
         "hovertemplate": "<b>Norwich</b></br></br>vs %{text}</br></br><extra></extra>",
         "line": {
          "shape": "spline",
          "smoothing": 1.3,
          "width": 4
         },
         "mode": "lines",
         "name": "Norwich",
         "text": [
          "Brighton H",
          "Watford A",
          "West Ham H",
          "Chelsea A",
          "Burnley H",
          "Man City A"
         ],
         "type": "scatter",
         "x": [
          33,
          34,
          35,
          36,
          37,
          38
         ],
         "y": [
          null,
          null,
          null,
          null,
          null,
          null
         ]
        },
        {
         "hoverlabel": {
          "bgcolor": "white",
          "bordercolor": "#404040",
          "font": {
           "color": "#404040"
          }
         },
         "hovertemplate": "<b>Wolves</b></br></br>vs %{text}</br></br><extra></extra>",
         "line": {
          "shape": "spline",
          "smoothing": 1.3,
          "width": 4
         },
         "mode": "lines",
         "name": "Wolves",
         "text": [
          "Arsenal H",
          "Sheffield Utd A",
          "Everton H",
          "Burnley A",
          "Crystal Palace H",
          "Chelsea A"
         ],
         "type": "scatter",
         "x": [
          33,
          34,
          35,
          36,
          37,
          38
         ],
         "y": [
          null,
          null,
          null,
          null,
          null,
          null
         ]
        }
       ],
       "layout": {
        "hovermode": "x",
        "legend": {
         "bgcolor": "rgba(0,0,0,0)",
         "font": {
          "color": "#eee"
         },
         "traceorder": "normal"
        },
        "paper_bgcolor": "rgba(0,0,0,0)",
        "plot_bgcolor": "rgba(0,0,0,0)",
        "scene": {
         "bgcolor": "rgba(0,0,0,0)"
        },
        "template": {
         "data": {
          "bar": [
           {
            "error_x": {
             "color": "#2a3f5f"
            },
            "error_y": {
             "color": "#2a3f5f"
            },
            "marker": {
             "line": {
              "color": "#E5ECF6",
              "width": 0.5
             }
            },
            "type": "bar"
           }
          ],
          "barpolar": [
           {
            "marker": {
             "line": {
              "color": "#E5ECF6",
              "width": 0.5
             }
            },
            "type": "barpolar"
           }
          ],
          "carpet": [
           {
            "aaxis": {
             "endlinecolor": "#2a3f5f",
             "gridcolor": "white",
             "linecolor": "white",
             "minorgridcolor": "white",
             "startlinecolor": "#2a3f5f"
            },
            "baxis": {
             "endlinecolor": "#2a3f5f",
             "gridcolor": "white",
             "linecolor": "white",
             "minorgridcolor": "white",
             "startlinecolor": "#2a3f5f"
            },
            "type": "carpet"
           }
          ],
          "choropleth": [
           {
            "colorbar": {
             "outlinewidth": 0,
             "ticks": ""
            },
            "type": "choropleth"
           }
          ],
          "contour": [
           {
            "colorbar": {
             "outlinewidth": 0,
             "ticks": ""
            },
            "colorscale": [
             [
              0,
              "#0d0887"
             ],
             [
              0.1111111111111111,
              "#46039f"
             ],
             [
              0.2222222222222222,
              "#7201a8"
             ],
             [
              0.3333333333333333,
              "#9c179e"
             ],
             [
              0.4444444444444444,
              "#bd3786"
             ],
             [
              0.5555555555555556,
              "#d8576b"
             ],
             [
              0.6666666666666666,
              "#ed7953"
             ],
             [
              0.7777777777777778,
              "#fb9f3a"
             ],
             [
              0.8888888888888888,
              "#fdca26"
             ],
             [
              1,
              "#f0f921"
             ]
            ],
            "type": "contour"
           }
          ],
          "contourcarpet": [
           {
            "colorbar": {
             "outlinewidth": 0,
             "ticks": ""
            },
            "type": "contourcarpet"
           }
          ],
          "heatmap": [
           {
            "colorbar": {
             "outlinewidth": 0,
             "ticks": ""
            },
            "colorscale": [
             [
              0,
              "#0d0887"
             ],
             [
              0.1111111111111111,
              "#46039f"
             ],
             [
              0.2222222222222222,
              "#7201a8"
             ],
             [
              0.3333333333333333,
              "#9c179e"
             ],
             [
              0.4444444444444444,
              "#bd3786"
             ],
             [
              0.5555555555555556,
              "#d8576b"
             ],
             [
              0.6666666666666666,
              "#ed7953"
             ],
             [
              0.7777777777777778,
              "#fb9f3a"
             ],
             [
              0.8888888888888888,
              "#fdca26"
             ],
             [
              1,
              "#f0f921"
             ]
            ],
            "type": "heatmap"
           }
          ],
          "heatmapgl": [
           {
            "colorbar": {
             "outlinewidth": 0,
             "ticks": ""
            },
            "colorscale": [
             [
              0,
              "#0d0887"
             ],
             [
              0.1111111111111111,
              "#46039f"
             ],
             [
              0.2222222222222222,
              "#7201a8"
             ],
             [
              0.3333333333333333,
              "#9c179e"
             ],
             [
              0.4444444444444444,
              "#bd3786"
             ],
             [
              0.5555555555555556,
              "#d8576b"
             ],
             [
              0.6666666666666666,
              "#ed7953"
             ],
             [
              0.7777777777777778,
              "#fb9f3a"
             ],
             [
              0.8888888888888888,
              "#fdca26"
             ],
             [
              1,
              "#f0f921"
             ]
            ],
            "type": "heatmapgl"
           }
          ],
          "histogram": [
           {
            "marker": {
             "colorbar": {
              "outlinewidth": 0,
              "ticks": ""
             }
            },
            "type": "histogram"
           }
          ],
          "histogram2d": [
           {
            "colorbar": {
             "outlinewidth": 0,
             "ticks": ""
            },
            "colorscale": [
             [
              0,
              "#0d0887"
             ],
             [
              0.1111111111111111,
              "#46039f"
             ],
             [
              0.2222222222222222,
              "#7201a8"
             ],
             [
              0.3333333333333333,
              "#9c179e"
             ],
             [
              0.4444444444444444,
              "#bd3786"
             ],
             [
              0.5555555555555556,
              "#d8576b"
             ],
             [
              0.6666666666666666,
              "#ed7953"
             ],
             [
              0.7777777777777778,
              "#fb9f3a"
             ],
             [
              0.8888888888888888,
              "#fdca26"
             ],
             [
              1,
              "#f0f921"
             ]
            ],
            "type": "histogram2d"
           }
          ],
          "histogram2dcontour": [
           {
            "colorbar": {
             "outlinewidth": 0,
             "ticks": ""
            },
            "colorscale": [
             [
              0,
              "#0d0887"
             ],
             [
              0.1111111111111111,
              "#46039f"
             ],
             [
              0.2222222222222222,
              "#7201a8"
             ],
             [
              0.3333333333333333,
              "#9c179e"
             ],
             [
              0.4444444444444444,
              "#bd3786"
             ],
             [
              0.5555555555555556,
              "#d8576b"
             ],
             [
              0.6666666666666666,
              "#ed7953"
             ],
             [
              0.7777777777777778,
              "#fb9f3a"
             ],
             [
              0.8888888888888888,
              "#fdca26"
             ],
             [
              1,
              "#f0f921"
             ]
            ],
            "type": "histogram2dcontour"
           }
          ],
          "mesh3d": [
           {
            "colorbar": {
             "outlinewidth": 0,
             "ticks": ""
            },
            "type": "mesh3d"
           }
          ],
          "parcoords": [
           {
            "line": {
             "colorbar": {
              "outlinewidth": 0,
              "ticks": ""
             }
            },
            "type": "parcoords"
           }
          ],
          "scatter": [
           {
            "marker": {
             "colorbar": {
              "outlinewidth": 0,
              "ticks": ""
             }
            },
            "type": "scatter"
           }
          ],
          "scatter3d": [
           {
            "line": {
             "colorbar": {
              "outlinewidth": 0,
              "ticks": ""
             }
            },
            "marker": {
             "colorbar": {
              "outlinewidth": 0,
              "ticks": ""
             }
            },
            "type": "scatter3d"
           }
          ],
          "scattercarpet": [
           {
            "marker": {
             "colorbar": {
              "outlinewidth": 0,
              "ticks": ""
             }
            },
            "type": "scattercarpet"
           }
          ],
          "scattergeo": [
           {
            "marker": {
             "colorbar": {
              "outlinewidth": 0,
              "ticks": ""
             }
            },
            "type": "scattergeo"
           }
          ],
          "scattergl": [
           {
            "marker": {
             "colorbar": {
              "outlinewidth": 0,
              "ticks": ""
             }
            },
            "type": "scattergl"
           }
          ],
          "scattermapbox": [
           {
            "marker": {
             "colorbar": {
              "outlinewidth": 0,
              "ticks": ""
             }
            },
            "type": "scattermapbox"
           }
          ],
          "scatterpolar": [
           {
            "marker": {
             "colorbar": {
              "outlinewidth": 0,
              "ticks": ""
             }
            },
            "type": "scatterpolar"
           }
          ],
          "scatterpolargl": [
           {
            "marker": {
             "colorbar": {
              "outlinewidth": 0,
              "ticks": ""
             }
            },
            "type": "scatterpolargl"
           }
          ],
          "scatterternary": [
           {
            "marker": {
             "colorbar": {
              "outlinewidth": 0,
              "ticks": ""
             }
            },
            "type": "scatterternary"
           }
          ],
          "surface": [
           {
            "colorbar": {
             "outlinewidth": 0,
             "ticks": ""
            },
            "colorscale": [
             [
              0,
              "#0d0887"
             ],
             [
              0.1111111111111111,
              "#46039f"
             ],
             [
              0.2222222222222222,
              "#7201a8"
             ],
             [
              0.3333333333333333,
              "#9c179e"
             ],
             [
              0.4444444444444444,
              "#bd3786"
             ],
             [
              0.5555555555555556,
              "#d8576b"
             ],
             [
              0.6666666666666666,
              "#ed7953"
             ],
             [
              0.7777777777777778,
              "#fb9f3a"
             ],
             [
              0.8888888888888888,
              "#fdca26"
             ],
             [
              1,
              "#f0f921"
             ]
            ],
            "type": "surface"
           }
          ],
          "table": [
           {
            "cells": {
             "fill": {
              "color": "#EBF0F8"
             },
             "line": {
              "color": "white"
             }
            },
            "header": {
             "fill": {
              "color": "#C8D4E3"
             },
             "line": {
              "color": "white"
             }
            },
            "type": "table"
           }
          ]
         },
         "layout": {
          "annotationdefaults": {
           "arrowcolor": "#2a3f5f",
           "arrowhead": 0,
           "arrowwidth": 1
          },
          "colorscale": {
           "diverging": [
            [
             0,
             "#8e0152"
            ],
            [
             0.1,
             "#c51b7d"
            ],
            [
             0.2,
             "#de77ae"
            ],
            [
             0.3,
             "#f1b6da"
            ],
            [
             0.4,
             "#fde0ef"
            ],
            [
             0.5,
             "#f7f7f7"
            ],
            [
             0.6,
             "#e6f5d0"
            ],
            [
             0.7,
             "#b8e186"
            ],
            [
             0.8,
             "#7fbc41"
            ],
            [
             0.9,
             "#4d9221"
            ],
            [
             1,
             "#276419"
            ]
           ],
           "sequential": [
            [
             0,
             "#0d0887"
            ],
            [
             0.1111111111111111,
             "#46039f"
            ],
            [
             0.2222222222222222,
             "#7201a8"
            ],
            [
             0.3333333333333333,
             "#9c179e"
            ],
            [
             0.4444444444444444,
             "#bd3786"
            ],
            [
             0.5555555555555556,
             "#d8576b"
            ],
            [
             0.6666666666666666,
             "#ed7953"
            ],
            [
             0.7777777777777778,
             "#fb9f3a"
            ],
            [
             0.8888888888888888,
             "#fdca26"
            ],
            [
             1,
             "#f0f921"
            ]
           ],
           "sequentialminus": [
            [
             0,
             "#0d0887"
            ],
            [
             0.1111111111111111,
             "#46039f"
            ],
            [
             0.2222222222222222,
             "#7201a8"
            ],
            [
             0.3333333333333333,
             "#9c179e"
            ],
            [
             0.4444444444444444,
             "#bd3786"
            ],
            [
             0.5555555555555556,
             "#d8576b"
            ],
            [
             0.6666666666666666,
             "#ed7953"
            ],
            [
             0.7777777777777778,
             "#fb9f3a"
            ],
            [
             0.8888888888888888,
             "#fdca26"
            ],
            [
             1,
             "#f0f921"
            ]
           ]
          },
          "colorway": [
           "#636efa",
           "#EF553B",
           "#00cc96",
           "#ab63fa",
           "#FFA15A",
           "#19d3f3",
           "#FF6692",
           "#B6E880",
           "#FF97FF",
           "#FECB52"
          ],
          "font": {
           "color": "#2a3f5f"
          },
          "geo": {
           "bgcolor": "white",
           "lakecolor": "white",
           "landcolor": "#E5ECF6",
           "showlakes": true,
           "showland": true,
           "subunitcolor": "white"
          },
          "hoverlabel": {
           "align": "left"
          },
          "hovermode": "closest",
          "mapbox": {
           "style": "light"
          },
          "paper_bgcolor": "white",
          "plot_bgcolor": "#E5ECF6",
          "polar": {
           "angularaxis": {
            "gridcolor": "white",
            "linecolor": "white",
            "ticks": ""
           },
           "bgcolor": "#E5ECF6",
           "radialaxis": {
            "gridcolor": "white",
            "linecolor": "white",
            "ticks": ""
           }
          },
          "scene": {
           "xaxis": {
            "backgroundcolor": "#E5ECF6",
            "gridcolor": "white",
            "gridwidth": 2,
            "linecolor": "white",
            "showbackground": true,
            "ticks": "",
            "zerolinecolor": "white"
           },
           "yaxis": {
            "backgroundcolor": "#E5ECF6",
            "gridcolor": "white",
            "gridwidth": 2,
            "linecolor": "white",
            "showbackground": true,
            "ticks": "",
            "zerolinecolor": "white"
           },
           "zaxis": {
            "backgroundcolor": "#E5ECF6",
            "gridcolor": "white",
            "gridwidth": 2,
            "linecolor": "white",
            "showbackground": true,
            "ticks": "",
            "zerolinecolor": "white"
           }
          },
          "shapedefaults": {
           "line": {
            "color": "#2a3f5f"
           }
          },
          "ternary": {
           "aaxis": {
            "gridcolor": "white",
            "linecolor": "white",
            "ticks": ""
           },
           "baxis": {
            "gridcolor": "white",
            "linecolor": "white",
            "ticks": ""
           },
           "bgcolor": "#E5ECF6",
           "caxis": {
            "gridcolor": "white",
            "linecolor": "white",
            "ticks": ""
           }
          },
          "title": {
           "x": 0.05
          },
          "xaxis": {
           "automargin": true,
           "gridcolor": "white",
           "linecolor": "white",
           "ticks": "",
           "zerolinecolor": "white",
           "zerolinewidth": 2
          },
          "yaxis": {
           "automargin": true,
           "gridcolor": "white",
           "linecolor": "white",
           "ticks": "",
           "zerolinecolor": "white",
           "zerolinewidth": 2
          }
         }
        },
        "xaxis": {
         "color": "#eee",
         "title": {
          "text": "Gameweek"
         }
        },
        "yaxis": {
         "color": "#eee",
         "title": {
          "text": "Difficulty"
         }
        }
       }
      },
      "text/html": [
       "<div>\n",
       "        \n",
       "        \n",
       "            <div id=\"f8e09e06-b465-4dcf-8b45-ee278caf5e84\" class=\"plotly-graph-div\" style=\"height:525px; width:100%;\"></div>\n",
       "            <script type=\"text/javascript\">\n",
       "                require([\"plotly\"], function(Plotly) {\n",
       "                    window.PLOTLYENV=window.PLOTLYENV || {};\n",
       "                    \n",
       "                if (document.getElementById(\"f8e09e06-b465-4dcf-8b45-ee278caf5e84\")) {\n",
       "                    Plotly.newPlot(\n",
       "                        'f8e09e06-b465-4dcf-8b45-ee278caf5e84',\n",
       "                        [{\"hoverlabel\": {\"bgcolor\": \"white\", \"bordercolor\": \"#404040\", \"font\": {\"color\": \"#404040\"}}, \"hovertemplate\": \"<b>Burnley</b></br></br>vs %{text}</br></br><extra></extra>\", \"line\": {\"shape\": \"spline\", \"smoothing\": 1.3, \"width\": 4}, \"mode\": \"lines\", \"name\": \"Burnley\", \"text\": [\"Sheffield Utd H\", \"West Ham A\", \"Liverpool A\", \"Wolves H\", \"Norwich A\", \"Brighton H\"], \"type\": \"scatter\", \"x\": [33, 34, 35, 36, 37, 38], \"y\": [null, null, null, null, null, null]}, {\"hoverlabel\": {\"bgcolor\": \"white\", \"bordercolor\": \"#404040\", \"font\": {\"color\": \"#404040\"}}, \"hovertemplate\": \"<b>Bournemouth</b></br></br>vs %{text}</br></br><extra></extra>\", \"line\": {\"shape\": \"spline\", \"smoothing\": 1.3, \"width\": 4}, \"mode\": \"lines\", \"name\": \"Bournemouth\", \"text\": [\"Man Utd A\", \"Spurs H\", \"Leicester H\", \"Man City A\", \"Southampton H\", \"Everton A\"], \"type\": \"scatter\", \"x\": [33, 34, 35, 36, 37, 38], \"y\": [null, null, null, null, null, null]}, {\"hoverlabel\": {\"bgcolor\": \"white\", \"bordercolor\": \"#404040\", \"font\": {\"color\": \"#404040\"}}, \"hovertemplate\": \"<b>West Ham</b></br></br>vs %{text}</br></br><extra></extra>\", \"line\": {\"shape\": \"spline\", \"smoothing\": 1.3, \"width\": 4}, \"mode\": \"lines\", \"name\": \"West Ham\", \"text\": [\"Newcastle A\", \"Burnley H\", \"Norwich A\", \"Watford H\", \"Man Utd A\", \"Aston Villa H\"], \"type\": \"scatter\", \"x\": [33, 34, 35, 36, 37, 38], \"y\": [null, null, null, null, null, null]}, {\"hoverlabel\": {\"bgcolor\": \"white\", \"bordercolor\": \"#404040\", \"font\": {\"color\": \"#404040\"}}, \"hovertemplate\": \"<b>Watford</b></br></br>vs %{text}</br></br><extra></extra>\", \"line\": {\"shape\": \"spline\", \"smoothing\": 1.3, \"width\": 4}, \"mode\": \"lines\", \"name\": \"Watford\", \"text\": [\"Chelsea A\", \"Norwich H\", \"Newcastle H\", \"West Ham A\", \"Man City H\", \"Arsenal A\"], \"type\": \"scatter\", \"x\": [33, 34, 35, 36, 37, 38], \"y\": [null, null, null, null, null, null]}, {\"hoverlabel\": {\"bgcolor\": \"white\", \"bordercolor\": \"#404040\", \"font\": {\"color\": \"#404040\"}}, \"hovertemplate\": \"<b>Newcastle</b></br></br>vs %{text}</br></br><extra></extra>\", \"line\": {\"shape\": \"spline\", \"smoothing\": 1.3, \"width\": 4}, \"mode\": \"lines\", \"name\": \"Newcastle\", \"text\": [\"West Ham H\", \"Man City A\", \"Watford A\", \"Spurs H\", \"Brighton A\", \"Liverpool H\"], \"type\": \"scatter\", \"x\": [33, 34, 35, 36, 37, 38], \"y\": [null, null, null, null, null, null]}, {\"hoverlabel\": {\"bgcolor\": \"white\", \"bordercolor\": \"#404040\", \"font\": {\"color\": \"#404040\"}}, \"hovertemplate\": \"<b>Liverpool</b></br></br>vs %{text}</br></br><extra></extra>\", \"line\": {\"shape\": \"spline\", \"smoothing\": 1.3, \"width\": 4}, \"mode\": \"lines\", \"name\": \"Liverpool\", \"text\": [\"Aston Villa H\", \"Brighton A\", \"Burnley H\", \"Arsenal A\", \"Chelsea H\", \"Newcastle A\"], \"type\": \"scatter\", \"x\": [33, 34, 35, 36, 37, 38], \"y\": [null, null, null, null, null, null]}, {\"hoverlabel\": {\"bgcolor\": \"white\", \"bordercolor\": \"#404040\", \"font\": {\"color\": \"#404040\"}}, \"hovertemplate\": \"<b>Spurs</b></br></br>vs %{text}</br></br><extra></extra>\", \"line\": {\"shape\": \"spline\", \"smoothing\": 1.3, \"width\": 4}, \"mode\": \"lines\", \"name\": \"Spurs\", \"text\": [\"Everton H\", \"Bournemouth A\", \"Arsenal H\", \"Newcastle A\", \"Leicester H\", \"Crystal Palace A\"], \"type\": \"scatter\", \"x\": [33, 34, 35, 36, 37, 38], \"y\": [null, null, null, null, null, null]}, {\"hoverlabel\": {\"bgcolor\": \"white\", \"bordercolor\": \"#404040\", \"font\": {\"color\": \"#404040\"}}, \"hovertemplate\": \"<b>Crystal Palace</b></br></br>vs %{text}</br></br><extra></extra>\", \"line\": {\"shape\": \"spline\", \"smoothing\": 1.3, \"width\": 4}, \"mode\": \"lines\", \"name\": \"Crystal Palace\", \"text\": [\"Leicester A\", \"Chelsea H\", \"Aston Villa A\", \"Man Utd H\", \"Wolves A\", \"Spurs H\"], \"type\": \"scatter\", \"x\": [33, 34, 35, 36, 37, 38], \"y\": [null, null, null, null, null, null]}, {\"hoverlabel\": {\"bgcolor\": \"white\", \"bordercolor\": \"#404040\", \"font\": {\"color\": \"#404040\"}}, \"hovertemplate\": \"<b>Leicester</b></br></br>vs %{text}</br></br><extra></extra>\", \"line\": {\"shape\": \"spline\", \"smoothing\": 1.3, \"width\": 4}, \"mode\": \"lines\", \"name\": \"Leicester\", \"text\": [\"Crystal Palace H\", \"Arsenal A\", \"Bournemouth A\", \"Sheffield Utd H\", \"Spurs A\", \"Man Utd H\"], \"type\": \"scatter\", \"x\": [33, 34, 35, 36, 37, 38], \"y\": [null, null, null, null, null, null]}, {\"hoverlabel\": {\"bgcolor\": \"white\", \"bordercolor\": \"#404040\", \"font\": {\"color\": \"#404040\"}}, \"hovertemplate\": \"<b>Man Utd</b></br></br>vs %{text}</br></br><extra></extra>\", \"line\": {\"shape\": \"spline\", \"smoothing\": 1.3, \"width\": 4}, \"mode\": \"lines\", \"name\": \"Man Utd\", \"text\": [\"Bournemouth H\", \"Aston Villa A\", \"Southampton H\", \"Crystal Palace A\", \"West Ham H\", \"Leicester A\"], \"type\": \"scatter\", \"x\": [33, 34, 35, 36, 37, 38], \"y\": [null, null, null, null, null, null]}, {\"hoverlabel\": {\"bgcolor\": \"white\", \"bordercolor\": \"#404040\", \"font\": {\"color\": \"#404040\"}}, \"hovertemplate\": \"<b>Everton</b></br></br>vs %{text}</br></br><extra></extra>\", \"line\": {\"shape\": \"spline\", \"smoothing\": 1.3, \"width\": 4}, \"mode\": \"lines\", \"name\": \"Everton\", \"text\": [\"Spurs A\", \"Southampton H\", \"Wolves A\", \"Aston Villa H\", \"Sheffield Utd A\", \"Bournemouth H\"], \"type\": \"scatter\", \"x\": [33, 34, 35, 36, 37, 38], \"y\": [null, null, null, null, null, null]}, {\"hoverlabel\": {\"bgcolor\": \"white\", \"bordercolor\": \"#404040\", \"font\": {\"color\": \"#404040\"}}, \"hovertemplate\": \"<b>Chelsea</b></br></br>vs %{text}</br></br><extra></extra>\", \"line\": {\"shape\": \"spline\", \"smoothing\": 1.3, \"width\": 4}, \"mode\": \"lines\", \"name\": \"Chelsea\", \"text\": [\"Watford H\", \"Crystal Palace A\", \"Sheffield Utd A\", \"Norwich H\", \"Liverpool A\", \"Wolves H\"], \"type\": \"scatter\", \"x\": [33, 34, 35, 36, 37, 38], \"y\": [null, null, null, null, null, null]}, {\"hoverlabel\": {\"bgcolor\": \"white\", \"bordercolor\": \"#404040\", \"font\": {\"color\": \"#404040\"}}, \"hovertemplate\": \"<b>Southampton</b></br></br>vs %{text}</br></br><extra></extra>\", \"line\": {\"shape\": \"spline\", \"smoothing\": 1.3, \"width\": 4}, \"mode\": \"lines\", \"name\": \"Southampton\", \"text\": [\"Man City H\", \"Everton A\", \"Man Utd A\", \"Brighton H\", \"Bournemouth A\", \"Sheffield Utd H\"], \"type\": \"scatter\", \"x\": [33, 34, 35, 36, 37, 38], \"y\": [null, null, null, null, null, null]}, {\"hoverlabel\": {\"bgcolor\": \"white\", \"bordercolor\": \"#404040\", \"font\": {\"color\": \"#404040\"}}, \"hovertemplate\": \"<b>Arsenal</b></br></br>vs %{text}</br></br><extra></extra>\", \"line\": {\"shape\": \"spline\", \"smoothing\": 1.3, \"width\": 4}, \"mode\": \"lines\", \"name\": \"Arsenal\", \"text\": [\"Wolves A\", \"Leicester H\", \"Spurs A\", \"Liverpool H\", \"Aston Villa A\", \"Watford H\"], \"type\": \"scatter\", \"x\": [33, 34, 35, 36, 37, 38], \"y\": [null, null, null, null, null, null]}, {\"hoverlabel\": {\"bgcolor\": \"white\", \"bordercolor\": \"#404040\", \"font\": {\"color\": \"#404040\"}}, \"hovertemplate\": \"<b>Man City</b></br></br>vs %{text}</br></br><extra></extra>\", \"line\": {\"shape\": \"spline\", \"smoothing\": 1.3, \"width\": 4}, \"mode\": \"lines\", \"name\": \"Man City\", \"text\": [\"Southampton A\", \"Newcastle H\", \"Brighton A\", \"Bournemouth H\", \"Watford A\", \"Norwich H\"], \"type\": \"scatter\", \"x\": [33, 34, 35, 36, 37, 38], \"y\": [null, null, null, null, null, null]}, {\"hoverlabel\": {\"bgcolor\": \"white\", \"bordercolor\": \"#404040\", \"font\": {\"color\": \"#404040\"}}, \"hovertemplate\": \"<b>Sheffield Utd</b></br></br>vs %{text}</br></br><extra></extra>\", \"line\": {\"shape\": \"spline\", \"smoothing\": 1.3, \"width\": 4}, \"mode\": \"lines\", \"name\": \"Sheffield Utd\", \"text\": [\"Burnley A\", \"Wolves H\", \"Chelsea H\", \"Leicester A\", \"Everton H\", \"Southampton A\"], \"type\": \"scatter\", \"x\": [33, 34, 35, 36, 37, 38], \"y\": [null, null, null, null, null, null]}, {\"hoverlabel\": {\"bgcolor\": \"white\", \"bordercolor\": \"#404040\", \"font\": {\"color\": \"#404040\"}}, \"hovertemplate\": \"<b>Aston Villa</b></br></br>vs %{text}</br></br><extra></extra>\", \"line\": {\"shape\": \"spline\", \"smoothing\": 1.3, \"width\": 4}, \"mode\": \"lines\", \"name\": \"Aston Villa\", \"text\": [\"Liverpool A\", \"Man Utd H\", \"Crystal Palace H\", \"Everton A\", \"Arsenal H\", \"West Ham A\"], \"type\": \"scatter\", \"x\": [33, 34, 35, 36, 37, 38], \"y\": [null, null, null, null, null, null]}, {\"hoverlabel\": {\"bgcolor\": \"white\", \"bordercolor\": \"#404040\", \"font\": {\"color\": \"#404040\"}}, \"hovertemplate\": \"<b>Brighton</b></br></br>vs %{text}</br></br><extra></extra>\", \"line\": {\"shape\": \"spline\", \"smoothing\": 1.3, \"width\": 4}, \"mode\": \"lines\", \"name\": \"Brighton\", \"text\": [\"Norwich A\", \"Liverpool H\", \"Man City H\", \"Southampton A\", \"Newcastle H\", \"Burnley A\"], \"type\": \"scatter\", \"x\": [33, 34, 35, 36, 37, 38], \"y\": [null, null, null, null, null, null]}, {\"hoverlabel\": {\"bgcolor\": \"white\", \"bordercolor\": \"#404040\", \"font\": {\"color\": \"#404040\"}}, \"hovertemplate\": \"<b>Norwich</b></br></br>vs %{text}</br></br><extra></extra>\", \"line\": {\"shape\": \"spline\", \"smoothing\": 1.3, \"width\": 4}, \"mode\": \"lines\", \"name\": \"Norwich\", \"text\": [\"Brighton H\", \"Watford A\", \"West Ham H\", \"Chelsea A\", \"Burnley H\", \"Man City A\"], \"type\": \"scatter\", \"x\": [33, 34, 35, 36, 37, 38], \"y\": [null, null, null, null, null, null]}, {\"hoverlabel\": {\"bgcolor\": \"white\", \"bordercolor\": \"#404040\", \"font\": {\"color\": \"#404040\"}}, \"hovertemplate\": \"<b>Wolves</b></br></br>vs %{text}</br></br><extra></extra>\", \"line\": {\"shape\": \"spline\", \"smoothing\": 1.3, \"width\": 4}, \"mode\": \"lines\", \"name\": \"Wolves\", \"text\": [\"Arsenal H\", \"Sheffield Utd A\", \"Everton H\", \"Burnley A\", \"Crystal Palace H\", \"Chelsea A\"], \"type\": \"scatter\", \"x\": [33, 34, 35, 36, 37, 38], \"y\": [null, null, null, null, null, null]}],\n",
       "                        {\"hovermode\": \"x\", \"legend\": {\"bgcolor\": \"rgba(0,0,0,0)\", \"font\": {\"color\": \"#eee\"}, \"traceorder\": \"normal\"}, \"paper_bgcolor\": \"rgba(0,0,0,0)\", \"plot_bgcolor\": \"rgba(0,0,0,0)\", \"scene\": {\"bgcolor\": \"rgba(0,0,0,0)\"}, \"template\": {\"data\": {\"bar\": [{\"error_x\": {\"color\": \"#2a3f5f\"}, \"error_y\": {\"color\": \"#2a3f5f\"}, \"marker\": {\"line\": {\"color\": \"#E5ECF6\", \"width\": 0.5}}, \"type\": \"bar\"}], \"barpolar\": [{\"marker\": {\"line\": {\"color\": \"#E5ECF6\", \"width\": 0.5}}, \"type\": \"barpolar\"}], \"carpet\": [{\"aaxis\": {\"endlinecolor\": \"#2a3f5f\", \"gridcolor\": \"white\", \"linecolor\": \"white\", \"minorgridcolor\": \"white\", \"startlinecolor\": \"#2a3f5f\"}, \"baxis\": {\"endlinecolor\": \"#2a3f5f\", \"gridcolor\": \"white\", \"linecolor\": \"white\", \"minorgridcolor\": \"white\", \"startlinecolor\": \"#2a3f5f\"}, \"type\": \"carpet\"}], \"choropleth\": [{\"colorbar\": {\"outlinewidth\": 0, \"ticks\": \"\"}, \"type\": \"choropleth\"}], \"contour\": [{\"colorbar\": {\"outlinewidth\": 0, \"ticks\": \"\"}, \"colorscale\": [[0.0, \"#0d0887\"], [0.1111111111111111, \"#46039f\"], [0.2222222222222222, \"#7201a8\"], [0.3333333333333333, \"#9c179e\"], [0.4444444444444444, \"#bd3786\"], [0.5555555555555556, \"#d8576b\"], [0.6666666666666666, \"#ed7953\"], [0.7777777777777778, \"#fb9f3a\"], [0.8888888888888888, \"#fdca26\"], [1.0, \"#f0f921\"]], \"type\": \"contour\"}], \"contourcarpet\": [{\"colorbar\": {\"outlinewidth\": 0, \"ticks\": \"\"}, \"type\": \"contourcarpet\"}], \"heatmap\": [{\"colorbar\": {\"outlinewidth\": 0, \"ticks\": \"\"}, \"colorscale\": [[0.0, \"#0d0887\"], [0.1111111111111111, \"#46039f\"], [0.2222222222222222, \"#7201a8\"], [0.3333333333333333, \"#9c179e\"], [0.4444444444444444, \"#bd3786\"], [0.5555555555555556, \"#d8576b\"], [0.6666666666666666, \"#ed7953\"], [0.7777777777777778, \"#fb9f3a\"], [0.8888888888888888, \"#fdca26\"], [1.0, \"#f0f921\"]], \"type\": \"heatmap\"}], \"heatmapgl\": [{\"colorbar\": {\"outlinewidth\": 0, \"ticks\": \"\"}, \"colorscale\": [[0.0, \"#0d0887\"], [0.1111111111111111, \"#46039f\"], [0.2222222222222222, \"#7201a8\"], [0.3333333333333333, \"#9c179e\"], [0.4444444444444444, \"#bd3786\"], [0.5555555555555556, \"#d8576b\"], [0.6666666666666666, \"#ed7953\"], [0.7777777777777778, \"#fb9f3a\"], [0.8888888888888888, \"#fdca26\"], [1.0, \"#f0f921\"]], \"type\": \"heatmapgl\"}], \"histogram\": [{\"marker\": {\"colorbar\": {\"outlinewidth\": 0, \"ticks\": \"\"}}, \"type\": \"histogram\"}], \"histogram2d\": [{\"colorbar\": {\"outlinewidth\": 0, \"ticks\": \"\"}, \"colorscale\": [[0.0, \"#0d0887\"], [0.1111111111111111, \"#46039f\"], [0.2222222222222222, \"#7201a8\"], [0.3333333333333333, \"#9c179e\"], [0.4444444444444444, \"#bd3786\"], [0.5555555555555556, \"#d8576b\"], [0.6666666666666666, \"#ed7953\"], [0.7777777777777778, \"#fb9f3a\"], [0.8888888888888888, \"#fdca26\"], [1.0, \"#f0f921\"]], \"type\": \"histogram2d\"}], \"histogram2dcontour\": [{\"colorbar\": {\"outlinewidth\": 0, \"ticks\": \"\"}, \"colorscale\": [[0.0, \"#0d0887\"], [0.1111111111111111, \"#46039f\"], [0.2222222222222222, \"#7201a8\"], [0.3333333333333333, \"#9c179e\"], [0.4444444444444444, \"#bd3786\"], [0.5555555555555556, \"#d8576b\"], [0.6666666666666666, \"#ed7953\"], [0.7777777777777778, \"#fb9f3a\"], [0.8888888888888888, \"#fdca26\"], [1.0, \"#f0f921\"]], \"type\": \"histogram2dcontour\"}], \"mesh3d\": [{\"colorbar\": {\"outlinewidth\": 0, \"ticks\": \"\"}, \"type\": \"mesh3d\"}], \"parcoords\": [{\"line\": {\"colorbar\": {\"outlinewidth\": 0, \"ticks\": \"\"}}, \"type\": \"parcoords\"}], \"scatter\": [{\"marker\": {\"colorbar\": {\"outlinewidth\": 0, \"ticks\": \"\"}}, \"type\": \"scatter\"}], \"scatter3d\": [{\"line\": {\"colorbar\": {\"outlinewidth\": 0, \"ticks\": \"\"}}, \"marker\": {\"colorbar\": {\"outlinewidth\": 0, \"ticks\": \"\"}}, \"type\": \"scatter3d\"}], \"scattercarpet\": [{\"marker\": {\"colorbar\": {\"outlinewidth\": 0, \"ticks\": \"\"}}, \"type\": \"scattercarpet\"}], \"scattergeo\": [{\"marker\": {\"colorbar\": {\"outlinewidth\": 0, \"ticks\": \"\"}}, \"type\": \"scattergeo\"}], \"scattergl\": [{\"marker\": {\"colorbar\": {\"outlinewidth\": 0, \"ticks\": \"\"}}, \"type\": \"scattergl\"}], \"scattermapbox\": [{\"marker\": {\"colorbar\": {\"outlinewidth\": 0, \"ticks\": \"\"}}, \"type\": \"scattermapbox\"}], \"scatterpolar\": [{\"marker\": {\"colorbar\": {\"outlinewidth\": 0, \"ticks\": \"\"}}, \"type\": \"scatterpolar\"}], \"scatterpolargl\": [{\"marker\": {\"colorbar\": {\"outlinewidth\": 0, \"ticks\": \"\"}}, \"type\": \"scatterpolargl\"}], \"scatterternary\": [{\"marker\": {\"colorbar\": {\"outlinewidth\": 0, \"ticks\": \"\"}}, \"type\": \"scatterternary\"}], \"surface\": [{\"colorbar\": {\"outlinewidth\": 0, \"ticks\": \"\"}, \"colorscale\": [[0.0, \"#0d0887\"], [0.1111111111111111, \"#46039f\"], [0.2222222222222222, \"#7201a8\"], [0.3333333333333333, \"#9c179e\"], [0.4444444444444444, \"#bd3786\"], [0.5555555555555556, \"#d8576b\"], [0.6666666666666666, \"#ed7953\"], [0.7777777777777778, \"#fb9f3a\"], [0.8888888888888888, \"#fdca26\"], [1.0, \"#f0f921\"]], \"type\": \"surface\"}], \"table\": [{\"cells\": {\"fill\": {\"color\": \"#EBF0F8\"}, \"line\": {\"color\": \"white\"}}, \"header\": {\"fill\": {\"color\": \"#C8D4E3\"}, \"line\": {\"color\": \"white\"}}, \"type\": \"table\"}]}, \"layout\": {\"annotationdefaults\": {\"arrowcolor\": \"#2a3f5f\", \"arrowhead\": 0, \"arrowwidth\": 1}, \"colorscale\": {\"diverging\": [[0, \"#8e0152\"], [0.1, \"#c51b7d\"], [0.2, \"#de77ae\"], [0.3, \"#f1b6da\"], [0.4, \"#fde0ef\"], [0.5, \"#f7f7f7\"], [0.6, \"#e6f5d0\"], [0.7, \"#b8e186\"], [0.8, \"#7fbc41\"], [0.9, \"#4d9221\"], [1, \"#276419\"]], \"sequential\": [[0.0, \"#0d0887\"], [0.1111111111111111, \"#46039f\"], [0.2222222222222222, \"#7201a8\"], [0.3333333333333333, \"#9c179e\"], [0.4444444444444444, \"#bd3786\"], [0.5555555555555556, \"#d8576b\"], [0.6666666666666666, \"#ed7953\"], [0.7777777777777778, \"#fb9f3a\"], [0.8888888888888888, \"#fdca26\"], [1.0, \"#f0f921\"]], \"sequentialminus\": [[0.0, \"#0d0887\"], [0.1111111111111111, \"#46039f\"], [0.2222222222222222, \"#7201a8\"], [0.3333333333333333, \"#9c179e\"], [0.4444444444444444, \"#bd3786\"], [0.5555555555555556, \"#d8576b\"], [0.6666666666666666, \"#ed7953\"], [0.7777777777777778, \"#fb9f3a\"], [0.8888888888888888, \"#fdca26\"], [1.0, \"#f0f921\"]]}, \"colorway\": [\"#636efa\", \"#EF553B\", \"#00cc96\", \"#ab63fa\", \"#FFA15A\", \"#19d3f3\", \"#FF6692\", \"#B6E880\", \"#FF97FF\", \"#FECB52\"], \"font\": {\"color\": \"#2a3f5f\"}, \"geo\": {\"bgcolor\": \"white\", \"lakecolor\": \"white\", \"landcolor\": \"#E5ECF6\", \"showlakes\": true, \"showland\": true, \"subunitcolor\": \"white\"}, \"hoverlabel\": {\"align\": \"left\"}, \"hovermode\": \"closest\", \"mapbox\": {\"style\": \"light\"}, \"paper_bgcolor\": \"white\", \"plot_bgcolor\": \"#E5ECF6\", \"polar\": {\"angularaxis\": {\"gridcolor\": \"white\", \"linecolor\": \"white\", \"ticks\": \"\"}, \"bgcolor\": \"#E5ECF6\", \"radialaxis\": {\"gridcolor\": \"white\", \"linecolor\": \"white\", \"ticks\": \"\"}}, \"scene\": {\"xaxis\": {\"backgroundcolor\": \"#E5ECF6\", \"gridcolor\": \"white\", \"gridwidth\": 2, \"linecolor\": \"white\", \"showbackground\": true, \"ticks\": \"\", \"zerolinecolor\": \"white\"}, \"yaxis\": {\"backgroundcolor\": \"#E5ECF6\", \"gridcolor\": \"white\", \"gridwidth\": 2, \"linecolor\": \"white\", \"showbackground\": true, \"ticks\": \"\", \"zerolinecolor\": \"white\"}, \"zaxis\": {\"backgroundcolor\": \"#E5ECF6\", \"gridcolor\": \"white\", \"gridwidth\": 2, \"linecolor\": \"white\", \"showbackground\": true, \"ticks\": \"\", \"zerolinecolor\": \"white\"}}, \"shapedefaults\": {\"line\": {\"color\": \"#2a3f5f\"}}, \"ternary\": {\"aaxis\": {\"gridcolor\": \"white\", \"linecolor\": \"white\", \"ticks\": \"\"}, \"baxis\": {\"gridcolor\": \"white\", \"linecolor\": \"white\", \"ticks\": \"\"}, \"bgcolor\": \"#E5ECF6\", \"caxis\": {\"gridcolor\": \"white\", \"linecolor\": \"white\", \"ticks\": \"\"}}, \"title\": {\"x\": 0.05}, \"xaxis\": {\"automargin\": true, \"gridcolor\": \"white\", \"linecolor\": \"white\", \"ticks\": \"\", \"zerolinecolor\": \"white\", \"zerolinewidth\": 2}, \"yaxis\": {\"automargin\": true, \"gridcolor\": \"white\", \"linecolor\": \"white\", \"ticks\": \"\", \"zerolinecolor\": \"white\", \"zerolinewidth\": 2}}}, \"xaxis\": {\"color\": \"#eee\", \"title\": {\"text\": \"Gameweek\"}}, \"yaxis\": {\"color\": \"#eee\", \"title\": {\"text\": \"Difficulty\"}}},\n",
       "                        {\"responsive\": true}\n",
       "                    ).then(function(){\n",
       "                            \n",
       "var gd = document.getElementById('f8e09e06-b465-4dcf-8b45-ee278caf5e84');\n",
       "var x = new MutationObserver(function (mutations, observer) {{\n",
       "        var display = window.getComputedStyle(gd).display;\n",
       "        if (!display || display === 'none') {{\n",
       "            console.log([gd, 'removed!']);\n",
       "            Plotly.purge(gd);\n",
       "            observer.disconnect();\n",
       "        }}\n",
       "}});\n",
       "\n",
       "// Listen for the removal of the full notebook cells\n",
       "var notebookContainer = gd.closest('#notebook-container');\n",
       "if (notebookContainer) {{\n",
       "    x.observe(notebookContainer, {childList: true});\n",
       "}}\n",
       "\n",
       "// Listen for the clearing of the current output cell\n",
       "var outputEl = gd.closest('.output');\n",
       "if (outputEl) {{\n",
       "    x.observe(outputEl, {childList: true});\n",
       "}}\n",
       "\n",
       "                        })\n",
       "                };\n",
       "                });\n",
       "            </script>\n",
       "        </div>"
      ]
     },
     "metadata": {},
     "output_type": "display_data"
    }
   ],
   "source": [
    "df_form = form(season, base_path, limit_form=1,no_below_limit_occ=2)"
   ]
  },
  {
   "cell_type": "code",
   "execution_count": null,
   "metadata": {},
   "outputs": [],
   "source": []
  }
 ],
 "metadata": {
  "kernelspec": {
   "display_name": "Python 3",
   "language": "python",
   "name": "python3"
  },
  "language_info": {
   "codemirror_mode": {
    "name": "ipython",
    "version": 3
   },
   "file_extension": ".py",
   "mimetype": "text/x-python",
   "name": "python",
   "nbconvert_exporter": "python",
   "pygments_lexer": "ipython3",
   "version": "3.7.4"
  }
 },
 "nbformat": 4,
 "nbformat_minor": 2
}
