{
 "cells": [
  {
   "cell_type": "code",
   "execution_count": 17,
   "metadata": {},
   "outputs": [],
   "source": [
    "%config IPCompleter.greedy=True\n",
    "\n",
    "import import_ipynb\n",
    "from functions import get_upcoming_team_fixtures_data\n",
    "from functions import get_upcoming_fixtures_data\n",
    "\n",
    "import os\n",
    "import requests\n",
    "import pandas"
   ]
  },
  {
   "cell_type": "code",
   "execution_count": 99,
   "metadata": {},
   "outputs": [],
   "source": [
    "import plotly.offline\n",
    "import plotly.graph_objects as go\n",
    "\n",
    "import chart_studio\n",
    "import chart_studio.plotly as py\n",
    "#chart_studio .tools.set_credentials_file(username='user', api_key='***')"
   ]
  },
  {
   "cell_type": "code",
   "execution_count": 129,
   "metadata": {},
   "outputs": [],
   "source": [
    "def next_fixtures(no_fixtures=6, limit_diff=10, no_above_limit_occ=20):\n",
    "    clubs = get_upcoming_fixtures_data(base_path, season)['team_a'].unique()\n",
    "    fig = go.Figure()\n",
    "\n",
    "    for club in clubs:\n",
    "        df = get_upcoming_team_fixtures_data(club, base_path, season).head(no_fixtures)\n",
    "        if (max(df['difficulty'])>limit_diff & len(df[df['difficulty'] > limit_diff]) > no_above_limit_occ):\n",
    "            continue\n",
    "            \n",
    "        fig.add_trace(go.Scatter(\n",
    "            x=df['event'], \n",
    "            y=df['difficulty'],\n",
    "            name=club,\n",
    "            text = df['opponent'],\n",
    "            hoverlabel= dict(\n",
    "                font=dict(color='#404040'),\n",
    "                bordercolor='#404040',\n",
    "                bgcolor='white'\n",
    "            ),\n",
    "            hovertemplate = \"<b>\"+club+\"</b></br></br>vs %{text}</br></br><extra></extra>\"))\n",
    "        \n",
    "    fig.update_layout(\n",
    "        legend=go.layout.Legend(\n",
    "            traceorder=\"normal\",\n",
    "            font=dict(color=\"#eee\"),\n",
    "            bgcolor=\"rgba(0,0,0,0)\"\n",
    "        )\n",
    "    )\n",
    "    \n",
    "    fig.update_yaxes(title_text=\"Difficulty\",color='#eee')\n",
    "    fig.update_xaxes(title_text=\"Gameweek\",color='#eee')\n",
    "\n",
    "    fig.update_scenes(bgcolor='rgba(0,0,0,0)')\n",
    "\n",
    "    fig.layout.update(plot_bgcolor='rgba(0,0,0,0)', paper_bgcolor='rgba(0,0,0,0)')\n",
    "    chart_studio.plotly.plot(fig, filename=\"easiest_schedule\")\n",
    "#    plotly.offline.iplot(fig)"
   ]
  },
  {
   "cell_type": "code",
   "execution_count": 130,
   "metadata": {},
   "outputs": [],
   "source": [
    "season='2019-20'\n",
    "base_path = 'C:/Users/antonia/source/antoniaelek/fantasy-premier-league/scraper/'"
   ]
  },
  {
   "cell_type": "code",
   "execution_count": 131,
   "metadata": {},
   "outputs": [],
   "source": [
    "next_fixtures(limit_diff=3, no_above_limit_occ=1)"
   ]
  },
  {
   "cell_type": "code",
   "execution_count": null,
   "metadata": {},
   "outputs": [],
   "source": []
  }
 ],
 "metadata": {
  "kernelspec": {
   "display_name": "Python 3",
   "language": "python",
   "name": "python3"
  },
  "language_info": {
   "codemirror_mode": {
    "name": "ipython",
    "version": 3
   },
   "file_extension": ".py",
   "mimetype": "text/x-python",
   "name": "python",
   "nbconvert_exporter": "python",
   "pygments_lexer": "ipython3",
   "version": "3.7.4"
  }
 },
 "nbformat": 4,
 "nbformat_minor": 2
}
