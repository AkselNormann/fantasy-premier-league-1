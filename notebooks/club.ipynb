{
 "cells": [
  {
   "cell_type": "code",
   "execution_count": 1,
   "metadata": {},
   "outputs": [
    {
     "name": "stdout",
     "output_type": "stream",
     "text": [
      "importing Jupyter notebook from functions.ipynb\n"
     ]
    }
   ],
   "source": [
    "%config IPCompleter.greedy=True\n",
    "\n",
    "import import_ipynb\n",
    "from functions import get_upcoming_team_fixtures_data\n",
    "from functions import get_upcoming_fixtures_data\n",
    "from functions import get_past_fixtures_data\n",
    "from functions import get_past_team_fixtures_data\n",
    "\n",
    "import numpy as np\n",
    "\n",
    "import os\n",
    "import requests\n",
    "import pandas"
   ]
  },
  {
   "cell_type": "code",
   "execution_count": 2,
   "metadata": {},
   "outputs": [],
   "source": [
    "import plotly.offline\n",
    "import plotly.graph_objects as go\n",
    "\n",
    "import chart_studio\n",
    "import chart_studio.plotly as py\n",
    "#chart_studio .tools.set_credentials_file(username='user', api_key='***')"
   ]
  },
  {
   "cell_type": "code",
   "execution_count": 29,
   "metadata": {},
   "outputs": [],
   "source": [
    "def next_fixtures(season, base_path, no_fixtures=6, limit_diff=10.0, no_above_limit_occ=20):\n",
    "    clubs = get_upcoming_fixtures_data(base_path, season)['team_a'].unique()\n",
    "    fig = go.Figure()\n",
    "    alldf=pandas.DataFrame()\n",
    "\n",
    "    for club in clubs:\n",
    "        df = get_upcoming_team_fixtures_data(club, base_path, season).head(no_fixtures)\n",
    "        df['team']=club\n",
    "        \n",
    "        if ((max(df['difficulty'])>limit_diff) & (len(df[df['difficulty'] > limit_diff]) > no_above_limit_occ)):\n",
    "            continue\n",
    "        \n",
    "        alldf = alldf.append(df)\n",
    "        \n",
    "        fig.add_trace(go.Scatter(\n",
    "            x=df['event'], \n",
    "            y=df['difficulty'],\n",
    "            name=club,          \n",
    "            mode='lines',\n",
    "            line=dict(shape='spline', width=4, smoothing=1.3),\n",
    "            text = df['opponent'],\n",
    "            hoverlabel= dict(\n",
    "                font=dict(color='#404040'),\n",
    "                bordercolor='#404040',\n",
    "                bgcolor='white'\n",
    "            ),\n",
    "            hovertemplate = \"<b>\"+club+\"</b></br></br>vs %{text}</br></br><extra></extra>\"))\n",
    "        \n",
    "    fig.update_layout(\n",
    "        legend=go.layout.Legend(\n",
    "            traceorder=\"normal\",\n",
    "            font=dict(color=\"#eee\"),\n",
    "            bgcolor=\"rgba(0,0,0,0)\"\n",
    "        )\n",
    "    )\n",
    "    \n",
    "    fig.update_yaxes(title_text=\"Difficulty\",color='#eee')\n",
    "    fig.update_xaxes(title_text=\"Gameweek\",color='#eee')\n",
    "\n",
    "    fig.update_scenes(bgcolor='rgba(0,0,0,0)')\n",
    "\n",
    "    fig.layout.update(plot_bgcolor='rgba(0,0,0,0)', paper_bgcolor='rgba(0,0,0,0)')\n",
    "    chart_studio.plotly.plot(fig, filename=\"easiest_schedule\")\n",
    "    plotly.offline.iplot(fig)\n",
    "    return alldf"
   ]
  },
  {
   "cell_type": "code",
   "execution_count": 30,
   "metadata": {},
   "outputs": [],
   "source": [
    "def form(season, base_path, no_fixtures=6,limit_form=-10,no_below_limit_occ=20):\n",
    "    clubs = get_upcoming_fixtures_data(base_path, season)['team_a'].unique()\n",
    "    fig = go.Figure()\n",
    "    alldf=pandas.DataFrame()\n",
    "    \n",
    "    j=0\n",
    "    for club in clubs:\n",
    "        df = get_past_team_fixtures_data(club,base_path,'2019-20').tail(6)\n",
    "        df['team']=club\n",
    "        df['form']=(df['scored']-df['concieved']+1)*df['relative_difficulty']\n",
    "        df['fixture_form']=df['form']\n",
    "        df['i']=[1 + x * 0.1 for x in range(0,6)]\n",
    "        df['form']=df['i']*df['form']\n",
    "        df['form'] = df['form'].rolling(min_periods=1, window=6).sum()\n",
    "\n",
    "        if ((min(df['form'])<limit_form) & (len(df[df['form'] < limit_form]) > no_below_limit_occ)):\n",
    "            continue\n",
    "        \n",
    "        alldf = alldf.append(df)\n",
    "        \n",
    "        fig.add_trace(go.Scatter(\n",
    "            x=df['event'], \n",
    "            y=df['form'],\n",
    "            name=club,\n",
    "            text = df['opponent'],\n",
    "            mode='lines',\n",
    "            line=dict(shape='spline', width=4, smoothing=1.3),\n",
    "            hoverlabel= dict(\n",
    "                font=dict(color='#404040'),\n",
    "                bordercolor='#404040',\n",
    "                bgcolor='white'\n",
    "            ),\n",
    "            hovertemplate = \"<b>\"+club+\"</b></br></br>vs %{text}</br></br><extra></extra>\"))\n",
    "        \n",
    "    fig.update_layout(\n",
    "        legend=go.layout.Legend(\n",
    "            traceorder=\"normal\",\n",
    "            font=dict(color=\"#eee\"),\n",
    "            bgcolor=\"rgba(0,0,0,0)\"\n",
    "        )\n",
    "    )\n",
    "    \n",
    "    fig.update_yaxes(title_text=\"Difficulty\",color='#eee')\n",
    "    fig.update_xaxes(title_text=\"Gameweek\",color='#eee')\n",
    "\n",
    "    fig.update_scenes(bgcolor='rgba(0,0,0,0)')\n",
    "\n",
    "    fig.layout.update(plot_bgcolor='rgba(0,0,0,0)', paper_bgcolor='rgba(0,0,0,0)')\n",
    "    chart_studio.plotly.plot(fig, filename=\"club_form\")\n",
    "    plotly.offline.iplot(fig)\n",
    "    return alldf"
   ]
  },
  {
   "cell_type": "code",
   "execution_count": 31,
   "metadata": {},
   "outputs": [],
   "source": [
    "season='2019-20'\n",
    "base_path = 'C:/Users/antonia/source/antoniaelek/fantasy-premier-league/scraper/'"
   ]
  },
  {
   "cell_type": "code",
   "execution_count": 32,
   "metadata": {},
   "outputs": [
    {
     "data": {
      "application/vnd.plotly.v1+json": {
       "config": {
        "linkText": "Export to plot.ly",
        "plotlyServerURL": "https://plot.ly",
        "showLink": false
       },
       "data": [
        {
         "hoverlabel": {
          "bgcolor": "white",
          "bordercolor": "#404040",
          "font": {
           "color": "#404040"
          }
         },
         "hovertemplate": "<b>Man City</b></br></br>vs %{text}</br></br><extra></extra>",
         "line": {
          "shape": "spline",
          "smoothing": 1.3,
          "width": 4
         },
         "mode": "lines",
         "name": "Man City",
         "text": [
          "West Ham",
          "Spurs",
          "Bournemouth",
          "Brighton",
          "Norwich",
          "Watford"
         ],
         "type": "scatter",
         "x": [
          1,
          2,
          3,
          4,
          5,
          6
         ],
         "y": [
          3,
          4,
          3,
          2,
          2,
          3
         ]
        },
        {
         "hoverlabel": {
          "bgcolor": "white",
          "bordercolor": "#404040",
          "font": {
           "color": "#404040"
          }
         },
         "hovertemplate": "<b>Everton</b></br></br>vs %{text}</br></br><extra></extra>",
         "line": {
          "shape": "spline",
          "smoothing": 1.3,
          "width": 4
         },
         "mode": "lines",
         "name": "Everton",
         "text": [
          "Crystal Palace",
          "Watford",
          "Aston Villa",
          "Wolves",
          "Bournemouth",
          "Sheffield Utd"
         ],
         "type": "scatter",
         "x": [
          1,
          2,
          3,
          4,
          5,
          6
         ],
         "y": [
          2,
          3,
          2,
          3,
          3,
          2
         ]
        },
        {
         "hoverlabel": {
          "bgcolor": "white",
          "bordercolor": "#404040",
          "font": {
           "color": "#404040"
          }
         },
         "hovertemplate": "<b>Brighton</b></br></br>vs %{text}</br></br><extra></extra>",
         "line": {
          "shape": "spline",
          "smoothing": 1.3,
          "width": 4
         },
         "mode": "lines",
         "name": "Brighton",
         "text": [
          "Watford",
          "West Ham",
          "Southampton",
          "Man City",
          "Burnley",
          "Newcastle"
         ],
         "type": "scatter",
         "x": [
          1,
          2,
          3,
          4,
          5,
          6
         ],
         "y": [
          3,
          2,
          2,
          5,
          2,
          3
         ]
        },
        {
         "hoverlabel": {
          "bgcolor": "white",
          "bordercolor": "#404040",
          "font": {
           "color": "#404040"
          }
         },
         "hovertemplate": "<b>Bournemouth</b></br></br>vs %{text}</br></br><extra></extra>",
         "line": {
          "shape": "spline",
          "smoothing": 1.3,
          "width": 4
         },
         "mode": "lines",
         "name": "Bournemouth",
         "text": [
          "Sheffield Utd",
          "Aston Villa",
          "Man City",
          "Leicester",
          "Everton",
          "Southampton"
         ],
         "type": "scatter",
         "x": [
          1,
          2,
          3,
          4,
          5,
          6
         ],
         "y": [
          2,
          2,
          4,
          3,
          2,
          2
         ]
        },
        {
         "hoverlabel": {
          "bgcolor": "white",
          "bordercolor": "#404040",
          "font": {
           "color": "#404040"
          }
         },
         "hovertemplate": "<b>Man Utd</b></br></br>vs %{text}</br></br><extra></extra>",
         "line": {
          "shape": "spline",
          "smoothing": 1.3,
          "width": 4
         },
         "mode": "lines",
         "name": "Man Utd",
         "text": [
          "Chelsea",
          "Wolves",
          "Crystal Palace",
          "Southampton",
          "Leicester",
          "West Ham"
         ],
         "type": "scatter",
         "x": [
          1,
          2,
          3,
          4,
          5,
          6
         ],
         "y": [
          4,
          3,
          3,
          2,
          3,
          3
         ]
        }
       ],
       "layout": {
        "legend": {
         "bgcolor": "rgba(0,0,0,0)",
         "font": {
          "color": "#eee"
         },
         "traceorder": "normal"
        },
        "paper_bgcolor": "rgba(0,0,0,0)",
        "plot_bgcolor": "rgba(0,0,0,0)",
        "scene": {
         "bgcolor": "rgba(0,0,0,0)"
        },
        "template": {
         "data": {
          "bar": [
           {
            "error_x": {
             "color": "#2a3f5f"
            },
            "error_y": {
             "color": "#2a3f5f"
            },
            "marker": {
             "line": {
              "color": "#E5ECF6",
              "width": 0.5
             }
            },
            "type": "bar"
           }
          ],
          "barpolar": [
           {
            "marker": {
             "line": {
              "color": "#E5ECF6",
              "width": 0.5
             }
            },
            "type": "barpolar"
           }
          ],
          "carpet": [
           {
            "aaxis": {
             "endlinecolor": "#2a3f5f",
             "gridcolor": "white",
             "linecolor": "white",
             "minorgridcolor": "white",
             "startlinecolor": "#2a3f5f"
            },
            "baxis": {
             "endlinecolor": "#2a3f5f",
             "gridcolor": "white",
             "linecolor": "white",
             "minorgridcolor": "white",
             "startlinecolor": "#2a3f5f"
            },
            "type": "carpet"
           }
          ],
          "choropleth": [
           {
            "colorbar": {
             "outlinewidth": 0,
             "ticks": ""
            },
            "type": "choropleth"
           }
          ],
          "contour": [
           {
            "colorbar": {
             "outlinewidth": 0,
             "ticks": ""
            },
            "colorscale": [
             [
              0,
              "#0d0887"
             ],
             [
              0.1111111111111111,
              "#46039f"
             ],
             [
              0.2222222222222222,
              "#7201a8"
             ],
             [
              0.3333333333333333,
              "#9c179e"
             ],
             [
              0.4444444444444444,
              "#bd3786"
             ],
             [
              0.5555555555555556,
              "#d8576b"
             ],
             [
              0.6666666666666666,
              "#ed7953"
             ],
             [
              0.7777777777777778,
              "#fb9f3a"
             ],
             [
              0.8888888888888888,
              "#fdca26"
             ],
             [
              1,
              "#f0f921"
             ]
            ],
            "type": "contour"
           }
          ],
          "contourcarpet": [
           {
            "colorbar": {
             "outlinewidth": 0,
             "ticks": ""
            },
            "type": "contourcarpet"
           }
          ],
          "heatmap": [
           {
            "colorbar": {
             "outlinewidth": 0,
             "ticks": ""
            },
            "colorscale": [
             [
              0,
              "#0d0887"
             ],
             [
              0.1111111111111111,
              "#46039f"
             ],
             [
              0.2222222222222222,
              "#7201a8"
             ],
             [
              0.3333333333333333,
              "#9c179e"
             ],
             [
              0.4444444444444444,
              "#bd3786"
             ],
             [
              0.5555555555555556,
              "#d8576b"
             ],
             [
              0.6666666666666666,
              "#ed7953"
             ],
             [
              0.7777777777777778,
              "#fb9f3a"
             ],
             [
              0.8888888888888888,
              "#fdca26"
             ],
             [
              1,
              "#f0f921"
             ]
            ],
            "type": "heatmap"
           }
          ],
          "heatmapgl": [
           {
            "colorbar": {
             "outlinewidth": 0,
             "ticks": ""
            },
            "colorscale": [
             [
              0,
              "#0d0887"
             ],
             [
              0.1111111111111111,
              "#46039f"
             ],
             [
              0.2222222222222222,
              "#7201a8"
             ],
             [
              0.3333333333333333,
              "#9c179e"
             ],
             [
              0.4444444444444444,
              "#bd3786"
             ],
             [
              0.5555555555555556,
              "#d8576b"
             ],
             [
              0.6666666666666666,
              "#ed7953"
             ],
             [
              0.7777777777777778,
              "#fb9f3a"
             ],
             [
              0.8888888888888888,
              "#fdca26"
             ],
             [
              1,
              "#f0f921"
             ]
            ],
            "type": "heatmapgl"
           }
          ],
          "histogram": [
           {
            "marker": {
             "colorbar": {
              "outlinewidth": 0,
              "ticks": ""
             }
            },
            "type": "histogram"
           }
          ],
          "histogram2d": [
           {
            "colorbar": {
             "outlinewidth": 0,
             "ticks": ""
            },
            "colorscale": [
             [
              0,
              "#0d0887"
             ],
             [
              0.1111111111111111,
              "#46039f"
             ],
             [
              0.2222222222222222,
              "#7201a8"
             ],
             [
              0.3333333333333333,
              "#9c179e"
             ],
             [
              0.4444444444444444,
              "#bd3786"
             ],
             [
              0.5555555555555556,
              "#d8576b"
             ],
             [
              0.6666666666666666,
              "#ed7953"
             ],
             [
              0.7777777777777778,
              "#fb9f3a"
             ],
             [
              0.8888888888888888,
              "#fdca26"
             ],
             [
              1,
              "#f0f921"
             ]
            ],
            "type": "histogram2d"
           }
          ],
          "histogram2dcontour": [
           {
            "colorbar": {
             "outlinewidth": 0,
             "ticks": ""
            },
            "colorscale": [
             [
              0,
              "#0d0887"
             ],
             [
              0.1111111111111111,
              "#46039f"
             ],
             [
              0.2222222222222222,
              "#7201a8"
             ],
             [
              0.3333333333333333,
              "#9c179e"
             ],
             [
              0.4444444444444444,
              "#bd3786"
             ],
             [
              0.5555555555555556,
              "#d8576b"
             ],
             [
              0.6666666666666666,
              "#ed7953"
             ],
             [
              0.7777777777777778,
              "#fb9f3a"
             ],
             [
              0.8888888888888888,
              "#fdca26"
             ],
             [
              1,
              "#f0f921"
             ]
            ],
            "type": "histogram2dcontour"
           }
          ],
          "mesh3d": [
           {
            "colorbar": {
             "outlinewidth": 0,
             "ticks": ""
            },
            "type": "mesh3d"
           }
          ],
          "parcoords": [
           {
            "line": {
             "colorbar": {
              "outlinewidth": 0,
              "ticks": ""
             }
            },
            "type": "parcoords"
           }
          ],
          "scatter": [
           {
            "marker": {
             "colorbar": {
              "outlinewidth": 0,
              "ticks": ""
             }
            },
            "type": "scatter"
           }
          ],
          "scatter3d": [
           {
            "line": {
             "colorbar": {
              "outlinewidth": 0,
              "ticks": ""
             }
            },
            "marker": {
             "colorbar": {
              "outlinewidth": 0,
              "ticks": ""
             }
            },
            "type": "scatter3d"
           }
          ],
          "scattercarpet": [
           {
            "marker": {
             "colorbar": {
              "outlinewidth": 0,
              "ticks": ""
             }
            },
            "type": "scattercarpet"
           }
          ],
          "scattergeo": [
           {
            "marker": {
             "colorbar": {
              "outlinewidth": 0,
              "ticks": ""
             }
            },
            "type": "scattergeo"
           }
          ],
          "scattergl": [
           {
            "marker": {
             "colorbar": {
              "outlinewidth": 0,
              "ticks": ""
             }
            },
            "type": "scattergl"
           }
          ],
          "scattermapbox": [
           {
            "marker": {
             "colorbar": {
              "outlinewidth": 0,
              "ticks": ""
             }
            },
            "type": "scattermapbox"
           }
          ],
          "scatterpolar": [
           {
            "marker": {
             "colorbar": {
              "outlinewidth": 0,
              "ticks": ""
             }
            },
            "type": "scatterpolar"
           }
          ],
          "scatterpolargl": [
           {
            "marker": {
             "colorbar": {
              "outlinewidth": 0,
              "ticks": ""
             }
            },
            "type": "scatterpolargl"
           }
          ],
          "scatterternary": [
           {
            "marker": {
             "colorbar": {
              "outlinewidth": 0,
              "ticks": ""
             }
            },
            "type": "scatterternary"
           }
          ],
          "surface": [
           {
            "colorbar": {
             "outlinewidth": 0,
             "ticks": ""
            },
            "colorscale": [
             [
              0,
              "#0d0887"
             ],
             [
              0.1111111111111111,
              "#46039f"
             ],
             [
              0.2222222222222222,
              "#7201a8"
             ],
             [
              0.3333333333333333,
              "#9c179e"
             ],
             [
              0.4444444444444444,
              "#bd3786"
             ],
             [
              0.5555555555555556,
              "#d8576b"
             ],
             [
              0.6666666666666666,
              "#ed7953"
             ],
             [
              0.7777777777777778,
              "#fb9f3a"
             ],
             [
              0.8888888888888888,
              "#fdca26"
             ],
             [
              1,
              "#f0f921"
             ]
            ],
            "type": "surface"
           }
          ],
          "table": [
           {
            "cells": {
             "fill": {
              "color": "#EBF0F8"
             },
             "line": {
              "color": "white"
             }
            },
            "header": {
             "fill": {
              "color": "#C8D4E3"
             },
             "line": {
              "color": "white"
             }
            },
            "type": "table"
           }
          ]
         },
         "layout": {
          "annotationdefaults": {
           "arrowcolor": "#2a3f5f",
           "arrowhead": 0,
           "arrowwidth": 1
          },
          "colorscale": {
           "diverging": [
            [
             0,
             "#8e0152"
            ],
            [
             0.1,
             "#c51b7d"
            ],
            [
             0.2,
             "#de77ae"
            ],
            [
             0.3,
             "#f1b6da"
            ],
            [
             0.4,
             "#fde0ef"
            ],
            [
             0.5,
             "#f7f7f7"
            ],
            [
             0.6,
             "#e6f5d0"
            ],
            [
             0.7,
             "#b8e186"
            ],
            [
             0.8,
             "#7fbc41"
            ],
            [
             0.9,
             "#4d9221"
            ],
            [
             1,
             "#276419"
            ]
           ],
           "sequential": [
            [
             0,
             "#0d0887"
            ],
            [
             0.1111111111111111,
             "#46039f"
            ],
            [
             0.2222222222222222,
             "#7201a8"
            ],
            [
             0.3333333333333333,
             "#9c179e"
            ],
            [
             0.4444444444444444,
             "#bd3786"
            ],
            [
             0.5555555555555556,
             "#d8576b"
            ],
            [
             0.6666666666666666,
             "#ed7953"
            ],
            [
             0.7777777777777778,
             "#fb9f3a"
            ],
            [
             0.8888888888888888,
             "#fdca26"
            ],
            [
             1,
             "#f0f921"
            ]
           ],
           "sequentialminus": [
            [
             0,
             "#0d0887"
            ],
            [
             0.1111111111111111,
             "#46039f"
            ],
            [
             0.2222222222222222,
             "#7201a8"
            ],
            [
             0.3333333333333333,
             "#9c179e"
            ],
            [
             0.4444444444444444,
             "#bd3786"
            ],
            [
             0.5555555555555556,
             "#d8576b"
            ],
            [
             0.6666666666666666,
             "#ed7953"
            ],
            [
             0.7777777777777778,
             "#fb9f3a"
            ],
            [
             0.8888888888888888,
             "#fdca26"
            ],
            [
             1,
             "#f0f921"
            ]
           ]
          },
          "colorway": [
           "#636efa",
           "#EF553B",
           "#00cc96",
           "#ab63fa",
           "#FFA15A",
           "#19d3f3",
           "#FF6692",
           "#B6E880",
           "#FF97FF",
           "#FECB52"
          ],
          "font": {
           "color": "#2a3f5f"
          },
          "geo": {
           "bgcolor": "white",
           "lakecolor": "white",
           "landcolor": "#E5ECF6",
           "showlakes": true,
           "showland": true,
           "subunitcolor": "white"
          },
          "hoverlabel": {
           "align": "left"
          },
          "hovermode": "closest",
          "mapbox": {
           "style": "light"
          },
          "paper_bgcolor": "white",
          "plot_bgcolor": "#E5ECF6",
          "polar": {
           "angularaxis": {
            "gridcolor": "white",
            "linecolor": "white",
            "ticks": ""
           },
           "bgcolor": "#E5ECF6",
           "radialaxis": {
            "gridcolor": "white",
            "linecolor": "white",
            "ticks": ""
           }
          },
          "scene": {
           "xaxis": {
            "backgroundcolor": "#E5ECF6",
            "gridcolor": "white",
            "gridwidth": 2,
            "linecolor": "white",
            "showbackground": true,
            "ticks": "",
            "zerolinecolor": "white"
           },
           "yaxis": {
            "backgroundcolor": "#E5ECF6",
            "gridcolor": "white",
            "gridwidth": 2,
            "linecolor": "white",
            "showbackground": true,
            "ticks": "",
            "zerolinecolor": "white"
           },
           "zaxis": {
            "backgroundcolor": "#E5ECF6",
            "gridcolor": "white",
            "gridwidth": 2,
            "linecolor": "white",
            "showbackground": true,
            "ticks": "",
            "zerolinecolor": "white"
           }
          },
          "shapedefaults": {
           "line": {
            "color": "#2a3f5f"
           }
          },
          "ternary": {
           "aaxis": {
            "gridcolor": "white",
            "linecolor": "white",
            "ticks": ""
           },
           "baxis": {
            "gridcolor": "white",
            "linecolor": "white",
            "ticks": ""
           },
           "bgcolor": "#E5ECF6",
           "caxis": {
            "gridcolor": "white",
            "linecolor": "white",
            "ticks": ""
           }
          },
          "title": {
           "x": 0.05
          },
          "xaxis": {
           "automargin": true,
           "gridcolor": "white",
           "linecolor": "white",
           "ticks": "",
           "zerolinecolor": "white",
           "zerolinewidth": 2
          },
          "yaxis": {
           "automargin": true,
           "gridcolor": "white",
           "linecolor": "white",
           "ticks": "",
           "zerolinecolor": "white",
           "zerolinewidth": 2
          }
         }
        },
        "xaxis": {
         "color": "#eee",
         "title": {
          "text": "Gameweek"
         }
        },
        "yaxis": {
         "color": "#eee",
         "title": {
          "text": "Difficulty"
         }
        }
       }
      },
      "text/html": [
       "<div>\n",
       "        \n",
       "        \n",
       "            <div id=\"1160b067-ccbf-4d36-a94b-28c3125d3cf4\" class=\"plotly-graph-div\" style=\"height:525px; width:100%;\"></div>\n",
       "            <script type=\"text/javascript\">\n",
       "                require([\"plotly\"], function(Plotly) {\n",
       "                    window.PLOTLYENV=window.PLOTLYENV || {};\n",
       "                    \n",
       "                if (document.getElementById(\"1160b067-ccbf-4d36-a94b-28c3125d3cf4\")) {\n",
       "                    Plotly.newPlot(\n",
       "                        '1160b067-ccbf-4d36-a94b-28c3125d3cf4',\n",
       "                        [{\"hoverlabel\": {\"bgcolor\": \"white\", \"bordercolor\": \"#404040\", \"font\": {\"color\": \"#404040\"}}, \"hovertemplate\": \"<b>Man City</b></br></br>vs %{text}</br></br><extra></extra>\", \"line\": {\"shape\": \"spline\", \"smoothing\": 1.3, \"width\": 4}, \"mode\": \"lines\", \"name\": \"Man City\", \"text\": [\"West Ham\", \"Spurs\", \"Bournemouth\", \"Brighton\", \"Norwich\", \"Watford\"], \"type\": \"scatter\", \"x\": [1, 2, 3, 4, 5, 6], \"y\": [3, 4, 3, 2, 2, 3]}, {\"hoverlabel\": {\"bgcolor\": \"white\", \"bordercolor\": \"#404040\", \"font\": {\"color\": \"#404040\"}}, \"hovertemplate\": \"<b>Everton</b></br></br>vs %{text}</br></br><extra></extra>\", \"line\": {\"shape\": \"spline\", \"smoothing\": 1.3, \"width\": 4}, \"mode\": \"lines\", \"name\": \"Everton\", \"text\": [\"Crystal Palace\", \"Watford\", \"Aston Villa\", \"Wolves\", \"Bournemouth\", \"Sheffield Utd\"], \"type\": \"scatter\", \"x\": [1, 2, 3, 4, 5, 6], \"y\": [2, 3, 2, 3, 3, 2]}, {\"hoverlabel\": {\"bgcolor\": \"white\", \"bordercolor\": \"#404040\", \"font\": {\"color\": \"#404040\"}}, \"hovertemplate\": \"<b>Brighton</b></br></br>vs %{text}</br></br><extra></extra>\", \"line\": {\"shape\": \"spline\", \"smoothing\": 1.3, \"width\": 4}, \"mode\": \"lines\", \"name\": \"Brighton\", \"text\": [\"Watford\", \"West Ham\", \"Southampton\", \"Man City\", \"Burnley\", \"Newcastle\"], \"type\": \"scatter\", \"x\": [1, 2, 3, 4, 5, 6], \"y\": [3, 2, 2, 5, 2, 3]}, {\"hoverlabel\": {\"bgcolor\": \"white\", \"bordercolor\": \"#404040\", \"font\": {\"color\": \"#404040\"}}, \"hovertemplate\": \"<b>Bournemouth</b></br></br>vs %{text}</br></br><extra></extra>\", \"line\": {\"shape\": \"spline\", \"smoothing\": 1.3, \"width\": 4}, \"mode\": \"lines\", \"name\": \"Bournemouth\", \"text\": [\"Sheffield Utd\", \"Aston Villa\", \"Man City\", \"Leicester\", \"Everton\", \"Southampton\"], \"type\": \"scatter\", \"x\": [1, 2, 3, 4, 5, 6], \"y\": [2, 2, 4, 3, 2, 2]}, {\"hoverlabel\": {\"bgcolor\": \"white\", \"bordercolor\": \"#404040\", \"font\": {\"color\": \"#404040\"}}, \"hovertemplate\": \"<b>Man Utd</b></br></br>vs %{text}</br></br><extra></extra>\", \"line\": {\"shape\": \"spline\", \"smoothing\": 1.3, \"width\": 4}, \"mode\": \"lines\", \"name\": \"Man Utd\", \"text\": [\"Chelsea\", \"Wolves\", \"Crystal Palace\", \"Southampton\", \"Leicester\", \"West Ham\"], \"type\": \"scatter\", \"x\": [1, 2, 3, 4, 5, 6], \"y\": [4, 3, 3, 2, 3, 3]}],\n",
       "                        {\"legend\": {\"bgcolor\": \"rgba(0,0,0,0)\", \"font\": {\"color\": \"#eee\"}, \"traceorder\": \"normal\"}, \"paper_bgcolor\": \"rgba(0,0,0,0)\", \"plot_bgcolor\": \"rgba(0,0,0,0)\", \"scene\": {\"bgcolor\": \"rgba(0,0,0,0)\"}, \"template\": {\"data\": {\"bar\": [{\"error_x\": {\"color\": \"#2a3f5f\"}, \"error_y\": {\"color\": \"#2a3f5f\"}, \"marker\": {\"line\": {\"color\": \"#E5ECF6\", \"width\": 0.5}}, \"type\": \"bar\"}], \"barpolar\": [{\"marker\": {\"line\": {\"color\": \"#E5ECF6\", \"width\": 0.5}}, \"type\": \"barpolar\"}], \"carpet\": [{\"aaxis\": {\"endlinecolor\": \"#2a3f5f\", \"gridcolor\": \"white\", \"linecolor\": \"white\", \"minorgridcolor\": \"white\", \"startlinecolor\": \"#2a3f5f\"}, \"baxis\": {\"endlinecolor\": \"#2a3f5f\", \"gridcolor\": \"white\", \"linecolor\": \"white\", \"minorgridcolor\": \"white\", \"startlinecolor\": \"#2a3f5f\"}, \"type\": \"carpet\"}], \"choropleth\": [{\"colorbar\": {\"outlinewidth\": 0, \"ticks\": \"\"}, \"type\": \"choropleth\"}], \"contour\": [{\"colorbar\": {\"outlinewidth\": 0, \"ticks\": \"\"}, \"colorscale\": [[0.0, \"#0d0887\"], [0.1111111111111111, \"#46039f\"], [0.2222222222222222, \"#7201a8\"], [0.3333333333333333, \"#9c179e\"], [0.4444444444444444, \"#bd3786\"], [0.5555555555555556, \"#d8576b\"], [0.6666666666666666, \"#ed7953\"], [0.7777777777777778, \"#fb9f3a\"], [0.8888888888888888, \"#fdca26\"], [1.0, \"#f0f921\"]], \"type\": \"contour\"}], \"contourcarpet\": [{\"colorbar\": {\"outlinewidth\": 0, \"ticks\": \"\"}, \"type\": \"contourcarpet\"}], \"heatmap\": [{\"colorbar\": {\"outlinewidth\": 0, \"ticks\": \"\"}, \"colorscale\": [[0.0, \"#0d0887\"], [0.1111111111111111, \"#46039f\"], [0.2222222222222222, \"#7201a8\"], [0.3333333333333333, \"#9c179e\"], [0.4444444444444444, \"#bd3786\"], [0.5555555555555556, \"#d8576b\"], [0.6666666666666666, \"#ed7953\"], [0.7777777777777778, \"#fb9f3a\"], [0.8888888888888888, \"#fdca26\"], [1.0, \"#f0f921\"]], \"type\": \"heatmap\"}], \"heatmapgl\": [{\"colorbar\": {\"outlinewidth\": 0, \"ticks\": \"\"}, \"colorscale\": [[0.0, \"#0d0887\"], [0.1111111111111111, \"#46039f\"], [0.2222222222222222, \"#7201a8\"], [0.3333333333333333, \"#9c179e\"], [0.4444444444444444, \"#bd3786\"], [0.5555555555555556, \"#d8576b\"], [0.6666666666666666, \"#ed7953\"], [0.7777777777777778, \"#fb9f3a\"], [0.8888888888888888, \"#fdca26\"], [1.0, \"#f0f921\"]], \"type\": \"heatmapgl\"}], \"histogram\": [{\"marker\": {\"colorbar\": {\"outlinewidth\": 0, \"ticks\": \"\"}}, \"type\": \"histogram\"}], \"histogram2d\": [{\"colorbar\": {\"outlinewidth\": 0, \"ticks\": \"\"}, \"colorscale\": [[0.0, \"#0d0887\"], [0.1111111111111111, \"#46039f\"], [0.2222222222222222, \"#7201a8\"], [0.3333333333333333, \"#9c179e\"], [0.4444444444444444, \"#bd3786\"], [0.5555555555555556, \"#d8576b\"], [0.6666666666666666, \"#ed7953\"], [0.7777777777777778, \"#fb9f3a\"], [0.8888888888888888, \"#fdca26\"], [1.0, \"#f0f921\"]], \"type\": \"histogram2d\"}], \"histogram2dcontour\": [{\"colorbar\": {\"outlinewidth\": 0, \"ticks\": \"\"}, \"colorscale\": [[0.0, \"#0d0887\"], [0.1111111111111111, \"#46039f\"], [0.2222222222222222, \"#7201a8\"], [0.3333333333333333, \"#9c179e\"], [0.4444444444444444, \"#bd3786\"], [0.5555555555555556, \"#d8576b\"], [0.6666666666666666, \"#ed7953\"], [0.7777777777777778, \"#fb9f3a\"], [0.8888888888888888, \"#fdca26\"], [1.0, \"#f0f921\"]], \"type\": \"histogram2dcontour\"}], \"mesh3d\": [{\"colorbar\": {\"outlinewidth\": 0, \"ticks\": \"\"}, \"type\": \"mesh3d\"}], \"parcoords\": [{\"line\": {\"colorbar\": {\"outlinewidth\": 0, \"ticks\": \"\"}}, \"type\": \"parcoords\"}], \"scatter\": [{\"marker\": {\"colorbar\": {\"outlinewidth\": 0, \"ticks\": \"\"}}, \"type\": \"scatter\"}], \"scatter3d\": [{\"line\": {\"colorbar\": {\"outlinewidth\": 0, \"ticks\": \"\"}}, \"marker\": {\"colorbar\": {\"outlinewidth\": 0, \"ticks\": \"\"}}, \"type\": \"scatter3d\"}], \"scattercarpet\": [{\"marker\": {\"colorbar\": {\"outlinewidth\": 0, \"ticks\": \"\"}}, \"type\": \"scattercarpet\"}], \"scattergeo\": [{\"marker\": {\"colorbar\": {\"outlinewidth\": 0, \"ticks\": \"\"}}, \"type\": \"scattergeo\"}], \"scattergl\": [{\"marker\": {\"colorbar\": {\"outlinewidth\": 0, \"ticks\": \"\"}}, \"type\": \"scattergl\"}], \"scattermapbox\": [{\"marker\": {\"colorbar\": {\"outlinewidth\": 0, \"ticks\": \"\"}}, \"type\": \"scattermapbox\"}], \"scatterpolar\": [{\"marker\": {\"colorbar\": {\"outlinewidth\": 0, \"ticks\": \"\"}}, \"type\": \"scatterpolar\"}], \"scatterpolargl\": [{\"marker\": {\"colorbar\": {\"outlinewidth\": 0, \"ticks\": \"\"}}, \"type\": \"scatterpolargl\"}], \"scatterternary\": [{\"marker\": {\"colorbar\": {\"outlinewidth\": 0, \"ticks\": \"\"}}, \"type\": \"scatterternary\"}], \"surface\": [{\"colorbar\": {\"outlinewidth\": 0, \"ticks\": \"\"}, \"colorscale\": [[0.0, \"#0d0887\"], [0.1111111111111111, \"#46039f\"], [0.2222222222222222, \"#7201a8\"], [0.3333333333333333, \"#9c179e\"], [0.4444444444444444, \"#bd3786\"], [0.5555555555555556, \"#d8576b\"], [0.6666666666666666, \"#ed7953\"], [0.7777777777777778, \"#fb9f3a\"], [0.8888888888888888, \"#fdca26\"], [1.0, \"#f0f921\"]], \"type\": \"surface\"}], \"table\": [{\"cells\": {\"fill\": {\"color\": \"#EBF0F8\"}, \"line\": {\"color\": \"white\"}}, \"header\": {\"fill\": {\"color\": \"#C8D4E3\"}, \"line\": {\"color\": \"white\"}}, \"type\": \"table\"}]}, \"layout\": {\"annotationdefaults\": {\"arrowcolor\": \"#2a3f5f\", \"arrowhead\": 0, \"arrowwidth\": 1}, \"colorscale\": {\"diverging\": [[0, \"#8e0152\"], [0.1, \"#c51b7d\"], [0.2, \"#de77ae\"], [0.3, \"#f1b6da\"], [0.4, \"#fde0ef\"], [0.5, \"#f7f7f7\"], [0.6, \"#e6f5d0\"], [0.7, \"#b8e186\"], [0.8, \"#7fbc41\"], [0.9, \"#4d9221\"], [1, \"#276419\"]], \"sequential\": [[0.0, \"#0d0887\"], [0.1111111111111111, \"#46039f\"], [0.2222222222222222, \"#7201a8\"], [0.3333333333333333, \"#9c179e\"], [0.4444444444444444, \"#bd3786\"], [0.5555555555555556, \"#d8576b\"], [0.6666666666666666, \"#ed7953\"], [0.7777777777777778, \"#fb9f3a\"], [0.8888888888888888, \"#fdca26\"], [1.0, \"#f0f921\"]], \"sequentialminus\": [[0.0, \"#0d0887\"], [0.1111111111111111, \"#46039f\"], [0.2222222222222222, \"#7201a8\"], [0.3333333333333333, \"#9c179e\"], [0.4444444444444444, \"#bd3786\"], [0.5555555555555556, \"#d8576b\"], [0.6666666666666666, \"#ed7953\"], [0.7777777777777778, \"#fb9f3a\"], [0.8888888888888888, \"#fdca26\"], [1.0, \"#f0f921\"]]}, \"colorway\": [\"#636efa\", \"#EF553B\", \"#00cc96\", \"#ab63fa\", \"#FFA15A\", \"#19d3f3\", \"#FF6692\", \"#B6E880\", \"#FF97FF\", \"#FECB52\"], \"font\": {\"color\": \"#2a3f5f\"}, \"geo\": {\"bgcolor\": \"white\", \"lakecolor\": \"white\", \"landcolor\": \"#E5ECF6\", \"showlakes\": true, \"showland\": true, \"subunitcolor\": \"white\"}, \"hoverlabel\": {\"align\": \"left\"}, \"hovermode\": \"closest\", \"mapbox\": {\"style\": \"light\"}, \"paper_bgcolor\": \"white\", \"plot_bgcolor\": \"#E5ECF6\", \"polar\": {\"angularaxis\": {\"gridcolor\": \"white\", \"linecolor\": \"white\", \"ticks\": \"\"}, \"bgcolor\": \"#E5ECF6\", \"radialaxis\": {\"gridcolor\": \"white\", \"linecolor\": \"white\", \"ticks\": \"\"}}, \"scene\": {\"xaxis\": {\"backgroundcolor\": \"#E5ECF6\", \"gridcolor\": \"white\", \"gridwidth\": 2, \"linecolor\": \"white\", \"showbackground\": true, \"ticks\": \"\", \"zerolinecolor\": \"white\"}, \"yaxis\": {\"backgroundcolor\": \"#E5ECF6\", \"gridcolor\": \"white\", \"gridwidth\": 2, \"linecolor\": \"white\", \"showbackground\": true, \"ticks\": \"\", \"zerolinecolor\": \"white\"}, \"zaxis\": {\"backgroundcolor\": \"#E5ECF6\", \"gridcolor\": \"white\", \"gridwidth\": 2, \"linecolor\": \"white\", \"showbackground\": true, \"ticks\": \"\", \"zerolinecolor\": \"white\"}}, \"shapedefaults\": {\"line\": {\"color\": \"#2a3f5f\"}}, \"ternary\": {\"aaxis\": {\"gridcolor\": \"white\", \"linecolor\": \"white\", \"ticks\": \"\"}, \"baxis\": {\"gridcolor\": \"white\", \"linecolor\": \"white\", \"ticks\": \"\"}, \"bgcolor\": \"#E5ECF6\", \"caxis\": {\"gridcolor\": \"white\", \"linecolor\": \"white\", \"ticks\": \"\"}}, \"title\": {\"x\": 0.05}, \"xaxis\": {\"automargin\": true, \"gridcolor\": \"white\", \"linecolor\": \"white\", \"ticks\": \"\", \"zerolinecolor\": \"white\", \"zerolinewidth\": 2}, \"yaxis\": {\"automargin\": true, \"gridcolor\": \"white\", \"linecolor\": \"white\", \"ticks\": \"\", \"zerolinecolor\": \"white\", \"zerolinewidth\": 2}}}, \"xaxis\": {\"color\": \"#eee\", \"title\": {\"text\": \"Gameweek\"}}, \"yaxis\": {\"color\": \"#eee\", \"title\": {\"text\": \"Difficulty\"}}},\n",
       "                        {\"responsive\": true}\n",
       "                    ).then(function(){\n",
       "                            \n",
       "var gd = document.getElementById('1160b067-ccbf-4d36-a94b-28c3125d3cf4');\n",
       "var x = new MutationObserver(function (mutations, observer) {{\n",
       "        var display = window.getComputedStyle(gd).display;\n",
       "        if (!display || display === 'none') {{\n",
       "            console.log([gd, 'removed!']);\n",
       "            Plotly.purge(gd);\n",
       "            observer.disconnect();\n",
       "        }}\n",
       "}});\n",
       "\n",
       "// Listen for the removal of the full notebook cells\n",
       "var notebookContainer = gd.closest('#notebook-container');\n",
       "if (notebookContainer) {{\n",
       "    x.observe(notebookContainer, {childList: true});\n",
       "}}\n",
       "\n",
       "// Listen for the clearing of the current output cell\n",
       "var outputEl = gd.closest('.output');\n",
       "if (outputEl) {{\n",
       "    x.observe(outputEl, {childList: true});\n",
       "}}\n",
       "\n",
       "                        })\n",
       "                };\n",
       "                });\n",
       "            </script>\n",
       "        </div>"
      ]
     },
     "metadata": {},
     "output_type": "display_data"
    }
   ],
   "source": [
    "fix = next_fixtures(season, base_path, limit_diff=3, no_above_limit_occ=1, no_fixtures=6)"
   ]
  },
  {
   "cell_type": "code",
   "execution_count": 9,
   "metadata": {
    "scrolled": false
   },
   "outputs": [],
   "source": [
    "# df_form = form(season, base_path, limit_form=1,no_below_limit_occ=2)"
   ]
  },
  {
   "cell_type": "code",
   "execution_count": 15,
   "metadata": {},
   "outputs": [
    {
     "data": {
      "text/html": [
       "<div>\n",
       "<style scoped>\n",
       "    .dataframe tbody tr th:only-of-type {\n",
       "        vertical-align: middle;\n",
       "    }\n",
       "\n",
       "    .dataframe tbody tr th {\n",
       "        vertical-align: top;\n",
       "    }\n",
       "\n",
       "    .dataframe thead th {\n",
       "        text-align: right;\n",
       "    }\n",
       "</style>\n",
       "<table border=\"1\" class=\"dataframe\">\n",
       "  <thead>\n",
       "    <tr style=\"text-align: right;\">\n",
       "      <th></th>\n",
       "      <th>code</th>\n",
       "      <th>event</th>\n",
       "      <th>kickoff_time</th>\n",
       "      <th>opponent</th>\n",
       "      <th>difficulty</th>\n",
       "      <th>difficulty_other</th>\n",
       "      <th>relative_difficulty</th>\n",
       "      <th>team</th>\n",
       "    </tr>\n",
       "  </thead>\n",
       "  <tbody>\n",
       "    <tr>\n",
       "      <th>0</th>\n",
       "      <td>1059702</td>\n",
       "      <td>1</td>\n",
       "      <td>2019-08-09T19:00:00Z</td>\n",
       "      <td>Liverpool</td>\n",
       "      <td>5</td>\n",
       "      <td>2</td>\n",
       "      <td>4.000000</td>\n",
       "      <td>Norwich</td>\n",
       "    </tr>\n",
       "    <tr>\n",
       "      <th>14</th>\n",
       "      <td>1059718</td>\n",
       "      <td>2</td>\n",
       "      <td>2019-08-17T14:00:00Z</td>\n",
       "      <td>Newcastle</td>\n",
       "      <td>2</td>\n",
       "      <td>2</td>\n",
       "      <td>1.000000</td>\n",
       "      <td>Norwich</td>\n",
       "    </tr>\n",
       "    <tr>\n",
       "      <th>21</th>\n",
       "      <td>1059727</td>\n",
       "      <td>3</td>\n",
       "      <td>2019-08-24T11:30:00Z</td>\n",
       "      <td>Chelsea</td>\n",
       "      <td>4</td>\n",
       "      <td>2</td>\n",
       "      <td>3.000000</td>\n",
       "      <td>Norwich</td>\n",
       "    </tr>\n",
       "    <tr>\n",
       "      <th>36</th>\n",
       "      <td>1059741</td>\n",
       "      <td>4</td>\n",
       "      <td>2019-08-31T14:00:00Z</td>\n",
       "      <td>West Ham</td>\n",
       "      <td>3</td>\n",
       "      <td>2</td>\n",
       "      <td>2.000000</td>\n",
       "      <td>Norwich</td>\n",
       "    </tr>\n",
       "    <tr>\n",
       "      <th>46</th>\n",
       "      <td>1059747</td>\n",
       "      <td>5</td>\n",
       "      <td>2019-09-14T16:30:00Z</td>\n",
       "      <td>Man City</td>\n",
       "      <td>4</td>\n",
       "      <td>2</td>\n",
       "      <td>3.000000</td>\n",
       "      <td>Norwich</td>\n",
       "    </tr>\n",
       "    <tr>\n",
       "      <th>52</th>\n",
       "      <td>1059753</td>\n",
       "      <td>6</td>\n",
       "      <td>2019-09-21T14:00:00Z</td>\n",
       "      <td>Burnley</td>\n",
       "      <td>2</td>\n",
       "      <td>2</td>\n",
       "      <td>1.000000</td>\n",
       "      <td>Norwich</td>\n",
       "    </tr>\n",
       "    <tr>\n",
       "      <th>1</th>\n",
       "      <td>1059709</td>\n",
       "      <td>1</td>\n",
       "      <td>2019-08-10T11:30:00Z</td>\n",
       "      <td>West Ham</td>\n",
       "      <td>3</td>\n",
       "      <td>4</td>\n",
       "      <td>0.500000</td>\n",
       "      <td>Man City</td>\n",
       "    </tr>\n",
       "    <tr>\n",
       "      <th>16</th>\n",
       "      <td>1059717</td>\n",
       "      <td>2</td>\n",
       "      <td>2019-08-17T16:30:00Z</td>\n",
       "      <td>Spurs</td>\n",
       "      <td>4</td>\n",
       "      <td>5</td>\n",
       "      <td>0.500000</td>\n",
       "      <td>Man City</td>\n",
       "    </tr>\n",
       "    <tr>\n",
       "      <th>28</th>\n",
       "      <td>1059722</td>\n",
       "      <td>3</td>\n",
       "      <td>2019-08-25T13:00:00Z</td>\n",
       "      <td>Bournemouth</td>\n",
       "      <td>3</td>\n",
       "      <td>4</td>\n",
       "      <td>0.500000</td>\n",
       "      <td>Man City</td>\n",
       "    </tr>\n",
       "    <tr>\n",
       "      <th>34</th>\n",
       "      <td>1059738</td>\n",
       "      <td>4</td>\n",
       "      <td>2019-08-31T14:00:00Z</td>\n",
       "      <td>Brighton</td>\n",
       "      <td>2</td>\n",
       "      <td>5</td>\n",
       "      <td>0.250000</td>\n",
       "      <td>Man City</td>\n",
       "    </tr>\n",
       "    <tr>\n",
       "      <th>46</th>\n",
       "      <td>1059747</td>\n",
       "      <td>5</td>\n",
       "      <td>2019-09-14T16:30:00Z</td>\n",
       "      <td>Norwich</td>\n",
       "      <td>2</td>\n",
       "      <td>4</td>\n",
       "      <td>0.333333</td>\n",
       "      <td>Man City</td>\n",
       "    </tr>\n",
       "    <tr>\n",
       "      <th>55</th>\n",
       "      <td>1059758</td>\n",
       "      <td>6</td>\n",
       "      <td>2019-09-21T14:00:00Z</td>\n",
       "      <td>Watford</td>\n",
       "      <td>3</td>\n",
       "      <td>5</td>\n",
       "      <td>0.333333</td>\n",
       "      <td>Man City</td>\n",
       "    </tr>\n",
       "    <tr>\n",
       "      <th>2</th>\n",
       "      <td>1059703</td>\n",
       "      <td>1</td>\n",
       "      <td>2019-08-10T14:00:00Z</td>\n",
       "      <td>Bournemouth</td>\n",
       "      <td>3</td>\n",
       "      <td>2</td>\n",
       "      <td>2.000000</td>\n",
       "      <td>Sheffield Utd</td>\n",
       "    </tr>\n",
       "    <tr>\n",
       "      <th>17</th>\n",
       "      <td>1059719</td>\n",
       "      <td>2</td>\n",
       "      <td>2019-08-18T13:00:00Z</td>\n",
       "      <td>Crystal Palace</td>\n",
       "      <td>3</td>\n",
       "      <td>2</td>\n",
       "      <td>2.000000</td>\n",
       "      <td>Sheffield Utd</td>\n",
       "    </tr>\n",
       "    <tr>\n",
       "      <th>24</th>\n",
       "      <td>1059728</td>\n",
       "      <td>3</td>\n",
       "      <td>2019-08-24T14:00:00Z</td>\n",
       "      <td>Leicester</td>\n",
       "      <td>3</td>\n",
       "      <td>2</td>\n",
       "      <td>2.000000</td>\n",
       "      <td>Sheffield Utd</td>\n",
       "    </tr>\n",
       "    <tr>\n",
       "      <th>31</th>\n",
       "      <td>1059734</td>\n",
       "      <td>4</td>\n",
       "      <td>2019-08-31T14:00:00Z</td>\n",
       "      <td>Chelsea</td>\n",
       "      <td>4</td>\n",
       "      <td>2</td>\n",
       "      <td>3.000000</td>\n",
       "      <td>Sheffield Utd</td>\n",
       "    </tr>\n",
       "    <tr>\n",
       "      <th>43</th>\n",
       "      <td>1059748</td>\n",
       "      <td>5</td>\n",
       "      <td>2019-09-14T14:00:00Z</td>\n",
       "      <td>Southampton</td>\n",
       "      <td>2</td>\n",
       "      <td>2</td>\n",
       "      <td>1.000000</td>\n",
       "      <td>Sheffield Utd</td>\n",
       "    </tr>\n",
       "    <tr>\n",
       "      <th>54</th>\n",
       "      <td>1059756</td>\n",
       "      <td>6</td>\n",
       "      <td>2019-09-21T14:00:00Z</td>\n",
       "      <td>Everton</td>\n",
       "      <td>4</td>\n",
       "      <td>2</td>\n",
       "      <td>3.000000</td>\n",
       "      <td>Sheffield Utd</td>\n",
       "    </tr>\n",
       "    <tr>\n",
       "      <th>3</th>\n",
       "      <td>1059704</td>\n",
       "      <td>1</td>\n",
       "      <td>2019-08-10T14:00:00Z</td>\n",
       "      <td>Burnley</td>\n",
       "      <td>2</td>\n",
       "      <td>2</td>\n",
       "      <td>1.000000</td>\n",
       "      <td>Southampton</td>\n",
       "    </tr>\n",
       "    <tr>\n",
       "      <th>15</th>\n",
       "      <td>1059720</td>\n",
       "      <td>2</td>\n",
       "      <td>2019-08-17T14:00:00Z</td>\n",
       "      <td>Liverpool</td>\n",
       "      <td>4</td>\n",
       "      <td>2</td>\n",
       "      <td>3.000000</td>\n",
       "      <td>Southampton</td>\n",
       "    </tr>\n",
       "    <tr>\n",
       "      <th>22</th>\n",
       "      <td>1059724</td>\n",
       "      <td>3</td>\n",
       "      <td>2019-08-24T14:00:00Z</td>\n",
       "      <td>Brighton</td>\n",
       "      <td>2</td>\n",
       "      <td>2</td>\n",
       "      <td>1.000000</td>\n",
       "      <td>Southampton</td>\n",
       "    </tr>\n",
       "    <tr>\n",
       "      <th>30</th>\n",
       "      <td>1059740</td>\n",
       "      <td>4</td>\n",
       "      <td>2019-08-31T11:30:00Z</td>\n",
       "      <td>Man Utd</td>\n",
       "      <td>4</td>\n",
       "      <td>2</td>\n",
       "      <td>3.000000</td>\n",
       "      <td>Southampton</td>\n",
       "    </tr>\n",
       "    <tr>\n",
       "      <th>43</th>\n",
       "      <td>1059748</td>\n",
       "      <td>5</td>\n",
       "      <td>2019-09-14T14:00:00Z</td>\n",
       "      <td>Sheffield Utd</td>\n",
       "      <td>2</td>\n",
       "      <td>2</td>\n",
       "      <td>1.000000</td>\n",
       "      <td>Southampton</td>\n",
       "    </tr>\n",
       "    <tr>\n",
       "      <th>50</th>\n",
       "      <td>1059760</td>\n",
       "      <td>6</td>\n",
       "      <td>2019-09-20T19:00:00Z</td>\n",
       "      <td>Bournemouth</td>\n",
       "      <td>2</td>\n",
       "      <td>2</td>\n",
       "      <td>1.000000</td>\n",
       "      <td>Southampton</td>\n",
       "    </tr>\n",
       "    <tr>\n",
       "      <th>4</th>\n",
       "      <td>1059705</td>\n",
       "      <td>1</td>\n",
       "      <td>2019-08-10T14:00:00Z</td>\n",
       "      <td>Crystal Palace</td>\n",
       "      <td>2</td>\n",
       "      <td>2</td>\n",
       "      <td>1.000000</td>\n",
       "      <td>Everton</td>\n",
       "    </tr>\n",
       "    <tr>\n",
       "      <th>13</th>\n",
       "      <td>1059716</td>\n",
       "      <td>2</td>\n",
       "      <td>2019-08-17T14:00:00Z</td>\n",
       "      <td>Watford</td>\n",
       "      <td>3</td>\n",
       "      <td>4</td>\n",
       "      <td>0.500000</td>\n",
       "      <td>Everton</td>\n",
       "    </tr>\n",
       "    <tr>\n",
       "      <th>20</th>\n",
       "      <td>1059723</td>\n",
       "      <td>3</td>\n",
       "      <td>2019-08-23T19:00:00Z</td>\n",
       "      <td>Aston Villa</td>\n",
       "      <td>2</td>\n",
       "      <td>2</td>\n",
       "      <td>1.000000</td>\n",
       "      <td>Everton</td>\n",
       "    </tr>\n",
       "    <tr>\n",
       "      <th>38</th>\n",
       "      <td>1059736</td>\n",
       "      <td>4</td>\n",
       "      <td>2019-09-01T13:00:00Z</td>\n",
       "      <td>Wolves</td>\n",
       "      <td>3</td>\n",
       "      <td>4</td>\n",
       "      <td>0.500000</td>\n",
       "      <td>Everton</td>\n",
       "    </tr>\n",
       "    <tr>\n",
       "      <th>47</th>\n",
       "      <td>1059742</td>\n",
       "      <td>5</td>\n",
       "      <td>2019-09-15T13:00:00Z</td>\n",
       "      <td>Bournemouth</td>\n",
       "      <td>3</td>\n",
       "      <td>2</td>\n",
       "      <td>2.000000</td>\n",
       "      <td>Everton</td>\n",
       "    </tr>\n",
       "    <tr>\n",
       "      <th>54</th>\n",
       "      <td>1059756</td>\n",
       "      <td>6</td>\n",
       "      <td>2019-09-21T14:00:00Z</td>\n",
       "      <td>Sheffield Utd</td>\n",
       "      <td>2</td>\n",
       "      <td>4</td>\n",
       "      <td>0.333333</td>\n",
       "      <td>Everton</td>\n",
       "    </tr>\n",
       "    <tr>\n",
       "      <th>...</th>\n",
       "      <td>...</td>\n",
       "      <td>...</td>\n",
       "      <td>...</td>\n",
       "      <td>...</td>\n",
       "      <td>...</td>\n",
       "      <td>...</td>\n",
       "      <td>...</td>\n",
       "      <td>...</td>\n",
       "    </tr>\n",
       "    <tr>\n",
       "      <th>0</th>\n",
       "      <td>1059702</td>\n",
       "      <td>1</td>\n",
       "      <td>2019-08-09T19:00:00Z</td>\n",
       "      <td>Norwich</td>\n",
       "      <td>2</td>\n",
       "      <td>5</td>\n",
       "      <td>0.250000</td>\n",
       "      <td>Liverpool</td>\n",
       "    </tr>\n",
       "    <tr>\n",
       "      <th>15</th>\n",
       "      <td>1059720</td>\n",
       "      <td>2</td>\n",
       "      <td>2019-08-17T14:00:00Z</td>\n",
       "      <td>Southampton</td>\n",
       "      <td>2</td>\n",
       "      <td>4</td>\n",
       "      <td>0.333333</td>\n",
       "      <td>Liverpool</td>\n",
       "    </tr>\n",
       "    <tr>\n",
       "      <th>27</th>\n",
       "      <td>1059725</td>\n",
       "      <td>3</td>\n",
       "      <td>2019-08-24T16:30:00Z</td>\n",
       "      <td>Arsenal</td>\n",
       "      <td>4</td>\n",
       "      <td>5</td>\n",
       "      <td>0.500000</td>\n",
       "      <td>Liverpool</td>\n",
       "    </tr>\n",
       "    <tr>\n",
       "      <th>37</th>\n",
       "      <td>1059733</td>\n",
       "      <td>4</td>\n",
       "      <td>2019-08-31T16:30:00Z</td>\n",
       "      <td>Burnley</td>\n",
       "      <td>2</td>\n",
       "      <td>4</td>\n",
       "      <td>0.333333</td>\n",
       "      <td>Liverpool</td>\n",
       "    </tr>\n",
       "    <tr>\n",
       "      <th>40</th>\n",
       "      <td>1059745</td>\n",
       "      <td>5</td>\n",
       "      <td>2019-09-14T11:30:00Z</td>\n",
       "      <td>Newcastle</td>\n",
       "      <td>2</td>\n",
       "      <td>5</td>\n",
       "      <td>0.250000</td>\n",
       "      <td>Liverpool</td>\n",
       "    </tr>\n",
       "    <tr>\n",
       "      <th>59</th>\n",
       "      <td>1059754</td>\n",
       "      <td>6</td>\n",
       "      <td>2019-09-22T15:30:00Z</td>\n",
       "      <td>Chelsea</td>\n",
       "      <td>4</td>\n",
       "      <td>4</td>\n",
       "      <td>1.000000</td>\n",
       "      <td>Liverpool</td>\n",
       "    </tr>\n",
       "    <tr>\n",
       "      <th>6</th>\n",
       "      <td>1059707</td>\n",
       "      <td>1</td>\n",
       "      <td>2019-08-10T16:30:00Z</td>\n",
       "      <td>Aston Villa</td>\n",
       "      <td>2</td>\n",
       "      <td>4</td>\n",
       "      <td>0.333333</td>\n",
       "      <td>Spurs</td>\n",
       "    </tr>\n",
       "    <tr>\n",
       "      <th>16</th>\n",
       "      <td>1059717</td>\n",
       "      <td>2</td>\n",
       "      <td>2019-08-17T16:30:00Z</td>\n",
       "      <td>Man City</td>\n",
       "      <td>5</td>\n",
       "      <td>4</td>\n",
       "      <td>2.000000</td>\n",
       "      <td>Spurs</td>\n",
       "    </tr>\n",
       "    <tr>\n",
       "      <th>29</th>\n",
       "      <td>1059729</td>\n",
       "      <td>3</td>\n",
       "      <td>2019-08-25T15:30:00Z</td>\n",
       "      <td>Newcastle</td>\n",
       "      <td>2</td>\n",
       "      <td>4</td>\n",
       "      <td>0.333333</td>\n",
       "      <td>Spurs</td>\n",
       "    </tr>\n",
       "    <tr>\n",
       "      <th>39</th>\n",
       "      <td>1059732</td>\n",
       "      <td>4</td>\n",
       "      <td>2019-09-01T15:30:00Z</td>\n",
       "      <td>Arsenal</td>\n",
       "      <td>4</td>\n",
       "      <td>4</td>\n",
       "      <td>1.000000</td>\n",
       "      <td>Spurs</td>\n",
       "    </tr>\n",
       "    <tr>\n",
       "      <th>44</th>\n",
       "      <td>1059749</td>\n",
       "      <td>5</td>\n",
       "      <td>2019-09-14T14:00:00Z</td>\n",
       "      <td>Crystal Palace</td>\n",
       "      <td>3</td>\n",
       "      <td>4</td>\n",
       "      <td>0.500000</td>\n",
       "      <td>Spurs</td>\n",
       "    </tr>\n",
       "    <tr>\n",
       "      <th>51</th>\n",
       "      <td>1059757</td>\n",
       "      <td>6</td>\n",
       "      <td>2019-09-21T11:30:00Z</td>\n",
       "      <td>Leicester</td>\n",
       "      <td>3</td>\n",
       "      <td>4</td>\n",
       "      <td>0.500000</td>\n",
       "      <td>Spurs</td>\n",
       "    </tr>\n",
       "    <tr>\n",
       "      <th>4</th>\n",
       "      <td>1059705</td>\n",
       "      <td>1</td>\n",
       "      <td>2019-08-10T14:00:00Z</td>\n",
       "      <td>Everton</td>\n",
       "      <td>2</td>\n",
       "      <td>2</td>\n",
       "      <td>1.000000</td>\n",
       "      <td>Crystal Palace</td>\n",
       "    </tr>\n",
       "    <tr>\n",
       "      <th>17</th>\n",
       "      <td>1059719</td>\n",
       "      <td>2</td>\n",
       "      <td>2019-08-18T13:00:00Z</td>\n",
       "      <td>Sheffield Utd</td>\n",
       "      <td>2</td>\n",
       "      <td>3</td>\n",
       "      <td>0.500000</td>\n",
       "      <td>Crystal Palace</td>\n",
       "    </tr>\n",
       "    <tr>\n",
       "      <th>23</th>\n",
       "      <td>1059726</td>\n",
       "      <td>3</td>\n",
       "      <td>2019-08-24T14:00:00Z</td>\n",
       "      <td>Man Utd</td>\n",
       "      <td>4</td>\n",
       "      <td>3</td>\n",
       "      <td>2.000000</td>\n",
       "      <td>Crystal Palace</td>\n",
       "    </tr>\n",
       "    <tr>\n",
       "      <th>32</th>\n",
       "      <td>1059735</td>\n",
       "      <td>4</td>\n",
       "      <td>2019-08-31T14:00:00Z</td>\n",
       "      <td>Aston Villa</td>\n",
       "      <td>2</td>\n",
       "      <td>2</td>\n",
       "      <td>1.000000</td>\n",
       "      <td>Crystal Palace</td>\n",
       "    </tr>\n",
       "    <tr>\n",
       "      <th>44</th>\n",
       "      <td>1059749</td>\n",
       "      <td>5</td>\n",
       "      <td>2019-09-14T14:00:00Z</td>\n",
       "      <td>Spurs</td>\n",
       "      <td>4</td>\n",
       "      <td>3</td>\n",
       "      <td>2.000000</td>\n",
       "      <td>Crystal Palace</td>\n",
       "    </tr>\n",
       "    <tr>\n",
       "      <th>53</th>\n",
       "      <td>1059755</td>\n",
       "      <td>6</td>\n",
       "      <td>2019-09-21T14:00:00Z</td>\n",
       "      <td>Wolves</td>\n",
       "      <td>3</td>\n",
       "      <td>2</td>\n",
       "      <td>2.000000</td>\n",
       "      <td>Crystal Palace</td>\n",
       "    </tr>\n",
       "    <tr>\n",
       "      <th>7</th>\n",
       "      <td>1059706</td>\n",
       "      <td>1</td>\n",
       "      <td>2019-08-11T13:00:00Z</td>\n",
       "      <td>Wolves</td>\n",
       "      <td>3</td>\n",
       "      <td>3</td>\n",
       "      <td>1.000000</td>\n",
       "      <td>Leicester</td>\n",
       "    </tr>\n",
       "    <tr>\n",
       "      <th>18</th>\n",
       "      <td>1059715</td>\n",
       "      <td>2</td>\n",
       "      <td>2019-08-18T15:30:00Z</td>\n",
       "      <td>Chelsea</td>\n",
       "      <td>4</td>\n",
       "      <td>3</td>\n",
       "      <td>2.000000</td>\n",
       "      <td>Leicester</td>\n",
       "    </tr>\n",
       "    <tr>\n",
       "      <th>24</th>\n",
       "      <td>1059728</td>\n",
       "      <td>3</td>\n",
       "      <td>2019-08-24T14:00:00Z</td>\n",
       "      <td>Sheffield Utd</td>\n",
       "      <td>2</td>\n",
       "      <td>3</td>\n",
       "      <td>0.500000</td>\n",
       "      <td>Leicester</td>\n",
       "    </tr>\n",
       "    <tr>\n",
       "      <th>33</th>\n",
       "      <td>1059737</td>\n",
       "      <td>4</td>\n",
       "      <td>2019-08-31T14:00:00Z</td>\n",
       "      <td>Bournemouth</td>\n",
       "      <td>2</td>\n",
       "      <td>3</td>\n",
       "      <td>0.500000</td>\n",
       "      <td>Leicester</td>\n",
       "    </tr>\n",
       "    <tr>\n",
       "      <th>42</th>\n",
       "      <td>1059746</td>\n",
       "      <td>5</td>\n",
       "      <td>2019-09-14T14:00:00Z</td>\n",
       "      <td>Man Utd</td>\n",
       "      <td>4</td>\n",
       "      <td>3</td>\n",
       "      <td>2.000000</td>\n",
       "      <td>Leicester</td>\n",
       "    </tr>\n",
       "    <tr>\n",
       "      <th>51</th>\n",
       "      <td>1059757</td>\n",
       "      <td>6</td>\n",
       "      <td>2019-09-21T11:30:00Z</td>\n",
       "      <td>Spurs</td>\n",
       "      <td>4</td>\n",
       "      <td>3</td>\n",
       "      <td>2.000000</td>\n",
       "      <td>Leicester</td>\n",
       "    </tr>\n",
       "    <tr>\n",
       "      <th>9</th>\n",
       "      <td>1059710</td>\n",
       "      <td>1</td>\n",
       "      <td>2019-08-11T15:30:00Z</td>\n",
       "      <td>Chelsea</td>\n",
       "      <td>4</td>\n",
       "      <td>4</td>\n",
       "      <td>1.000000</td>\n",
       "      <td>Man Utd</td>\n",
       "    </tr>\n",
       "    <tr>\n",
       "      <th>19</th>\n",
       "      <td>1059721</td>\n",
       "      <td>2</td>\n",
       "      <td>2019-08-19T19:00:00Z</td>\n",
       "      <td>Wolves</td>\n",
       "      <td>3</td>\n",
       "      <td>4</td>\n",
       "      <td>0.500000</td>\n",
       "      <td>Man Utd</td>\n",
       "    </tr>\n",
       "    <tr>\n",
       "      <th>23</th>\n",
       "      <td>1059726</td>\n",
       "      <td>3</td>\n",
       "      <td>2019-08-24T14:00:00Z</td>\n",
       "      <td>Crystal Palace</td>\n",
       "      <td>3</td>\n",
       "      <td>4</td>\n",
       "      <td>0.500000</td>\n",
       "      <td>Man Utd</td>\n",
       "    </tr>\n",
       "    <tr>\n",
       "      <th>30</th>\n",
       "      <td>1059740</td>\n",
       "      <td>4</td>\n",
       "      <td>2019-08-31T11:30:00Z</td>\n",
       "      <td>Southampton</td>\n",
       "      <td>2</td>\n",
       "      <td>4</td>\n",
       "      <td>0.333333</td>\n",
       "      <td>Man Utd</td>\n",
       "    </tr>\n",
       "    <tr>\n",
       "      <th>42</th>\n",
       "      <td>1059746</td>\n",
       "      <td>5</td>\n",
       "      <td>2019-09-14T14:00:00Z</td>\n",
       "      <td>Leicester</td>\n",
       "      <td>3</td>\n",
       "      <td>4</td>\n",
       "      <td>0.500000</td>\n",
       "      <td>Man Utd</td>\n",
       "    </tr>\n",
       "    <tr>\n",
       "      <th>57</th>\n",
       "      <td>1059761</td>\n",
       "      <td>6</td>\n",
       "      <td>2019-09-22T13:00:00Z</td>\n",
       "      <td>West Ham</td>\n",
       "      <td>3</td>\n",
       "      <td>4</td>\n",
       "      <td>0.500000</td>\n",
       "      <td>Man Utd</td>\n",
       "    </tr>\n",
       "  </tbody>\n",
       "</table>\n",
       "<p>120 rows × 8 columns</p>\n",
       "</div>"
      ],
      "text/plain": [
       "       code  event          kickoff_time        opponent  difficulty  \\\n",
       "0   1059702      1  2019-08-09T19:00:00Z       Liverpool           5   \n",
       "14  1059718      2  2019-08-17T14:00:00Z       Newcastle           2   \n",
       "21  1059727      3  2019-08-24T11:30:00Z         Chelsea           4   \n",
       "36  1059741      4  2019-08-31T14:00:00Z        West Ham           3   \n",
       "46  1059747      5  2019-09-14T16:30:00Z        Man City           4   \n",
       "52  1059753      6  2019-09-21T14:00:00Z         Burnley           2   \n",
       "1   1059709      1  2019-08-10T11:30:00Z        West Ham           3   \n",
       "16  1059717      2  2019-08-17T16:30:00Z           Spurs           4   \n",
       "28  1059722      3  2019-08-25T13:00:00Z     Bournemouth           3   \n",
       "34  1059738      4  2019-08-31T14:00:00Z        Brighton           2   \n",
       "46  1059747      5  2019-09-14T16:30:00Z         Norwich           2   \n",
       "55  1059758      6  2019-09-21T14:00:00Z         Watford           3   \n",
       "2   1059703      1  2019-08-10T14:00:00Z     Bournemouth           3   \n",
       "17  1059719      2  2019-08-18T13:00:00Z  Crystal Palace           3   \n",
       "24  1059728      3  2019-08-24T14:00:00Z       Leicester           3   \n",
       "31  1059734      4  2019-08-31T14:00:00Z         Chelsea           4   \n",
       "43  1059748      5  2019-09-14T14:00:00Z     Southampton           2   \n",
       "54  1059756      6  2019-09-21T14:00:00Z         Everton           4   \n",
       "3   1059704      1  2019-08-10T14:00:00Z         Burnley           2   \n",
       "15  1059720      2  2019-08-17T14:00:00Z       Liverpool           4   \n",
       "22  1059724      3  2019-08-24T14:00:00Z        Brighton           2   \n",
       "30  1059740      4  2019-08-31T11:30:00Z         Man Utd           4   \n",
       "43  1059748      5  2019-09-14T14:00:00Z   Sheffield Utd           2   \n",
       "50  1059760      6  2019-09-20T19:00:00Z     Bournemouth           2   \n",
       "4   1059705      1  2019-08-10T14:00:00Z  Crystal Palace           2   \n",
       "13  1059716      2  2019-08-17T14:00:00Z         Watford           3   \n",
       "20  1059723      3  2019-08-23T19:00:00Z     Aston Villa           2   \n",
       "38  1059736      4  2019-09-01T13:00:00Z          Wolves           3   \n",
       "47  1059742      5  2019-09-15T13:00:00Z     Bournemouth           3   \n",
       "54  1059756      6  2019-09-21T14:00:00Z   Sheffield Utd           2   \n",
       "..      ...    ...                   ...             ...         ...   \n",
       "0   1059702      1  2019-08-09T19:00:00Z         Norwich           2   \n",
       "15  1059720      2  2019-08-17T14:00:00Z     Southampton           2   \n",
       "27  1059725      3  2019-08-24T16:30:00Z         Arsenal           4   \n",
       "37  1059733      4  2019-08-31T16:30:00Z         Burnley           2   \n",
       "40  1059745      5  2019-09-14T11:30:00Z       Newcastle           2   \n",
       "59  1059754      6  2019-09-22T15:30:00Z         Chelsea           4   \n",
       "6   1059707      1  2019-08-10T16:30:00Z     Aston Villa           2   \n",
       "16  1059717      2  2019-08-17T16:30:00Z        Man City           5   \n",
       "29  1059729      3  2019-08-25T15:30:00Z       Newcastle           2   \n",
       "39  1059732      4  2019-09-01T15:30:00Z         Arsenal           4   \n",
       "44  1059749      5  2019-09-14T14:00:00Z  Crystal Palace           3   \n",
       "51  1059757      6  2019-09-21T11:30:00Z       Leicester           3   \n",
       "4   1059705      1  2019-08-10T14:00:00Z         Everton           2   \n",
       "17  1059719      2  2019-08-18T13:00:00Z   Sheffield Utd           2   \n",
       "23  1059726      3  2019-08-24T14:00:00Z         Man Utd           4   \n",
       "32  1059735      4  2019-08-31T14:00:00Z     Aston Villa           2   \n",
       "44  1059749      5  2019-09-14T14:00:00Z           Spurs           4   \n",
       "53  1059755      6  2019-09-21T14:00:00Z          Wolves           3   \n",
       "7   1059706      1  2019-08-11T13:00:00Z          Wolves           3   \n",
       "18  1059715      2  2019-08-18T15:30:00Z         Chelsea           4   \n",
       "24  1059728      3  2019-08-24T14:00:00Z   Sheffield Utd           2   \n",
       "33  1059737      4  2019-08-31T14:00:00Z     Bournemouth           2   \n",
       "42  1059746      5  2019-09-14T14:00:00Z         Man Utd           4   \n",
       "51  1059757      6  2019-09-21T11:30:00Z           Spurs           4   \n",
       "9   1059710      1  2019-08-11T15:30:00Z         Chelsea           4   \n",
       "19  1059721      2  2019-08-19T19:00:00Z          Wolves           3   \n",
       "23  1059726      3  2019-08-24T14:00:00Z  Crystal Palace           3   \n",
       "30  1059740      4  2019-08-31T11:30:00Z     Southampton           2   \n",
       "42  1059746      5  2019-09-14T14:00:00Z       Leicester           3   \n",
       "57  1059761      6  2019-09-22T13:00:00Z        West Ham           3   \n",
       "\n",
       "    difficulty_other  relative_difficulty            team  \n",
       "0                  2             4.000000         Norwich  \n",
       "14                 2             1.000000         Norwich  \n",
       "21                 2             3.000000         Norwich  \n",
       "36                 2             2.000000         Norwich  \n",
       "46                 2             3.000000         Norwich  \n",
       "52                 2             1.000000         Norwich  \n",
       "1                  4             0.500000        Man City  \n",
       "16                 5             0.500000        Man City  \n",
       "28                 4             0.500000        Man City  \n",
       "34                 5             0.250000        Man City  \n",
       "46                 4             0.333333        Man City  \n",
       "55                 5             0.333333        Man City  \n",
       "2                  2             2.000000   Sheffield Utd  \n",
       "17                 2             2.000000   Sheffield Utd  \n",
       "24                 2             2.000000   Sheffield Utd  \n",
       "31                 2             3.000000   Sheffield Utd  \n",
       "43                 2             1.000000   Sheffield Utd  \n",
       "54                 2             3.000000   Sheffield Utd  \n",
       "3                  2             1.000000     Southampton  \n",
       "15                 2             3.000000     Southampton  \n",
       "22                 2             1.000000     Southampton  \n",
       "30                 2             3.000000     Southampton  \n",
       "43                 2             1.000000     Southampton  \n",
       "50                 2             1.000000     Southampton  \n",
       "4                  2             1.000000         Everton  \n",
       "13                 4             0.500000         Everton  \n",
       "20                 2             1.000000         Everton  \n",
       "38                 4             0.500000         Everton  \n",
       "47                 2             2.000000         Everton  \n",
       "54                 4             0.333333         Everton  \n",
       "..               ...                  ...             ...  \n",
       "0                  5             0.250000       Liverpool  \n",
       "15                 4             0.333333       Liverpool  \n",
       "27                 5             0.500000       Liverpool  \n",
       "37                 4             0.333333       Liverpool  \n",
       "40                 5             0.250000       Liverpool  \n",
       "59                 4             1.000000       Liverpool  \n",
       "6                  4             0.333333           Spurs  \n",
       "16                 4             2.000000           Spurs  \n",
       "29                 4             0.333333           Spurs  \n",
       "39                 4             1.000000           Spurs  \n",
       "44                 4             0.500000           Spurs  \n",
       "51                 4             0.500000           Spurs  \n",
       "4                  2             1.000000  Crystal Palace  \n",
       "17                 3             0.500000  Crystal Palace  \n",
       "23                 3             2.000000  Crystal Palace  \n",
       "32                 2             1.000000  Crystal Palace  \n",
       "44                 3             2.000000  Crystal Palace  \n",
       "53                 2             2.000000  Crystal Palace  \n",
       "7                  3             1.000000       Leicester  \n",
       "18                 3             2.000000       Leicester  \n",
       "24                 3             0.500000       Leicester  \n",
       "33                 3             0.500000       Leicester  \n",
       "42                 3             2.000000       Leicester  \n",
       "51                 3             2.000000       Leicester  \n",
       "9                  4             1.000000         Man Utd  \n",
       "19                 4             0.500000         Man Utd  \n",
       "23                 4             0.500000         Man Utd  \n",
       "30                 4             0.333333         Man Utd  \n",
       "42                 4             0.500000         Man Utd  \n",
       "57                 4             0.500000         Man Utd  \n",
       "\n",
       "[120 rows x 8 columns]"
      ]
     },
     "execution_count": 15,
     "metadata": {},
     "output_type": "execute_result"
    }
   ],
   "source": [
    "from functions import *\n",
    "\n",
    "df = get_upcoming_fixtures_by_club(base_path, season)\n",
    "df"
   ]
  },
  {
   "cell_type": "code",
   "execution_count": 8,
   "metadata": {},
   "outputs": [],
   "source": [
    "# get_upcoming_fixtures_data(base_path, season)"
   ]
  },
  {
   "cell_type": "code",
   "execution_count": null,
   "metadata": {},
   "outputs": [],
   "source": []
  }
 ],
 "metadata": {
  "kernelspec": {
   "display_name": "Python 3",
   "language": "python",
   "name": "python3"
  },
  "language_info": {
   "codemirror_mode": {
    "name": "ipython",
    "version": 3
   },
   "file_extension": ".py",
   "mimetype": "text/x-python",
   "name": "python",
   "nbconvert_exporter": "python",
   "pygments_lexer": "ipython3",
   "version": "3.7.4"
  }
 },
 "nbformat": 4,
 "nbformat_minor": 2
}
