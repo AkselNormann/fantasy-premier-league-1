{
 "cells": [
  {
   "cell_type": "code",
   "execution_count": 1,
   "metadata": {},
   "outputs": [
    {
     "name": "stdout",
     "output_type": "stream",
     "text": [
      "importing Jupyter notebook from functions.ipynb\n"
     ]
    }
   ],
   "source": [
    "%config IPCompleter.greedy=True\n",
    "\n",
    "import import_ipynb\n",
    "from functions import get_upcoming_team_fixtures_data\n",
    "from functions import get_upcoming_fixtures_data\n",
    "from functions import get_past_fixtures_data\n",
    "from functions import get_past_team_fixtures_data\n",
    "\n",
    "import numpy as np\n",
    "\n",
    "import os\n",
    "import requests\n",
    "import pandas"
   ]
  },
  {
   "cell_type": "code",
   "execution_count": 2,
   "metadata": {},
   "outputs": [],
   "source": [
    "import plotly.offline\n",
    "import plotly.graph_objects as go\n",
    "\n",
    "import chart_studio\n",
    "import chart_studio.plotly as py\n",
    "#chart_studio .tools.set_credentials_file(username='user', api_key='***')"
   ]
  },
  {
   "cell_type": "code",
   "execution_count": 20,
   "metadata": {},
   "outputs": [],
   "source": [
    "def next_fixtures(season, base_path, no_fixtures=6, limit_diff=10, no_above_limit_occ=20):\n",
    "    clubs = get_upcoming_fixtures_data(base_path, season)['team_a'].unique()\n",
    "    fig = go.Figure()\n",
    "    alldf=pandas.DataFrame()\n",
    "\n",
    "    for club in clubs:\n",
    "        df = get_upcoming_team_fixtures_data(club, base_path, season).head(no_fixtures)\n",
    "        df['team']=club\n",
    "        \n",
    "        if (max(df['difficulty'])>limit_diff & len(df[df['difficulty'] > limit_diff]) > no_above_limit_occ):\n",
    "            continue\n",
    "        \n",
    "        alldf = alldf.append(df)\n",
    "        \n",
    "        fig.add_trace(go.Scatter(\n",
    "            x=df['event'], \n",
    "            y=df['difficulty'],\n",
    "            name=club,          \n",
    "            mode='lines',\n",
    "            line=dict(shape='spline', width=4, smoothing=1.3),\n",
    "            text = df['opponent'],\n",
    "            hoverlabel= dict(\n",
    "                font=dict(color='#404040'),\n",
    "                bordercolor='#404040',\n",
    "                bgcolor='white'\n",
    "            ),\n",
    "            hovertemplate = \"<b>\"+club+\"</b></br></br>vs %{text}</br></br><extra></extra>\"))\n",
    "        \n",
    "    fig.update_layout(\n",
    "        legend=go.layout.Legend(\n",
    "            traceorder=\"normal\",\n",
    "            font=dict(color=\"#eee\"),\n",
    "            bgcolor=\"rgba(0,0,0,0)\"\n",
    "        )\n",
    "    )\n",
    "    \n",
    "    fig.update_yaxes(title_text=\"Difficulty\",color='#eee')\n",
    "    fig.update_xaxes(title_text=\"Gameweek\",color='#eee')\n",
    "\n",
    "    fig.update_scenes(bgcolor='rgba(0,0,0,0)')\n",
    "\n",
    "    fig.layout.update(plot_bgcolor='rgba(0,0,0,0)', paper_bgcolor='rgba(0,0,0,0)')\n",
    "    chart_studio.plotly.plot(fig, filename=\"easiest_schedule\")\n",
    "    plotly.offline.iplot(fig)\n",
    "    return alldf"
   ]
  },
  {
   "cell_type": "code",
   "execution_count": 21,
   "metadata": {},
   "outputs": [
    {
     "data": {
      "application/vnd.plotly.v1+json": {
       "config": {
        "linkText": "Export to plot.ly",
        "plotlyServerURL": "https://plot.ly",
        "showLink": false
       },
       "data": [
        {
         "hoverlabel": {
          "bgcolor": "white",
          "bordercolor": "#404040",
          "font": {
           "color": "#404040"
          }
         },
         "hovertemplate": "<b>Man City</b></br></br>vs %{text}</br></br><extra></extra>",
         "line": {
          "shape": "spline",
          "smoothing": 1.3,
          "width": 4
         },
         "mode": "lines",
         "name": "Man City",
         "text": [
          "West Ham",
          "Spurs",
          "Bournemouth",
          "Brighton",
          "Norwich",
          "Watford"
         ],
         "type": "scatter",
         "x": [
          1,
          2,
          3,
          4,
          5,
          6
         ],
         "y": [
          3,
          4,
          3,
          2,
          2,
          3
         ]
        },
        {
         "hoverlabel": {
          "bgcolor": "white",
          "bordercolor": "#404040",
          "font": {
           "color": "#404040"
          }
         },
         "hovertemplate": "<b>Everton</b></br></br>vs %{text}</br></br><extra></extra>",
         "line": {
          "shape": "spline",
          "smoothing": 1.3,
          "width": 4
         },
         "mode": "lines",
         "name": "Everton",
         "text": [
          "Crystal Palace",
          "Watford",
          "Aston Villa",
          "Wolves",
          "Bournemouth",
          "Sheffield Utd"
         ],
         "type": "scatter",
         "x": [
          1,
          2,
          3,
          4,
          5,
          6
         ],
         "y": [
          2,
          3,
          2,
          3,
          3,
          2
         ]
        },
        {
         "hoverlabel": {
          "bgcolor": "white",
          "bordercolor": "#404040",
          "font": {
           "color": "#404040"
          }
         },
         "hovertemplate": "<b>Brighton</b></br></br>vs %{text}</br></br><extra></extra>",
         "line": {
          "shape": "spline",
          "smoothing": 1.3,
          "width": 4
         },
         "mode": "lines",
         "name": "Brighton",
         "text": [
          "Watford",
          "West Ham",
          "Southampton",
          "Man City",
          "Burnley",
          "Newcastle"
         ],
         "type": "scatter",
         "x": [
          1,
          2,
          3,
          4,
          5,
          6
         ],
         "y": [
          3,
          2,
          2,
          5,
          2,
          3
         ]
        },
        {
         "hoverlabel": {
          "bgcolor": "white",
          "bordercolor": "#404040",
          "font": {
           "color": "#404040"
          }
         },
         "hovertemplate": "<b>Bournemouth</b></br></br>vs %{text}</br></br><extra></extra>",
         "line": {
          "shape": "spline",
          "smoothing": 1.3,
          "width": 4
         },
         "mode": "lines",
         "name": "Bournemouth",
         "text": [
          "Sheffield Utd",
          "Aston Villa",
          "Man City",
          "Leicester",
          "Everton",
          "Southampton"
         ],
         "type": "scatter",
         "x": [
          1,
          2,
          3,
          4,
          5,
          6
         ],
         "y": [
          2,
          2,
          4,
          3,
          2,
          2
         ]
        },
        {
         "hoverlabel": {
          "bgcolor": "white",
          "bordercolor": "#404040",
          "font": {
           "color": "#404040"
          }
         },
         "hovertemplate": "<b>Man Utd</b></br></br>vs %{text}</br></br><extra></extra>",
         "line": {
          "shape": "spline",
          "smoothing": 1.3,
          "width": 4
         },
         "mode": "lines",
         "name": "Man Utd",
         "text": [
          "Chelsea",
          "Wolves",
          "Crystal Palace",
          "Southampton",
          "Leicester",
          "West Ham"
         ],
         "type": "scatter",
         "x": [
          1,
          2,
          3,
          4,
          5,
          6
         ],
         "y": [
          4,
          3,
          3,
          2,
          3,
          3
         ]
        }
       ],
       "layout": {
        "legend": {
         "bgcolor": "rgba(0,0,0,0)",
         "font": {
          "color": "#eee"
         },
         "traceorder": "normal"
        },
        "paper_bgcolor": "rgba(0,0,0,0)",
        "plot_bgcolor": "rgba(0,0,0,0)",
        "scene": {
         "bgcolor": "rgba(0,0,0,0)"
        },
        "template": {
         "data": {
          "bar": [
           {
            "error_x": {
             "color": "#2a3f5f"
            },
            "error_y": {
             "color": "#2a3f5f"
            },
            "marker": {
             "line": {
              "color": "#E5ECF6",
              "width": 0.5
             }
            },
            "type": "bar"
           }
          ],
          "barpolar": [
           {
            "marker": {
             "line": {
              "color": "#E5ECF6",
              "width": 0.5
             }
            },
            "type": "barpolar"
           }
          ],
          "carpet": [
           {
            "aaxis": {
             "endlinecolor": "#2a3f5f",
             "gridcolor": "white",
             "linecolor": "white",
             "minorgridcolor": "white",
             "startlinecolor": "#2a3f5f"
            },
            "baxis": {
             "endlinecolor": "#2a3f5f",
             "gridcolor": "white",
             "linecolor": "white",
             "minorgridcolor": "white",
             "startlinecolor": "#2a3f5f"
            },
            "type": "carpet"
           }
          ],
          "choropleth": [
           {
            "colorbar": {
             "outlinewidth": 0,
             "ticks": ""
            },
            "type": "choropleth"
           }
          ],
          "contour": [
           {
            "colorbar": {
             "outlinewidth": 0,
             "ticks": ""
            },
            "colorscale": [
             [
              0,
              "#0d0887"
             ],
             [
              0.1111111111111111,
              "#46039f"
             ],
             [
              0.2222222222222222,
              "#7201a8"
             ],
             [
              0.3333333333333333,
              "#9c179e"
             ],
             [
              0.4444444444444444,
              "#bd3786"
             ],
             [
              0.5555555555555556,
              "#d8576b"
             ],
             [
              0.6666666666666666,
              "#ed7953"
             ],
             [
              0.7777777777777778,
              "#fb9f3a"
             ],
             [
              0.8888888888888888,
              "#fdca26"
             ],
             [
              1,
              "#f0f921"
             ]
            ],
            "type": "contour"
           }
          ],
          "contourcarpet": [
           {
            "colorbar": {
             "outlinewidth": 0,
             "ticks": ""
            },
            "type": "contourcarpet"
           }
          ],
          "heatmap": [
           {
            "colorbar": {
             "outlinewidth": 0,
             "ticks": ""
            },
            "colorscale": [
             [
              0,
              "#0d0887"
             ],
             [
              0.1111111111111111,
              "#46039f"
             ],
             [
              0.2222222222222222,
              "#7201a8"
             ],
             [
              0.3333333333333333,
              "#9c179e"
             ],
             [
              0.4444444444444444,
              "#bd3786"
             ],
             [
              0.5555555555555556,
              "#d8576b"
             ],
             [
              0.6666666666666666,
              "#ed7953"
             ],
             [
              0.7777777777777778,
              "#fb9f3a"
             ],
             [
              0.8888888888888888,
              "#fdca26"
             ],
             [
              1,
              "#f0f921"
             ]
            ],
            "type": "heatmap"
           }
          ],
          "heatmapgl": [
           {
            "colorbar": {
             "outlinewidth": 0,
             "ticks": ""
            },
            "colorscale": [
             [
              0,
              "#0d0887"
             ],
             [
              0.1111111111111111,
              "#46039f"
             ],
             [
              0.2222222222222222,
              "#7201a8"
             ],
             [
              0.3333333333333333,
              "#9c179e"
             ],
             [
              0.4444444444444444,
              "#bd3786"
             ],
             [
              0.5555555555555556,
              "#d8576b"
             ],
             [
              0.6666666666666666,
              "#ed7953"
             ],
             [
              0.7777777777777778,
              "#fb9f3a"
             ],
             [
              0.8888888888888888,
              "#fdca26"
             ],
             [
              1,
              "#f0f921"
             ]
            ],
            "type": "heatmapgl"
           }
          ],
          "histogram": [
           {
            "marker": {
             "colorbar": {
              "outlinewidth": 0,
              "ticks": ""
             }
            },
            "type": "histogram"
           }
          ],
          "histogram2d": [
           {
            "colorbar": {
             "outlinewidth": 0,
             "ticks": ""
            },
            "colorscale": [
             [
              0,
              "#0d0887"
             ],
             [
              0.1111111111111111,
              "#46039f"
             ],
             [
              0.2222222222222222,
              "#7201a8"
             ],
             [
              0.3333333333333333,
              "#9c179e"
             ],
             [
              0.4444444444444444,
              "#bd3786"
             ],
             [
              0.5555555555555556,
              "#d8576b"
             ],
             [
              0.6666666666666666,
              "#ed7953"
             ],
             [
              0.7777777777777778,
              "#fb9f3a"
             ],
             [
              0.8888888888888888,
              "#fdca26"
             ],
             [
              1,
              "#f0f921"
             ]
            ],
            "type": "histogram2d"
           }
          ],
          "histogram2dcontour": [
           {
            "colorbar": {
             "outlinewidth": 0,
             "ticks": ""
            },
            "colorscale": [
             [
              0,
              "#0d0887"
             ],
             [
              0.1111111111111111,
              "#46039f"
             ],
             [
              0.2222222222222222,
              "#7201a8"
             ],
             [
              0.3333333333333333,
              "#9c179e"
             ],
             [
              0.4444444444444444,
              "#bd3786"
             ],
             [
              0.5555555555555556,
              "#d8576b"
             ],
             [
              0.6666666666666666,
              "#ed7953"
             ],
             [
              0.7777777777777778,
              "#fb9f3a"
             ],
             [
              0.8888888888888888,
              "#fdca26"
             ],
             [
              1,
              "#f0f921"
             ]
            ],
            "type": "histogram2dcontour"
           }
          ],
          "mesh3d": [
           {
            "colorbar": {
             "outlinewidth": 0,
             "ticks": ""
            },
            "type": "mesh3d"
           }
          ],
          "parcoords": [
           {
            "line": {
             "colorbar": {
              "outlinewidth": 0,
              "ticks": ""
             }
            },
            "type": "parcoords"
           }
          ],
          "scatter": [
           {
            "marker": {
             "colorbar": {
              "outlinewidth": 0,
              "ticks": ""
             }
            },
            "type": "scatter"
           }
          ],
          "scatter3d": [
           {
            "line": {
             "colorbar": {
              "outlinewidth": 0,
              "ticks": ""
             }
            },
            "marker": {
             "colorbar": {
              "outlinewidth": 0,
              "ticks": ""
             }
            },
            "type": "scatter3d"
           }
          ],
          "scattercarpet": [
           {
            "marker": {
             "colorbar": {
              "outlinewidth": 0,
              "ticks": ""
             }
            },
            "type": "scattercarpet"
           }
          ],
          "scattergeo": [
           {
            "marker": {
             "colorbar": {
              "outlinewidth": 0,
              "ticks": ""
             }
            },
            "type": "scattergeo"
           }
          ],
          "scattergl": [
           {
            "marker": {
             "colorbar": {
              "outlinewidth": 0,
              "ticks": ""
             }
            },
            "type": "scattergl"
           }
          ],
          "scattermapbox": [
           {
            "marker": {
             "colorbar": {
              "outlinewidth": 0,
              "ticks": ""
             }
            },
            "type": "scattermapbox"
           }
          ],
          "scatterpolar": [
           {
            "marker": {
             "colorbar": {
              "outlinewidth": 0,
              "ticks": ""
             }
            },
            "type": "scatterpolar"
           }
          ],
          "scatterpolargl": [
           {
            "marker": {
             "colorbar": {
              "outlinewidth": 0,
              "ticks": ""
             }
            },
            "type": "scatterpolargl"
           }
          ],
          "scatterternary": [
           {
            "marker": {
             "colorbar": {
              "outlinewidth": 0,
              "ticks": ""
             }
            },
            "type": "scatterternary"
           }
          ],
          "surface": [
           {
            "colorbar": {
             "outlinewidth": 0,
             "ticks": ""
            },
            "colorscale": [
             [
              0,
              "#0d0887"
             ],
             [
              0.1111111111111111,
              "#46039f"
             ],
             [
              0.2222222222222222,
              "#7201a8"
             ],
             [
              0.3333333333333333,
              "#9c179e"
             ],
             [
              0.4444444444444444,
              "#bd3786"
             ],
             [
              0.5555555555555556,
              "#d8576b"
             ],
             [
              0.6666666666666666,
              "#ed7953"
             ],
             [
              0.7777777777777778,
              "#fb9f3a"
             ],
             [
              0.8888888888888888,
              "#fdca26"
             ],
             [
              1,
              "#f0f921"
             ]
            ],
            "type": "surface"
           }
          ],
          "table": [
           {
            "cells": {
             "fill": {
              "color": "#EBF0F8"
             },
             "line": {
              "color": "white"
             }
            },
            "header": {
             "fill": {
              "color": "#C8D4E3"
             },
             "line": {
              "color": "white"
             }
            },
            "type": "table"
           }
          ]
         },
         "layout": {
          "annotationdefaults": {
           "arrowcolor": "#2a3f5f",
           "arrowhead": 0,
           "arrowwidth": 1
          },
          "colorscale": {
           "diverging": [
            [
             0,
             "#8e0152"
            ],
            [
             0.1,
             "#c51b7d"
            ],
            [
             0.2,
             "#de77ae"
            ],
            [
             0.3,
             "#f1b6da"
            ],
            [
             0.4,
             "#fde0ef"
            ],
            [
             0.5,
             "#f7f7f7"
            ],
            [
             0.6,
             "#e6f5d0"
            ],
            [
             0.7,
             "#b8e186"
            ],
            [
             0.8,
             "#7fbc41"
            ],
            [
             0.9,
             "#4d9221"
            ],
            [
             1,
             "#276419"
            ]
           ],
           "sequential": [
            [
             0,
             "#0d0887"
            ],
            [
             0.1111111111111111,
             "#46039f"
            ],
            [
             0.2222222222222222,
             "#7201a8"
            ],
            [
             0.3333333333333333,
             "#9c179e"
            ],
            [
             0.4444444444444444,
             "#bd3786"
            ],
            [
             0.5555555555555556,
             "#d8576b"
            ],
            [
             0.6666666666666666,
             "#ed7953"
            ],
            [
             0.7777777777777778,
             "#fb9f3a"
            ],
            [
             0.8888888888888888,
             "#fdca26"
            ],
            [
             1,
             "#f0f921"
            ]
           ],
           "sequentialminus": [
            [
             0,
             "#0d0887"
            ],
            [
             0.1111111111111111,
             "#46039f"
            ],
            [
             0.2222222222222222,
             "#7201a8"
            ],
            [
             0.3333333333333333,
             "#9c179e"
            ],
            [
             0.4444444444444444,
             "#bd3786"
            ],
            [
             0.5555555555555556,
             "#d8576b"
            ],
            [
             0.6666666666666666,
             "#ed7953"
            ],
            [
             0.7777777777777778,
             "#fb9f3a"
            ],
            [
             0.8888888888888888,
             "#fdca26"
            ],
            [
             1,
             "#f0f921"
            ]
           ]
          },
          "colorway": [
           "#636efa",
           "#EF553B",
           "#00cc96",
           "#ab63fa",
           "#FFA15A",
           "#19d3f3",
           "#FF6692",
           "#B6E880",
           "#FF97FF",
           "#FECB52"
          ],
          "font": {
           "color": "#2a3f5f"
          },
          "geo": {
           "bgcolor": "white",
           "lakecolor": "white",
           "landcolor": "#E5ECF6",
           "showlakes": true,
           "showland": true,
           "subunitcolor": "white"
          },
          "hoverlabel": {
           "align": "left"
          },
          "hovermode": "closest",
          "mapbox": {
           "style": "light"
          },
          "paper_bgcolor": "white",
          "plot_bgcolor": "#E5ECF6",
          "polar": {
           "angularaxis": {
            "gridcolor": "white",
            "linecolor": "white",
            "ticks": ""
           },
           "bgcolor": "#E5ECF6",
           "radialaxis": {
            "gridcolor": "white",
            "linecolor": "white",
            "ticks": ""
           }
          },
          "scene": {
           "xaxis": {
            "backgroundcolor": "#E5ECF6",
            "gridcolor": "white",
            "gridwidth": 2,
            "linecolor": "white",
            "showbackground": true,
            "ticks": "",
            "zerolinecolor": "white"
           },
           "yaxis": {
            "backgroundcolor": "#E5ECF6",
            "gridcolor": "white",
            "gridwidth": 2,
            "linecolor": "white",
            "showbackground": true,
            "ticks": "",
            "zerolinecolor": "white"
           },
           "zaxis": {
            "backgroundcolor": "#E5ECF6",
            "gridcolor": "white",
            "gridwidth": 2,
            "linecolor": "white",
            "showbackground": true,
            "ticks": "",
            "zerolinecolor": "white"
           }
          },
          "shapedefaults": {
           "line": {
            "color": "#2a3f5f"
           }
          },
          "ternary": {
           "aaxis": {
            "gridcolor": "white",
            "linecolor": "white",
            "ticks": ""
           },
           "baxis": {
            "gridcolor": "white",
            "linecolor": "white",
            "ticks": ""
           },
           "bgcolor": "#E5ECF6",
           "caxis": {
            "gridcolor": "white",
            "linecolor": "white",
            "ticks": ""
           }
          },
          "title": {
           "x": 0.05
          },
          "xaxis": {
           "automargin": true,
           "gridcolor": "white",
           "linecolor": "white",
           "ticks": "",
           "zerolinecolor": "white",
           "zerolinewidth": 2
          },
          "yaxis": {
           "automargin": true,
           "gridcolor": "white",
           "linecolor": "white",
           "ticks": "",
           "zerolinecolor": "white",
           "zerolinewidth": 2
          }
         }
        },
        "xaxis": {
         "color": "#eee",
         "title": {
          "text": "Gameweek"
         }
        },
        "yaxis": {
         "color": "#eee",
         "title": {
          "text": "Difficulty"
         }
        }
       }
      },
      "text/html": [
       "<div>\n",
       "        \n",
       "        \n",
       "            <div id=\"93a032f5-c403-4ccd-84cf-de12ae1a5c66\" class=\"plotly-graph-div\" style=\"height:525px; width:100%;\"></div>\n",
       "            <script type=\"text/javascript\">\n",
       "                require([\"plotly\"], function(Plotly) {\n",
       "                    window.PLOTLYENV=window.PLOTLYENV || {};\n",
       "                    \n",
       "                if (document.getElementById(\"93a032f5-c403-4ccd-84cf-de12ae1a5c66\")) {\n",
       "                    Plotly.newPlot(\n",
       "                        '93a032f5-c403-4ccd-84cf-de12ae1a5c66',\n",
       "                        [{\"hoverlabel\": {\"bgcolor\": \"white\", \"bordercolor\": \"#404040\", \"font\": {\"color\": \"#404040\"}}, \"hovertemplate\": \"<b>Man City</b></br></br>vs %{text}</br></br><extra></extra>\", \"line\": {\"shape\": \"spline\", \"smoothing\": 1.3, \"width\": 4}, \"mode\": \"lines\", \"name\": \"Man City\", \"text\": [\"West Ham\", \"Spurs\", \"Bournemouth\", \"Brighton\", \"Norwich\", \"Watford\"], \"type\": \"scatter\", \"x\": [1, 2, 3, 4, 5, 6], \"y\": [3, 4, 3, 2, 2, 3]}, {\"hoverlabel\": {\"bgcolor\": \"white\", \"bordercolor\": \"#404040\", \"font\": {\"color\": \"#404040\"}}, \"hovertemplate\": \"<b>Everton</b></br></br>vs %{text}</br></br><extra></extra>\", \"line\": {\"shape\": \"spline\", \"smoothing\": 1.3, \"width\": 4}, \"mode\": \"lines\", \"name\": \"Everton\", \"text\": [\"Crystal Palace\", \"Watford\", \"Aston Villa\", \"Wolves\", \"Bournemouth\", \"Sheffield Utd\"], \"type\": \"scatter\", \"x\": [1, 2, 3, 4, 5, 6], \"y\": [2, 3, 2, 3, 3, 2]}, {\"hoverlabel\": {\"bgcolor\": \"white\", \"bordercolor\": \"#404040\", \"font\": {\"color\": \"#404040\"}}, \"hovertemplate\": \"<b>Brighton</b></br></br>vs %{text}</br></br><extra></extra>\", \"line\": {\"shape\": \"spline\", \"smoothing\": 1.3, \"width\": 4}, \"mode\": \"lines\", \"name\": \"Brighton\", \"text\": [\"Watford\", \"West Ham\", \"Southampton\", \"Man City\", \"Burnley\", \"Newcastle\"], \"type\": \"scatter\", \"x\": [1, 2, 3, 4, 5, 6], \"y\": [3, 2, 2, 5, 2, 3]}, {\"hoverlabel\": {\"bgcolor\": \"white\", \"bordercolor\": \"#404040\", \"font\": {\"color\": \"#404040\"}}, \"hovertemplate\": \"<b>Bournemouth</b></br></br>vs %{text}</br></br><extra></extra>\", \"line\": {\"shape\": \"spline\", \"smoothing\": 1.3, \"width\": 4}, \"mode\": \"lines\", \"name\": \"Bournemouth\", \"text\": [\"Sheffield Utd\", \"Aston Villa\", \"Man City\", \"Leicester\", \"Everton\", \"Southampton\"], \"type\": \"scatter\", \"x\": [1, 2, 3, 4, 5, 6], \"y\": [2, 2, 4, 3, 2, 2]}, {\"hoverlabel\": {\"bgcolor\": \"white\", \"bordercolor\": \"#404040\", \"font\": {\"color\": \"#404040\"}}, \"hovertemplate\": \"<b>Man Utd</b></br></br>vs %{text}</br></br><extra></extra>\", \"line\": {\"shape\": \"spline\", \"smoothing\": 1.3, \"width\": 4}, \"mode\": \"lines\", \"name\": \"Man Utd\", \"text\": [\"Chelsea\", \"Wolves\", \"Crystal Palace\", \"Southampton\", \"Leicester\", \"West Ham\"], \"type\": \"scatter\", \"x\": [1, 2, 3, 4, 5, 6], \"y\": [4, 3, 3, 2, 3, 3]}],\n",
       "                        {\"legend\": {\"bgcolor\": \"rgba(0,0,0,0)\", \"font\": {\"color\": \"#eee\"}, \"traceorder\": \"normal\"}, \"paper_bgcolor\": \"rgba(0,0,0,0)\", \"plot_bgcolor\": \"rgba(0,0,0,0)\", \"scene\": {\"bgcolor\": \"rgba(0,0,0,0)\"}, \"template\": {\"data\": {\"bar\": [{\"error_x\": {\"color\": \"#2a3f5f\"}, \"error_y\": {\"color\": \"#2a3f5f\"}, \"marker\": {\"line\": {\"color\": \"#E5ECF6\", \"width\": 0.5}}, \"type\": \"bar\"}], \"barpolar\": [{\"marker\": {\"line\": {\"color\": \"#E5ECF6\", \"width\": 0.5}}, \"type\": \"barpolar\"}], \"carpet\": [{\"aaxis\": {\"endlinecolor\": \"#2a3f5f\", \"gridcolor\": \"white\", \"linecolor\": \"white\", \"minorgridcolor\": \"white\", \"startlinecolor\": \"#2a3f5f\"}, \"baxis\": {\"endlinecolor\": \"#2a3f5f\", \"gridcolor\": \"white\", \"linecolor\": \"white\", \"minorgridcolor\": \"white\", \"startlinecolor\": \"#2a3f5f\"}, \"type\": \"carpet\"}], \"choropleth\": [{\"colorbar\": {\"outlinewidth\": 0, \"ticks\": \"\"}, \"type\": \"choropleth\"}], \"contour\": [{\"colorbar\": {\"outlinewidth\": 0, \"ticks\": \"\"}, \"colorscale\": [[0.0, \"#0d0887\"], [0.1111111111111111, \"#46039f\"], [0.2222222222222222, \"#7201a8\"], [0.3333333333333333, \"#9c179e\"], [0.4444444444444444, \"#bd3786\"], [0.5555555555555556, \"#d8576b\"], [0.6666666666666666, \"#ed7953\"], [0.7777777777777778, \"#fb9f3a\"], [0.8888888888888888, \"#fdca26\"], [1.0, \"#f0f921\"]], \"type\": \"contour\"}], \"contourcarpet\": [{\"colorbar\": {\"outlinewidth\": 0, \"ticks\": \"\"}, \"type\": \"contourcarpet\"}], \"heatmap\": [{\"colorbar\": {\"outlinewidth\": 0, \"ticks\": \"\"}, \"colorscale\": [[0.0, \"#0d0887\"], [0.1111111111111111, \"#46039f\"], [0.2222222222222222, \"#7201a8\"], [0.3333333333333333, \"#9c179e\"], [0.4444444444444444, \"#bd3786\"], [0.5555555555555556, \"#d8576b\"], [0.6666666666666666, \"#ed7953\"], [0.7777777777777778, \"#fb9f3a\"], [0.8888888888888888, \"#fdca26\"], [1.0, \"#f0f921\"]], \"type\": \"heatmap\"}], \"heatmapgl\": [{\"colorbar\": {\"outlinewidth\": 0, \"ticks\": \"\"}, \"colorscale\": [[0.0, \"#0d0887\"], [0.1111111111111111, \"#46039f\"], [0.2222222222222222, \"#7201a8\"], [0.3333333333333333, \"#9c179e\"], [0.4444444444444444, \"#bd3786\"], [0.5555555555555556, \"#d8576b\"], [0.6666666666666666, \"#ed7953\"], [0.7777777777777778, \"#fb9f3a\"], [0.8888888888888888, \"#fdca26\"], [1.0, \"#f0f921\"]], \"type\": \"heatmapgl\"}], \"histogram\": [{\"marker\": {\"colorbar\": {\"outlinewidth\": 0, \"ticks\": \"\"}}, \"type\": \"histogram\"}], \"histogram2d\": [{\"colorbar\": {\"outlinewidth\": 0, \"ticks\": \"\"}, \"colorscale\": [[0.0, \"#0d0887\"], [0.1111111111111111, \"#46039f\"], [0.2222222222222222, \"#7201a8\"], [0.3333333333333333, \"#9c179e\"], [0.4444444444444444, \"#bd3786\"], [0.5555555555555556, \"#d8576b\"], [0.6666666666666666, \"#ed7953\"], [0.7777777777777778, \"#fb9f3a\"], [0.8888888888888888, \"#fdca26\"], [1.0, \"#f0f921\"]], \"type\": \"histogram2d\"}], \"histogram2dcontour\": [{\"colorbar\": {\"outlinewidth\": 0, \"ticks\": \"\"}, \"colorscale\": [[0.0, \"#0d0887\"], [0.1111111111111111, \"#46039f\"], [0.2222222222222222, \"#7201a8\"], [0.3333333333333333, \"#9c179e\"], [0.4444444444444444, \"#bd3786\"], [0.5555555555555556, \"#d8576b\"], [0.6666666666666666, \"#ed7953\"], [0.7777777777777778, \"#fb9f3a\"], [0.8888888888888888, \"#fdca26\"], [1.0, \"#f0f921\"]], \"type\": \"histogram2dcontour\"}], \"mesh3d\": [{\"colorbar\": {\"outlinewidth\": 0, \"ticks\": \"\"}, \"type\": \"mesh3d\"}], \"parcoords\": [{\"line\": {\"colorbar\": {\"outlinewidth\": 0, \"ticks\": \"\"}}, \"type\": \"parcoords\"}], \"scatter\": [{\"marker\": {\"colorbar\": {\"outlinewidth\": 0, \"ticks\": \"\"}}, \"type\": \"scatter\"}], \"scatter3d\": [{\"line\": {\"colorbar\": {\"outlinewidth\": 0, \"ticks\": \"\"}}, \"marker\": {\"colorbar\": {\"outlinewidth\": 0, \"ticks\": \"\"}}, \"type\": \"scatter3d\"}], \"scattercarpet\": [{\"marker\": {\"colorbar\": {\"outlinewidth\": 0, \"ticks\": \"\"}}, \"type\": \"scattercarpet\"}], \"scattergeo\": [{\"marker\": {\"colorbar\": {\"outlinewidth\": 0, \"ticks\": \"\"}}, \"type\": \"scattergeo\"}], \"scattergl\": [{\"marker\": {\"colorbar\": {\"outlinewidth\": 0, \"ticks\": \"\"}}, \"type\": \"scattergl\"}], \"scattermapbox\": [{\"marker\": {\"colorbar\": {\"outlinewidth\": 0, \"ticks\": \"\"}}, \"type\": \"scattermapbox\"}], \"scatterpolar\": [{\"marker\": {\"colorbar\": {\"outlinewidth\": 0, \"ticks\": \"\"}}, \"type\": \"scatterpolar\"}], \"scatterpolargl\": [{\"marker\": {\"colorbar\": {\"outlinewidth\": 0, \"ticks\": \"\"}}, \"type\": \"scatterpolargl\"}], \"scatterternary\": [{\"marker\": {\"colorbar\": {\"outlinewidth\": 0, \"ticks\": \"\"}}, \"type\": \"scatterternary\"}], \"surface\": [{\"colorbar\": {\"outlinewidth\": 0, \"ticks\": \"\"}, \"colorscale\": [[0.0, \"#0d0887\"], [0.1111111111111111, \"#46039f\"], [0.2222222222222222, \"#7201a8\"], [0.3333333333333333, \"#9c179e\"], [0.4444444444444444, \"#bd3786\"], [0.5555555555555556, \"#d8576b\"], [0.6666666666666666, \"#ed7953\"], [0.7777777777777778, \"#fb9f3a\"], [0.8888888888888888, \"#fdca26\"], [1.0, \"#f0f921\"]], \"type\": \"surface\"}], \"table\": [{\"cells\": {\"fill\": {\"color\": \"#EBF0F8\"}, \"line\": {\"color\": \"white\"}}, \"header\": {\"fill\": {\"color\": \"#C8D4E3\"}, \"line\": {\"color\": \"white\"}}, \"type\": \"table\"}]}, \"layout\": {\"annotationdefaults\": {\"arrowcolor\": \"#2a3f5f\", \"arrowhead\": 0, \"arrowwidth\": 1}, \"colorscale\": {\"diverging\": [[0, \"#8e0152\"], [0.1, \"#c51b7d\"], [0.2, \"#de77ae\"], [0.3, \"#f1b6da\"], [0.4, \"#fde0ef\"], [0.5, \"#f7f7f7\"], [0.6, \"#e6f5d0\"], [0.7, \"#b8e186\"], [0.8, \"#7fbc41\"], [0.9, \"#4d9221\"], [1, \"#276419\"]], \"sequential\": [[0.0, \"#0d0887\"], [0.1111111111111111, \"#46039f\"], [0.2222222222222222, \"#7201a8\"], [0.3333333333333333, \"#9c179e\"], [0.4444444444444444, \"#bd3786\"], [0.5555555555555556, \"#d8576b\"], [0.6666666666666666, \"#ed7953\"], [0.7777777777777778, \"#fb9f3a\"], [0.8888888888888888, \"#fdca26\"], [1.0, \"#f0f921\"]], \"sequentialminus\": [[0.0, \"#0d0887\"], [0.1111111111111111, \"#46039f\"], [0.2222222222222222, \"#7201a8\"], [0.3333333333333333, \"#9c179e\"], [0.4444444444444444, \"#bd3786\"], [0.5555555555555556, \"#d8576b\"], [0.6666666666666666, \"#ed7953\"], [0.7777777777777778, \"#fb9f3a\"], [0.8888888888888888, \"#fdca26\"], [1.0, \"#f0f921\"]]}, \"colorway\": [\"#636efa\", \"#EF553B\", \"#00cc96\", \"#ab63fa\", \"#FFA15A\", \"#19d3f3\", \"#FF6692\", \"#B6E880\", \"#FF97FF\", \"#FECB52\"], \"font\": {\"color\": \"#2a3f5f\"}, \"geo\": {\"bgcolor\": \"white\", \"lakecolor\": \"white\", \"landcolor\": \"#E5ECF6\", \"showlakes\": true, \"showland\": true, \"subunitcolor\": \"white\"}, \"hoverlabel\": {\"align\": \"left\"}, \"hovermode\": \"closest\", \"mapbox\": {\"style\": \"light\"}, \"paper_bgcolor\": \"white\", \"plot_bgcolor\": \"#E5ECF6\", \"polar\": {\"angularaxis\": {\"gridcolor\": \"white\", \"linecolor\": \"white\", \"ticks\": \"\"}, \"bgcolor\": \"#E5ECF6\", \"radialaxis\": {\"gridcolor\": \"white\", \"linecolor\": \"white\", \"ticks\": \"\"}}, \"scene\": {\"xaxis\": {\"backgroundcolor\": \"#E5ECF6\", \"gridcolor\": \"white\", \"gridwidth\": 2, \"linecolor\": \"white\", \"showbackground\": true, \"ticks\": \"\", \"zerolinecolor\": \"white\"}, \"yaxis\": {\"backgroundcolor\": \"#E5ECF6\", \"gridcolor\": \"white\", \"gridwidth\": 2, \"linecolor\": \"white\", \"showbackground\": true, \"ticks\": \"\", \"zerolinecolor\": \"white\"}, \"zaxis\": {\"backgroundcolor\": \"#E5ECF6\", \"gridcolor\": \"white\", \"gridwidth\": 2, \"linecolor\": \"white\", \"showbackground\": true, \"ticks\": \"\", \"zerolinecolor\": \"white\"}}, \"shapedefaults\": {\"line\": {\"color\": \"#2a3f5f\"}}, \"ternary\": {\"aaxis\": {\"gridcolor\": \"white\", \"linecolor\": \"white\", \"ticks\": \"\"}, \"baxis\": {\"gridcolor\": \"white\", \"linecolor\": \"white\", \"ticks\": \"\"}, \"bgcolor\": \"#E5ECF6\", \"caxis\": {\"gridcolor\": \"white\", \"linecolor\": \"white\", \"ticks\": \"\"}}, \"title\": {\"x\": 0.05}, \"xaxis\": {\"automargin\": true, \"gridcolor\": \"white\", \"linecolor\": \"white\", \"ticks\": \"\", \"zerolinecolor\": \"white\", \"zerolinewidth\": 2}, \"yaxis\": {\"automargin\": true, \"gridcolor\": \"white\", \"linecolor\": \"white\", \"ticks\": \"\", \"zerolinecolor\": \"white\", \"zerolinewidth\": 2}}}, \"xaxis\": {\"color\": \"#eee\", \"title\": {\"text\": \"Gameweek\"}}, \"yaxis\": {\"color\": \"#eee\", \"title\": {\"text\": \"Difficulty\"}}},\n",
       "                        {\"responsive\": true}\n",
       "                    ).then(function(){\n",
       "                            \n",
       "var gd = document.getElementById('93a032f5-c403-4ccd-84cf-de12ae1a5c66');\n",
       "var x = new MutationObserver(function (mutations, observer) {{\n",
       "        var display = window.getComputedStyle(gd).display;\n",
       "        if (!display || display === 'none') {{\n",
       "            console.log([gd, 'removed!']);\n",
       "            Plotly.purge(gd);\n",
       "            observer.disconnect();\n",
       "        }}\n",
       "}});\n",
       "\n",
       "// Listen for the removal of the full notebook cells\n",
       "var notebookContainer = gd.closest('#notebook-container');\n",
       "if (notebookContainer) {{\n",
       "    x.observe(notebookContainer, {childList: true});\n",
       "}}\n",
       "\n",
       "// Listen for the clearing of the current output cell\n",
       "var outputEl = gd.closest('.output');\n",
       "if (outputEl) {{\n",
       "    x.observe(outputEl, {childList: true});\n",
       "}}\n",
       "\n",
       "                        })\n",
       "                };\n",
       "                });\n",
       "            </script>\n",
       "        </div>"
      ]
     },
     "metadata": {},
     "output_type": "display_data"
    }
   ],
   "source": [
    "fix = next_fixtures(season, base_path, limit_diff=3, no_above_limit_occ=1)"
   ]
  },
  {
   "cell_type": "code",
   "execution_count": 33,
   "metadata": {},
   "outputs": [],
   "source": [
    "def form(season, base_path, no_fixtures=6,limit_form=-10,no_below_limit_occ=20):\n",
    "    clubs = get_upcoming_fixtures_data(base_path, season)['team_a'].unique()\n",
    "    fig = go.Figure()\n",
    "    alldf=pandas.DataFrame()\n",
    "    \n",
    "    j=0\n",
    "    for club in clubs:\n",
    "        df = get_past_team_fixtures_data(club,base_path,'2019-20').tail(6)\n",
    "#### RANDOM\n",
    "#         j+=1\n",
    "#        np.random.seed(42+j)\n",
    "#         df['scored']=np.random.randint(1, 6, df.shape[0])\n",
    "#         df['concieved']=np.random.randint(1, 6, df.shape[0])\n",
    "#         df=df.fillna(0)\n",
    "#### END RANDOM\n",
    "        df['team']=club\n",
    "        df['form']=(df['scored']-df['concieved']+1)*df['relative_difficulty']\n",
    "        df['fixture_form']=df['form']\n",
    "        df['i']=[1 + x * 0.1 for x in range(0,6)]\n",
    "        df['form']=df['i']*df['form']\n",
    "        df['form'] = df['form'].rolling(min_periods=1, window=6).sum()\n",
    "\n",
    "        if ((min(df['form'])<limit_form) & (len(df[df['form'] < limit_form]) > no_below_limit_occ)):\n",
    "            continue\n",
    "        \n",
    "        alldf = alldf.append(df)\n",
    "        \n",
    "        fig.add_trace(go.Scatter(\n",
    "            x=df['event'], \n",
    "            y=df['form'],\n",
    "            name=club,\n",
    "            text = df['opponent'],\n",
    "            mode='lines',\n",
    "            line=dict(shape='spline', width=4, smoothing=1.3),\n",
    "            hoverlabel= dict(\n",
    "                font=dict(color='#404040'),\n",
    "                bordercolor='#404040',\n",
    "                bgcolor='white'\n",
    "            ),\n",
    "            hovertemplate = \"<b>\"+club+\"</b></br></br>vs %{text}</br></br><extra></extra>\"))\n",
    "        \n",
    "    fig.update_layout(\n",
    "        legend=go.layout.Legend(\n",
    "            traceorder=\"normal\",\n",
    "            font=dict(color=\"#eee\"),\n",
    "            bgcolor=\"rgba(0,0,0,0)\"\n",
    "        )\n",
    "    )\n",
    "    \n",
    "    fig.update_yaxes(title_text=\"Difficulty\",color='#eee')\n",
    "    fig.update_xaxes(title_text=\"Gameweek\",color='#eee')\n",
    "\n",
    "    fig.update_scenes(bgcolor='rgba(0,0,0,0)')\n",
    "\n",
    "    fig.layout.update(plot_bgcolor='rgba(0,0,0,0)', paper_bgcolor='rgba(0,0,0,0)')\n",
    "    chart_studio.plotly.plot(fig, filename=\"club_form\")\n",
    "    plotly.offline.iplot(fig)\n",
    "    return alldf"
   ]
  },
  {
   "cell_type": "code",
   "execution_count": 34,
   "metadata": {},
   "outputs": [],
   "source": [
    "season='2019-20'\n",
    "base_path = 'C:/Users/antonia/source/antoniaelek/fantasy-premier-league/scraper/'"
   ]
  },
  {
   "cell_type": "code",
   "execution_count": 35,
   "metadata": {
    "scrolled": false
   },
   "outputs": [
    {
     "data": {
      "application/vnd.plotly.v1+json": {
       "config": {
        "linkText": "Export to plot.ly",
        "plotlyServerURL": "https://plot.ly",
        "showLink": false
       },
       "data": [
        {
         "hoverlabel": {
          "bgcolor": "white",
          "bordercolor": "#404040",
          "font": {
           "color": "#404040"
          }
         },
         "hovertemplate": "<b>Norwich</b></br></br>vs %{text}</br></br><extra></extra>",
         "line": {
          "shape": "spline",
          "smoothing": 1.3,
          "width": 4
         },
         "mode": "lines",
         "name": "Norwich",
         "text": [
          "Brighton",
          "Watford",
          "West Ham",
          "Chelsea",
          "Burnley",
          "Man City"
         ],
         "type": "scatter",
         "x": [
          33,
          34,
          35,
          36,
          37,
          38
         ],
         "y": [
          null,
          null,
          null,
          null,
          null,
          null
         ]
        },
        {
         "hoverlabel": {
          "bgcolor": "white",
          "bordercolor": "#404040",
          "font": {
           "color": "#404040"
          }
         },
         "hovertemplate": "<b>Man City</b></br></br>vs %{text}</br></br><extra></extra>",
         "line": {
          "shape": "spline",
          "smoothing": 1.3,
          "width": 4
         },
         "mode": "lines",
         "name": "Man City",
         "text": [
          "Southampton",
          "Newcastle",
          "Brighton",
          "Bournemouth",
          "Watford",
          "Norwich"
         ],
         "type": "scatter",
         "x": [
          33,
          34,
          35,
          36,
          37,
          38
         ],
         "y": [
          null,
          null,
          null,
          null,
          null,
          null
         ]
        },
        {
         "hoverlabel": {
          "bgcolor": "white",
          "bordercolor": "#404040",
          "font": {
           "color": "#404040"
          }
         },
         "hovertemplate": "<b>Sheffield Utd</b></br></br>vs %{text}</br></br><extra></extra>",
         "line": {
          "shape": "spline",
          "smoothing": 1.3,
          "width": 4
         },
         "mode": "lines",
         "name": "Sheffield Utd",
         "text": [
          "Burnley",
          "Wolves",
          "Chelsea",
          "Leicester",
          "Everton",
          "Southampton"
         ],
         "type": "scatter",
         "x": [
          33,
          34,
          35,
          36,
          37,
          38
         ],
         "y": [
          null,
          null,
          null,
          null,
          null,
          null
         ]
        },
        {
         "hoverlabel": {
          "bgcolor": "white",
          "bordercolor": "#404040",
          "font": {
           "color": "#404040"
          }
         },
         "hovertemplate": "<b>Southampton</b></br></br>vs %{text}</br></br><extra></extra>",
         "line": {
          "shape": "spline",
          "smoothing": 1.3,
          "width": 4
         },
         "mode": "lines",
         "name": "Southampton",
         "text": [
          "Man City",
          "Everton",
          "Man Utd",
          "Brighton",
          "Bournemouth",
          "Sheffield Utd"
         ],
         "type": "scatter",
         "x": [
          33,
          34,
          35,
          36,
          37,
          38
         ],
         "y": [
          null,
          null,
          null,
          null,
          null,
          null
         ]
        },
        {
         "hoverlabel": {
          "bgcolor": "white",
          "bordercolor": "#404040",
          "font": {
           "color": "#404040"
          }
         },
         "hovertemplate": "<b>Everton</b></br></br>vs %{text}</br></br><extra></extra>",
         "line": {
          "shape": "spline",
          "smoothing": 1.3,
          "width": 4
         },
         "mode": "lines",
         "name": "Everton",
         "text": [
          "Spurs",
          "Southampton",
          "Wolves",
          "Aston Villa",
          "Sheffield Utd",
          "Bournemouth"
         ],
         "type": "scatter",
         "x": [
          33,
          34,
          35,
          36,
          37,
          38
         ],
         "y": [
          null,
          null,
          null,
          null,
          null,
          null
         ]
        },
        {
         "hoverlabel": {
          "bgcolor": "white",
          "bordercolor": "#404040",
          "font": {
           "color": "#404040"
          }
         },
         "hovertemplate": "<b>Brighton</b></br></br>vs %{text}</br></br><extra></extra>",
         "line": {
          "shape": "spline",
          "smoothing": 1.3,
          "width": 4
         },
         "mode": "lines",
         "name": "Brighton",
         "text": [
          "Norwich",
          "Liverpool",
          "Man City",
          "Southampton",
          "Newcastle",
          "Burnley"
         ],
         "type": "scatter",
         "x": [
          33,
          34,
          35,
          36,
          37,
          38
         ],
         "y": [
          null,
          null,
          null,
          null,
          null,
          null
         ]
        },
        {
         "hoverlabel": {
          "bgcolor": "white",
          "bordercolor": "#404040",
          "font": {
           "color": "#404040"
          }
         },
         "hovertemplate": "<b>Aston Villa</b></br></br>vs %{text}</br></br><extra></extra>",
         "line": {
          "shape": "spline",
          "smoothing": 1.3,
          "width": 4
         },
         "mode": "lines",
         "name": "Aston Villa",
         "text": [
          "Liverpool",
          "Man Utd",
          "Crystal Palace",
          "Everton",
          "Arsenal",
          "West Ham"
         ],
         "type": "scatter",
         "x": [
          33,
          34,
          35,
          36,
          37,
          38
         ],
         "y": [
          null,
          null,
          null,
          null,
          null,
          null
         ]
        },
        {
         "hoverlabel": {
          "bgcolor": "white",
          "bordercolor": "#404040",
          "font": {
           "color": "#404040"
          }
         },
         "hovertemplate": "<b>Wolves</b></br></br>vs %{text}</br></br><extra></extra>",
         "line": {
          "shape": "spline",
          "smoothing": 1.3,
          "width": 4
         },
         "mode": "lines",
         "name": "Wolves",
         "text": [
          "Arsenal",
          "Sheffield Utd",
          "Everton",
          "Burnley",
          "Crystal Palace",
          "Chelsea"
         ],
         "type": "scatter",
         "x": [
          33,
          34,
          35,
          36,
          37,
          38
         ],
         "y": [
          null,
          null,
          null,
          null,
          null,
          null
         ]
        },
        {
         "hoverlabel": {
          "bgcolor": "white",
          "bordercolor": "#404040",
          "font": {
           "color": "#404040"
          }
         },
         "hovertemplate": "<b>Arsenal</b></br></br>vs %{text}</br></br><extra></extra>",
         "line": {
          "shape": "spline",
          "smoothing": 1.3,
          "width": 4
         },
         "mode": "lines",
         "name": "Arsenal",
         "text": [
          "Wolves",
          "Leicester",
          "Spurs",
          "Liverpool",
          "Aston Villa",
          "Watford"
         ],
         "type": "scatter",
         "x": [
          33,
          34,
          35,
          36,
          37,
          38
         ],
         "y": [
          null,
          null,
          null,
          null,
          null,
          null
         ]
        },
        {
         "hoverlabel": {
          "bgcolor": "white",
          "bordercolor": "#404040",
          "font": {
           "color": "#404040"
          }
         },
         "hovertemplate": "<b>Chelsea</b></br></br>vs %{text}</br></br><extra></extra>",
         "line": {
          "shape": "spline",
          "smoothing": 1.3,
          "width": 4
         },
         "mode": "lines",
         "name": "Chelsea",
         "text": [
          "Watford",
          "Crystal Palace",
          "Sheffield Utd",
          "Norwich",
          "Liverpool",
          "Wolves"
         ],
         "type": "scatter",
         "x": [
          33,
          34,
          35,
          36,
          37,
          38
         ],
         "y": [
          null,
          null,
          null,
          null,
          null,
          null
         ]
        },
        {
         "hoverlabel": {
          "bgcolor": "white",
          "bordercolor": "#404040",
          "font": {
           "color": "#404040"
          }
         },
         "hovertemplate": "<b>Burnley</b></br></br>vs %{text}</br></br><extra></extra>",
         "line": {
          "shape": "spline",
          "smoothing": 1.3,
          "width": 4
         },
         "mode": "lines",
         "name": "Burnley",
         "text": [
          "Sheffield Utd",
          "West Ham",
          "Liverpool",
          "Wolves",
          "Norwich",
          "Brighton"
         ],
         "type": "scatter",
         "x": [
          33,
          34,
          35,
          36,
          37,
          38
         ],
         "y": [
          null,
          null,
          null,
          null,
          null,
          null
         ]
        },
        {
         "hoverlabel": {
          "bgcolor": "white",
          "bordercolor": "#404040",
          "font": {
           "color": "#404040"
          }
         },
         "hovertemplate": "<b>Bournemouth</b></br></br>vs %{text}</br></br><extra></extra>",
         "line": {
          "shape": "spline",
          "smoothing": 1.3,
          "width": 4
         },
         "mode": "lines",
         "name": "Bournemouth",
         "text": [
          "Man Utd",
          "Spurs",
          "Leicester",
          "Man City",
          "Southampton",
          "Everton"
         ],
         "type": "scatter",
         "x": [
          33,
          34,
          35,
          36,
          37,
          38
         ],
         "y": [
          null,
          null,
          null,
          null,
          null,
          null
         ]
        },
        {
         "hoverlabel": {
          "bgcolor": "white",
          "bordercolor": "#404040",
          "font": {
           "color": "#404040"
          }
         },
         "hovertemplate": "<b>West Ham</b></br></br>vs %{text}</br></br><extra></extra>",
         "line": {
          "shape": "spline",
          "smoothing": 1.3,
          "width": 4
         },
         "mode": "lines",
         "name": "West Ham",
         "text": [
          "Newcastle",
          "Burnley",
          "Norwich",
          "Watford",
          "Man Utd",
          "Aston Villa"
         ],
         "type": "scatter",
         "x": [
          33,
          34,
          35,
          36,
          37,
          38
         ],
         "y": [
          null,
          null,
          null,
          null,
          null,
          null
         ]
        },
        {
         "hoverlabel": {
          "bgcolor": "white",
          "bordercolor": "#404040",
          "font": {
           "color": "#404040"
          }
         },
         "hovertemplate": "<b>Watford</b></br></br>vs %{text}</br></br><extra></extra>",
         "line": {
          "shape": "spline",
          "smoothing": 1.3,
          "width": 4
         },
         "mode": "lines",
         "name": "Watford",
         "text": [
          "Chelsea",
          "Norwich",
          "Newcastle",
          "West Ham",
          "Man City",
          "Arsenal"
         ],
         "type": "scatter",
         "x": [
          33,
          34,
          35,
          36,
          37,
          38
         ],
         "y": [
          null,
          null,
          null,
          null,
          null,
          null
         ]
        },
        {
         "hoverlabel": {
          "bgcolor": "white",
          "bordercolor": "#404040",
          "font": {
           "color": "#404040"
          }
         },
         "hovertemplate": "<b>Newcastle</b></br></br>vs %{text}</br></br><extra></extra>",
         "line": {
          "shape": "spline",
          "smoothing": 1.3,
          "width": 4
         },
         "mode": "lines",
         "name": "Newcastle",
         "text": [
          "West Ham",
          "Man City",
          "Watford",
          "Spurs",
          "Brighton",
          "Liverpool"
         ],
         "type": "scatter",
         "x": [
          33,
          34,
          35,
          36,
          37,
          38
         ],
         "y": [
          null,
          null,
          null,
          null,
          null,
          null
         ]
        },
        {
         "hoverlabel": {
          "bgcolor": "white",
          "bordercolor": "#404040",
          "font": {
           "color": "#404040"
          }
         },
         "hovertemplate": "<b>Liverpool</b></br></br>vs %{text}</br></br><extra></extra>",
         "line": {
          "shape": "spline",
          "smoothing": 1.3,
          "width": 4
         },
         "mode": "lines",
         "name": "Liverpool",
         "text": [
          "Aston Villa",
          "Brighton",
          "Burnley",
          "Arsenal",
          "Chelsea",
          "Newcastle"
         ],
         "type": "scatter",
         "x": [
          33,
          34,
          35,
          36,
          37,
          38
         ],
         "y": [
          null,
          null,
          null,
          null,
          null,
          null
         ]
        },
        {
         "hoverlabel": {
          "bgcolor": "white",
          "bordercolor": "#404040",
          "font": {
           "color": "#404040"
          }
         },
         "hovertemplate": "<b>Spurs</b></br></br>vs %{text}</br></br><extra></extra>",
         "line": {
          "shape": "spline",
          "smoothing": 1.3,
          "width": 4
         },
         "mode": "lines",
         "name": "Spurs",
         "text": [
          "Everton",
          "Bournemouth",
          "Arsenal",
          "Newcastle",
          "Leicester",
          "Crystal Palace"
         ],
         "type": "scatter",
         "x": [
          33,
          34,
          35,
          36,
          37,
          38
         ],
         "y": [
          null,
          null,
          null,
          null,
          null,
          null
         ]
        },
        {
         "hoverlabel": {
          "bgcolor": "white",
          "bordercolor": "#404040",
          "font": {
           "color": "#404040"
          }
         },
         "hovertemplate": "<b>Crystal Palace</b></br></br>vs %{text}</br></br><extra></extra>",
         "line": {
          "shape": "spline",
          "smoothing": 1.3,
          "width": 4
         },
         "mode": "lines",
         "name": "Crystal Palace",
         "text": [
          "Leicester",
          "Chelsea",
          "Aston Villa",
          "Man Utd",
          "Wolves",
          "Spurs"
         ],
         "type": "scatter",
         "x": [
          33,
          34,
          35,
          36,
          37,
          38
         ],
         "y": [
          null,
          null,
          null,
          null,
          null,
          null
         ]
        },
        {
         "hoverlabel": {
          "bgcolor": "white",
          "bordercolor": "#404040",
          "font": {
           "color": "#404040"
          }
         },
         "hovertemplate": "<b>Leicester</b></br></br>vs %{text}</br></br><extra></extra>",
         "line": {
          "shape": "spline",
          "smoothing": 1.3,
          "width": 4
         },
         "mode": "lines",
         "name": "Leicester",
         "text": [
          "Crystal Palace",
          "Arsenal",
          "Bournemouth",
          "Sheffield Utd",
          "Spurs",
          "Man Utd"
         ],
         "type": "scatter",
         "x": [
          33,
          34,
          35,
          36,
          37,
          38
         ],
         "y": [
          null,
          null,
          null,
          null,
          null,
          null
         ]
        },
        {
         "hoverlabel": {
          "bgcolor": "white",
          "bordercolor": "#404040",
          "font": {
           "color": "#404040"
          }
         },
         "hovertemplate": "<b>Man Utd</b></br></br>vs %{text}</br></br><extra></extra>",
         "line": {
          "shape": "spline",
          "smoothing": 1.3,
          "width": 4
         },
         "mode": "lines",
         "name": "Man Utd",
         "text": [
          "Bournemouth",
          "Aston Villa",
          "Southampton",
          "Crystal Palace",
          "West Ham",
          "Leicester"
         ],
         "type": "scatter",
         "x": [
          33,
          34,
          35,
          36,
          37,
          38
         ],
         "y": [
          null,
          null,
          null,
          null,
          null,
          null
         ]
        }
       ],
       "layout": {
        "legend": {
         "bgcolor": "rgba(0,0,0,0)",
         "font": {
          "color": "#eee"
         },
         "traceorder": "normal"
        },
        "paper_bgcolor": "rgba(0,0,0,0)",
        "plot_bgcolor": "rgba(0,0,0,0)",
        "scene": {
         "bgcolor": "rgba(0,0,0,0)"
        },
        "template": {
         "data": {
          "bar": [
           {
            "error_x": {
             "color": "#2a3f5f"
            },
            "error_y": {
             "color": "#2a3f5f"
            },
            "marker": {
             "line": {
              "color": "#E5ECF6",
              "width": 0.5
             }
            },
            "type": "bar"
           }
          ],
          "barpolar": [
           {
            "marker": {
             "line": {
              "color": "#E5ECF6",
              "width": 0.5
             }
            },
            "type": "barpolar"
           }
          ],
          "carpet": [
           {
            "aaxis": {
             "endlinecolor": "#2a3f5f",
             "gridcolor": "white",
             "linecolor": "white",
             "minorgridcolor": "white",
             "startlinecolor": "#2a3f5f"
            },
            "baxis": {
             "endlinecolor": "#2a3f5f",
             "gridcolor": "white",
             "linecolor": "white",
             "minorgridcolor": "white",
             "startlinecolor": "#2a3f5f"
            },
            "type": "carpet"
           }
          ],
          "choropleth": [
           {
            "colorbar": {
             "outlinewidth": 0,
             "ticks": ""
            },
            "type": "choropleth"
           }
          ],
          "contour": [
           {
            "colorbar": {
             "outlinewidth": 0,
             "ticks": ""
            },
            "colorscale": [
             [
              0,
              "#0d0887"
             ],
             [
              0.1111111111111111,
              "#46039f"
             ],
             [
              0.2222222222222222,
              "#7201a8"
             ],
             [
              0.3333333333333333,
              "#9c179e"
             ],
             [
              0.4444444444444444,
              "#bd3786"
             ],
             [
              0.5555555555555556,
              "#d8576b"
             ],
             [
              0.6666666666666666,
              "#ed7953"
             ],
             [
              0.7777777777777778,
              "#fb9f3a"
             ],
             [
              0.8888888888888888,
              "#fdca26"
             ],
             [
              1,
              "#f0f921"
             ]
            ],
            "type": "contour"
           }
          ],
          "contourcarpet": [
           {
            "colorbar": {
             "outlinewidth": 0,
             "ticks": ""
            },
            "type": "contourcarpet"
           }
          ],
          "heatmap": [
           {
            "colorbar": {
             "outlinewidth": 0,
             "ticks": ""
            },
            "colorscale": [
             [
              0,
              "#0d0887"
             ],
             [
              0.1111111111111111,
              "#46039f"
             ],
             [
              0.2222222222222222,
              "#7201a8"
             ],
             [
              0.3333333333333333,
              "#9c179e"
             ],
             [
              0.4444444444444444,
              "#bd3786"
             ],
             [
              0.5555555555555556,
              "#d8576b"
             ],
             [
              0.6666666666666666,
              "#ed7953"
             ],
             [
              0.7777777777777778,
              "#fb9f3a"
             ],
             [
              0.8888888888888888,
              "#fdca26"
             ],
             [
              1,
              "#f0f921"
             ]
            ],
            "type": "heatmap"
           }
          ],
          "heatmapgl": [
           {
            "colorbar": {
             "outlinewidth": 0,
             "ticks": ""
            },
            "colorscale": [
             [
              0,
              "#0d0887"
             ],
             [
              0.1111111111111111,
              "#46039f"
             ],
             [
              0.2222222222222222,
              "#7201a8"
             ],
             [
              0.3333333333333333,
              "#9c179e"
             ],
             [
              0.4444444444444444,
              "#bd3786"
             ],
             [
              0.5555555555555556,
              "#d8576b"
             ],
             [
              0.6666666666666666,
              "#ed7953"
             ],
             [
              0.7777777777777778,
              "#fb9f3a"
             ],
             [
              0.8888888888888888,
              "#fdca26"
             ],
             [
              1,
              "#f0f921"
             ]
            ],
            "type": "heatmapgl"
           }
          ],
          "histogram": [
           {
            "marker": {
             "colorbar": {
              "outlinewidth": 0,
              "ticks": ""
             }
            },
            "type": "histogram"
           }
          ],
          "histogram2d": [
           {
            "colorbar": {
             "outlinewidth": 0,
             "ticks": ""
            },
            "colorscale": [
             [
              0,
              "#0d0887"
             ],
             [
              0.1111111111111111,
              "#46039f"
             ],
             [
              0.2222222222222222,
              "#7201a8"
             ],
             [
              0.3333333333333333,
              "#9c179e"
             ],
             [
              0.4444444444444444,
              "#bd3786"
             ],
             [
              0.5555555555555556,
              "#d8576b"
             ],
             [
              0.6666666666666666,
              "#ed7953"
             ],
             [
              0.7777777777777778,
              "#fb9f3a"
             ],
             [
              0.8888888888888888,
              "#fdca26"
             ],
             [
              1,
              "#f0f921"
             ]
            ],
            "type": "histogram2d"
           }
          ],
          "histogram2dcontour": [
           {
            "colorbar": {
             "outlinewidth": 0,
             "ticks": ""
            },
            "colorscale": [
             [
              0,
              "#0d0887"
             ],
             [
              0.1111111111111111,
              "#46039f"
             ],
             [
              0.2222222222222222,
              "#7201a8"
             ],
             [
              0.3333333333333333,
              "#9c179e"
             ],
             [
              0.4444444444444444,
              "#bd3786"
             ],
             [
              0.5555555555555556,
              "#d8576b"
             ],
             [
              0.6666666666666666,
              "#ed7953"
             ],
             [
              0.7777777777777778,
              "#fb9f3a"
             ],
             [
              0.8888888888888888,
              "#fdca26"
             ],
             [
              1,
              "#f0f921"
             ]
            ],
            "type": "histogram2dcontour"
           }
          ],
          "mesh3d": [
           {
            "colorbar": {
             "outlinewidth": 0,
             "ticks": ""
            },
            "type": "mesh3d"
           }
          ],
          "parcoords": [
           {
            "line": {
             "colorbar": {
              "outlinewidth": 0,
              "ticks": ""
             }
            },
            "type": "parcoords"
           }
          ],
          "scatter": [
           {
            "marker": {
             "colorbar": {
              "outlinewidth": 0,
              "ticks": ""
             }
            },
            "type": "scatter"
           }
          ],
          "scatter3d": [
           {
            "line": {
             "colorbar": {
              "outlinewidth": 0,
              "ticks": ""
             }
            },
            "marker": {
             "colorbar": {
              "outlinewidth": 0,
              "ticks": ""
             }
            },
            "type": "scatter3d"
           }
          ],
          "scattercarpet": [
           {
            "marker": {
             "colorbar": {
              "outlinewidth": 0,
              "ticks": ""
             }
            },
            "type": "scattercarpet"
           }
          ],
          "scattergeo": [
           {
            "marker": {
             "colorbar": {
              "outlinewidth": 0,
              "ticks": ""
             }
            },
            "type": "scattergeo"
           }
          ],
          "scattergl": [
           {
            "marker": {
             "colorbar": {
              "outlinewidth": 0,
              "ticks": ""
             }
            },
            "type": "scattergl"
           }
          ],
          "scattermapbox": [
           {
            "marker": {
             "colorbar": {
              "outlinewidth": 0,
              "ticks": ""
             }
            },
            "type": "scattermapbox"
           }
          ],
          "scatterpolar": [
           {
            "marker": {
             "colorbar": {
              "outlinewidth": 0,
              "ticks": ""
             }
            },
            "type": "scatterpolar"
           }
          ],
          "scatterpolargl": [
           {
            "marker": {
             "colorbar": {
              "outlinewidth": 0,
              "ticks": ""
             }
            },
            "type": "scatterpolargl"
           }
          ],
          "scatterternary": [
           {
            "marker": {
             "colorbar": {
              "outlinewidth": 0,
              "ticks": ""
             }
            },
            "type": "scatterternary"
           }
          ],
          "surface": [
           {
            "colorbar": {
             "outlinewidth": 0,
             "ticks": ""
            },
            "colorscale": [
             [
              0,
              "#0d0887"
             ],
             [
              0.1111111111111111,
              "#46039f"
             ],
             [
              0.2222222222222222,
              "#7201a8"
             ],
             [
              0.3333333333333333,
              "#9c179e"
             ],
             [
              0.4444444444444444,
              "#bd3786"
             ],
             [
              0.5555555555555556,
              "#d8576b"
             ],
             [
              0.6666666666666666,
              "#ed7953"
             ],
             [
              0.7777777777777778,
              "#fb9f3a"
             ],
             [
              0.8888888888888888,
              "#fdca26"
             ],
             [
              1,
              "#f0f921"
             ]
            ],
            "type": "surface"
           }
          ],
          "table": [
           {
            "cells": {
             "fill": {
              "color": "#EBF0F8"
             },
             "line": {
              "color": "white"
             }
            },
            "header": {
             "fill": {
              "color": "#C8D4E3"
             },
             "line": {
              "color": "white"
             }
            },
            "type": "table"
           }
          ]
         },
         "layout": {
          "annotationdefaults": {
           "arrowcolor": "#2a3f5f",
           "arrowhead": 0,
           "arrowwidth": 1
          },
          "colorscale": {
           "diverging": [
            [
             0,
             "#8e0152"
            ],
            [
             0.1,
             "#c51b7d"
            ],
            [
             0.2,
             "#de77ae"
            ],
            [
             0.3,
             "#f1b6da"
            ],
            [
             0.4,
             "#fde0ef"
            ],
            [
             0.5,
             "#f7f7f7"
            ],
            [
             0.6,
             "#e6f5d0"
            ],
            [
             0.7,
             "#b8e186"
            ],
            [
             0.8,
             "#7fbc41"
            ],
            [
             0.9,
             "#4d9221"
            ],
            [
             1,
             "#276419"
            ]
           ],
           "sequential": [
            [
             0,
             "#0d0887"
            ],
            [
             0.1111111111111111,
             "#46039f"
            ],
            [
             0.2222222222222222,
             "#7201a8"
            ],
            [
             0.3333333333333333,
             "#9c179e"
            ],
            [
             0.4444444444444444,
             "#bd3786"
            ],
            [
             0.5555555555555556,
             "#d8576b"
            ],
            [
             0.6666666666666666,
             "#ed7953"
            ],
            [
             0.7777777777777778,
             "#fb9f3a"
            ],
            [
             0.8888888888888888,
             "#fdca26"
            ],
            [
             1,
             "#f0f921"
            ]
           ],
           "sequentialminus": [
            [
             0,
             "#0d0887"
            ],
            [
             0.1111111111111111,
             "#46039f"
            ],
            [
             0.2222222222222222,
             "#7201a8"
            ],
            [
             0.3333333333333333,
             "#9c179e"
            ],
            [
             0.4444444444444444,
             "#bd3786"
            ],
            [
             0.5555555555555556,
             "#d8576b"
            ],
            [
             0.6666666666666666,
             "#ed7953"
            ],
            [
             0.7777777777777778,
             "#fb9f3a"
            ],
            [
             0.8888888888888888,
             "#fdca26"
            ],
            [
             1,
             "#f0f921"
            ]
           ]
          },
          "colorway": [
           "#636efa",
           "#EF553B",
           "#00cc96",
           "#ab63fa",
           "#FFA15A",
           "#19d3f3",
           "#FF6692",
           "#B6E880",
           "#FF97FF",
           "#FECB52"
          ],
          "font": {
           "color": "#2a3f5f"
          },
          "geo": {
           "bgcolor": "white",
           "lakecolor": "white",
           "landcolor": "#E5ECF6",
           "showlakes": true,
           "showland": true,
           "subunitcolor": "white"
          },
          "hoverlabel": {
           "align": "left"
          },
          "hovermode": "closest",
          "mapbox": {
           "style": "light"
          },
          "paper_bgcolor": "white",
          "plot_bgcolor": "#E5ECF6",
          "polar": {
           "angularaxis": {
            "gridcolor": "white",
            "linecolor": "white",
            "ticks": ""
           },
           "bgcolor": "#E5ECF6",
           "radialaxis": {
            "gridcolor": "white",
            "linecolor": "white",
            "ticks": ""
           }
          },
          "scene": {
           "xaxis": {
            "backgroundcolor": "#E5ECF6",
            "gridcolor": "white",
            "gridwidth": 2,
            "linecolor": "white",
            "showbackground": true,
            "ticks": "",
            "zerolinecolor": "white"
           },
           "yaxis": {
            "backgroundcolor": "#E5ECF6",
            "gridcolor": "white",
            "gridwidth": 2,
            "linecolor": "white",
            "showbackground": true,
            "ticks": "",
            "zerolinecolor": "white"
           },
           "zaxis": {
            "backgroundcolor": "#E5ECF6",
            "gridcolor": "white",
            "gridwidth": 2,
            "linecolor": "white",
            "showbackground": true,
            "ticks": "",
            "zerolinecolor": "white"
           }
          },
          "shapedefaults": {
           "line": {
            "color": "#2a3f5f"
           }
          },
          "ternary": {
           "aaxis": {
            "gridcolor": "white",
            "linecolor": "white",
            "ticks": ""
           },
           "baxis": {
            "gridcolor": "white",
            "linecolor": "white",
            "ticks": ""
           },
           "bgcolor": "#E5ECF6",
           "caxis": {
            "gridcolor": "white",
            "linecolor": "white",
            "ticks": ""
           }
          },
          "title": {
           "x": 0.05
          },
          "xaxis": {
           "automargin": true,
           "gridcolor": "white",
           "linecolor": "white",
           "ticks": "",
           "zerolinecolor": "white",
           "zerolinewidth": 2
          },
          "yaxis": {
           "automargin": true,
           "gridcolor": "white",
           "linecolor": "white",
           "ticks": "",
           "zerolinecolor": "white",
           "zerolinewidth": 2
          }
         }
        },
        "xaxis": {
         "color": "#eee",
         "title": {
          "text": "Gameweek"
         }
        },
        "yaxis": {
         "color": "#eee",
         "title": {
          "text": "Difficulty"
         }
        }
       }
      },
      "text/html": [
       "<div>\n",
       "        \n",
       "        \n",
       "            <div id=\"1d153c94-41f7-49e3-9925-933caa306d03\" class=\"plotly-graph-div\" style=\"height:525px; width:100%;\"></div>\n",
       "            <script type=\"text/javascript\">\n",
       "                require([\"plotly\"], function(Plotly) {\n",
       "                    window.PLOTLYENV=window.PLOTLYENV || {};\n",
       "                    \n",
       "                if (document.getElementById(\"1d153c94-41f7-49e3-9925-933caa306d03\")) {\n",
       "                    Plotly.newPlot(\n",
       "                        '1d153c94-41f7-49e3-9925-933caa306d03',\n",
       "                        [{\"hoverlabel\": {\"bgcolor\": \"white\", \"bordercolor\": \"#404040\", \"font\": {\"color\": \"#404040\"}}, \"hovertemplate\": \"<b>Norwich</b></br></br>vs %{text}</br></br><extra></extra>\", \"line\": {\"shape\": \"spline\", \"smoothing\": 1.3, \"width\": 4}, \"mode\": \"lines\", \"name\": \"Norwich\", \"text\": [\"Brighton\", \"Watford\", \"West Ham\", \"Chelsea\", \"Burnley\", \"Man City\"], \"type\": \"scatter\", \"x\": [33, 34, 35, 36, 37, 38], \"y\": [null, null, null, null, null, null]}, {\"hoverlabel\": {\"bgcolor\": \"white\", \"bordercolor\": \"#404040\", \"font\": {\"color\": \"#404040\"}}, \"hovertemplate\": \"<b>Man City</b></br></br>vs %{text}</br></br><extra></extra>\", \"line\": {\"shape\": \"spline\", \"smoothing\": 1.3, \"width\": 4}, \"mode\": \"lines\", \"name\": \"Man City\", \"text\": [\"Southampton\", \"Newcastle\", \"Brighton\", \"Bournemouth\", \"Watford\", \"Norwich\"], \"type\": \"scatter\", \"x\": [33, 34, 35, 36, 37, 38], \"y\": [null, null, null, null, null, null]}, {\"hoverlabel\": {\"bgcolor\": \"white\", \"bordercolor\": \"#404040\", \"font\": {\"color\": \"#404040\"}}, \"hovertemplate\": \"<b>Sheffield Utd</b></br></br>vs %{text}</br></br><extra></extra>\", \"line\": {\"shape\": \"spline\", \"smoothing\": 1.3, \"width\": 4}, \"mode\": \"lines\", \"name\": \"Sheffield Utd\", \"text\": [\"Burnley\", \"Wolves\", \"Chelsea\", \"Leicester\", \"Everton\", \"Southampton\"], \"type\": \"scatter\", \"x\": [33, 34, 35, 36, 37, 38], \"y\": [null, null, null, null, null, null]}, {\"hoverlabel\": {\"bgcolor\": \"white\", \"bordercolor\": \"#404040\", \"font\": {\"color\": \"#404040\"}}, \"hovertemplate\": \"<b>Southampton</b></br></br>vs %{text}</br></br><extra></extra>\", \"line\": {\"shape\": \"spline\", \"smoothing\": 1.3, \"width\": 4}, \"mode\": \"lines\", \"name\": \"Southampton\", \"text\": [\"Man City\", \"Everton\", \"Man Utd\", \"Brighton\", \"Bournemouth\", \"Sheffield Utd\"], \"type\": \"scatter\", \"x\": [33, 34, 35, 36, 37, 38], \"y\": [null, null, null, null, null, null]}, {\"hoverlabel\": {\"bgcolor\": \"white\", \"bordercolor\": \"#404040\", \"font\": {\"color\": \"#404040\"}}, \"hovertemplate\": \"<b>Everton</b></br></br>vs %{text}</br></br><extra></extra>\", \"line\": {\"shape\": \"spline\", \"smoothing\": 1.3, \"width\": 4}, \"mode\": \"lines\", \"name\": \"Everton\", \"text\": [\"Spurs\", \"Southampton\", \"Wolves\", \"Aston Villa\", \"Sheffield Utd\", \"Bournemouth\"], \"type\": \"scatter\", \"x\": [33, 34, 35, 36, 37, 38], \"y\": [null, null, null, null, null, null]}, {\"hoverlabel\": {\"bgcolor\": \"white\", \"bordercolor\": \"#404040\", \"font\": {\"color\": \"#404040\"}}, \"hovertemplate\": \"<b>Brighton</b></br></br>vs %{text}</br></br><extra></extra>\", \"line\": {\"shape\": \"spline\", \"smoothing\": 1.3, \"width\": 4}, \"mode\": \"lines\", \"name\": \"Brighton\", \"text\": [\"Norwich\", \"Liverpool\", \"Man City\", \"Southampton\", \"Newcastle\", \"Burnley\"], \"type\": \"scatter\", \"x\": [33, 34, 35, 36, 37, 38], \"y\": [null, null, null, null, null, null]}, {\"hoverlabel\": {\"bgcolor\": \"white\", \"bordercolor\": \"#404040\", \"font\": {\"color\": \"#404040\"}}, \"hovertemplate\": \"<b>Aston Villa</b></br></br>vs %{text}</br></br><extra></extra>\", \"line\": {\"shape\": \"spline\", \"smoothing\": 1.3, \"width\": 4}, \"mode\": \"lines\", \"name\": \"Aston Villa\", \"text\": [\"Liverpool\", \"Man Utd\", \"Crystal Palace\", \"Everton\", \"Arsenal\", \"West Ham\"], \"type\": \"scatter\", \"x\": [33, 34, 35, 36, 37, 38], \"y\": [null, null, null, null, null, null]}, {\"hoverlabel\": {\"bgcolor\": \"white\", \"bordercolor\": \"#404040\", \"font\": {\"color\": \"#404040\"}}, \"hovertemplate\": \"<b>Wolves</b></br></br>vs %{text}</br></br><extra></extra>\", \"line\": {\"shape\": \"spline\", \"smoothing\": 1.3, \"width\": 4}, \"mode\": \"lines\", \"name\": \"Wolves\", \"text\": [\"Arsenal\", \"Sheffield Utd\", \"Everton\", \"Burnley\", \"Crystal Palace\", \"Chelsea\"], \"type\": \"scatter\", \"x\": [33, 34, 35, 36, 37, 38], \"y\": [null, null, null, null, null, null]}, {\"hoverlabel\": {\"bgcolor\": \"white\", \"bordercolor\": \"#404040\", \"font\": {\"color\": \"#404040\"}}, \"hovertemplate\": \"<b>Arsenal</b></br></br>vs %{text}</br></br><extra></extra>\", \"line\": {\"shape\": \"spline\", \"smoothing\": 1.3, \"width\": 4}, \"mode\": \"lines\", \"name\": \"Arsenal\", \"text\": [\"Wolves\", \"Leicester\", \"Spurs\", \"Liverpool\", \"Aston Villa\", \"Watford\"], \"type\": \"scatter\", \"x\": [33, 34, 35, 36, 37, 38], \"y\": [null, null, null, null, null, null]}, {\"hoverlabel\": {\"bgcolor\": \"white\", \"bordercolor\": \"#404040\", \"font\": {\"color\": \"#404040\"}}, \"hovertemplate\": \"<b>Chelsea</b></br></br>vs %{text}</br></br><extra></extra>\", \"line\": {\"shape\": \"spline\", \"smoothing\": 1.3, \"width\": 4}, \"mode\": \"lines\", \"name\": \"Chelsea\", \"text\": [\"Watford\", \"Crystal Palace\", \"Sheffield Utd\", \"Norwich\", \"Liverpool\", \"Wolves\"], \"type\": \"scatter\", \"x\": [33, 34, 35, 36, 37, 38], \"y\": [null, null, null, null, null, null]}, {\"hoverlabel\": {\"bgcolor\": \"white\", \"bordercolor\": \"#404040\", \"font\": {\"color\": \"#404040\"}}, \"hovertemplate\": \"<b>Burnley</b></br></br>vs %{text}</br></br><extra></extra>\", \"line\": {\"shape\": \"spline\", \"smoothing\": 1.3, \"width\": 4}, \"mode\": \"lines\", \"name\": \"Burnley\", \"text\": [\"Sheffield Utd\", \"West Ham\", \"Liverpool\", \"Wolves\", \"Norwich\", \"Brighton\"], \"type\": \"scatter\", \"x\": [33, 34, 35, 36, 37, 38], \"y\": [null, null, null, null, null, null]}, {\"hoverlabel\": {\"bgcolor\": \"white\", \"bordercolor\": \"#404040\", \"font\": {\"color\": \"#404040\"}}, \"hovertemplate\": \"<b>Bournemouth</b></br></br>vs %{text}</br></br><extra></extra>\", \"line\": {\"shape\": \"spline\", \"smoothing\": 1.3, \"width\": 4}, \"mode\": \"lines\", \"name\": \"Bournemouth\", \"text\": [\"Man Utd\", \"Spurs\", \"Leicester\", \"Man City\", \"Southampton\", \"Everton\"], \"type\": \"scatter\", \"x\": [33, 34, 35, 36, 37, 38], \"y\": [null, null, null, null, null, null]}, {\"hoverlabel\": {\"bgcolor\": \"white\", \"bordercolor\": \"#404040\", \"font\": {\"color\": \"#404040\"}}, \"hovertemplate\": \"<b>West Ham</b></br></br>vs %{text}</br></br><extra></extra>\", \"line\": {\"shape\": \"spline\", \"smoothing\": 1.3, \"width\": 4}, \"mode\": \"lines\", \"name\": \"West Ham\", \"text\": [\"Newcastle\", \"Burnley\", \"Norwich\", \"Watford\", \"Man Utd\", \"Aston Villa\"], \"type\": \"scatter\", \"x\": [33, 34, 35, 36, 37, 38], \"y\": [null, null, null, null, null, null]}, {\"hoverlabel\": {\"bgcolor\": \"white\", \"bordercolor\": \"#404040\", \"font\": {\"color\": \"#404040\"}}, \"hovertemplate\": \"<b>Watford</b></br></br>vs %{text}</br></br><extra></extra>\", \"line\": {\"shape\": \"spline\", \"smoothing\": 1.3, \"width\": 4}, \"mode\": \"lines\", \"name\": \"Watford\", \"text\": [\"Chelsea\", \"Norwich\", \"Newcastle\", \"West Ham\", \"Man City\", \"Arsenal\"], \"type\": \"scatter\", \"x\": [33, 34, 35, 36, 37, 38], \"y\": [null, null, null, null, null, null]}, {\"hoverlabel\": {\"bgcolor\": \"white\", \"bordercolor\": \"#404040\", \"font\": {\"color\": \"#404040\"}}, \"hovertemplate\": \"<b>Newcastle</b></br></br>vs %{text}</br></br><extra></extra>\", \"line\": {\"shape\": \"spline\", \"smoothing\": 1.3, \"width\": 4}, \"mode\": \"lines\", \"name\": \"Newcastle\", \"text\": [\"West Ham\", \"Man City\", \"Watford\", \"Spurs\", \"Brighton\", \"Liverpool\"], \"type\": \"scatter\", \"x\": [33, 34, 35, 36, 37, 38], \"y\": [null, null, null, null, null, null]}, {\"hoverlabel\": {\"bgcolor\": \"white\", \"bordercolor\": \"#404040\", \"font\": {\"color\": \"#404040\"}}, \"hovertemplate\": \"<b>Liverpool</b></br></br>vs %{text}</br></br><extra></extra>\", \"line\": {\"shape\": \"spline\", \"smoothing\": 1.3, \"width\": 4}, \"mode\": \"lines\", \"name\": \"Liverpool\", \"text\": [\"Aston Villa\", \"Brighton\", \"Burnley\", \"Arsenal\", \"Chelsea\", \"Newcastle\"], \"type\": \"scatter\", \"x\": [33, 34, 35, 36, 37, 38], \"y\": [null, null, null, null, null, null]}, {\"hoverlabel\": {\"bgcolor\": \"white\", \"bordercolor\": \"#404040\", \"font\": {\"color\": \"#404040\"}}, \"hovertemplate\": \"<b>Spurs</b></br></br>vs %{text}</br></br><extra></extra>\", \"line\": {\"shape\": \"spline\", \"smoothing\": 1.3, \"width\": 4}, \"mode\": \"lines\", \"name\": \"Spurs\", \"text\": [\"Everton\", \"Bournemouth\", \"Arsenal\", \"Newcastle\", \"Leicester\", \"Crystal Palace\"], \"type\": \"scatter\", \"x\": [33, 34, 35, 36, 37, 38], \"y\": [null, null, null, null, null, null]}, {\"hoverlabel\": {\"bgcolor\": \"white\", \"bordercolor\": \"#404040\", \"font\": {\"color\": \"#404040\"}}, \"hovertemplate\": \"<b>Crystal Palace</b></br></br>vs %{text}</br></br><extra></extra>\", \"line\": {\"shape\": \"spline\", \"smoothing\": 1.3, \"width\": 4}, \"mode\": \"lines\", \"name\": \"Crystal Palace\", \"text\": [\"Leicester\", \"Chelsea\", \"Aston Villa\", \"Man Utd\", \"Wolves\", \"Spurs\"], \"type\": \"scatter\", \"x\": [33, 34, 35, 36, 37, 38], \"y\": [null, null, null, null, null, null]}, {\"hoverlabel\": {\"bgcolor\": \"white\", \"bordercolor\": \"#404040\", \"font\": {\"color\": \"#404040\"}}, \"hovertemplate\": \"<b>Leicester</b></br></br>vs %{text}</br></br><extra></extra>\", \"line\": {\"shape\": \"spline\", \"smoothing\": 1.3, \"width\": 4}, \"mode\": \"lines\", \"name\": \"Leicester\", \"text\": [\"Crystal Palace\", \"Arsenal\", \"Bournemouth\", \"Sheffield Utd\", \"Spurs\", \"Man Utd\"], \"type\": \"scatter\", \"x\": [33, 34, 35, 36, 37, 38], \"y\": [null, null, null, null, null, null]}, {\"hoverlabel\": {\"bgcolor\": \"white\", \"bordercolor\": \"#404040\", \"font\": {\"color\": \"#404040\"}}, \"hovertemplate\": \"<b>Man Utd</b></br></br>vs %{text}</br></br><extra></extra>\", \"line\": {\"shape\": \"spline\", \"smoothing\": 1.3, \"width\": 4}, \"mode\": \"lines\", \"name\": \"Man Utd\", \"text\": [\"Bournemouth\", \"Aston Villa\", \"Southampton\", \"Crystal Palace\", \"West Ham\", \"Leicester\"], \"type\": \"scatter\", \"x\": [33, 34, 35, 36, 37, 38], \"y\": [null, null, null, null, null, null]}],\n",
       "                        {\"legend\": {\"bgcolor\": \"rgba(0,0,0,0)\", \"font\": {\"color\": \"#eee\"}, \"traceorder\": \"normal\"}, \"paper_bgcolor\": \"rgba(0,0,0,0)\", \"plot_bgcolor\": \"rgba(0,0,0,0)\", \"scene\": {\"bgcolor\": \"rgba(0,0,0,0)\"}, \"template\": {\"data\": {\"bar\": [{\"error_x\": {\"color\": \"#2a3f5f\"}, \"error_y\": {\"color\": \"#2a3f5f\"}, \"marker\": {\"line\": {\"color\": \"#E5ECF6\", \"width\": 0.5}}, \"type\": \"bar\"}], \"barpolar\": [{\"marker\": {\"line\": {\"color\": \"#E5ECF6\", \"width\": 0.5}}, \"type\": \"barpolar\"}], \"carpet\": [{\"aaxis\": {\"endlinecolor\": \"#2a3f5f\", \"gridcolor\": \"white\", \"linecolor\": \"white\", \"minorgridcolor\": \"white\", \"startlinecolor\": \"#2a3f5f\"}, \"baxis\": {\"endlinecolor\": \"#2a3f5f\", \"gridcolor\": \"white\", \"linecolor\": \"white\", \"minorgridcolor\": \"white\", \"startlinecolor\": \"#2a3f5f\"}, \"type\": \"carpet\"}], \"choropleth\": [{\"colorbar\": {\"outlinewidth\": 0, \"ticks\": \"\"}, \"type\": \"choropleth\"}], \"contour\": [{\"colorbar\": {\"outlinewidth\": 0, \"ticks\": \"\"}, \"colorscale\": [[0.0, \"#0d0887\"], [0.1111111111111111, \"#46039f\"], [0.2222222222222222, \"#7201a8\"], [0.3333333333333333, \"#9c179e\"], [0.4444444444444444, \"#bd3786\"], [0.5555555555555556, \"#d8576b\"], [0.6666666666666666, \"#ed7953\"], [0.7777777777777778, \"#fb9f3a\"], [0.8888888888888888, \"#fdca26\"], [1.0, \"#f0f921\"]], \"type\": \"contour\"}], \"contourcarpet\": [{\"colorbar\": {\"outlinewidth\": 0, \"ticks\": \"\"}, \"type\": \"contourcarpet\"}], \"heatmap\": [{\"colorbar\": {\"outlinewidth\": 0, \"ticks\": \"\"}, \"colorscale\": [[0.0, \"#0d0887\"], [0.1111111111111111, \"#46039f\"], [0.2222222222222222, \"#7201a8\"], [0.3333333333333333, \"#9c179e\"], [0.4444444444444444, \"#bd3786\"], [0.5555555555555556, \"#d8576b\"], [0.6666666666666666, \"#ed7953\"], [0.7777777777777778, \"#fb9f3a\"], [0.8888888888888888, \"#fdca26\"], [1.0, \"#f0f921\"]], \"type\": \"heatmap\"}], \"heatmapgl\": [{\"colorbar\": {\"outlinewidth\": 0, \"ticks\": \"\"}, \"colorscale\": [[0.0, \"#0d0887\"], [0.1111111111111111, \"#46039f\"], [0.2222222222222222, \"#7201a8\"], [0.3333333333333333, \"#9c179e\"], [0.4444444444444444, \"#bd3786\"], [0.5555555555555556, \"#d8576b\"], [0.6666666666666666, \"#ed7953\"], [0.7777777777777778, \"#fb9f3a\"], [0.8888888888888888, \"#fdca26\"], [1.0, \"#f0f921\"]], \"type\": \"heatmapgl\"}], \"histogram\": [{\"marker\": {\"colorbar\": {\"outlinewidth\": 0, \"ticks\": \"\"}}, \"type\": \"histogram\"}], \"histogram2d\": [{\"colorbar\": {\"outlinewidth\": 0, \"ticks\": \"\"}, \"colorscale\": [[0.0, \"#0d0887\"], [0.1111111111111111, \"#46039f\"], [0.2222222222222222, \"#7201a8\"], [0.3333333333333333, \"#9c179e\"], [0.4444444444444444, \"#bd3786\"], [0.5555555555555556, \"#d8576b\"], [0.6666666666666666, \"#ed7953\"], [0.7777777777777778, \"#fb9f3a\"], [0.8888888888888888, \"#fdca26\"], [1.0, \"#f0f921\"]], \"type\": \"histogram2d\"}], \"histogram2dcontour\": [{\"colorbar\": {\"outlinewidth\": 0, \"ticks\": \"\"}, \"colorscale\": [[0.0, \"#0d0887\"], [0.1111111111111111, \"#46039f\"], [0.2222222222222222, \"#7201a8\"], [0.3333333333333333, \"#9c179e\"], [0.4444444444444444, \"#bd3786\"], [0.5555555555555556, \"#d8576b\"], [0.6666666666666666, \"#ed7953\"], [0.7777777777777778, \"#fb9f3a\"], [0.8888888888888888, \"#fdca26\"], [1.0, \"#f0f921\"]], \"type\": \"histogram2dcontour\"}], \"mesh3d\": [{\"colorbar\": {\"outlinewidth\": 0, \"ticks\": \"\"}, \"type\": \"mesh3d\"}], \"parcoords\": [{\"line\": {\"colorbar\": {\"outlinewidth\": 0, \"ticks\": \"\"}}, \"type\": \"parcoords\"}], \"scatter\": [{\"marker\": {\"colorbar\": {\"outlinewidth\": 0, \"ticks\": \"\"}}, \"type\": \"scatter\"}], \"scatter3d\": [{\"line\": {\"colorbar\": {\"outlinewidth\": 0, \"ticks\": \"\"}}, \"marker\": {\"colorbar\": {\"outlinewidth\": 0, \"ticks\": \"\"}}, \"type\": \"scatter3d\"}], \"scattercarpet\": [{\"marker\": {\"colorbar\": {\"outlinewidth\": 0, \"ticks\": \"\"}}, \"type\": \"scattercarpet\"}], \"scattergeo\": [{\"marker\": {\"colorbar\": {\"outlinewidth\": 0, \"ticks\": \"\"}}, \"type\": \"scattergeo\"}], \"scattergl\": [{\"marker\": {\"colorbar\": {\"outlinewidth\": 0, \"ticks\": \"\"}}, \"type\": \"scattergl\"}], \"scattermapbox\": [{\"marker\": {\"colorbar\": {\"outlinewidth\": 0, \"ticks\": \"\"}}, \"type\": \"scattermapbox\"}], \"scatterpolar\": [{\"marker\": {\"colorbar\": {\"outlinewidth\": 0, \"ticks\": \"\"}}, \"type\": \"scatterpolar\"}], \"scatterpolargl\": [{\"marker\": {\"colorbar\": {\"outlinewidth\": 0, \"ticks\": \"\"}}, \"type\": \"scatterpolargl\"}], \"scatterternary\": [{\"marker\": {\"colorbar\": {\"outlinewidth\": 0, \"ticks\": \"\"}}, \"type\": \"scatterternary\"}], \"surface\": [{\"colorbar\": {\"outlinewidth\": 0, \"ticks\": \"\"}, \"colorscale\": [[0.0, \"#0d0887\"], [0.1111111111111111, \"#46039f\"], [0.2222222222222222, \"#7201a8\"], [0.3333333333333333, \"#9c179e\"], [0.4444444444444444, \"#bd3786\"], [0.5555555555555556, \"#d8576b\"], [0.6666666666666666, \"#ed7953\"], [0.7777777777777778, \"#fb9f3a\"], [0.8888888888888888, \"#fdca26\"], [1.0, \"#f0f921\"]], \"type\": \"surface\"}], \"table\": [{\"cells\": {\"fill\": {\"color\": \"#EBF0F8\"}, \"line\": {\"color\": \"white\"}}, \"header\": {\"fill\": {\"color\": \"#C8D4E3\"}, \"line\": {\"color\": \"white\"}}, \"type\": \"table\"}]}, \"layout\": {\"annotationdefaults\": {\"arrowcolor\": \"#2a3f5f\", \"arrowhead\": 0, \"arrowwidth\": 1}, \"colorscale\": {\"diverging\": [[0, \"#8e0152\"], [0.1, \"#c51b7d\"], [0.2, \"#de77ae\"], [0.3, \"#f1b6da\"], [0.4, \"#fde0ef\"], [0.5, \"#f7f7f7\"], [0.6, \"#e6f5d0\"], [0.7, \"#b8e186\"], [0.8, \"#7fbc41\"], [0.9, \"#4d9221\"], [1, \"#276419\"]], \"sequential\": [[0.0, \"#0d0887\"], [0.1111111111111111, \"#46039f\"], [0.2222222222222222, \"#7201a8\"], [0.3333333333333333, \"#9c179e\"], [0.4444444444444444, \"#bd3786\"], [0.5555555555555556, \"#d8576b\"], [0.6666666666666666, \"#ed7953\"], [0.7777777777777778, \"#fb9f3a\"], [0.8888888888888888, \"#fdca26\"], [1.0, \"#f0f921\"]], \"sequentialminus\": [[0.0, \"#0d0887\"], [0.1111111111111111, \"#46039f\"], [0.2222222222222222, \"#7201a8\"], [0.3333333333333333, \"#9c179e\"], [0.4444444444444444, \"#bd3786\"], [0.5555555555555556, \"#d8576b\"], [0.6666666666666666, \"#ed7953\"], [0.7777777777777778, \"#fb9f3a\"], [0.8888888888888888, \"#fdca26\"], [1.0, \"#f0f921\"]]}, \"colorway\": [\"#636efa\", \"#EF553B\", \"#00cc96\", \"#ab63fa\", \"#FFA15A\", \"#19d3f3\", \"#FF6692\", \"#B6E880\", \"#FF97FF\", \"#FECB52\"], \"font\": {\"color\": \"#2a3f5f\"}, \"geo\": {\"bgcolor\": \"white\", \"lakecolor\": \"white\", \"landcolor\": \"#E5ECF6\", \"showlakes\": true, \"showland\": true, \"subunitcolor\": \"white\"}, \"hoverlabel\": {\"align\": \"left\"}, \"hovermode\": \"closest\", \"mapbox\": {\"style\": \"light\"}, \"paper_bgcolor\": \"white\", \"plot_bgcolor\": \"#E5ECF6\", \"polar\": {\"angularaxis\": {\"gridcolor\": \"white\", \"linecolor\": \"white\", \"ticks\": \"\"}, \"bgcolor\": \"#E5ECF6\", \"radialaxis\": {\"gridcolor\": \"white\", \"linecolor\": \"white\", \"ticks\": \"\"}}, \"scene\": {\"xaxis\": {\"backgroundcolor\": \"#E5ECF6\", \"gridcolor\": \"white\", \"gridwidth\": 2, \"linecolor\": \"white\", \"showbackground\": true, \"ticks\": \"\", \"zerolinecolor\": \"white\"}, \"yaxis\": {\"backgroundcolor\": \"#E5ECF6\", \"gridcolor\": \"white\", \"gridwidth\": 2, \"linecolor\": \"white\", \"showbackground\": true, \"ticks\": \"\", \"zerolinecolor\": \"white\"}, \"zaxis\": {\"backgroundcolor\": \"#E5ECF6\", \"gridcolor\": \"white\", \"gridwidth\": 2, \"linecolor\": \"white\", \"showbackground\": true, \"ticks\": \"\", \"zerolinecolor\": \"white\"}}, \"shapedefaults\": {\"line\": {\"color\": \"#2a3f5f\"}}, \"ternary\": {\"aaxis\": {\"gridcolor\": \"white\", \"linecolor\": \"white\", \"ticks\": \"\"}, \"baxis\": {\"gridcolor\": \"white\", \"linecolor\": \"white\", \"ticks\": \"\"}, \"bgcolor\": \"#E5ECF6\", \"caxis\": {\"gridcolor\": \"white\", \"linecolor\": \"white\", \"ticks\": \"\"}}, \"title\": {\"x\": 0.05}, \"xaxis\": {\"automargin\": true, \"gridcolor\": \"white\", \"linecolor\": \"white\", \"ticks\": \"\", \"zerolinecolor\": \"white\", \"zerolinewidth\": 2}, \"yaxis\": {\"automargin\": true, \"gridcolor\": \"white\", \"linecolor\": \"white\", \"ticks\": \"\", \"zerolinecolor\": \"white\", \"zerolinewidth\": 2}}}, \"xaxis\": {\"color\": \"#eee\", \"title\": {\"text\": \"Gameweek\"}}, \"yaxis\": {\"color\": \"#eee\", \"title\": {\"text\": \"Difficulty\"}}},\n",
       "                        {\"responsive\": true}\n",
       "                    ).then(function(){\n",
       "                            \n",
       "var gd = document.getElementById('1d153c94-41f7-49e3-9925-933caa306d03');\n",
       "var x = new MutationObserver(function (mutations, observer) {{\n",
       "        var display = window.getComputedStyle(gd).display;\n",
       "        if (!display || display === 'none') {{\n",
       "            console.log([gd, 'removed!']);\n",
       "            Plotly.purge(gd);\n",
       "            observer.disconnect();\n",
       "        }}\n",
       "}});\n",
       "\n",
       "// Listen for the removal of the full notebook cells\n",
       "var notebookContainer = gd.closest('#notebook-container');\n",
       "if (notebookContainer) {{\n",
       "    x.observe(notebookContainer, {childList: true});\n",
       "}}\n",
       "\n",
       "// Listen for the clearing of the current output cell\n",
       "var outputEl = gd.closest('.output');\n",
       "if (outputEl) {{\n",
       "    x.observe(outputEl, {childList: true});\n",
       "}}\n",
       "\n",
       "                        })\n",
       "                };\n",
       "                });\n",
       "            </script>\n",
       "        </div>"
      ]
     },
     "metadata": {},
     "output_type": "display_data"
    }
   ],
   "source": [
    "df_form = form(season, base_path, limit_form=1,no_below_limit_occ=2)"
   ]
  },
  {
   "cell_type": "code",
   "execution_count": null,
   "metadata": {},
   "outputs": [],
   "source": []
  }
 ],
 "metadata": {
  "kernelspec": {
   "display_name": "Python 3",
   "language": "python",
   "name": "python3"
  },
  "language_info": {
   "codemirror_mode": {
    "name": "ipython",
    "version": 3
   },
   "file_extension": ".py",
   "mimetype": "text/x-python",
   "name": "python",
   "nbconvert_exporter": "python",
   "pygments_lexer": "ipython3",
   "version": "3.7.4"
  }
 },
 "nbformat": 4,
 "nbformat_minor": 2
}
