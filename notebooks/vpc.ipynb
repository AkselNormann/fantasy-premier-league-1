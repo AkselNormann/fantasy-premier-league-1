{
 "cells": [
  {
   "cell_type": "code",
   "execution_count": 18,
   "metadata": {},
   "outputs": [],
   "source": [
    "%config IPCompleter.greedy=True\n",
    "\n",
    "import import_ipynb\n",
    "from functions import get_raw_data\n",
    "from functions import get_gameweek_data\n",
    "from functions import map_id_to_str\n",
    "\n",
    "import os\n",
    "import requests\n",
    "import pandas"
   ]
  },
  {
   "cell_type": "code",
   "execution_count": 27,
   "metadata": {},
   "outputs": [],
   "source": [
    "import plotly.graph_objs as go\n",
    "\n",
    "import chart_studio\n",
    "import chart_studio.plotly as py\n",
    "#chart_studio .tools.set_credentials_file(username='user', api_key='***')"
   ]
  },
  {
   "cell_type": "code",
   "execution_count": 20,
   "metadata": {},
   "outputs": [],
   "source": [
    "def calc_vpc(base_path, season, currgw):\n",
    "    # cleaned data - df1\n",
    "    df1 = get_raw_data(base_path, season)\n",
    "    df1['value'] = df1['now_cost']/10\n",
    "    df1['id_str'] = df1.apply(map_id_to_str, axis=1)\n",
    "    df1['display_name'] = df1['name']\n",
    "    df1['name'] = df1['name'] + ' ' + df1['id_str']\n",
    "    df1 = df1[['value', 'name', 'position', 'display_name']]\n",
    "\n",
    "    # data by gws for each player\n",
    "    df2 = get_gameweek_data(base_path, season, currgw)\n",
    "    df2 = df2[['name', 'bonus', 'bonus_weighted', 'bps', 'bps_weighted', 'total_points', 'total_points_weighted']]\n",
    "\n",
    "    # df2.to_csv('in.csv', sep='\\t')\n",
    "    # group by player and calculate ratio\n",
    "    df2 = df2.groupby(['name']).mean()\n",
    "\n",
    "    # merge\n",
    "    df = pandas.merge(df1, df2, on='name', how='outer')\n",
    "    df['vpc_ratio'] = df['total_points'] / df['value']\n",
    "    df['vpc_ratio_weighted'] = df['total_points_weighted'] / df['value']\n",
    "\n",
    "    return df"
   ]
  },
  {
   "cell_type": "code",
   "execution_count": 21,
   "metadata": {},
   "outputs": [],
   "source": [
    "def map_position_to_color(position):\n",
    "    if position == 'Goalkeeper':\n",
    "        return 'rgba(0,53,166, 0.8)'\n",
    "    elif position == 'Defender':\n",
    "        return 'rgba(101,255,71, 0.8)'\n",
    "    elif position == 'Midfielder':\n",
    "        return 'rgba(254,213,0, 0.8)'\n",
    "    else:\n",
    "        return 'rgba(236,0,0, 0.8)'"
   ]
  },
  {
   "cell_type": "code",
   "execution_count": 22,
   "metadata": {},
   "outputs": [],
   "source": [
    "def get_trace(df, position):\n",
    "    return go.Scatter(\n",
    "        x = df['value'],        \n",
    "        y = df['total_points'],\n",
    "        name= (position+'s'),\n",
    "        text = df['display_name'],\n",
    "        mode = 'markers',        \n",
    "        marker=dict(color = map_position_to_color(position),\n",
    "                    size = df['vpc_ratio'], \n",
    "                    sizeref = 0.001, \n",
    "                    sizemode = 'area'),\n",
    "        hoverlabel= dict(\n",
    "            font=dict(color='#404040'),\n",
    "            bordercolor='#404040',\n",
    "            bgcolor='white'\n",
    "        ),\n",
    "        hovertemplate = \"<b>%{text}</b><br><br>\" +\n",
    "            \"Value: %{y:.2f}</br>\"+\n",
    "            \"Cost: %{x:.2f}£</br>\"+\n",
    "            \"<extra></extra>\")"
   ]
  },
  {
   "cell_type": "markdown",
   "metadata": {},
   "source": [
    "# Main"
   ]
  },
  {
   "cell_type": "code",
   "execution_count": 23,
   "metadata": {},
   "outputs": [],
   "source": [
    "URL = \"https://fantasy.premierleague.com/api/bootstrap-static\"\n",
    "DATA = requests.get(URL).json()\n",
    "CURR_GW_OBJS = [x for x in DATA['events'] if x['is_current'] == True]\n",
    "if len(CURR_GW_OBJS) == 0:\n",
    "    CURR_GW_OBJS = DATA['events']\n",
    "CURR_GW = CURR_GW_OBJS[-1]['id']\n",
    "SEASON = '2018-19'\n",
    "\n",
    "BASE_PATH = '../scraper/'"
   ]
  },
  {
   "cell_type": "code",
   "execution_count": 24,
   "metadata": {},
   "outputs": [],
   "source": [
    "vpc = calc_vpc(BASE_PATH, SEASON, CURR_GW)"
   ]
  },
  {
   "cell_type": "code",
   "execution_count": 25,
   "metadata": {},
   "outputs": [],
   "source": [
    "goalkeepers = vpc[(vpc['position']=='Goalkeeper') & (vpc['total_points']>0.1)]\n",
    "defenders = vpc[(vpc['position']=='Defender') & (vpc['total_points']>0.1)]\n",
    "midfielders = vpc[(vpc['position']=='Midfielder') & (vpc['total_points']>0.1)]\n",
    "forwards = vpc[(vpc['position']=='Forward') & (vpc['total_points']>0.1)]\n",
    "\n",
    "trace_gkp = get_trace(goalkeepers,'Goalkeeper')\n",
    "trace_def = get_trace(defenders,'Defender')\n",
    "trace_mid = get_trace(midfielders,'Midfielder')\n",
    "trace_fwd = get_trace(forwards,'Forward')\n",
    "\n",
    "data = [trace_gkp,trace_def,trace_mid,trace_fwd]\n",
    "\n",
    "updatemenus = list([\n",
    "    dict(active=0,\n",
    "         pad = {'r': 0, 't': 10},\n",
    "         x = 0,\n",
    "         y = 1.18,\n",
    "         type = 'buttons',\n",
    "         font=dict(color='#404040'),\n",
    "         bgcolor = 'rgba(255,255,255,100)',\n",
    "         direction = 'right',\n",
    "         xanchor = 'left',\n",
    "         buttons=list([   \n",
    "            dict(label = 'All',\n",
    "                 method = 'update',\n",
    "                 args = [{'visible': [True, True, True, True]}]),\n",
    "            dict(label = 'Goalkeepers',\n",
    "                 method = 'update',\n",
    "                 args = [{'visible': [True, False, False, False]}]),\n",
    "            dict(label = 'Defenders',\n",
    "                 method = 'update',\n",
    "                 args = [{'visible': [False, True, False, False]}]),\n",
    "            dict(label = 'Midfielders',\n",
    "                 method = 'update',\n",
    "                 args = [{'visible': [False, False, True, False]}]),\n",
    "            dict(label = 'Forwards',\n",
    "                 method = 'update',\n",
    "                 args = [{'visible': [False, False, False, True]}])\n",
    "        ]),\n",
    "    )\n",
    "])\n",
    "\n",
    "layout = go.Layout(\n",
    "    modebar={'bgcolor': 'rgba(0,0,0,0)'},\n",
    "    hovermode = 'closest',\n",
    "    showlegend=False,\n",
    "    updatemenus=updatemenus, \n",
    "    paper_bgcolor='rgba(0,0,0,0)',\n",
    "    plot_bgcolor='rgba(0,0,0,0)',\n",
    "    xaxis=go.layout.XAxis(\n",
    "        showgrid=True,\n",
    "        zeroline=False,\n",
    "        color='rgba(255,255,255,1)',\n",
    "        showticklabels=False,\n",
    "        title=go.layout.xaxis.Title(\n",
    "            text='Cost',\n",
    "            font=dict(\n",
    "                size=18,\n",
    "                color='white'\n",
    "            )\n",
    "        )\n",
    "    ),\n",
    "    yaxis=go.layout.YAxis(  \n",
    "        showgrid=True,\n",
    "        zeroline=False,\n",
    "        color='rgba(255,255,255,10)',\n",
    "        showticklabels=False,\n",
    "        title=go.layout.yaxis.Title(\n",
    "            text='Value',\n",
    "            font=dict(\n",
    "                size=18,\n",
    "                color='white'\n",
    "            )\n",
    "        )\n",
    "    )\n",
    ")\n",
    "fig = go.Figure(data=data, layout=layout)"
   ]
  },
  {
   "cell_type": "code",
   "execution_count": 26,
   "metadata": {},
   "outputs": [
    {
     "data": {
      "text/plain": [
       "'https://plot.ly/~antoniaelek/164/value-vs-cost/'"
      ]
     },
     "execution_count": 26,
     "metadata": {},
     "output_type": "execute_result"
    }
   ],
   "source": [
    "#plotly.offline.iplot(fig)\n",
    "`.plotly.plot(fig,filename=\"vpc\")"
   ]
  },
  {
   "cell_type": "code",
   "execution_count": null,
   "metadata": {},
   "outputs": [],
   "source": []
  }
 ],
 "metadata": {
  "kernelspec": {
   "display_name": "Python 3",
   "language": "python",
   "name": "python3"
  },
  "language_info": {
   "codemirror_mode": {
    "name": "ipython",
    "version": 3
   },
   "file_extension": ".py",
   "mimetype": "text/x-python",
   "name": "python",
   "nbconvert_exporter": "python",
   "pygments_lexer": "ipython3",
   "version": "3.7.4"
  }
 },
 "nbformat": 4,
 "nbformat_minor": 2
}
