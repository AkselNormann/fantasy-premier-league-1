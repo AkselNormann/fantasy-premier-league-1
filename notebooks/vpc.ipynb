{
 "cells": [
  {
   "cell_type": "code",
   "execution_count": 40,
   "metadata": {},
   "outputs": [
    {
     "data": {
      "text/html": [
       "        <script type=\"text/javascript\">\n",
       "        window.PlotlyConfig = {MathJaxConfig: 'local'};\n",
       "        if (window.MathJax) {MathJax.Hub.Config({SVG: {font: \"STIX-Web\"}});}\n",
       "        if (typeof require !== 'undefined') {\n",
       "        require.undef(\"plotly\");\n",
       "        requirejs.config({\n",
       "            paths: {\n",
       "                'plotly': ['https://cdn.plot.ly/plotly-latest.min']\n",
       "            }\n",
       "        });\n",
       "        require(['plotly'], function(Plotly) {\n",
       "            window._Plotly = Plotly;\n",
       "        });\n",
       "        }\n",
       "        </script>\n",
       "        "
      ]
     },
     "metadata": {},
     "output_type": "display_data"
    }
   ],
   "source": [
    "%config IPCompleter.greedy=True\n",
    "\n",
    "from plotly.offline import download_plotlyjs, init_notebook_mode, plot, iplot\n",
    "\n",
    "init_notebook_mode(connected=True)\n",
    "\n",
    "import import_ipynb\n",
    "from functions import get_raw_data\n",
    "from functions import get_gameweek_data\n",
    "from functions import map_id_to_str\n",
    "\n",
    "from visuals import colors\n",
    "from visuals import map_position_to_color\n",
    "\n",
    "import plotly\n",
    "import plotly.plotly as py\n",
    "import plotly.graph_objs as go\n",
    "\n",
    "import os\n",
    "import requests\n",
    "import pandas"
   ]
  },
  {
   "cell_type": "code",
   "execution_count": 41,
   "metadata": {},
   "outputs": [],
   "source": [
    "def calc_vpc(base_path, season, currgw):\n",
    "    # cleaned data - df1\n",
    "    df1 = get_raw_data(base_path, season)\n",
    "    df1['value'] = df1['now_cost']/10\n",
    "    df1['id_str'] = df1.apply(map_id_to_str, axis=1)\n",
    "    df1['display_name'] = df1['name']\n",
    "    df1['name'] = df1['name'] + ' ' + df1['id_str']\n",
    "    df1 = df1[['value', 'name', 'position', 'display_name']]\n",
    "\n",
    "    # data by gws for each player\n",
    "    df2 = get_gameweek_data(base_path, season, currgw)\n",
    "    df2 = df2[['name', 'bonus', 'bonus_weighted', 'bps', 'bps_weighted', 'total_points', 'total_points_weighted']]\n",
    "\n",
    "    # df2.to_csv('in.csv', sep='\\t')\n",
    "    # group by player and calculate ratio\n",
    "    df2 = df2.groupby(['name']).mean()\n",
    "\n",
    "    # merge\n",
    "    df = pandas.merge(df1, df2, on='name', how='outer')\n",
    "    df['vpc_ratio'] = df['total_points'] / df['value']\n",
    "    df['vpc_ratio_weighted'] = df['total_points_weighted'] / df['value']\n",
    "\n",
    "    return df"
   ]
  },
  {
   "cell_type": "code",
   "execution_count": 42,
   "metadata": {},
   "outputs": [],
   "source": [
    "def get_trace(df, position):\n",
    "    return go.Scatter(\n",
    "        x = df['value'],        \n",
    "        y = df['total_points'],\n",
    "        name= (position+'s'),\n",
    "        text = df['display_name'],\n",
    "        mode = 'markers',        \n",
    "        marker=dict(color = map_position_to_color(position),\n",
    "                    size = df['vpc_ratio'], \n",
    "                    sizeref = 0.001, \n",
    "                    sizemode = 'area'),\n",
    "        hoverlabel= dict(\n",
    "            font=dict(color='#404040'),\n",
    "            bordercolor='#404040',\n",
    "            bgcolor='white'\n",
    "        ),\n",
    "        hovertemplate = \"<b>%{text}</b><br><br>\" +\n",
    "            \"Value: %{y:.2f}</br>\"+\n",
    "            \"Cost: %{x:.2f}£</br>\"+\n",
    "            \"<extra></extra>\")"
   ]
  },
  {
   "cell_type": "code",
   "execution_count": 43,
   "metadata": {},
   "outputs": [],
   "source": [
    "vpc = calc_vpc(BASE_PATH, SEASON, CURR_GW)"
   ]
  },
  {
   "cell_type": "code",
   "execution_count": 44,
   "metadata": {},
   "outputs": [],
   "source": [
    "goalkeepers = vpc[(vpc['position']=='Goalkeeper') & (vpc['total_points']>0.1)]\n",
    "defenders = vpc[(vpc['position']=='Defender') & (vpc['total_points']>0.1)]\n",
    "midfielders = vpc[(vpc['position']=='Midfielder') & (vpc['total_points']>0.1)]\n",
    "forwards = vpc[(vpc['position']=='Forward') & (vpc['total_points']>0.1)]\n",
    "\n",
    "trace_gkp = get_trace(goalkeepers,'Goalkeeper')\n",
    "trace_def = get_trace(defenders,'Defender')\n",
    "trace_mid = get_trace(midfielders,'Midfielder')\n",
    "trace_fwd = get_trace(forwards,'Forward')\n",
    "\n",
    "data = [trace_gkp,trace_def,trace_mid,trace_fwd]\n",
    "\n",
    "updatemenus = list([\n",
    "    dict(active=0,\n",
    "         pad = {'r': 0, 't': 10},\n",
    "         x = 0,\n",
    "         y = 1.18,\n",
    "         type = 'buttons',\n",
    "         font=dict(color='#404040'),\n",
    "         bgcolor = 'rgba(255,255,255,100)',\n",
    "         direction = 'right',\n",
    "         xanchor = 'left',\n",
    "         buttons=list([   \n",
    "            dict(label = 'All',\n",
    "                 method = 'update',\n",
    "                 args = [{'visible': [True, True, True, True]}]),\n",
    "            dict(label = 'Goalkeepers',\n",
    "                 method = 'update',\n",
    "                 args = [{'visible': [True, False, False, False]}]),\n",
    "            dict(label = 'Defenders',\n",
    "                 method = 'update',\n",
    "                 args = [{'visible': [False, True, False, False]}]),\n",
    "            dict(label = 'Midfielders',\n",
    "                 method = 'update',\n",
    "                 args = [{'visible': [False, False, True, False]}]),\n",
    "            dict(label = 'Forwards',\n",
    "                 method = 'update',\n",
    "                 args = [{'visible': [False, False, False, True]}])\n",
    "        ]),\n",
    "    )\n",
    "])\n",
    "\n",
    "layout = go.Layout(\n",
    "    modebar={'bgcolor': 'rgba(0,0,0,0)'},\n",
    "    hovermode = 'closest',\n",
    "    showlegend=False,\n",
    "    updatemenus=updatemenus, \n",
    "    paper_bgcolor='rgba(0,0,0,0)',\n",
    "    plot_bgcolor='rgba(0,0,0,0)',\n",
    "    xaxis=go.layout.XAxis(\n",
    "        showgrid=True,\n",
    "        zeroline=False,\n",
    "        color='rgba(255,255,255,1)',\n",
    "        showticklabels=False,\n",
    "        title=go.layout.xaxis.Title(\n",
    "            text='Cost',\n",
    "            font=dict(\n",
    "                size=18,\n",
    "                color='white'\n",
    "            )\n",
    "        )\n",
    "    ),\n",
    "    yaxis=go.layout.YAxis(  \n",
    "        showgrid=True,\n",
    "        zeroline=False,\n",
    "        color='rgba(255,255,255,10)',\n",
    "        showticklabels=False,\n",
    "        title=go.layout.yaxis.Title(\n",
    "            text='Value',\n",
    "            font=dict(\n",
    "                size=18,\n",
    "                color='white'\n",
    "            )\n",
    "        )\n",
    "    )\n",
    ")\n",
    "fig = go.Figure(data=data, layout=layout)"
   ]
  },
  {
   "cell_type": "markdown",
   "metadata": {},
   "source": [
    "# Main"
   ]
  },
  {
   "cell_type": "code",
   "execution_count": 46,
   "metadata": {},
   "outputs": [],
   "source": [
    "URL = \"https://fantasy.premierleague.com/api/bootstrap-static\"\n",
    "DATA = requests.get(URL).json()\n",
    "CURR_GW_OBJS = [x for x in DATA['events'] if x['is_current'] == True]\n",
    "if len(CURR_GW_OBJS) == 0:\n",
    "    CURR_GW_OBJS = DATA['events']\n",
    "CURR_GW = CURR_GW_OBJS[-1]['id']\n",
    "SEASON = '2018-19'\n",
    "\n",
    "BASE_PATH = '../'"
   ]
  },
  {
   "cell_type": "code",
   "execution_count": 39,
   "metadata": {},
   "outputs": [
    {
     "data": {
      "text/plain": [
       "'https://plot.ly/~antoniaelek/164'"
      ]
     },
     "execution_count": 39,
     "metadata": {},
     "output_type": "execute_result"
    }
   ],
   "source": [
    "#plotly.offline.iplot(fig)\n",
    "plotly.plotly.plot(fig,filename=\"vpc\")"
   ]
  }
 ],
 "metadata": {
  "kernelspec": {
   "display_name": "Python 3",
   "language": "python",
   "name": "python3"
  },
  "language_info": {
   "codemirror_mode": {
    "name": "ipython",
    "version": 3
   },
   "file_extension": ".py",
   "mimetype": "text/x-python",
   "name": "python",
   "nbconvert_exporter": "python",
   "pygments_lexer": "ipython3",
   "version": "3.6.3"
  }
 },
 "nbformat": 4,
 "nbformat_minor": 2
}
