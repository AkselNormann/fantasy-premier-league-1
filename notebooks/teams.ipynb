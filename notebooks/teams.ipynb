{
 "cells": [
  {
   "cell_type": "code",
   "execution_count": 1,
   "metadata": {},
   "outputs": [
    {
     "name": "stdout",
     "output_type": "stream",
     "text": [
      "importing Jupyter notebook from functions.ipynb\n"
     ]
    }
   ],
   "source": [
    "%config IPCompleter.greedy=True\n",
    "\n",
    "import import_ipynb\n",
    "from functions import get_upcoming_team_fixtures_data\n",
    "from functions import get_upcoming_fixtures_data\n",
    "from functions import get_past_fixtures_data\n",
    "from functions import get_past_team_fixtures_data\n",
    "\n",
    "import numpy as np\n",
    "\n",
    "import os\n",
    "import requests\n",
    "import pandas"
   ]
  },
  {
   "cell_type": "code",
   "execution_count": 2,
   "metadata": {},
   "outputs": [],
   "source": [
    "import plotly.offline\n",
    "import plotly.graph_objects as go\n",
    "\n",
    "import chart_studio\n",
    "import chart_studio.plotly as py\n",
    "#chart_studio .tools.set_credentials_file(username='user', api_key='***')"
   ]
  },
  {
   "cell_type": "code",
   "execution_count": 7,
   "metadata": {},
   "outputs": [],
   "source": [
    "season='2019-20'\n",
    "base_path = '../scraper/'"
   ]
  },
  {
   "cell_type": "markdown",
   "metadata": {},
   "source": [
    "# Fixtures"
   ]
  },
  {
   "cell_type": "code",
   "execution_count": 8,
   "metadata": {},
   "outputs": [],
   "source": [
    "def next_fixtures(season, base_path, no_fixtures=6):\n",
    "    clubs_h = list(get_upcoming_fixtures_data(base_path, season)['team_h'].unique())\n",
    "    clubs_a = list(get_upcoming_fixtures_data(base_path, season)['team_a'].unique())\n",
    "    clubs = sorted(set(clubs_h + clubs_a))\n",
    "    \n",
    "    fig = go.Figure()\n",
    "    alldf=pandas.DataFrame()\n",
    "\n",
    "    for club in clubs:\n",
    "        df = get_upcoming_team_fixtures_data(club, base_path, season).head(no_fixtures)\n",
    "        df['team']=club\n",
    "        df['sum_difficulty'] = df['difficulty'].rolling(min_periods=1, window=no_fixtures).sum()\n",
    "        alldf = alldf.append(df)\n",
    "        \n",
    "    return alldf.set_index(['team'])"
   ]
  },
  {
   "cell_type": "code",
   "execution_count": 9,
   "metadata": {},
   "outputs": [],
   "source": [
    "fix = next_fixtures(season, base_path, no_fixtures=4)"
   ]
  },
  {
   "cell_type": "code",
   "execution_count": 20,
   "metadata": {},
   "outputs": [],
   "source": [
    "def next_fixtures_plot(data, limit_diff=100.0):\n",
    "    clubs_h = list(get_upcoming_fixtures_data(base_path, season)['team_h'].unique())\n",
    "    clubs_a = list(get_upcoming_fixtures_data(base_path, season)['team_a'].unique())\n",
    "    clubs = sorted(set(clubs_h + clubs_a))\n",
    "    \n",
    "    fig = go.Figure()\n",
    "\n",
    "    for club in clubs:\n",
    "        df = data.loc[club]\n",
    "\n",
    "        if (df.iloc[-1]['sum_difficulty']>limit_diff):\n",
    "            continue\n",
    "        \n",
    "        fig.add_trace(go.Scatter(\n",
    "            x=df['event'], \n",
    "            y=df['difficulty'],\n",
    "            name=club,          \n",
    "            mode='lines',\n",
    "            line=dict(shape='spline', width=4, smoothing=1.3),\n",
    "            text = df['opponent'] + ' (' + df['where'] + ')',\n",
    "            hoverlabel= dict(\n",
    "                font=dict(color='#404040'),\n",
    "                bordercolor='#404040',\n",
    "                bgcolor='white'\n",
    "            ),            \n",
    "            hovertemplate = \"<b>\"+club+\"</b></br></br>vs %{text}</br></br><extra></extra>\"))\n",
    "        \n",
    "    fig.update_layout(\n",
    "        hovermode='x',\n",
    "        legend=go.layout.Legend(\n",
    "            traceorder=\"normal\",\n",
    "            font=dict(color=\"#eee\"),\n",
    "            bgcolor=\"rgba(0,0,0,0)\"\n",
    "        )\n",
    "    )\n",
    "    \n",
    "    x_min=df[['event']].iloc[0]-1\n",
    "    x_max=df[['event']].iloc[-1]+1\n",
    "    fig.update_yaxes(title_text=\"Difficulty\",color='#eee',showgrid=False, zeroline=False, tick0=1, dtick=1, range=[1.5, 5])\n",
    "    fig.update_xaxes(title_text=\"Gameweek\",color='#eee',showgrid=True, zeroline=True, tick0=1, dtick=1, range=[x_min, x_max])\n",
    "\n",
    "    fig.update_scenes(bgcolor='rgba(0,0,0,0)')\n",
    "\n",
    "    fig.layout.update(plot_bgcolor='rgba(0,0,0,0)', paper_bgcolor='rgba(0,0,0,0)')\n",
    "    chart_studio.plotly.plot(fig, filename=\"easiest_schedule\")\n",
    "    plotly.offline.iplot(fig)"
   ]
  },
  {
   "cell_type": "code",
   "execution_count": 21,
   "metadata": {},
   "outputs": [
    {
     "data": {
      "application/vnd.plotly.v1+json": {
       "config": {
        "linkText": "Export to plot.ly",
        "plotlyServerURL": "https://plot.ly",
        "showLink": false
       },
       "data": [
        {
         "hoverlabel": {
          "bgcolor": "white",
          "bordercolor": "#404040",
          "font": {
           "color": "#404040"
          }
         },
         "hovertemplate": "<b>Arsenal</b></br></br>vs %{text}</br></br><extra></extra>",
         "line": {
          "shape": "spline",
          "smoothing": 1.3,
          "width": 4
         },
         "mode": "lines",
         "name": "Arsenal",
         "text": [
          "Aston Villa (H)",
          "Man Utd (A)",
          "Bournemouth (H)",
          "Sheffield Utd (A)"
         ],
         "type": "scatter",
         "x": [
          6,
          7,
          8,
          9
         ],
         "y": [
          2,
          4,
          2,
          2
         ]
        },
        {
         "hoverlabel": {
          "bgcolor": "white",
          "bordercolor": "#404040",
          "font": {
           "color": "#404040"
          }
         },
         "hovertemplate": "<b>Aston Villa</b></br></br>vs %{text}</br></br><extra></extra>",
         "line": {
          "shape": "spline",
          "smoothing": 1.3,
          "width": 4
         },
         "mode": "lines",
         "name": "Aston Villa",
         "text": [
          "Arsenal (A)",
          "Burnley (H)",
          "Norwich (A)",
          "Brighton (H)"
         ],
         "type": "scatter",
         "x": [
          6,
          7,
          8,
          9
         ],
         "y": [
          4,
          2,
          2,
          2
         ]
        },
        {
         "hoverlabel": {
          "bgcolor": "white",
          "bordercolor": "#404040",
          "font": {
           "color": "#404040"
          }
         },
         "hovertemplate": "<b>Bournemouth</b></br></br>vs %{text}</br></br><extra></extra>",
         "line": {
          "shape": "spline",
          "smoothing": 1.3,
          "width": 4
         },
         "mode": "lines",
         "name": "Bournemouth",
         "text": [
          "Southampton (A)",
          "West Ham (H)",
          "Arsenal (A)",
          "Norwich (H)"
         ],
         "type": "scatter",
         "x": [
          6,
          7,
          8,
          9
         ],
         "y": [
          2,
          2,
          4,
          2
         ]
        },
        {
         "hoverlabel": {
          "bgcolor": "white",
          "bordercolor": "#404040",
          "font": {
           "color": "#404040"
          }
         },
         "hovertemplate": "<b>Burnley</b></br></br>vs %{text}</br></br><extra></extra>",
         "line": {
          "shape": "spline",
          "smoothing": 1.3,
          "width": 4
         },
         "mode": "lines",
         "name": "Burnley",
         "text": [
          "Norwich (H)",
          "Aston Villa (A)",
          "Everton (H)",
          "Leicester (A)"
         ],
         "type": "scatter",
         "x": [
          6,
          7,
          8,
          9
         ],
         "y": [
          2,
          2,
          2,
          3
         ]
        },
        {
         "hoverlabel": {
          "bgcolor": "white",
          "bordercolor": "#404040",
          "font": {
           "color": "#404040"
          }
         },
         "hovertemplate": "<b>Chelsea</b></br></br>vs %{text}</br></br><extra></extra>",
         "line": {
          "shape": "spline",
          "smoothing": 1.3,
          "width": 4
         },
         "mode": "lines",
         "name": "Chelsea",
         "text": [
          "Liverpool (H)",
          "Brighton (H)",
          "Southampton (A)",
          "Newcastle (H)"
         ],
         "type": "scatter",
         "x": [
          6,
          7,
          8,
          9
         ],
         "y": [
          4,
          2,
          2,
          2
         ]
        },
        {
         "hoverlabel": {
          "bgcolor": "white",
          "bordercolor": "#404040",
          "font": {
           "color": "#404040"
          }
         },
         "hovertemplate": "<b>Everton</b></br></br>vs %{text}</br></br><extra></extra>",
         "line": {
          "shape": "spline",
          "smoothing": 1.3,
          "width": 4
         },
         "mode": "lines",
         "name": "Everton",
         "text": [
          "Sheffield Utd (H)",
          "Man City (H)",
          "Burnley (A)",
          "West Ham (H)"
         ],
         "type": "scatter",
         "x": [
          6,
          7,
          8,
          9
         ],
         "y": [
          2,
          4,
          2,
          2
         ]
        },
        {
         "hoverlabel": {
          "bgcolor": "white",
          "bordercolor": "#404040",
          "font": {
           "color": "#404040"
          }
         },
         "hovertemplate": "<b>Norwich</b></br></br>vs %{text}</br></br><extra></extra>",
         "line": {
          "shape": "spline",
          "smoothing": 1.3,
          "width": 4
         },
         "mode": "lines",
         "name": "Norwich",
         "text": [
          "Burnley (A)",
          "Crystal Palace (A)",
          "Aston Villa (H)",
          "Bournemouth (A)"
         ],
         "type": "scatter",
         "x": [
          6,
          7,
          8,
          9
         ],
         "y": [
          2,
          2,
          2,
          3
         ]
        },
        {
         "hoverlabel": {
          "bgcolor": "white",
          "bordercolor": "#404040",
          "font": {
           "color": "#404040"
          }
         },
         "hovertemplate": "<b>Spurs</b></br></br>vs %{text}</br></br><extra></extra>",
         "line": {
          "shape": "spline",
          "smoothing": 1.3,
          "width": 4
         },
         "mode": "lines",
         "name": "Spurs",
         "text": [
          "Leicester (A)",
          "Southampton (H)",
          "Brighton (A)",
          "Watford (H)"
         ],
         "type": "scatter",
         "x": [
          6,
          7,
          8,
          9
         ],
         "y": [
          3,
          2,
          2,
          3
         ]
        }
       ],
       "layout": {
        "hovermode": "x",
        "legend": {
         "bgcolor": "rgba(0,0,0,0)",
         "font": {
          "color": "#eee"
         },
         "traceorder": "normal"
        },
        "paper_bgcolor": "rgba(0,0,0,0)",
        "plot_bgcolor": "rgba(0,0,0,0)",
        "scene": {
         "bgcolor": "rgba(0,0,0,0)"
        },
        "template": {
         "data": {
          "bar": [
           {
            "error_x": {
             "color": "#2a3f5f"
            },
            "error_y": {
             "color": "#2a3f5f"
            },
            "marker": {
             "line": {
              "color": "#E5ECF6",
              "width": 0.5
             }
            },
            "type": "bar"
           }
          ],
          "barpolar": [
           {
            "marker": {
             "line": {
              "color": "#E5ECF6",
              "width": 0.5
             }
            },
            "type": "barpolar"
           }
          ],
          "carpet": [
           {
            "aaxis": {
             "endlinecolor": "#2a3f5f",
             "gridcolor": "white",
             "linecolor": "white",
             "minorgridcolor": "white",
             "startlinecolor": "#2a3f5f"
            },
            "baxis": {
             "endlinecolor": "#2a3f5f",
             "gridcolor": "white",
             "linecolor": "white",
             "minorgridcolor": "white",
             "startlinecolor": "#2a3f5f"
            },
            "type": "carpet"
           }
          ],
          "choropleth": [
           {
            "colorbar": {
             "outlinewidth": 0,
             "ticks": ""
            },
            "type": "choropleth"
           }
          ],
          "contour": [
           {
            "colorbar": {
             "outlinewidth": 0,
             "ticks": ""
            },
            "colorscale": [
             [
              0,
              "#0d0887"
             ],
             [
              0.1111111111111111,
              "#46039f"
             ],
             [
              0.2222222222222222,
              "#7201a8"
             ],
             [
              0.3333333333333333,
              "#9c179e"
             ],
             [
              0.4444444444444444,
              "#bd3786"
             ],
             [
              0.5555555555555556,
              "#d8576b"
             ],
             [
              0.6666666666666666,
              "#ed7953"
             ],
             [
              0.7777777777777778,
              "#fb9f3a"
             ],
             [
              0.8888888888888888,
              "#fdca26"
             ],
             [
              1,
              "#f0f921"
             ]
            ],
            "type": "contour"
           }
          ],
          "contourcarpet": [
           {
            "colorbar": {
             "outlinewidth": 0,
             "ticks": ""
            },
            "type": "contourcarpet"
           }
          ],
          "heatmap": [
           {
            "colorbar": {
             "outlinewidth": 0,
             "ticks": ""
            },
            "colorscale": [
             [
              0,
              "#0d0887"
             ],
             [
              0.1111111111111111,
              "#46039f"
             ],
             [
              0.2222222222222222,
              "#7201a8"
             ],
             [
              0.3333333333333333,
              "#9c179e"
             ],
             [
              0.4444444444444444,
              "#bd3786"
             ],
             [
              0.5555555555555556,
              "#d8576b"
             ],
             [
              0.6666666666666666,
              "#ed7953"
             ],
             [
              0.7777777777777778,
              "#fb9f3a"
             ],
             [
              0.8888888888888888,
              "#fdca26"
             ],
             [
              1,
              "#f0f921"
             ]
            ],
            "type": "heatmap"
           }
          ],
          "heatmapgl": [
           {
            "colorbar": {
             "outlinewidth": 0,
             "ticks": ""
            },
            "colorscale": [
             [
              0,
              "#0d0887"
             ],
             [
              0.1111111111111111,
              "#46039f"
             ],
             [
              0.2222222222222222,
              "#7201a8"
             ],
             [
              0.3333333333333333,
              "#9c179e"
             ],
             [
              0.4444444444444444,
              "#bd3786"
             ],
             [
              0.5555555555555556,
              "#d8576b"
             ],
             [
              0.6666666666666666,
              "#ed7953"
             ],
             [
              0.7777777777777778,
              "#fb9f3a"
             ],
             [
              0.8888888888888888,
              "#fdca26"
             ],
             [
              1,
              "#f0f921"
             ]
            ],
            "type": "heatmapgl"
           }
          ],
          "histogram": [
           {
            "marker": {
             "colorbar": {
              "outlinewidth": 0,
              "ticks": ""
             }
            },
            "type": "histogram"
           }
          ],
          "histogram2d": [
           {
            "colorbar": {
             "outlinewidth": 0,
             "ticks": ""
            },
            "colorscale": [
             [
              0,
              "#0d0887"
             ],
             [
              0.1111111111111111,
              "#46039f"
             ],
             [
              0.2222222222222222,
              "#7201a8"
             ],
             [
              0.3333333333333333,
              "#9c179e"
             ],
             [
              0.4444444444444444,
              "#bd3786"
             ],
             [
              0.5555555555555556,
              "#d8576b"
             ],
             [
              0.6666666666666666,
              "#ed7953"
             ],
             [
              0.7777777777777778,
              "#fb9f3a"
             ],
             [
              0.8888888888888888,
              "#fdca26"
             ],
             [
              1,
              "#f0f921"
             ]
            ],
            "type": "histogram2d"
           }
          ],
          "histogram2dcontour": [
           {
            "colorbar": {
             "outlinewidth": 0,
             "ticks": ""
            },
            "colorscale": [
             [
              0,
              "#0d0887"
             ],
             [
              0.1111111111111111,
              "#46039f"
             ],
             [
              0.2222222222222222,
              "#7201a8"
             ],
             [
              0.3333333333333333,
              "#9c179e"
             ],
             [
              0.4444444444444444,
              "#bd3786"
             ],
             [
              0.5555555555555556,
              "#d8576b"
             ],
             [
              0.6666666666666666,
              "#ed7953"
             ],
             [
              0.7777777777777778,
              "#fb9f3a"
             ],
             [
              0.8888888888888888,
              "#fdca26"
             ],
             [
              1,
              "#f0f921"
             ]
            ],
            "type": "histogram2dcontour"
           }
          ],
          "mesh3d": [
           {
            "colorbar": {
             "outlinewidth": 0,
             "ticks": ""
            },
            "type": "mesh3d"
           }
          ],
          "parcoords": [
           {
            "line": {
             "colorbar": {
              "outlinewidth": 0,
              "ticks": ""
             }
            },
            "type": "parcoords"
           }
          ],
          "scatter": [
           {
            "marker": {
             "colorbar": {
              "outlinewidth": 0,
              "ticks": ""
             }
            },
            "type": "scatter"
           }
          ],
          "scatter3d": [
           {
            "line": {
             "colorbar": {
              "outlinewidth": 0,
              "ticks": ""
             }
            },
            "marker": {
             "colorbar": {
              "outlinewidth": 0,
              "ticks": ""
             }
            },
            "type": "scatter3d"
           }
          ],
          "scattercarpet": [
           {
            "marker": {
             "colorbar": {
              "outlinewidth": 0,
              "ticks": ""
             }
            },
            "type": "scattercarpet"
           }
          ],
          "scattergeo": [
           {
            "marker": {
             "colorbar": {
              "outlinewidth": 0,
              "ticks": ""
             }
            },
            "type": "scattergeo"
           }
          ],
          "scattergl": [
           {
            "marker": {
             "colorbar": {
              "outlinewidth": 0,
              "ticks": ""
             }
            },
            "type": "scattergl"
           }
          ],
          "scattermapbox": [
           {
            "marker": {
             "colorbar": {
              "outlinewidth": 0,
              "ticks": ""
             }
            },
            "type": "scattermapbox"
           }
          ],
          "scatterpolar": [
           {
            "marker": {
             "colorbar": {
              "outlinewidth": 0,
              "ticks": ""
             }
            },
            "type": "scatterpolar"
           }
          ],
          "scatterpolargl": [
           {
            "marker": {
             "colorbar": {
              "outlinewidth": 0,
              "ticks": ""
             }
            },
            "type": "scatterpolargl"
           }
          ],
          "scatterternary": [
           {
            "marker": {
             "colorbar": {
              "outlinewidth": 0,
              "ticks": ""
             }
            },
            "type": "scatterternary"
           }
          ],
          "surface": [
           {
            "colorbar": {
             "outlinewidth": 0,
             "ticks": ""
            },
            "colorscale": [
             [
              0,
              "#0d0887"
             ],
             [
              0.1111111111111111,
              "#46039f"
             ],
             [
              0.2222222222222222,
              "#7201a8"
             ],
             [
              0.3333333333333333,
              "#9c179e"
             ],
             [
              0.4444444444444444,
              "#bd3786"
             ],
             [
              0.5555555555555556,
              "#d8576b"
             ],
             [
              0.6666666666666666,
              "#ed7953"
             ],
             [
              0.7777777777777778,
              "#fb9f3a"
             ],
             [
              0.8888888888888888,
              "#fdca26"
             ],
             [
              1,
              "#f0f921"
             ]
            ],
            "type": "surface"
           }
          ],
          "table": [
           {
            "cells": {
             "fill": {
              "color": "#EBF0F8"
             },
             "line": {
              "color": "white"
             }
            },
            "header": {
             "fill": {
              "color": "#C8D4E3"
             },
             "line": {
              "color": "white"
             }
            },
            "type": "table"
           }
          ]
         },
         "layout": {
          "annotationdefaults": {
           "arrowcolor": "#2a3f5f",
           "arrowhead": 0,
           "arrowwidth": 1
          },
          "colorscale": {
           "diverging": [
            [
             0,
             "#8e0152"
            ],
            [
             0.1,
             "#c51b7d"
            ],
            [
             0.2,
             "#de77ae"
            ],
            [
             0.3,
             "#f1b6da"
            ],
            [
             0.4,
             "#fde0ef"
            ],
            [
             0.5,
             "#f7f7f7"
            ],
            [
             0.6,
             "#e6f5d0"
            ],
            [
             0.7,
             "#b8e186"
            ],
            [
             0.8,
             "#7fbc41"
            ],
            [
             0.9,
             "#4d9221"
            ],
            [
             1,
             "#276419"
            ]
           ],
           "sequential": [
            [
             0,
             "#0d0887"
            ],
            [
             0.1111111111111111,
             "#46039f"
            ],
            [
             0.2222222222222222,
             "#7201a8"
            ],
            [
             0.3333333333333333,
             "#9c179e"
            ],
            [
             0.4444444444444444,
             "#bd3786"
            ],
            [
             0.5555555555555556,
             "#d8576b"
            ],
            [
             0.6666666666666666,
             "#ed7953"
            ],
            [
             0.7777777777777778,
             "#fb9f3a"
            ],
            [
             0.8888888888888888,
             "#fdca26"
            ],
            [
             1,
             "#f0f921"
            ]
           ],
           "sequentialminus": [
            [
             0,
             "#0d0887"
            ],
            [
             0.1111111111111111,
             "#46039f"
            ],
            [
             0.2222222222222222,
             "#7201a8"
            ],
            [
             0.3333333333333333,
             "#9c179e"
            ],
            [
             0.4444444444444444,
             "#bd3786"
            ],
            [
             0.5555555555555556,
             "#d8576b"
            ],
            [
             0.6666666666666666,
             "#ed7953"
            ],
            [
             0.7777777777777778,
             "#fb9f3a"
            ],
            [
             0.8888888888888888,
             "#fdca26"
            ],
            [
             1,
             "#f0f921"
            ]
           ]
          },
          "colorway": [
           "#636efa",
           "#EF553B",
           "#00cc96",
           "#ab63fa",
           "#FFA15A",
           "#19d3f3",
           "#FF6692",
           "#B6E880",
           "#FF97FF",
           "#FECB52"
          ],
          "font": {
           "color": "#2a3f5f"
          },
          "geo": {
           "bgcolor": "white",
           "lakecolor": "white",
           "landcolor": "#E5ECF6",
           "showlakes": true,
           "showland": true,
           "subunitcolor": "white"
          },
          "hoverlabel": {
           "align": "left"
          },
          "hovermode": "closest",
          "mapbox": {
           "style": "light"
          },
          "paper_bgcolor": "white",
          "plot_bgcolor": "#E5ECF6",
          "polar": {
           "angularaxis": {
            "gridcolor": "white",
            "linecolor": "white",
            "ticks": ""
           },
           "bgcolor": "#E5ECF6",
           "radialaxis": {
            "gridcolor": "white",
            "linecolor": "white",
            "ticks": ""
           }
          },
          "scene": {
           "xaxis": {
            "backgroundcolor": "#E5ECF6",
            "gridcolor": "white",
            "gridwidth": 2,
            "linecolor": "white",
            "showbackground": true,
            "ticks": "",
            "zerolinecolor": "white"
           },
           "yaxis": {
            "backgroundcolor": "#E5ECF6",
            "gridcolor": "white",
            "gridwidth": 2,
            "linecolor": "white",
            "showbackground": true,
            "ticks": "",
            "zerolinecolor": "white"
           },
           "zaxis": {
            "backgroundcolor": "#E5ECF6",
            "gridcolor": "white",
            "gridwidth": 2,
            "linecolor": "white",
            "showbackground": true,
            "ticks": "",
            "zerolinecolor": "white"
           }
          },
          "shapedefaults": {
           "line": {
            "color": "#2a3f5f"
           }
          },
          "ternary": {
           "aaxis": {
            "gridcolor": "white",
            "linecolor": "white",
            "ticks": ""
           },
           "baxis": {
            "gridcolor": "white",
            "linecolor": "white",
            "ticks": ""
           },
           "bgcolor": "#E5ECF6",
           "caxis": {
            "gridcolor": "white",
            "linecolor": "white",
            "ticks": ""
           }
          },
          "title": {
           "x": 0.05
          },
          "xaxis": {
           "automargin": true,
           "gridcolor": "white",
           "linecolor": "white",
           "ticks": "",
           "zerolinecolor": "white",
           "zerolinewidth": 2
          },
          "yaxis": {
           "automargin": true,
           "gridcolor": "white",
           "linecolor": "white",
           "ticks": "",
           "zerolinecolor": "white",
           "zerolinewidth": 2
          }
         }
        },
        "xaxis": {
         "color": "#eee",
         "dtick": 1,
         "range": [
          [
           5
          ],
          [
           10
          ]
         ],
         "showgrid": true,
         "tick0": 1,
         "title": {
          "text": "Gameweek"
         },
         "zeroline": true
        },
        "yaxis": {
         "color": "#eee",
         "dtick": 1,
         "range": [
          1.5,
          5
         ],
         "showgrid": false,
         "tick0": 1,
         "title": {
          "text": "Difficulty"
         },
         "zeroline": false
        }
       }
      },
      "text/html": [
       "<div>\n",
       "        \n",
       "        \n",
       "            <div id=\"5710fb0b-d5b0-4f6d-ae53-7306edcd87b1\" class=\"plotly-graph-div\" style=\"height:525px; width:100%;\"></div>\n",
       "            <script type=\"text/javascript\">\n",
       "                require([\"plotly\"], function(Plotly) {\n",
       "                    window.PLOTLYENV=window.PLOTLYENV || {};\n",
       "                    \n",
       "                if (document.getElementById(\"5710fb0b-d5b0-4f6d-ae53-7306edcd87b1\")) {\n",
       "                    Plotly.newPlot(\n",
       "                        '5710fb0b-d5b0-4f6d-ae53-7306edcd87b1',\n",
       "                        [{\"hoverlabel\": {\"bgcolor\": \"white\", \"bordercolor\": \"#404040\", \"font\": {\"color\": \"#404040\"}}, \"hovertemplate\": \"<b>Arsenal</b></br></br>vs %{text}</br></br><extra></extra>\", \"line\": {\"shape\": \"spline\", \"smoothing\": 1.3, \"width\": 4}, \"mode\": \"lines\", \"name\": \"Arsenal\", \"text\": [\"Aston Villa (H)\", \"Man Utd (A)\", \"Bournemouth (H)\", \"Sheffield Utd (A)\"], \"type\": \"scatter\", \"x\": [6, 7, 8, 9], \"y\": [2, 4, 2, 2]}, {\"hoverlabel\": {\"bgcolor\": \"white\", \"bordercolor\": \"#404040\", \"font\": {\"color\": \"#404040\"}}, \"hovertemplate\": \"<b>Aston Villa</b></br></br>vs %{text}</br></br><extra></extra>\", \"line\": {\"shape\": \"spline\", \"smoothing\": 1.3, \"width\": 4}, \"mode\": \"lines\", \"name\": \"Aston Villa\", \"text\": [\"Arsenal (A)\", \"Burnley (H)\", \"Norwich (A)\", \"Brighton (H)\"], \"type\": \"scatter\", \"x\": [6, 7, 8, 9], \"y\": [4, 2, 2, 2]}, {\"hoverlabel\": {\"bgcolor\": \"white\", \"bordercolor\": \"#404040\", \"font\": {\"color\": \"#404040\"}}, \"hovertemplate\": \"<b>Bournemouth</b></br></br>vs %{text}</br></br><extra></extra>\", \"line\": {\"shape\": \"spline\", \"smoothing\": 1.3, \"width\": 4}, \"mode\": \"lines\", \"name\": \"Bournemouth\", \"text\": [\"Southampton (A)\", \"West Ham (H)\", \"Arsenal (A)\", \"Norwich (H)\"], \"type\": \"scatter\", \"x\": [6, 7, 8, 9], \"y\": [2, 2, 4, 2]}, {\"hoverlabel\": {\"bgcolor\": \"white\", \"bordercolor\": \"#404040\", \"font\": {\"color\": \"#404040\"}}, \"hovertemplate\": \"<b>Burnley</b></br></br>vs %{text}</br></br><extra></extra>\", \"line\": {\"shape\": \"spline\", \"smoothing\": 1.3, \"width\": 4}, \"mode\": \"lines\", \"name\": \"Burnley\", \"text\": [\"Norwich (H)\", \"Aston Villa (A)\", \"Everton (H)\", \"Leicester (A)\"], \"type\": \"scatter\", \"x\": [6, 7, 8, 9], \"y\": [2, 2, 2, 3]}, {\"hoverlabel\": {\"bgcolor\": \"white\", \"bordercolor\": \"#404040\", \"font\": {\"color\": \"#404040\"}}, \"hovertemplate\": \"<b>Chelsea</b></br></br>vs %{text}</br></br><extra></extra>\", \"line\": {\"shape\": \"spline\", \"smoothing\": 1.3, \"width\": 4}, \"mode\": \"lines\", \"name\": \"Chelsea\", \"text\": [\"Liverpool (H)\", \"Brighton (H)\", \"Southampton (A)\", \"Newcastle (H)\"], \"type\": \"scatter\", \"x\": [6, 7, 8, 9], \"y\": [4, 2, 2, 2]}, {\"hoverlabel\": {\"bgcolor\": \"white\", \"bordercolor\": \"#404040\", \"font\": {\"color\": \"#404040\"}}, \"hovertemplate\": \"<b>Everton</b></br></br>vs %{text}</br></br><extra></extra>\", \"line\": {\"shape\": \"spline\", \"smoothing\": 1.3, \"width\": 4}, \"mode\": \"lines\", \"name\": \"Everton\", \"text\": [\"Sheffield Utd (H)\", \"Man City (H)\", \"Burnley (A)\", \"West Ham (H)\"], \"type\": \"scatter\", \"x\": [6, 7, 8, 9], \"y\": [2, 4, 2, 2]}, {\"hoverlabel\": {\"bgcolor\": \"white\", \"bordercolor\": \"#404040\", \"font\": {\"color\": \"#404040\"}}, \"hovertemplate\": \"<b>Norwich</b></br></br>vs %{text}</br></br><extra></extra>\", \"line\": {\"shape\": \"spline\", \"smoothing\": 1.3, \"width\": 4}, \"mode\": \"lines\", \"name\": \"Norwich\", \"text\": [\"Burnley (A)\", \"Crystal Palace (A)\", \"Aston Villa (H)\", \"Bournemouth (A)\"], \"type\": \"scatter\", \"x\": [6, 7, 8, 9], \"y\": [2, 2, 2, 3]}, {\"hoverlabel\": {\"bgcolor\": \"white\", \"bordercolor\": \"#404040\", \"font\": {\"color\": \"#404040\"}}, \"hovertemplate\": \"<b>Spurs</b></br></br>vs %{text}</br></br><extra></extra>\", \"line\": {\"shape\": \"spline\", \"smoothing\": 1.3, \"width\": 4}, \"mode\": \"lines\", \"name\": \"Spurs\", \"text\": [\"Leicester (A)\", \"Southampton (H)\", \"Brighton (A)\", \"Watford (H)\"], \"type\": \"scatter\", \"x\": [6, 7, 8, 9], \"y\": [3, 2, 2, 3]}],\n",
       "                        {\"hovermode\": \"x\", \"legend\": {\"bgcolor\": \"rgba(0,0,0,0)\", \"font\": {\"color\": \"#eee\"}, \"traceorder\": \"normal\"}, \"paper_bgcolor\": \"rgba(0,0,0,0)\", \"plot_bgcolor\": \"rgba(0,0,0,0)\", \"scene\": {\"bgcolor\": \"rgba(0,0,0,0)\"}, \"template\": {\"data\": {\"bar\": [{\"error_x\": {\"color\": \"#2a3f5f\"}, \"error_y\": {\"color\": \"#2a3f5f\"}, \"marker\": {\"line\": {\"color\": \"#E5ECF6\", \"width\": 0.5}}, \"type\": \"bar\"}], \"barpolar\": [{\"marker\": {\"line\": {\"color\": \"#E5ECF6\", \"width\": 0.5}}, \"type\": \"barpolar\"}], \"carpet\": [{\"aaxis\": {\"endlinecolor\": \"#2a3f5f\", \"gridcolor\": \"white\", \"linecolor\": \"white\", \"minorgridcolor\": \"white\", \"startlinecolor\": \"#2a3f5f\"}, \"baxis\": {\"endlinecolor\": \"#2a3f5f\", \"gridcolor\": \"white\", \"linecolor\": \"white\", \"minorgridcolor\": \"white\", \"startlinecolor\": \"#2a3f5f\"}, \"type\": \"carpet\"}], \"choropleth\": [{\"colorbar\": {\"outlinewidth\": 0, \"ticks\": \"\"}, \"type\": \"choropleth\"}], \"contour\": [{\"colorbar\": {\"outlinewidth\": 0, \"ticks\": \"\"}, \"colorscale\": [[0.0, \"#0d0887\"], [0.1111111111111111, \"#46039f\"], [0.2222222222222222, \"#7201a8\"], [0.3333333333333333, \"#9c179e\"], [0.4444444444444444, \"#bd3786\"], [0.5555555555555556, \"#d8576b\"], [0.6666666666666666, \"#ed7953\"], [0.7777777777777778, \"#fb9f3a\"], [0.8888888888888888, \"#fdca26\"], [1.0, \"#f0f921\"]], \"type\": \"contour\"}], \"contourcarpet\": [{\"colorbar\": {\"outlinewidth\": 0, \"ticks\": \"\"}, \"type\": \"contourcarpet\"}], \"heatmap\": [{\"colorbar\": {\"outlinewidth\": 0, \"ticks\": \"\"}, \"colorscale\": [[0.0, \"#0d0887\"], [0.1111111111111111, \"#46039f\"], [0.2222222222222222, \"#7201a8\"], [0.3333333333333333, \"#9c179e\"], [0.4444444444444444, \"#bd3786\"], [0.5555555555555556, \"#d8576b\"], [0.6666666666666666, \"#ed7953\"], [0.7777777777777778, \"#fb9f3a\"], [0.8888888888888888, \"#fdca26\"], [1.0, \"#f0f921\"]], \"type\": \"heatmap\"}], \"heatmapgl\": [{\"colorbar\": {\"outlinewidth\": 0, \"ticks\": \"\"}, \"colorscale\": [[0.0, \"#0d0887\"], [0.1111111111111111, \"#46039f\"], [0.2222222222222222, \"#7201a8\"], [0.3333333333333333, \"#9c179e\"], [0.4444444444444444, \"#bd3786\"], [0.5555555555555556, \"#d8576b\"], [0.6666666666666666, \"#ed7953\"], [0.7777777777777778, \"#fb9f3a\"], [0.8888888888888888, \"#fdca26\"], [1.0, \"#f0f921\"]], \"type\": \"heatmapgl\"}], \"histogram\": [{\"marker\": {\"colorbar\": {\"outlinewidth\": 0, \"ticks\": \"\"}}, \"type\": \"histogram\"}], \"histogram2d\": [{\"colorbar\": {\"outlinewidth\": 0, \"ticks\": \"\"}, \"colorscale\": [[0.0, \"#0d0887\"], [0.1111111111111111, \"#46039f\"], [0.2222222222222222, \"#7201a8\"], [0.3333333333333333, \"#9c179e\"], [0.4444444444444444, \"#bd3786\"], [0.5555555555555556, \"#d8576b\"], [0.6666666666666666, \"#ed7953\"], [0.7777777777777778, \"#fb9f3a\"], [0.8888888888888888, \"#fdca26\"], [1.0, \"#f0f921\"]], \"type\": \"histogram2d\"}], \"histogram2dcontour\": [{\"colorbar\": {\"outlinewidth\": 0, \"ticks\": \"\"}, \"colorscale\": [[0.0, \"#0d0887\"], [0.1111111111111111, \"#46039f\"], [0.2222222222222222, \"#7201a8\"], [0.3333333333333333, \"#9c179e\"], [0.4444444444444444, \"#bd3786\"], [0.5555555555555556, \"#d8576b\"], [0.6666666666666666, \"#ed7953\"], [0.7777777777777778, \"#fb9f3a\"], [0.8888888888888888, \"#fdca26\"], [1.0, \"#f0f921\"]], \"type\": \"histogram2dcontour\"}], \"mesh3d\": [{\"colorbar\": {\"outlinewidth\": 0, \"ticks\": \"\"}, \"type\": \"mesh3d\"}], \"parcoords\": [{\"line\": {\"colorbar\": {\"outlinewidth\": 0, \"ticks\": \"\"}}, \"type\": \"parcoords\"}], \"scatter\": [{\"marker\": {\"colorbar\": {\"outlinewidth\": 0, \"ticks\": \"\"}}, \"type\": \"scatter\"}], \"scatter3d\": [{\"line\": {\"colorbar\": {\"outlinewidth\": 0, \"ticks\": \"\"}}, \"marker\": {\"colorbar\": {\"outlinewidth\": 0, \"ticks\": \"\"}}, \"type\": \"scatter3d\"}], \"scattercarpet\": [{\"marker\": {\"colorbar\": {\"outlinewidth\": 0, \"ticks\": \"\"}}, \"type\": \"scattercarpet\"}], \"scattergeo\": [{\"marker\": {\"colorbar\": {\"outlinewidth\": 0, \"ticks\": \"\"}}, \"type\": \"scattergeo\"}], \"scattergl\": [{\"marker\": {\"colorbar\": {\"outlinewidth\": 0, \"ticks\": \"\"}}, \"type\": \"scattergl\"}], \"scattermapbox\": [{\"marker\": {\"colorbar\": {\"outlinewidth\": 0, \"ticks\": \"\"}}, \"type\": \"scattermapbox\"}], \"scatterpolar\": [{\"marker\": {\"colorbar\": {\"outlinewidth\": 0, \"ticks\": \"\"}}, \"type\": \"scatterpolar\"}], \"scatterpolargl\": [{\"marker\": {\"colorbar\": {\"outlinewidth\": 0, \"ticks\": \"\"}}, \"type\": \"scatterpolargl\"}], \"scatterternary\": [{\"marker\": {\"colorbar\": {\"outlinewidth\": 0, \"ticks\": \"\"}}, \"type\": \"scatterternary\"}], \"surface\": [{\"colorbar\": {\"outlinewidth\": 0, \"ticks\": \"\"}, \"colorscale\": [[0.0, \"#0d0887\"], [0.1111111111111111, \"#46039f\"], [0.2222222222222222, \"#7201a8\"], [0.3333333333333333, \"#9c179e\"], [0.4444444444444444, \"#bd3786\"], [0.5555555555555556, \"#d8576b\"], [0.6666666666666666, \"#ed7953\"], [0.7777777777777778, \"#fb9f3a\"], [0.8888888888888888, \"#fdca26\"], [1.0, \"#f0f921\"]], \"type\": \"surface\"}], \"table\": [{\"cells\": {\"fill\": {\"color\": \"#EBF0F8\"}, \"line\": {\"color\": \"white\"}}, \"header\": {\"fill\": {\"color\": \"#C8D4E3\"}, \"line\": {\"color\": \"white\"}}, \"type\": \"table\"}]}, \"layout\": {\"annotationdefaults\": {\"arrowcolor\": \"#2a3f5f\", \"arrowhead\": 0, \"arrowwidth\": 1}, \"colorscale\": {\"diverging\": [[0, \"#8e0152\"], [0.1, \"#c51b7d\"], [0.2, \"#de77ae\"], [0.3, \"#f1b6da\"], [0.4, \"#fde0ef\"], [0.5, \"#f7f7f7\"], [0.6, \"#e6f5d0\"], [0.7, \"#b8e186\"], [0.8, \"#7fbc41\"], [0.9, \"#4d9221\"], [1, \"#276419\"]], \"sequential\": [[0.0, \"#0d0887\"], [0.1111111111111111, \"#46039f\"], [0.2222222222222222, \"#7201a8\"], [0.3333333333333333, \"#9c179e\"], [0.4444444444444444, \"#bd3786\"], [0.5555555555555556, \"#d8576b\"], [0.6666666666666666, \"#ed7953\"], [0.7777777777777778, \"#fb9f3a\"], [0.8888888888888888, \"#fdca26\"], [1.0, \"#f0f921\"]], \"sequentialminus\": [[0.0, \"#0d0887\"], [0.1111111111111111, \"#46039f\"], [0.2222222222222222, \"#7201a8\"], [0.3333333333333333, \"#9c179e\"], [0.4444444444444444, \"#bd3786\"], [0.5555555555555556, \"#d8576b\"], [0.6666666666666666, \"#ed7953\"], [0.7777777777777778, \"#fb9f3a\"], [0.8888888888888888, \"#fdca26\"], [1.0, \"#f0f921\"]]}, \"colorway\": [\"#636efa\", \"#EF553B\", \"#00cc96\", \"#ab63fa\", \"#FFA15A\", \"#19d3f3\", \"#FF6692\", \"#B6E880\", \"#FF97FF\", \"#FECB52\"], \"font\": {\"color\": \"#2a3f5f\"}, \"geo\": {\"bgcolor\": \"white\", \"lakecolor\": \"white\", \"landcolor\": \"#E5ECF6\", \"showlakes\": true, \"showland\": true, \"subunitcolor\": \"white\"}, \"hoverlabel\": {\"align\": \"left\"}, \"hovermode\": \"closest\", \"mapbox\": {\"style\": \"light\"}, \"paper_bgcolor\": \"white\", \"plot_bgcolor\": \"#E5ECF6\", \"polar\": {\"angularaxis\": {\"gridcolor\": \"white\", \"linecolor\": \"white\", \"ticks\": \"\"}, \"bgcolor\": \"#E5ECF6\", \"radialaxis\": {\"gridcolor\": \"white\", \"linecolor\": \"white\", \"ticks\": \"\"}}, \"scene\": {\"xaxis\": {\"backgroundcolor\": \"#E5ECF6\", \"gridcolor\": \"white\", \"gridwidth\": 2, \"linecolor\": \"white\", \"showbackground\": true, \"ticks\": \"\", \"zerolinecolor\": \"white\"}, \"yaxis\": {\"backgroundcolor\": \"#E5ECF6\", \"gridcolor\": \"white\", \"gridwidth\": 2, \"linecolor\": \"white\", \"showbackground\": true, \"ticks\": \"\", \"zerolinecolor\": \"white\"}, \"zaxis\": {\"backgroundcolor\": \"#E5ECF6\", \"gridcolor\": \"white\", \"gridwidth\": 2, \"linecolor\": \"white\", \"showbackground\": true, \"ticks\": \"\", \"zerolinecolor\": \"white\"}}, \"shapedefaults\": {\"line\": {\"color\": \"#2a3f5f\"}}, \"ternary\": {\"aaxis\": {\"gridcolor\": \"white\", \"linecolor\": \"white\", \"ticks\": \"\"}, \"baxis\": {\"gridcolor\": \"white\", \"linecolor\": \"white\", \"ticks\": \"\"}, \"bgcolor\": \"#E5ECF6\", \"caxis\": {\"gridcolor\": \"white\", \"linecolor\": \"white\", \"ticks\": \"\"}}, \"title\": {\"x\": 0.05}, \"xaxis\": {\"automargin\": true, \"gridcolor\": \"white\", \"linecolor\": \"white\", \"ticks\": \"\", \"zerolinecolor\": \"white\", \"zerolinewidth\": 2}, \"yaxis\": {\"automargin\": true, \"gridcolor\": \"white\", \"linecolor\": \"white\", \"ticks\": \"\", \"zerolinecolor\": \"white\", \"zerolinewidth\": 2}}}, \"xaxis\": {\"color\": \"#eee\", \"dtick\": 1, \"range\": [[5], [10]], \"showgrid\": true, \"tick0\": 1, \"title\": {\"text\": \"Gameweek\"}, \"zeroline\": true}, \"yaxis\": {\"color\": \"#eee\", \"dtick\": 1, \"range\": [1.5, 5], \"showgrid\": false, \"tick0\": 1, \"title\": {\"text\": \"Difficulty\"}, \"zeroline\": false}},\n",
       "                        {\"responsive\": true}\n",
       "                    ).then(function(){\n",
       "                            \n",
       "var gd = document.getElementById('5710fb0b-d5b0-4f6d-ae53-7306edcd87b1');\n",
       "var x = new MutationObserver(function (mutations, observer) {{\n",
       "        var display = window.getComputedStyle(gd).display;\n",
       "        if (!display || display === 'none') {{\n",
       "            console.log([gd, 'removed!']);\n",
       "            Plotly.purge(gd);\n",
       "            observer.disconnect();\n",
       "        }}\n",
       "}});\n",
       "\n",
       "// Listen for the removal of the full notebook cells\n",
       "var notebookContainer = gd.closest('#notebook-container');\n",
       "if (notebookContainer) {{\n",
       "    x.observe(notebookContainer, {childList: true});\n",
       "}}\n",
       "\n",
       "// Listen for the clearing of the current output cell\n",
       "var outputEl = gd.closest('.output');\n",
       "if (outputEl) {{\n",
       "    x.observe(outputEl, {childList: true});\n",
       "}}\n",
       "\n",
       "                        })\n",
       "                };\n",
       "                });\n",
       "            </script>\n",
       "        </div>"
      ]
     },
     "metadata": {},
     "output_type": "display_data"
    }
   ],
   "source": [
    "next_fixtures_plot(fix,limit_diff=10)"
   ]
  },
  {
   "cell_type": "markdown",
   "metadata": {},
   "source": [
    "# Form"
   ]
  },
  {
   "cell_type": "code",
   "execution_count": 40,
   "metadata": {},
   "outputs": [],
   "source": [
    "def form(season, base_path, no_fixtures=6):\n",
    "    clubs_h = list(get_upcoming_fixtures_data(base_path, season)['team_h'].unique())\n",
    "    clubs_a = list(get_upcoming_fixtures_data(base_path, season)['team_a'].unique())\n",
    "    clubs = sorted(set(clubs_h + clubs_a))\n",
    "\n",
    "    alldf=pandas.DataFrame()\n",
    "    \n",
    "    j=0\n",
    "    for club in clubs:\n",
    "        df = get_past_team_fixtures_data(club,base_path,season).tail(no_fixtures)\n",
    "        df['team']=club\n",
    "        df['location']=df['where']\n",
    "        df['points']=df.apply(points, axis=1)\n",
    "        df['result']=df.apply(result, axis=1)\n",
    "        df['result_type']=df.apply(resultType, axis=1)\n",
    "        df['description']=df.apply(description, axis=1)\n",
    "        df['fixture_form']=(df['scored']-df['concieved']+1)*df['relative_difficulty']*0.33\n",
    "        df['i']=[1 + x * 0.1 for x in range(0,no_fixtures)]\n",
    "        df['form']=df['i']*df['fixture_form']\n",
    "        df['form'] = df['form'].rolling(min_periods=1, window=no_fixtures).sum()\n",
    "        j+=1\n",
    "                \n",
    "        alldf = alldf.append(df)\n",
    "        \n",
    "    return alldf.set_index(['team'])\n",
    "\n",
    "\n",
    "def points(row):\n",
    "    points = 3 if row.scored > row.concieved else 0\n",
    "    points = 0 if row.scored < row.concieved else points\n",
    "    points = 1 if row.scored == row.concieved else points\n",
    "    \n",
    "    if (row.difficulty < row.difficulty_other):\n",
    "        points -= (3-points)\n",
    "    elif (row.difficulty > row.difficulty_other):\n",
    "        points += (3-points)\n",
    "    \n",
    "    return points\n",
    "\n",
    "\n",
    "def result(row):\n",
    "    if row.is_home:\n",
    "        return str(int(row.scored)) + ':' + str(int(row.concieved))\n",
    "    return str(int(row.concieved)) + ':' + str(int(row.scored))\n",
    "\n",
    "\n",
    "def resultType(row):\n",
    "    if row.scored > row.concieved:\n",
    "        return 'W'\n",
    "    elif row.scored < row.concieved:\n",
    "        return 'L'\n",
    "    return 'D'\n",
    "\n",
    "def description(row):\n",
    "    return row.result + ' vs ' + row.opponent + ' (' + row.location + ')'"
   ]
  },
  {
   "cell_type": "code",
   "execution_count": 41,
   "metadata": {
    "scrolled": false
   },
   "outputs": [],
   "source": [
    "df_form = form(season, base_path,no_fixtures=4)"
   ]
  },
  {
   "cell_type": "code",
   "execution_count": 42,
   "metadata": {},
   "outputs": [
    {
     "data": {
      "text/html": [
       "<div>\n",
       "<style scoped>\n",
       "    .dataframe tbody tr th:only-of-type {\n",
       "        vertical-align: middle;\n",
       "    }\n",
       "\n",
       "    .dataframe tbody tr th {\n",
       "        vertical-align: top;\n",
       "    }\n",
       "\n",
       "    .dataframe thead th {\n",
       "        text-align: right;\n",
       "    }\n",
       "</style>\n",
       "<table border=\"1\" class=\"dataframe\">\n",
       "  <thead>\n",
       "    <tr style=\"text-align: right;\">\n",
       "      <th></th>\n",
       "      <th>code</th>\n",
       "      <th>event</th>\n",
       "      <th>kickoff_time</th>\n",
       "      <th>opponent</th>\n",
       "      <th>is_home</th>\n",
       "      <th>where</th>\n",
       "      <th>difficulty</th>\n",
       "      <th>difficulty_other</th>\n",
       "      <th>relative_difficulty</th>\n",
       "      <th>scored</th>\n",
       "      <th>concieved</th>\n",
       "      <th>location</th>\n",
       "      <th>points</th>\n",
       "      <th>result</th>\n",
       "      <th>result_type</th>\n",
       "      <th>description</th>\n",
       "      <th>fixture_form</th>\n",
       "      <th>i</th>\n",
       "      <th>form</th>\n",
       "    </tr>\n",
       "    <tr>\n",
       "      <th>team</th>\n",
       "      <th></th>\n",
       "      <th></th>\n",
       "      <th></th>\n",
       "      <th></th>\n",
       "      <th></th>\n",
       "      <th></th>\n",
       "      <th></th>\n",
       "      <th></th>\n",
       "      <th></th>\n",
       "      <th></th>\n",
       "      <th></th>\n",
       "      <th></th>\n",
       "      <th></th>\n",
       "      <th></th>\n",
       "      <th></th>\n",
       "      <th></th>\n",
       "      <th></th>\n",
       "      <th></th>\n",
       "      <th></th>\n",
       "    </tr>\n",
       "  </thead>\n",
       "  <tbody>\n",
       "    <tr>\n",
       "      <th>Arsenal</th>\n",
       "      <td>1059712</td>\n",
       "      <td>2</td>\n",
       "      <td>2019-08-17T11:30:00Z</td>\n",
       "      <td>Burnley</td>\n",
       "      <td>True</td>\n",
       "      <td>H</td>\n",
       "      <td>2</td>\n",
       "      <td>4</td>\n",
       "      <td>0.333333</td>\n",
       "      <td>2.0</td>\n",
       "      <td>1.0</td>\n",
       "      <td>H</td>\n",
       "      <td>3</td>\n",
       "      <td>2:1</td>\n",
       "      <td>W</td>\n",
       "      <td>2:1 vs Burnley (H)</td>\n",
       "      <td>0.220</td>\n",
       "      <td>1.0</td>\n",
       "      <td>0.2200</td>\n",
       "    </tr>\n",
       "    <tr>\n",
       "      <th>Arsenal</th>\n",
       "      <td>1059725</td>\n",
       "      <td>3</td>\n",
       "      <td>2019-08-24T16:30:00Z</td>\n",
       "      <td>Liverpool</td>\n",
       "      <td>False</td>\n",
       "      <td>A</td>\n",
       "      <td>5</td>\n",
       "      <td>4</td>\n",
       "      <td>2.000000</td>\n",
       "      <td>1.0</td>\n",
       "      <td>3.0</td>\n",
       "      <td>A</td>\n",
       "      <td>3</td>\n",
       "      <td>3:1</td>\n",
       "      <td>L</td>\n",
       "      <td>3:1 vs Liverpool (A)</td>\n",
       "      <td>-0.660</td>\n",
       "      <td>1.1</td>\n",
       "      <td>-0.5060</td>\n",
       "    </tr>\n",
       "    <tr>\n",
       "      <th>Arsenal</th>\n",
       "      <td>1059732</td>\n",
       "      <td>4</td>\n",
       "      <td>2019-09-01T15:30:00Z</td>\n",
       "      <td>Spurs</td>\n",
       "      <td>True</td>\n",
       "      <td>H</td>\n",
       "      <td>4</td>\n",
       "      <td>4</td>\n",
       "      <td>1.000000</td>\n",
       "      <td>2.0</td>\n",
       "      <td>2.0</td>\n",
       "      <td>H</td>\n",
       "      <td>1</td>\n",
       "      <td>2:2</td>\n",
       "      <td>D</td>\n",
       "      <td>2:2 vs Spurs (H)</td>\n",
       "      <td>0.330</td>\n",
       "      <td>1.2</td>\n",
       "      <td>-0.1100</td>\n",
       "    </tr>\n",
       "    <tr>\n",
       "      <th>Arsenal</th>\n",
       "      <td>1059750</td>\n",
       "      <td>5</td>\n",
       "      <td>2019-09-15T15:30:00Z</td>\n",
       "      <td>Watford</td>\n",
       "      <td>False</td>\n",
       "      <td>A</td>\n",
       "      <td>3</td>\n",
       "      <td>4</td>\n",
       "      <td>0.500000</td>\n",
       "      <td>2.0</td>\n",
       "      <td>2.0</td>\n",
       "      <td>A</td>\n",
       "      <td>-1</td>\n",
       "      <td>2:2</td>\n",
       "      <td>D</td>\n",
       "      <td>2:2 vs Watford (A)</td>\n",
       "      <td>0.165</td>\n",
       "      <td>1.3</td>\n",
       "      <td>0.1045</td>\n",
       "    </tr>\n",
       "    <tr>\n",
       "      <th>Aston Villa</th>\n",
       "      <td>1059713</td>\n",
       "      <td>2</td>\n",
       "      <td>2019-08-17T14:00:00Z</td>\n",
       "      <td>Bournemouth</td>\n",
       "      <td>True</td>\n",
       "      <td>H</td>\n",
       "      <td>2</td>\n",
       "      <td>2</td>\n",
       "      <td>1.000000</td>\n",
       "      <td>1.0</td>\n",
       "      <td>2.0</td>\n",
       "      <td>H</td>\n",
       "      <td>0</td>\n",
       "      <td>1:2</td>\n",
       "      <td>L</td>\n",
       "      <td>1:2 vs Bournemouth (H)</td>\n",
       "      <td>0.000</td>\n",
       "      <td>1.0</td>\n",
       "      <td>0.0000</td>\n",
       "    </tr>\n",
       "  </tbody>\n",
       "</table>\n",
       "</div>"
      ],
      "text/plain": [
       "                code  event          kickoff_time     opponent  is_home where  \\\n",
       "team                                                                            \n",
       "Arsenal      1059712      2  2019-08-17T11:30:00Z      Burnley     True     H   \n",
       "Arsenal      1059725      3  2019-08-24T16:30:00Z    Liverpool    False     A   \n",
       "Arsenal      1059732      4  2019-09-01T15:30:00Z        Spurs     True     H   \n",
       "Arsenal      1059750      5  2019-09-15T15:30:00Z      Watford    False     A   \n",
       "Aston Villa  1059713      2  2019-08-17T14:00:00Z  Bournemouth     True     H   \n",
       "\n",
       "             difficulty  difficulty_other  relative_difficulty  scored  \\\n",
       "team                                                                     \n",
       "Arsenal               2                 4             0.333333     2.0   \n",
       "Arsenal               5                 4             2.000000     1.0   \n",
       "Arsenal               4                 4             1.000000     2.0   \n",
       "Arsenal               3                 4             0.500000     2.0   \n",
       "Aston Villa           2                 2             1.000000     1.0   \n",
       "\n",
       "             concieved location  points result result_type  \\\n",
       "team                                                         \n",
       "Arsenal            1.0        H       3    2:1           W   \n",
       "Arsenal            3.0        A       3    3:1           L   \n",
       "Arsenal            2.0        H       1    2:2           D   \n",
       "Arsenal            2.0        A      -1    2:2           D   \n",
       "Aston Villa        2.0        H       0    1:2           L   \n",
       "\n",
       "                        description  fixture_form    i    form  \n",
       "team                                                            \n",
       "Arsenal          2:1 vs Burnley (H)         0.220  1.0  0.2200  \n",
       "Arsenal        3:1 vs Liverpool (A)        -0.660  1.1 -0.5060  \n",
       "Arsenal            2:2 vs Spurs (H)         0.330  1.2 -0.1100  \n",
       "Arsenal          2:2 vs Watford (A)         0.165  1.3  0.1045  \n",
       "Aston Villa  1:2 vs Bournemouth (H)         0.000  1.0  0.0000  "
      ]
     },
     "execution_count": 42,
     "metadata": {},
     "output_type": "execute_result"
    }
   ],
   "source": [
    "df_form.head()"
   ]
  },
  {
   "cell_type": "code",
   "execution_count": 45,
   "metadata": {},
   "outputs": [],
   "source": [
    "def form_plot(data, no_fixtures=6,limit_form=-10):\n",
    "    clubs_h = list(get_upcoming_fixtures_data(base_path, season)['team_h'].unique())\n",
    "    clubs_a = list(get_upcoming_fixtures_data(base_path, season)['team_a'].unique())\n",
    "    clubs = sorted(set(clubs_h + clubs_a))\n",
    "    \n",
    "    fig = go.Figure()\n",
    "    alldf=pandas.DataFrame()\n",
    "    \n",
    "    j=0\n",
    "    for club in clubs:\n",
    "        df = data.loc[club]\n",
    "        \n",
    "        if (df['form'].iloc[-1] < limit_form):\n",
    "            continue        \n",
    "        \n",
    "        alldf = alldf.append(df)\n",
    "        \n",
    "        fig.add_trace(go.Scatter(\n",
    "            x=df['event'], \n",
    "            y=df['form'],\n",
    "            name=club,\n",
    "            text = df['description'],     \n",
    "            mode='lines+markers',\n",
    "            line=dict(shape='spline', width=4, smoothing=1.3),\n",
    "            hoverlabel= dict(font=dict(color='#404040'),\n",
    "                             bordercolor='#404040',\n",
    "                             bgcolor='white'\n",
    "            ),\n",
    "            hovertemplate = \"<b>\"+club+\"</b></br></br></br>Form: %{y}</br>%{text}</br></br><extra></extra>\"))\n",
    "        \n",
    "    fig.update_layout(\n",
    "        hovermode='closest',\n",
    "        xaxis=dict(showgrid=False),\n",
    "        yaxis=dict(showgrid=False),\n",
    "        legend=go.layout.Legend(\n",
    "            traceorder=\"normal\",\n",
    "            font=dict(color=\"#eee\"),\n",
    "            bgcolor=\"rgba(0,0,0,0)\"\n",
    "        )\n",
    "    )\n",
    "    \n",
    "    fig.update_yaxes(title_text=\"Form\",color='#eee',tick0=1,dtick=1,showgrid=False,zeroline=False)\n",
    "    fig.update_xaxes(title_text=\"Gameweek\",color='#eee',tick0=1,dtick=1,showgrid=True,zeroline=True)\n",
    "\n",
    "    fig.update_scenes(bgcolor='rgba(0,0,0,0)')\n",
    "\n",
    "    fig.layout.update(plot_bgcolor='rgba(0,0,0,0)', paper_bgcolor='rgba(0,0,0,0)')\n",
    "    chart_studio.plotly.plot(fig, filename=\"club_form\")\n",
    "    plotly.offline.iplot(fig)"
   ]
  },
  {
   "cell_type": "code",
   "execution_count": 46,
   "metadata": {},
   "outputs": [
    {
     "data": {
      "application/vnd.plotly.v1+json": {
       "config": {
        "linkText": "Export to plot.ly",
        "plotlyServerURL": "https://plot.ly",
        "showLink": false
       },
       "data": [
        {
         "hoverlabel": {
          "bgcolor": "white",
          "bordercolor": "#404040",
          "font": {
           "color": "#404040"
          }
         },
         "hovertemplate": "<b>Aston Villa</b></br></br></br>Form: %{y}</br>%{text}</br></br><extra></extra>",
         "line": {
          "shape": "spline",
          "smoothing": 1.3,
          "width": 4
         },
         "mode": "lines+markers",
         "name": "Aston Villa",
         "text": [
          "1:2 vs Bournemouth (H)",
          "2:0 vs Everton (H)",
          "1:0 vs Crystal Palace (A)",
          "0:0 vs West Ham (H)"
         ],
         "type": "scatter",
         "x": [
          2,
          3,
          4,
          5
         ],
         "y": [
          0,
          1.089,
          1.089,
          1.518
         ]
        },
        {
         "hoverlabel": {
          "bgcolor": "white",
          "bordercolor": "#404040",
          "font": {
           "color": "#404040"
          }
         },
         "hovertemplate": "<b>Leicester</b></br></br></br>Form: %{y}</br>%{text}</br></br><extra></extra>",
         "line": {
          "shape": "spline",
          "smoothing": 1.3,
          "width": 4
         },
         "mode": "lines+markers",
         "name": "Leicester",
         "text": [
          "1:1 vs Chelsea (A)",
          "1:2 vs Sheffield Utd (A)",
          "3:1 vs Bournemouth (H)",
          "1:0 vs Man Utd (A)"
         ],
         "type": "scatter",
         "x": [
          2,
          3,
          4,
          5
         ],
         "y": [
          0.66,
          1.0230000000000001,
          1.617,
          1.617
         ]
        },
        {
         "hoverlabel": {
          "bgcolor": "white",
          "bordercolor": "#404040",
          "font": {
           "color": "#404040"
          }
         },
         "hovertemplate": "<b>Liverpool</b></br></br></br>Form: %{y}</br>%{text}</br></br><extra></extra>",
         "line": {
          "shape": "spline",
          "smoothing": 1.3,
          "width": 4
         },
         "mode": "lines+markers",
         "name": "Liverpool",
         "text": [
          "1:2 vs Southampton (A)",
          "3:1 vs Arsenal (H)",
          "0:3 vs Burnley (A)",
          "3:1 vs Newcastle (H)"
         ],
         "type": "scatter",
         "x": [
          2,
          3,
          4,
          5
         ],
         "y": [
          0.22,
          0.7645,
          1.2925,
          1.61425
         ]
        },
        {
         "hoverlabel": {
          "bgcolor": "white",
          "bordercolor": "#404040",
          "font": {
           "color": "#404040"
          }
         },
         "hovertemplate": "<b>Norwich</b></br></br></br>Form: %{y}</br>%{text}</br></br><extra></extra>",
         "line": {
          "shape": "spline",
          "smoothing": 1.3,
          "width": 4
         },
         "mode": "lines+markers",
         "name": "Norwich",
         "text": [
          "3:1 vs Newcastle (H)",
          "2:3 vs Chelsea (H)",
          "2:0 vs West Ham (A)",
          "3:2 vs Man City (H)"
         ],
         "type": "scatter",
         "x": [
          2,
          3,
          4,
          5
         ],
         "y": [
          0.99,
          0.99,
          0.19799999999999995,
          2.772
         ]
        },
        {
         "hoverlabel": {
          "bgcolor": "white",
          "bordercolor": "#404040",
          "font": {
           "color": "#404040"
          }
         },
         "hovertemplate": "<b>Sheffield Utd</b></br></br></br>Form: %{y}</br>%{text}</br></br><extra></extra>",
         "line": {
          "shape": "spline",
          "smoothing": 1.3,
          "width": 4
         },
         "mode": "lines+markers",
         "name": "Sheffield Utd",
         "text": [
          "1:0 vs Crystal Palace (H)",
          "1:2 vs Leicester (H)",
          "2:2 vs Chelsea (A)",
          "0:1 vs Southampton (H)"
         ],
         "type": "scatter",
         "x": [
          2,
          3,
          4,
          5
         ],
         "y": [
          1.32,
          1.32,
          2.508,
          2.508
         ]
        },
        {
         "hoverlabel": {
          "bgcolor": "white",
          "bordercolor": "#404040",
          "font": {
           "color": "#404040"
          }
         },
         "hovertemplate": "<b>Southampton</b></br></br></br>Form: %{y}</br>%{text}</br></br><extra></extra>",
         "line": {
          "shape": "spline",
          "smoothing": 1.3,
          "width": 4
         },
         "mode": "lines+markers",
         "name": "Southampton",
         "text": [
          "1:2 vs Liverpool (H)",
          "0:2 vs Brighton (A)",
          "1:1 vs Man Utd (H)",
          "0:1 vs Sheffield Utd (A)"
         ],
         "type": "scatter",
         "x": [
          2,
          3,
          4,
          5
         ],
         "y": [
          0,
          1.089,
          2.277,
          3.1350000000000002
         ]
        },
        {
         "hoverlabel": {
          "bgcolor": "white",
          "bordercolor": "#404040",
          "font": {
           "color": "#404040"
          }
         },
         "hovertemplate": "<b>Spurs</b></br></br></br>Form: %{y}</br>%{text}</br></br><extra></extra>",
         "line": {
          "shape": "spline",
          "smoothing": 1.3,
          "width": 4
         },
         "mode": "lines+markers",
         "name": "Spurs",
         "text": [
          "2:2 vs Man City (A)",
          "0:1 vs Newcastle (H)",
          "2:2 vs Arsenal (A)",
          "4:0 vs Crystal Palace (H)"
         ],
         "type": "scatter",
         "x": [
          2,
          3,
          4,
          5
         ],
         "y": [
          0.66,
          0.66,
          1.056,
          2.1285000000000003
         ]
        },
        {
         "hoverlabel": {
          "bgcolor": "white",
          "bordercolor": "#404040",
          "font": {
           "color": "#404040"
          }
         },
         "hovertemplate": "<b>West Ham</b></br></br></br>Form: %{y}</br>%{text}</br></br><extra></extra>",
         "line": {
          "shape": "spline",
          "smoothing": 1.3,
          "width": 4
         },
         "mode": "lines+markers",
         "name": "West Ham",
         "text": [
          "1:1 vs Brighton (A)",
          "1:3 vs Watford (A)",
          "2:0 vs Norwich (H)",
          "0:0 vs Aston Villa (A)"
         ],
         "type": "scatter",
         "x": [
          2,
          3,
          4,
          5
         ],
         "y": [
          0.33,
          2.508,
          3.102,
          3.5309999999999997
         ]
        }
       ],
       "layout": {
        "hovermode": "closest",
        "legend": {
         "bgcolor": "rgba(0,0,0,0)",
         "font": {
          "color": "#eee"
         },
         "traceorder": "normal"
        },
        "paper_bgcolor": "rgba(0,0,0,0)",
        "plot_bgcolor": "rgba(0,0,0,0)",
        "scene": {
         "bgcolor": "rgba(0,0,0,0)"
        },
        "template": {
         "data": {
          "bar": [
           {
            "error_x": {
             "color": "#2a3f5f"
            },
            "error_y": {
             "color": "#2a3f5f"
            },
            "marker": {
             "line": {
              "color": "#E5ECF6",
              "width": 0.5
             }
            },
            "type": "bar"
           }
          ],
          "barpolar": [
           {
            "marker": {
             "line": {
              "color": "#E5ECF6",
              "width": 0.5
             }
            },
            "type": "barpolar"
           }
          ],
          "carpet": [
           {
            "aaxis": {
             "endlinecolor": "#2a3f5f",
             "gridcolor": "white",
             "linecolor": "white",
             "minorgridcolor": "white",
             "startlinecolor": "#2a3f5f"
            },
            "baxis": {
             "endlinecolor": "#2a3f5f",
             "gridcolor": "white",
             "linecolor": "white",
             "minorgridcolor": "white",
             "startlinecolor": "#2a3f5f"
            },
            "type": "carpet"
           }
          ],
          "choropleth": [
           {
            "colorbar": {
             "outlinewidth": 0,
             "ticks": ""
            },
            "type": "choropleth"
           }
          ],
          "contour": [
           {
            "colorbar": {
             "outlinewidth": 0,
             "ticks": ""
            },
            "colorscale": [
             [
              0,
              "#0d0887"
             ],
             [
              0.1111111111111111,
              "#46039f"
             ],
             [
              0.2222222222222222,
              "#7201a8"
             ],
             [
              0.3333333333333333,
              "#9c179e"
             ],
             [
              0.4444444444444444,
              "#bd3786"
             ],
             [
              0.5555555555555556,
              "#d8576b"
             ],
             [
              0.6666666666666666,
              "#ed7953"
             ],
             [
              0.7777777777777778,
              "#fb9f3a"
             ],
             [
              0.8888888888888888,
              "#fdca26"
             ],
             [
              1,
              "#f0f921"
             ]
            ],
            "type": "contour"
           }
          ],
          "contourcarpet": [
           {
            "colorbar": {
             "outlinewidth": 0,
             "ticks": ""
            },
            "type": "contourcarpet"
           }
          ],
          "heatmap": [
           {
            "colorbar": {
             "outlinewidth": 0,
             "ticks": ""
            },
            "colorscale": [
             [
              0,
              "#0d0887"
             ],
             [
              0.1111111111111111,
              "#46039f"
             ],
             [
              0.2222222222222222,
              "#7201a8"
             ],
             [
              0.3333333333333333,
              "#9c179e"
             ],
             [
              0.4444444444444444,
              "#bd3786"
             ],
             [
              0.5555555555555556,
              "#d8576b"
             ],
             [
              0.6666666666666666,
              "#ed7953"
             ],
             [
              0.7777777777777778,
              "#fb9f3a"
             ],
             [
              0.8888888888888888,
              "#fdca26"
             ],
             [
              1,
              "#f0f921"
             ]
            ],
            "type": "heatmap"
           }
          ],
          "heatmapgl": [
           {
            "colorbar": {
             "outlinewidth": 0,
             "ticks": ""
            },
            "colorscale": [
             [
              0,
              "#0d0887"
             ],
             [
              0.1111111111111111,
              "#46039f"
             ],
             [
              0.2222222222222222,
              "#7201a8"
             ],
             [
              0.3333333333333333,
              "#9c179e"
             ],
             [
              0.4444444444444444,
              "#bd3786"
             ],
             [
              0.5555555555555556,
              "#d8576b"
             ],
             [
              0.6666666666666666,
              "#ed7953"
             ],
             [
              0.7777777777777778,
              "#fb9f3a"
             ],
             [
              0.8888888888888888,
              "#fdca26"
             ],
             [
              1,
              "#f0f921"
             ]
            ],
            "type": "heatmapgl"
           }
          ],
          "histogram": [
           {
            "marker": {
             "colorbar": {
              "outlinewidth": 0,
              "ticks": ""
             }
            },
            "type": "histogram"
           }
          ],
          "histogram2d": [
           {
            "colorbar": {
             "outlinewidth": 0,
             "ticks": ""
            },
            "colorscale": [
             [
              0,
              "#0d0887"
             ],
             [
              0.1111111111111111,
              "#46039f"
             ],
             [
              0.2222222222222222,
              "#7201a8"
             ],
             [
              0.3333333333333333,
              "#9c179e"
             ],
             [
              0.4444444444444444,
              "#bd3786"
             ],
             [
              0.5555555555555556,
              "#d8576b"
             ],
             [
              0.6666666666666666,
              "#ed7953"
             ],
             [
              0.7777777777777778,
              "#fb9f3a"
             ],
             [
              0.8888888888888888,
              "#fdca26"
             ],
             [
              1,
              "#f0f921"
             ]
            ],
            "type": "histogram2d"
           }
          ],
          "histogram2dcontour": [
           {
            "colorbar": {
             "outlinewidth": 0,
             "ticks": ""
            },
            "colorscale": [
             [
              0,
              "#0d0887"
             ],
             [
              0.1111111111111111,
              "#46039f"
             ],
             [
              0.2222222222222222,
              "#7201a8"
             ],
             [
              0.3333333333333333,
              "#9c179e"
             ],
             [
              0.4444444444444444,
              "#bd3786"
             ],
             [
              0.5555555555555556,
              "#d8576b"
             ],
             [
              0.6666666666666666,
              "#ed7953"
             ],
             [
              0.7777777777777778,
              "#fb9f3a"
             ],
             [
              0.8888888888888888,
              "#fdca26"
             ],
             [
              1,
              "#f0f921"
             ]
            ],
            "type": "histogram2dcontour"
           }
          ],
          "mesh3d": [
           {
            "colorbar": {
             "outlinewidth": 0,
             "ticks": ""
            },
            "type": "mesh3d"
           }
          ],
          "parcoords": [
           {
            "line": {
             "colorbar": {
              "outlinewidth": 0,
              "ticks": ""
             }
            },
            "type": "parcoords"
           }
          ],
          "scatter": [
           {
            "marker": {
             "colorbar": {
              "outlinewidth": 0,
              "ticks": ""
             }
            },
            "type": "scatter"
           }
          ],
          "scatter3d": [
           {
            "line": {
             "colorbar": {
              "outlinewidth": 0,
              "ticks": ""
             }
            },
            "marker": {
             "colorbar": {
              "outlinewidth": 0,
              "ticks": ""
             }
            },
            "type": "scatter3d"
           }
          ],
          "scattercarpet": [
           {
            "marker": {
             "colorbar": {
              "outlinewidth": 0,
              "ticks": ""
             }
            },
            "type": "scattercarpet"
           }
          ],
          "scattergeo": [
           {
            "marker": {
             "colorbar": {
              "outlinewidth": 0,
              "ticks": ""
             }
            },
            "type": "scattergeo"
           }
          ],
          "scattergl": [
           {
            "marker": {
             "colorbar": {
              "outlinewidth": 0,
              "ticks": ""
             }
            },
            "type": "scattergl"
           }
          ],
          "scattermapbox": [
           {
            "marker": {
             "colorbar": {
              "outlinewidth": 0,
              "ticks": ""
             }
            },
            "type": "scattermapbox"
           }
          ],
          "scatterpolar": [
           {
            "marker": {
             "colorbar": {
              "outlinewidth": 0,
              "ticks": ""
             }
            },
            "type": "scatterpolar"
           }
          ],
          "scatterpolargl": [
           {
            "marker": {
             "colorbar": {
              "outlinewidth": 0,
              "ticks": ""
             }
            },
            "type": "scatterpolargl"
           }
          ],
          "scatterternary": [
           {
            "marker": {
             "colorbar": {
              "outlinewidth": 0,
              "ticks": ""
             }
            },
            "type": "scatterternary"
           }
          ],
          "surface": [
           {
            "colorbar": {
             "outlinewidth": 0,
             "ticks": ""
            },
            "colorscale": [
             [
              0,
              "#0d0887"
             ],
             [
              0.1111111111111111,
              "#46039f"
             ],
             [
              0.2222222222222222,
              "#7201a8"
             ],
             [
              0.3333333333333333,
              "#9c179e"
             ],
             [
              0.4444444444444444,
              "#bd3786"
             ],
             [
              0.5555555555555556,
              "#d8576b"
             ],
             [
              0.6666666666666666,
              "#ed7953"
             ],
             [
              0.7777777777777778,
              "#fb9f3a"
             ],
             [
              0.8888888888888888,
              "#fdca26"
             ],
             [
              1,
              "#f0f921"
             ]
            ],
            "type": "surface"
           }
          ],
          "table": [
           {
            "cells": {
             "fill": {
              "color": "#EBF0F8"
             },
             "line": {
              "color": "white"
             }
            },
            "header": {
             "fill": {
              "color": "#C8D4E3"
             },
             "line": {
              "color": "white"
             }
            },
            "type": "table"
           }
          ]
         },
         "layout": {
          "annotationdefaults": {
           "arrowcolor": "#2a3f5f",
           "arrowhead": 0,
           "arrowwidth": 1
          },
          "colorscale": {
           "diverging": [
            [
             0,
             "#8e0152"
            ],
            [
             0.1,
             "#c51b7d"
            ],
            [
             0.2,
             "#de77ae"
            ],
            [
             0.3,
             "#f1b6da"
            ],
            [
             0.4,
             "#fde0ef"
            ],
            [
             0.5,
             "#f7f7f7"
            ],
            [
             0.6,
             "#e6f5d0"
            ],
            [
             0.7,
             "#b8e186"
            ],
            [
             0.8,
             "#7fbc41"
            ],
            [
             0.9,
             "#4d9221"
            ],
            [
             1,
             "#276419"
            ]
           ],
           "sequential": [
            [
             0,
             "#0d0887"
            ],
            [
             0.1111111111111111,
             "#46039f"
            ],
            [
             0.2222222222222222,
             "#7201a8"
            ],
            [
             0.3333333333333333,
             "#9c179e"
            ],
            [
             0.4444444444444444,
             "#bd3786"
            ],
            [
             0.5555555555555556,
             "#d8576b"
            ],
            [
             0.6666666666666666,
             "#ed7953"
            ],
            [
             0.7777777777777778,
             "#fb9f3a"
            ],
            [
             0.8888888888888888,
             "#fdca26"
            ],
            [
             1,
             "#f0f921"
            ]
           ],
           "sequentialminus": [
            [
             0,
             "#0d0887"
            ],
            [
             0.1111111111111111,
             "#46039f"
            ],
            [
             0.2222222222222222,
             "#7201a8"
            ],
            [
             0.3333333333333333,
             "#9c179e"
            ],
            [
             0.4444444444444444,
             "#bd3786"
            ],
            [
             0.5555555555555556,
             "#d8576b"
            ],
            [
             0.6666666666666666,
             "#ed7953"
            ],
            [
             0.7777777777777778,
             "#fb9f3a"
            ],
            [
             0.8888888888888888,
             "#fdca26"
            ],
            [
             1,
             "#f0f921"
            ]
           ]
          },
          "colorway": [
           "#636efa",
           "#EF553B",
           "#00cc96",
           "#ab63fa",
           "#FFA15A",
           "#19d3f3",
           "#FF6692",
           "#B6E880",
           "#FF97FF",
           "#FECB52"
          ],
          "font": {
           "color": "#2a3f5f"
          },
          "geo": {
           "bgcolor": "white",
           "lakecolor": "white",
           "landcolor": "#E5ECF6",
           "showlakes": true,
           "showland": true,
           "subunitcolor": "white"
          },
          "hoverlabel": {
           "align": "left"
          },
          "hovermode": "closest",
          "mapbox": {
           "style": "light"
          },
          "paper_bgcolor": "white",
          "plot_bgcolor": "#E5ECF6",
          "polar": {
           "angularaxis": {
            "gridcolor": "white",
            "linecolor": "white",
            "ticks": ""
           },
           "bgcolor": "#E5ECF6",
           "radialaxis": {
            "gridcolor": "white",
            "linecolor": "white",
            "ticks": ""
           }
          },
          "scene": {
           "xaxis": {
            "backgroundcolor": "#E5ECF6",
            "gridcolor": "white",
            "gridwidth": 2,
            "linecolor": "white",
            "showbackground": true,
            "ticks": "",
            "zerolinecolor": "white"
           },
           "yaxis": {
            "backgroundcolor": "#E5ECF6",
            "gridcolor": "white",
            "gridwidth": 2,
            "linecolor": "white",
            "showbackground": true,
            "ticks": "",
            "zerolinecolor": "white"
           },
           "zaxis": {
            "backgroundcolor": "#E5ECF6",
            "gridcolor": "white",
            "gridwidth": 2,
            "linecolor": "white",
            "showbackground": true,
            "ticks": "",
            "zerolinecolor": "white"
           }
          },
          "shapedefaults": {
           "line": {
            "color": "#2a3f5f"
           }
          },
          "ternary": {
           "aaxis": {
            "gridcolor": "white",
            "linecolor": "white",
            "ticks": ""
           },
           "baxis": {
            "gridcolor": "white",
            "linecolor": "white",
            "ticks": ""
           },
           "bgcolor": "#E5ECF6",
           "caxis": {
            "gridcolor": "white",
            "linecolor": "white",
            "ticks": ""
           }
          },
          "title": {
           "x": 0.05
          },
          "xaxis": {
           "automargin": true,
           "gridcolor": "white",
           "linecolor": "white",
           "ticks": "",
           "zerolinecolor": "white",
           "zerolinewidth": 2
          },
          "yaxis": {
           "automargin": true,
           "gridcolor": "white",
           "linecolor": "white",
           "ticks": "",
           "zerolinecolor": "white",
           "zerolinewidth": 2
          }
         }
        },
        "xaxis": {
         "color": "#eee",
         "dtick": 1,
         "showgrid": true,
         "tick0": 1,
         "title": {
          "text": "Gameweek"
         },
         "zeroline": true
        },
        "yaxis": {
         "color": "#eee",
         "dtick": 1,
         "showgrid": false,
         "tick0": 1,
         "title": {
          "text": "Form"
         },
         "zeroline": false
        }
       }
      },
      "text/html": [
       "<div>\n",
       "        \n",
       "        \n",
       "            <div id=\"47eb4ebd-fa71-4056-b96d-6b29ab1b3b14\" class=\"plotly-graph-div\" style=\"height:525px; width:100%;\"></div>\n",
       "            <script type=\"text/javascript\">\n",
       "                require([\"plotly\"], function(Plotly) {\n",
       "                    window.PLOTLYENV=window.PLOTLYENV || {};\n",
       "                    \n",
       "                if (document.getElementById(\"47eb4ebd-fa71-4056-b96d-6b29ab1b3b14\")) {\n",
       "                    Plotly.newPlot(\n",
       "                        '47eb4ebd-fa71-4056-b96d-6b29ab1b3b14',\n",
       "                        [{\"hoverlabel\": {\"bgcolor\": \"white\", \"bordercolor\": \"#404040\", \"font\": {\"color\": \"#404040\"}}, \"hovertemplate\": \"<b>Aston Villa</b></br></br></br>Form: %{y}</br>%{text}</br></br><extra></extra>\", \"line\": {\"shape\": \"spline\", \"smoothing\": 1.3, \"width\": 4}, \"mode\": \"lines+markers\", \"name\": \"Aston Villa\", \"text\": [\"1:2 vs Bournemouth (H)\", \"2:0 vs Everton (H)\", \"1:0 vs Crystal Palace (A)\", \"0:0 vs West Ham (H)\"], \"type\": \"scatter\", \"x\": [2, 3, 4, 5], \"y\": [0.0, 1.089, 1.089, 1.518]}, {\"hoverlabel\": {\"bgcolor\": \"white\", \"bordercolor\": \"#404040\", \"font\": {\"color\": \"#404040\"}}, \"hovertemplate\": \"<b>Leicester</b></br></br></br>Form: %{y}</br>%{text}</br></br><extra></extra>\", \"line\": {\"shape\": \"spline\", \"smoothing\": 1.3, \"width\": 4}, \"mode\": \"lines+markers\", \"name\": \"Leicester\", \"text\": [\"1:1 vs Chelsea (A)\", \"1:2 vs Sheffield Utd (A)\", \"3:1 vs Bournemouth (H)\", \"1:0 vs Man Utd (A)\"], \"type\": \"scatter\", \"x\": [2, 3, 4, 5], \"y\": [0.66, 1.0230000000000001, 1.617, 1.617]}, {\"hoverlabel\": {\"bgcolor\": \"white\", \"bordercolor\": \"#404040\", \"font\": {\"color\": \"#404040\"}}, \"hovertemplate\": \"<b>Liverpool</b></br></br></br>Form: %{y}</br>%{text}</br></br><extra></extra>\", \"line\": {\"shape\": \"spline\", \"smoothing\": 1.3, \"width\": 4}, \"mode\": \"lines+markers\", \"name\": \"Liverpool\", \"text\": [\"1:2 vs Southampton (A)\", \"3:1 vs Arsenal (H)\", \"0:3 vs Burnley (A)\", \"3:1 vs Newcastle (H)\"], \"type\": \"scatter\", \"x\": [2, 3, 4, 5], \"y\": [0.22, 0.7645, 1.2925, 1.61425]}, {\"hoverlabel\": {\"bgcolor\": \"white\", \"bordercolor\": \"#404040\", \"font\": {\"color\": \"#404040\"}}, \"hovertemplate\": \"<b>Norwich</b></br></br></br>Form: %{y}</br>%{text}</br></br><extra></extra>\", \"line\": {\"shape\": \"spline\", \"smoothing\": 1.3, \"width\": 4}, \"mode\": \"lines+markers\", \"name\": \"Norwich\", \"text\": [\"3:1 vs Newcastle (H)\", \"2:3 vs Chelsea (H)\", \"2:0 vs West Ham (A)\", \"3:2 vs Man City (H)\"], \"type\": \"scatter\", \"x\": [2, 3, 4, 5], \"y\": [0.99, 0.99, 0.19799999999999995, 2.772]}, {\"hoverlabel\": {\"bgcolor\": \"white\", \"bordercolor\": \"#404040\", \"font\": {\"color\": \"#404040\"}}, \"hovertemplate\": \"<b>Sheffield Utd</b></br></br></br>Form: %{y}</br>%{text}</br></br><extra></extra>\", \"line\": {\"shape\": \"spline\", \"smoothing\": 1.3, \"width\": 4}, \"mode\": \"lines+markers\", \"name\": \"Sheffield Utd\", \"text\": [\"1:0 vs Crystal Palace (H)\", \"1:2 vs Leicester (H)\", \"2:2 vs Chelsea (A)\", \"0:1 vs Southampton (H)\"], \"type\": \"scatter\", \"x\": [2, 3, 4, 5], \"y\": [1.32, 1.32, 2.508, 2.508]}, {\"hoverlabel\": {\"bgcolor\": \"white\", \"bordercolor\": \"#404040\", \"font\": {\"color\": \"#404040\"}}, \"hovertemplate\": \"<b>Southampton</b></br></br></br>Form: %{y}</br>%{text}</br></br><extra></extra>\", \"line\": {\"shape\": \"spline\", \"smoothing\": 1.3, \"width\": 4}, \"mode\": \"lines+markers\", \"name\": \"Southampton\", \"text\": [\"1:2 vs Liverpool (H)\", \"0:2 vs Brighton (A)\", \"1:1 vs Man Utd (H)\", \"0:1 vs Sheffield Utd (A)\"], \"type\": \"scatter\", \"x\": [2, 3, 4, 5], \"y\": [0.0, 1.089, 2.277, 3.1350000000000002]}, {\"hoverlabel\": {\"bgcolor\": \"white\", \"bordercolor\": \"#404040\", \"font\": {\"color\": \"#404040\"}}, \"hovertemplate\": \"<b>Spurs</b></br></br></br>Form: %{y}</br>%{text}</br></br><extra></extra>\", \"line\": {\"shape\": \"spline\", \"smoothing\": 1.3, \"width\": 4}, \"mode\": \"lines+markers\", \"name\": \"Spurs\", \"text\": [\"2:2 vs Man City (A)\", \"0:1 vs Newcastle (H)\", \"2:2 vs Arsenal (A)\", \"4:0 vs Crystal Palace (H)\"], \"type\": \"scatter\", \"x\": [2, 3, 4, 5], \"y\": [0.66, 0.66, 1.056, 2.1285000000000003]}, {\"hoverlabel\": {\"bgcolor\": \"white\", \"bordercolor\": \"#404040\", \"font\": {\"color\": \"#404040\"}}, \"hovertemplate\": \"<b>West Ham</b></br></br></br>Form: %{y}</br>%{text}</br></br><extra></extra>\", \"line\": {\"shape\": \"spline\", \"smoothing\": 1.3, \"width\": 4}, \"mode\": \"lines+markers\", \"name\": \"West Ham\", \"text\": [\"1:1 vs Brighton (A)\", \"1:3 vs Watford (A)\", \"2:0 vs Norwich (H)\", \"0:0 vs Aston Villa (A)\"], \"type\": \"scatter\", \"x\": [2, 3, 4, 5], \"y\": [0.33, 2.508, 3.102, 3.5309999999999997]}],\n",
       "                        {\"hovermode\": \"closest\", \"legend\": {\"bgcolor\": \"rgba(0,0,0,0)\", \"font\": {\"color\": \"#eee\"}, \"traceorder\": \"normal\"}, \"paper_bgcolor\": \"rgba(0,0,0,0)\", \"plot_bgcolor\": \"rgba(0,0,0,0)\", \"scene\": {\"bgcolor\": \"rgba(0,0,0,0)\"}, \"template\": {\"data\": {\"bar\": [{\"error_x\": {\"color\": \"#2a3f5f\"}, \"error_y\": {\"color\": \"#2a3f5f\"}, \"marker\": {\"line\": {\"color\": \"#E5ECF6\", \"width\": 0.5}}, \"type\": \"bar\"}], \"barpolar\": [{\"marker\": {\"line\": {\"color\": \"#E5ECF6\", \"width\": 0.5}}, \"type\": \"barpolar\"}], \"carpet\": [{\"aaxis\": {\"endlinecolor\": \"#2a3f5f\", \"gridcolor\": \"white\", \"linecolor\": \"white\", \"minorgridcolor\": \"white\", \"startlinecolor\": \"#2a3f5f\"}, \"baxis\": {\"endlinecolor\": \"#2a3f5f\", \"gridcolor\": \"white\", \"linecolor\": \"white\", \"minorgridcolor\": \"white\", \"startlinecolor\": \"#2a3f5f\"}, \"type\": \"carpet\"}], \"choropleth\": [{\"colorbar\": {\"outlinewidth\": 0, \"ticks\": \"\"}, \"type\": \"choropleth\"}], \"contour\": [{\"colorbar\": {\"outlinewidth\": 0, \"ticks\": \"\"}, \"colorscale\": [[0.0, \"#0d0887\"], [0.1111111111111111, \"#46039f\"], [0.2222222222222222, \"#7201a8\"], [0.3333333333333333, \"#9c179e\"], [0.4444444444444444, \"#bd3786\"], [0.5555555555555556, \"#d8576b\"], [0.6666666666666666, \"#ed7953\"], [0.7777777777777778, \"#fb9f3a\"], [0.8888888888888888, \"#fdca26\"], [1.0, \"#f0f921\"]], \"type\": \"contour\"}], \"contourcarpet\": [{\"colorbar\": {\"outlinewidth\": 0, \"ticks\": \"\"}, \"type\": \"contourcarpet\"}], \"heatmap\": [{\"colorbar\": {\"outlinewidth\": 0, \"ticks\": \"\"}, \"colorscale\": [[0.0, \"#0d0887\"], [0.1111111111111111, \"#46039f\"], [0.2222222222222222, \"#7201a8\"], [0.3333333333333333, \"#9c179e\"], [0.4444444444444444, \"#bd3786\"], [0.5555555555555556, \"#d8576b\"], [0.6666666666666666, \"#ed7953\"], [0.7777777777777778, \"#fb9f3a\"], [0.8888888888888888, \"#fdca26\"], [1.0, \"#f0f921\"]], \"type\": \"heatmap\"}], \"heatmapgl\": [{\"colorbar\": {\"outlinewidth\": 0, \"ticks\": \"\"}, \"colorscale\": [[0.0, \"#0d0887\"], [0.1111111111111111, \"#46039f\"], [0.2222222222222222, \"#7201a8\"], [0.3333333333333333, \"#9c179e\"], [0.4444444444444444, \"#bd3786\"], [0.5555555555555556, \"#d8576b\"], [0.6666666666666666, \"#ed7953\"], [0.7777777777777778, \"#fb9f3a\"], [0.8888888888888888, \"#fdca26\"], [1.0, \"#f0f921\"]], \"type\": \"heatmapgl\"}], \"histogram\": [{\"marker\": {\"colorbar\": {\"outlinewidth\": 0, \"ticks\": \"\"}}, \"type\": \"histogram\"}], \"histogram2d\": [{\"colorbar\": {\"outlinewidth\": 0, \"ticks\": \"\"}, \"colorscale\": [[0.0, \"#0d0887\"], [0.1111111111111111, \"#46039f\"], [0.2222222222222222, \"#7201a8\"], [0.3333333333333333, \"#9c179e\"], [0.4444444444444444, \"#bd3786\"], [0.5555555555555556, \"#d8576b\"], [0.6666666666666666, \"#ed7953\"], [0.7777777777777778, \"#fb9f3a\"], [0.8888888888888888, \"#fdca26\"], [1.0, \"#f0f921\"]], \"type\": \"histogram2d\"}], \"histogram2dcontour\": [{\"colorbar\": {\"outlinewidth\": 0, \"ticks\": \"\"}, \"colorscale\": [[0.0, \"#0d0887\"], [0.1111111111111111, \"#46039f\"], [0.2222222222222222, \"#7201a8\"], [0.3333333333333333, \"#9c179e\"], [0.4444444444444444, \"#bd3786\"], [0.5555555555555556, \"#d8576b\"], [0.6666666666666666, \"#ed7953\"], [0.7777777777777778, \"#fb9f3a\"], [0.8888888888888888, \"#fdca26\"], [1.0, \"#f0f921\"]], \"type\": \"histogram2dcontour\"}], \"mesh3d\": [{\"colorbar\": {\"outlinewidth\": 0, \"ticks\": \"\"}, \"type\": \"mesh3d\"}], \"parcoords\": [{\"line\": {\"colorbar\": {\"outlinewidth\": 0, \"ticks\": \"\"}}, \"type\": \"parcoords\"}], \"scatter\": [{\"marker\": {\"colorbar\": {\"outlinewidth\": 0, \"ticks\": \"\"}}, \"type\": \"scatter\"}], \"scatter3d\": [{\"line\": {\"colorbar\": {\"outlinewidth\": 0, \"ticks\": \"\"}}, \"marker\": {\"colorbar\": {\"outlinewidth\": 0, \"ticks\": \"\"}}, \"type\": \"scatter3d\"}], \"scattercarpet\": [{\"marker\": {\"colorbar\": {\"outlinewidth\": 0, \"ticks\": \"\"}}, \"type\": \"scattercarpet\"}], \"scattergeo\": [{\"marker\": {\"colorbar\": {\"outlinewidth\": 0, \"ticks\": \"\"}}, \"type\": \"scattergeo\"}], \"scattergl\": [{\"marker\": {\"colorbar\": {\"outlinewidth\": 0, \"ticks\": \"\"}}, \"type\": \"scattergl\"}], \"scattermapbox\": [{\"marker\": {\"colorbar\": {\"outlinewidth\": 0, \"ticks\": \"\"}}, \"type\": \"scattermapbox\"}], \"scatterpolar\": [{\"marker\": {\"colorbar\": {\"outlinewidth\": 0, \"ticks\": \"\"}}, \"type\": \"scatterpolar\"}], \"scatterpolargl\": [{\"marker\": {\"colorbar\": {\"outlinewidth\": 0, \"ticks\": \"\"}}, \"type\": \"scatterpolargl\"}], \"scatterternary\": [{\"marker\": {\"colorbar\": {\"outlinewidth\": 0, \"ticks\": \"\"}}, \"type\": \"scatterternary\"}], \"surface\": [{\"colorbar\": {\"outlinewidth\": 0, \"ticks\": \"\"}, \"colorscale\": [[0.0, \"#0d0887\"], [0.1111111111111111, \"#46039f\"], [0.2222222222222222, \"#7201a8\"], [0.3333333333333333, \"#9c179e\"], [0.4444444444444444, \"#bd3786\"], [0.5555555555555556, \"#d8576b\"], [0.6666666666666666, \"#ed7953\"], [0.7777777777777778, \"#fb9f3a\"], [0.8888888888888888, \"#fdca26\"], [1.0, \"#f0f921\"]], \"type\": \"surface\"}], \"table\": [{\"cells\": {\"fill\": {\"color\": \"#EBF0F8\"}, \"line\": {\"color\": \"white\"}}, \"header\": {\"fill\": {\"color\": \"#C8D4E3\"}, \"line\": {\"color\": \"white\"}}, \"type\": \"table\"}]}, \"layout\": {\"annotationdefaults\": {\"arrowcolor\": \"#2a3f5f\", \"arrowhead\": 0, \"arrowwidth\": 1}, \"colorscale\": {\"diverging\": [[0, \"#8e0152\"], [0.1, \"#c51b7d\"], [0.2, \"#de77ae\"], [0.3, \"#f1b6da\"], [0.4, \"#fde0ef\"], [0.5, \"#f7f7f7\"], [0.6, \"#e6f5d0\"], [0.7, \"#b8e186\"], [0.8, \"#7fbc41\"], [0.9, \"#4d9221\"], [1, \"#276419\"]], \"sequential\": [[0.0, \"#0d0887\"], [0.1111111111111111, \"#46039f\"], [0.2222222222222222, \"#7201a8\"], [0.3333333333333333, \"#9c179e\"], [0.4444444444444444, \"#bd3786\"], [0.5555555555555556, \"#d8576b\"], [0.6666666666666666, \"#ed7953\"], [0.7777777777777778, \"#fb9f3a\"], [0.8888888888888888, \"#fdca26\"], [1.0, \"#f0f921\"]], \"sequentialminus\": [[0.0, \"#0d0887\"], [0.1111111111111111, \"#46039f\"], [0.2222222222222222, \"#7201a8\"], [0.3333333333333333, \"#9c179e\"], [0.4444444444444444, \"#bd3786\"], [0.5555555555555556, \"#d8576b\"], [0.6666666666666666, \"#ed7953\"], [0.7777777777777778, \"#fb9f3a\"], [0.8888888888888888, \"#fdca26\"], [1.0, \"#f0f921\"]]}, \"colorway\": [\"#636efa\", \"#EF553B\", \"#00cc96\", \"#ab63fa\", \"#FFA15A\", \"#19d3f3\", \"#FF6692\", \"#B6E880\", \"#FF97FF\", \"#FECB52\"], \"font\": {\"color\": \"#2a3f5f\"}, \"geo\": {\"bgcolor\": \"white\", \"lakecolor\": \"white\", \"landcolor\": \"#E5ECF6\", \"showlakes\": true, \"showland\": true, \"subunitcolor\": \"white\"}, \"hoverlabel\": {\"align\": \"left\"}, \"hovermode\": \"closest\", \"mapbox\": {\"style\": \"light\"}, \"paper_bgcolor\": \"white\", \"plot_bgcolor\": \"#E5ECF6\", \"polar\": {\"angularaxis\": {\"gridcolor\": \"white\", \"linecolor\": \"white\", \"ticks\": \"\"}, \"bgcolor\": \"#E5ECF6\", \"radialaxis\": {\"gridcolor\": \"white\", \"linecolor\": \"white\", \"ticks\": \"\"}}, \"scene\": {\"xaxis\": {\"backgroundcolor\": \"#E5ECF6\", \"gridcolor\": \"white\", \"gridwidth\": 2, \"linecolor\": \"white\", \"showbackground\": true, \"ticks\": \"\", \"zerolinecolor\": \"white\"}, \"yaxis\": {\"backgroundcolor\": \"#E5ECF6\", \"gridcolor\": \"white\", \"gridwidth\": 2, \"linecolor\": \"white\", \"showbackground\": true, \"ticks\": \"\", \"zerolinecolor\": \"white\"}, \"zaxis\": {\"backgroundcolor\": \"#E5ECF6\", \"gridcolor\": \"white\", \"gridwidth\": 2, \"linecolor\": \"white\", \"showbackground\": true, \"ticks\": \"\", \"zerolinecolor\": \"white\"}}, \"shapedefaults\": {\"line\": {\"color\": \"#2a3f5f\"}}, \"ternary\": {\"aaxis\": {\"gridcolor\": \"white\", \"linecolor\": \"white\", \"ticks\": \"\"}, \"baxis\": {\"gridcolor\": \"white\", \"linecolor\": \"white\", \"ticks\": \"\"}, \"bgcolor\": \"#E5ECF6\", \"caxis\": {\"gridcolor\": \"white\", \"linecolor\": \"white\", \"ticks\": \"\"}}, \"title\": {\"x\": 0.05}, \"xaxis\": {\"automargin\": true, \"gridcolor\": \"white\", \"linecolor\": \"white\", \"ticks\": \"\", \"zerolinecolor\": \"white\", \"zerolinewidth\": 2}, \"yaxis\": {\"automargin\": true, \"gridcolor\": \"white\", \"linecolor\": \"white\", \"ticks\": \"\", \"zerolinecolor\": \"white\", \"zerolinewidth\": 2}}}, \"xaxis\": {\"color\": \"#eee\", \"dtick\": 1, \"showgrid\": true, \"tick0\": 1, \"title\": {\"text\": \"Gameweek\"}, \"zeroline\": true}, \"yaxis\": {\"color\": \"#eee\", \"dtick\": 1, \"showgrid\": false, \"tick0\": 1, \"title\": {\"text\": \"Form\"}, \"zeroline\": false}},\n",
       "                        {\"responsive\": true}\n",
       "                    ).then(function(){\n",
       "                            \n",
       "var gd = document.getElementById('47eb4ebd-fa71-4056-b96d-6b29ab1b3b14');\n",
       "var x = new MutationObserver(function (mutations, observer) {{\n",
       "        var display = window.getComputedStyle(gd).display;\n",
       "        if (!display || display === 'none') {{\n",
       "            console.log([gd, 'removed!']);\n",
       "            Plotly.purge(gd);\n",
       "            observer.disconnect();\n",
       "        }}\n",
       "}});\n",
       "\n",
       "// Listen for the removal of the full notebook cells\n",
       "var notebookContainer = gd.closest('#notebook-container');\n",
       "if (notebookContainer) {{\n",
       "    x.observe(notebookContainer, {childList: true});\n",
       "}}\n",
       "\n",
       "// Listen for the clearing of the current output cell\n",
       "var outputEl = gd.closest('.output');\n",
       "if (outputEl) {{\n",
       "    x.observe(outputEl, {childList: true});\n",
       "}}\n",
       "\n",
       "                        })\n",
       "                };\n",
       "                });\n",
       "            </script>\n",
       "        </div>"
      ]
     },
     "metadata": {},
     "output_type": "display_data"
    }
   ],
   "source": [
    "form_plot(df_form, limit_form=1.5)"
   ]
  },
  {
   "cell_type": "code",
   "execution_count": null,
   "metadata": {},
   "outputs": [],
   "source": []
  }
 ],
 "metadata": {
  "kernelspec": {
   "display_name": "Python 3",
   "language": "python",
   "name": "python3"
  },
  "language_info": {
   "codemirror_mode": {
    "name": "ipython",
    "version": 3
   },
   "file_extension": ".py",
   "mimetype": "text/x-python",
   "name": "python",
   "nbconvert_exporter": "python",
   "pygments_lexer": "ipython3",
   "version": "3.7.4"
  }
 },
 "nbformat": 4,
 "nbformat_minor": 2
}
