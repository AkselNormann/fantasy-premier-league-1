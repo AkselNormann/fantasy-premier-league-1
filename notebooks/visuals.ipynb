{
 "cells": [
  {
   "cell_type": "code",
   "execution_count": null,
   "metadata": {},
   "outputs": [],
   "source": [
    "%config IPCompleter.greedy=True\n",
    "\n",
    "from plotly.offline import download_plotlyjs, init_notebook_mode, plot, iplot\n",
    "\n",
    "init_notebook_mode(connected=True)"
   ]
  },
  {
   "cell_type": "code",
   "execution_count": null,
   "metadata": {},
   "outputs": [],
   "source": [
    "colors = ['rgba(255, 182, 0, .9)', 'rgba(255, 0, 193, .9)', 'rgba(255, 182, 193, .9)']"
   ]
  },
  {
   "cell_type": "code",
   "execution_count": null,
   "metadata": {},
   "outputs": [],
   "source": [
    "def map_position_to_color(position):\n",
    "    if position == 'Goalkeeper':\n",
    "        return 'rgba(0,53,166, 0.4)'\n",
    "    elif position == 'Defender':\n",
    "        return 'rgba(101,255,71, 0.4)'\n",
    "    elif position == 'Midfielder':\n",
    "        return 'rgba(254,213,0, 0.4)'\n",
    "    else:\n",
    "        return 'rgba(236,0,0, 0.4)'"
   ]
  }
 ],
 "metadata": {
  "kernelspec": {
   "display_name": "Python 3",
   "language": "python",
   "name": "python3"
  },
  "language_info": {
   "codemirror_mode": {
    "name": "ipython",
    "version": 3
   },
   "file_extension": ".py",
   "mimetype": "text/x-python",
   "name": "python",
   "nbconvert_exporter": "python",
   "pygments_lexer": "ipython3",
   "version": "3.6.3"
  }
 },
 "nbformat": 4,
 "nbformat_minor": 2
}
